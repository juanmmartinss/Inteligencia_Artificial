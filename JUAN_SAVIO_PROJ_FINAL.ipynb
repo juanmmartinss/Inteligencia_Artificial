{
  "cells": [
    {
      "cell_type": "markdown",
      "metadata": {
        "id": "view-in-github",
        "colab_type": "text"
      },
      "source": [
        "<a href=\"https://colab.research.google.com/github/juanmmartinss/Inteligencia_Artificial/blob/main/JUAN_SAVIO_PROJ_FINAL.ipynb\" target=\"_parent\"><img src=\"https://colab.research.google.com/assets/colab-badge.svg\" alt=\"Open In Colab\"/></a>"
      ]
    },
    {
      "cell_type": "code",
      "execution_count": null,
      "metadata": {
        "id": "pWg4j7tBbzBH"
      },
      "outputs": [],
      "source": [
        "import shutil\n",
        "import glob\n",
        "import numpy as np\n",
        "from PIL import Image\n",
        "import os\n",
        "import gdown\n",
        "import zipfile\n",
        "import torch\n",
        "import re\n",
        "import math\n",
        "import cv2\n",
        "import csv\n",
        "import pandas as pd\n",
        "from google.colab.patches import cv2_imshow\n",
        "from google.colab import drive\n",
        "drive.mount('/content/drive')\n",
        "\n",
        "!pip install -q ultralytics\n",
        "from ultralytics import YOLO\n",
        "\n",
        "!pip install -q transformers\n",
        "from transformers import AutoImageProcessor, AutoModelForDepthEstimation"
      ]
    },
    {
      "cell_type": "markdown",
      "source": [
        "___________________________\n",
        "#**OBTER DADOS DO BARACCA DATASET**\n",
        "___________________________"
      ],
      "metadata": {
        "id": "Xp-CWJo20ulD"
      }
    },
    {
      "cell_type": "markdown",
      "source": [
        "**Abaixo os dados (imagens e annotations) do Baracca Dataset são obtidos e extraídos para a pasta local do Colab.**"
      ],
      "metadata": {
        "id": "RSynWgE8LmLH"
      }
    },
    {
      "cell_type": "code",
      "source": [
        "url = 'https://drive.google.com/uc?id=13dmP9NpnvIGJ2-ym310rhAhzvvStrCPU'\n",
        "gdown.download(url, output='/content/anthropometric_annotations.csv')\n",
        "url = 'https://drive.google.com/uc?id=1TNxdQR07rcMTA156dJ_1Q37VIDJlbxqZ'\n",
        "gdown.download(url, output='/content/data.zip')\n",
        "with zipfile.ZipFile('/content/data.zip', 'r') as zip_ref:\n",
        "    zip_ref.extractall('/content/data')"
      ],
      "metadata": {
        "id": "P7--2fIctExI"
      },
      "execution_count": null,
      "outputs": []
    },
    {
      "cell_type": "code",
      "source": [
        "# shutil.copy('/content/drive/MyDrive/IA_FINAL/anthropometric_annotations.csv', '/content')\n",
        "# shutil.copytree('/content/drive/MyDrive/IA_FINAL/dataset', '/content/dataset')"
      ],
      "metadata": {
        "id": "ihZsNXZwJTuD"
      },
      "execution_count": null,
      "outputs": []
    },
    {
      "cell_type": "markdown",
      "source": [
        "**Abaixo o dataset é filtrado para extrair as imagens necessárias, copiando apenas as imagens RGB para uma única pasta. São obtidos dados dos 30 modelos, porém somente das cenas 002, 003 e 004 que são as relevantes.**"
      ],
      "metadata": {
        "id": "E-xSpQ4VSIIK"
      }
    },
    {
      "cell_type": "code",
      "source": [
        "!mkdir /content/dataset/images\n",
        "!mkdir /content/dataset/images/train\n",
        "!mkdir /content/dataset/images/val\n",
        "!mkdir /content/dataset/images/test\n",
        "\n",
        "def img_RGB(diretorio):\n",
        "  for arquivo in os.listdir(diretorio):\n",
        "    arquivo_path = os.path.join(diretorio, arquivo)\n",
        "    if os.path.isfile(arquivo_path) and 'RGB' in arquivo:\n",
        "\n",
        "      match = re.match(r'imgRGB_\\d{3}_(\\d{3})_\\d{3}.png', arquivo)\n",
        "      cena = match.group(1)\n",
        "      if cena == '002' or cena == '003' or cena == '004':\n",
        "        match = re.match(r'imgRGB_(\\d{3})_\\d{3}_\\d{3}.png', arquivo)\n",
        "        pessoa = match.group(1)\n",
        "        pessoa = int(pessoa)\n",
        "        if pessoa < 26:\n",
        "          shutil.move(arquivo_path, '/content/dataset/images/train')\n",
        "        elif pessoa > 27:\n",
        "          shutil.move(arquivo_path, '/content/dataset/images/test')\n",
        "        else:\n",
        "          shutil.move(arquivo_path, '/content/dataset/images/val')\n",
        "\n",
        "    elif os.path.isdir(arquivo_path):\n",
        "      img_RGB(arquivo_path)\n",
        "\n",
        "img_RGB('/content/data')\n",
        "shutil.rmtree('/content/data')"
      ],
      "metadata": {
        "id": "LuvdvO85Ml1-"
      },
      "execution_count": null,
      "outputs": []
    },
    {
      "cell_type": "markdown",
      "source": [
        "**Abaixo é realizado um downscaling para 360x640 pois as imagens originais têm resolução muito alta (1080x1920).**"
      ],
      "metadata": {
        "id": "yLmnXzVxcTtk"
      }
    },
    {
      "cell_type": "code",
      "source": [
        "listas = [\n",
        "    glob.glob('/content/dataset/images/train/*.png'),\n",
        "    glob.glob('/content/dataset/images/val/*.png'),\n",
        "    glob.glob('/content/dataset/images/test/*.png')\n",
        "    ]\n",
        "for lista in listas:\n",
        "  for path in lista:\n",
        "    image = Image.open(path)\n",
        "    w, h = image.size\n",
        "    image = image.resize((w // 3, h // 3))\n",
        "    image.save(path)"
      ],
      "metadata": {
        "id": "vD3AEEoHNA56"
      },
      "execution_count": null,
      "outputs": []
    },
    {
      "cell_type": "markdown",
      "metadata": {
        "id": "A6G0ztEolFis"
      },
      "source": [
        "___________________________\n",
        "#**GERAR DETECÇÕES E SEGMENTAÇÕES**\n",
        "___________________________"
      ]
    },
    {
      "cell_type": "markdown",
      "source": [
        "**Abaixo é realizada a predição das imagens obtidas do Baracca Dataset com um modelo pré-treinado da arquitetura YOLOv8.**\\\n",
        "**As annotations de Bounding Box e coordenadas de segmentação são salvas para uso na construção do dataset sintético.**"
      ],
      "metadata": {
        "id": "80fDce4nRfOB"
      }
    },
    {
      "cell_type": "code",
      "execution_count": null,
      "metadata": {
        "id": "KgQtHGKpNjHN"
      },
      "outputs": [],
      "source": [
        "model = YOLO('yolov8n-seg.pt')\n",
        "listas = [\n",
        "    glob.glob('/content/dataset/images/train/*.png'),\n",
        "    glob.glob('/content/dataset/images/val/*.png'),\n",
        "    glob.glob('/content/dataset/images/test/*.png')\n",
        "    ]\n",
        "for lista in listas:\n",
        "  for path in lista:\n",
        "    image = Image.open(path)\n",
        "    results = model.predict(source=image, classes=0, conf=0.2, save_txt=True)"
      ]
    },
    {
      "cell_type": "markdown",
      "source": [
        "**Abaixo é realizada a organização das labels no dataset, usando a mesma estrutura de pastas das imagens.**"
      ],
      "metadata": {
        "id": "7FXwGEBLgs48"
      }
    },
    {
      "cell_type": "code",
      "source": [
        "!mkdir /content/dataset/labels\n",
        "!mkdir /content/dataset/labels/train\n",
        "!mkdir /content/dataset/labels/val\n",
        "!mkdir /content/dataset/labels/test\n",
        "\n",
        "def img_labels(diretorio):\n",
        "  for arquivo in os.listdir(diretorio):\n",
        "    arquivo_path = os.path.join(diretorio, arquivo)\n",
        "    if os.path.isfile(arquivo_path):\n",
        "\n",
        "      match = re.match(r'imgRGB_\\d{3}_(\\d{3})_\\d{3}.txt', arquivo)\n",
        "      cena = match.group(1)\n",
        "      if cena == '002' or cena == '003' or cena == '004':\n",
        "        match = re.match(r'imgRGB_(\\d{3})_\\d{3}_\\d{3}.txt', arquivo)\n",
        "        pessoa = match.group(1)\n",
        "        pessoa = int(pessoa)\n",
        "        if pessoa < 26:\n",
        "          shutil.move(arquivo_path, '/content/dataset/labels/train')\n",
        "        elif pessoa > 27:\n",
        "          shutil.move(arquivo_path, '/content/dataset/labels/test')\n",
        "        else:\n",
        "          shutil.move(arquivo_path, '/content/dataset/labels/val')\n",
        "\n",
        "    elif os.path.isdir(arquivo_path):\n",
        "      img_labels(arquivo_path)\n",
        "\n",
        "img_labels('/content/runs/segment/predict/labels')\n",
        "shutil.rmtree('/content/runs')"
      ],
      "metadata": {
        "id": "c1rHKY_rgCpW"
      },
      "execution_count": null,
      "outputs": []
    },
    {
      "cell_type": "markdown",
      "source": [
        "**Abaixo é obtido o arquivo YAML para que o treinamento entenda a estrutura do dataset.**"
      ],
      "metadata": {
        "id": "8LzmOMhFMqux"
      }
    },
    {
      "cell_type": "code",
      "source": [
        "url = 'https://drive.google.com/uc?id=1R-Yh2LWiogV_VnAVCm3dZO6-ZCeEqdkT'\n",
        "gdown.download(url, output='/content/dataset/data.yaml')"
      ],
      "metadata": {
        "id": "gYhwhDorTyZp"
      },
      "execution_count": null,
      "outputs": []
    },
    {
      "cell_type": "markdown",
      "source": [
        "___________________________\n",
        "#**GERAR MAPAS DE PROFUNDIDADE**\n",
        "___________________________"
      ],
      "metadata": {
        "id": "zULu9Ot99xyB"
      }
    },
    {
      "cell_type": "markdown",
      "source": [
        "**Abaixo são gerados os mapas de profundidade para as imagens obtidas do Baracca Dataset. É obtida e salva uma matriz de mesma dimensão da imagem para uso na construção do dataset sintético, onde para cada pixel tem-se um valor de profundidade em metros.**"
      ],
      "metadata": {
        "id": "oELWTO5ZTp1s"
      }
    },
    {
      "cell_type": "code",
      "source": [
        "!mkdir /content/depth\n",
        "!mkdir /content/depth/train\n",
        "!mkdir /content/depth/val\n",
        "!mkdir /content/depth/test\n",
        "\n",
        "image_processor = AutoImageProcessor.from_pretrained(\"vinvino02/glpn-nyu\")\n",
        "model = AutoModelForDepthEstimation.from_pretrained(\"vinvino02/glpn-nyu\")\n",
        "\n",
        "listas = [\n",
        "    glob.glob('/content/dataset/images/train/*.png'),\n",
        "    glob.glob('/content/dataset/images/val/*.png'),\n",
        "    glob.glob('/content/dataset/images/test/*.png')\n",
        "    ]\n",
        "i = 0\n",
        "for lista in listas:\n",
        "  for path in lista:\n",
        "    i += 1\n",
        "    print(f'{i} - {path}')\n",
        "    image = Image.open(path)\n",
        "    pixel_values = image_processor(image, return_tensors=\"pt\").pixel_values\n",
        "\n",
        "    with torch.no_grad():\n",
        "        outputs = model(pixel_values)\n",
        "        predicted_depth = outputs.predicted_depth\n",
        "\n",
        "    prediction = torch.nn.functional.interpolate(\n",
        "        predicted_depth.unsqueeze(1),\n",
        "        size=image.size[::-1],\n",
        "        mode=\"bicubic\",\n",
        "        align_corners=False,\n",
        "    ).squeeze()\n",
        "    output = prediction.numpy()\n",
        "\n",
        "    path = path.replace('/content/dataset/images/', '').replace('.png', '')\n",
        "    np.save(f'/content/depth/{path}.npy', output)\n",
        "\n",
        "shutil.move('/content/depth', '/content/dataset')"
      ],
      "metadata": {
        "id": "gkBO2bZZmD_O"
      },
      "execution_count": null,
      "outputs": []
    },
    {
      "cell_type": "code",
      "source": [
        "# shutil.copytree('/content/drive/MyDrive/IA_FINAL/depth', '/content/dataset/depth')"
      ],
      "metadata": {
        "id": "vgWGkNhEaijA"
      },
      "execution_count": null,
      "outputs": []
    },
    {
      "cell_type": "markdown",
      "source": [
        "___________________________\n",
        "#**FINETUNING DO RECONHECIMENTO DE PESSOAS**\n",
        "___________________________"
      ],
      "metadata": {
        "id": "2ux9kqgvanLL"
      }
    },
    {
      "cell_type": "markdown",
      "source": [
        "**Abaixo é realizado o finetuning do modelo de detecção e segmentação de pessoas utilizando os dados obtidos, separados em conjuntos de treino, validação e teste (como definido em data.yaml).**"
      ],
      "metadata": {
        "id": "TGS9PaOl4r2x"
      }
    },
    {
      "cell_type": "code",
      "source": [
        "model_detect = YOLO('yolov8n-seg.pt')\n",
        "model_detect.train(data='/content/dataset/data.yaml', epochs=20, imgsz=(360, 640),\n",
        "                   patience=5, exist_ok=True)"
      ],
      "metadata": {
        "id": "kgYZSx0tam1_"
      },
      "execution_count": null,
      "outputs": []
    },
    {
      "cell_type": "markdown",
      "source": [
        "**Abaixo é carregado o melhor modelo de detecção que foi salvo previamente.**"
      ],
      "metadata": {
        "id": "M9TGBVb2Dc5T"
      }
    },
    {
      "cell_type": "code",
      "source": [
        "url = 'https://drive.google.com/uc?id=1jlFChfVfWbmOdVnKU-mWg-h0xNxx4feS'\n",
        "gdown.download(url, output='/content/best.pt')\n",
        "model_detect = YOLO('/content/best.pt')"
      ],
      "metadata": {
        "id": "jE679JF9qy7g"
      },
      "execution_count": null,
      "outputs": []
    },
    {
      "cell_type": "markdown",
      "source": [
        "___________________________\n",
        "#**TESTE DAS ESTIMATIVAS DE ALTURA**\n",
        "___________________________"
      ],
      "metadata": {
        "id": "KGlEjHYRrB3h"
      }
    },
    {
      "cell_type": "markdown",
      "source": [
        "**Abaixo é realizado o teste das estimativas de altura em uma cena para todos os modelos, visto que se tem a altura real de todos para fins de comparação.**"
      ],
      "metadata": {
        "id": "2wUFrTFyuwhV"
      }
    },
    {
      "cell_type": "code",
      "source": [
        "image_processor = AutoImageProcessor.from_pretrained('vinvino02/glpn-nyu')\n",
        "model = AutoModelForDepthEstimation.from_pretrained('vinvino02/glpn-nyu')"
      ],
      "metadata": {
        "id": "kw2_yOlK6jZh"
      },
      "execution_count": null,
      "outputs": []
    },
    {
      "cell_type": "code",
      "source": [
        "listas = [\n",
        "    glob.glob('/content/dataset/images/train/*.png'),\n",
        "    glob.glob('/content/dataset/images/val/*.png'),\n",
        "    glob.glob('/content/dataset/images/test/*.png')\n",
        "    ]\n",
        "\n",
        "saida = open(\"/content/teste_altura.txt\", \"w\")\n",
        "\n",
        "for lista in listas:\n",
        "  for path in lista:\n",
        "    partes = path.split('/')\n",
        "    arquivo = partes[5]\n",
        "    valores = arquivo.split('_')\n",
        "    id = int(valores[1])\n",
        "    # cena = valores[2]\n",
        "    # if(cena != '003'):\n",
        "    #   continue\n",
        "\n",
        "    results = model_detect.predict(source=path, classes=0, conf=0.2, max_det=1)\n",
        "\n",
        "    # obter coordenadas em pixels\n",
        "    coords = results[0].masks[0].xy\n",
        "\n",
        "    xy_head = coords[0][0]\n",
        "    for coord in coords[0]:\n",
        "      if coord[1] < xy_head[1]:\n",
        "          xy_head = coord\n",
        "\n",
        "    xy_feet = coords[0][0]\n",
        "    for coord in coords[0]:\n",
        "      if coord[1] > xy_feet[1]:\n",
        "          xy_feet = coord\n",
        "\n",
        "    # obter coordenadas normalizadas\n",
        "    coords = results[0].masks[0].xyn\n",
        "\n",
        "    xy_head_norm = coords[0][0]\n",
        "    for coord in coords[0]:\n",
        "      if coord[1] < xy_head_norm[1]:\n",
        "          xy_head_norm = coord\n",
        "\n",
        "    xy_feet_norm = coords[0][0]\n",
        "    for coord in coords[0]:\n",
        "      if coord[1] > xy_feet_norm[1]:\n",
        "          xy_feet_norm = coord\n",
        "\n",
        "    # ajustar coordenadas para evitar acertar o background\n",
        "    xy_head[1] += 5\n",
        "    xy_feet[1] -= 5\n",
        "\n",
        "\n",
        "\n",
        "    image = Image.open(path)\n",
        "    pixel_values = image_processor(image, return_tensors=\"pt\").pixel_values\n",
        "\n",
        "    with torch.no_grad():\n",
        "        outputs = model(pixel_values)\n",
        "        predicted_depth = outputs.predicted_depth\n",
        "\n",
        "    prediction = torch.nn.functional.interpolate(\n",
        "        predicted_depth.unsqueeze(1),\n",
        "        size=image.size[::-1],\n",
        "        mode='bicubic',\n",
        "        align_corners=False,\n",
        "    ).squeeze()\n",
        "    output = prediction.numpy()\n",
        "\n",
        "    depth_head = round(output[int(xy_head[1])][int(xy_head[0])] * 100, 2)\n",
        "    depth_feet = round(output[int(xy_feet[1])][int(xy_feet[0])] * 100, 2)\n",
        "    depth = round((depth_head + depth_feet) / 2, 2)\n",
        "\n",
        "    f = 55\n",
        "    altura = math.sqrt(math.pow((xy_head[0] * depth_head - xy_feet[0] * depth_feet) / f, 2) +\n",
        "                        math.pow((xy_head[1] * depth_head - xy_feet[1] * depth_feet) / f, 2) +\n",
        "                        math.pow(depth_head - depth_feet, 2))\n",
        "    altura = round(altura / 10, 2)\n",
        "\n",
        "    linha = id # id do modelo\n",
        "    coluna = 3 # altura em cm\n",
        "    altura_real = None\n",
        "    with open('/content/anthropometric_annotations.csv', 'r') as arq:\n",
        "            reader = csv.reader(arq)\n",
        "            for i, row in enumerate(reader):\n",
        "                if i == linha:\n",
        "                    altura_real = row[coluna]\n",
        "\n",
        "    print(f'Distância estimada: {depth}cm, Altura (estimada | real): {altura}cm | {altura_real}cm')\n",
        "    saida.write(str(depth) + ', ' + str(altura) + ', ' + str(altura_real) + '\\n')\n",
        "\n",
        "saida.close()"
      ],
      "metadata": {
        "id": "q80s5TN69h5E",
        "colab": {
          "base_uri": "https://localhost:8080/"
        },
        "outputId": "3b395b81-c7de-4280-fba5-5bdf33b65d9e"
      },
      "execution_count": null,
      "outputs": [
        {
          "output_type": "stream",
          "name": "stderr",
          "text": [
            "\n",
            "image 1/1 /content/dataset/images/train/imgRGB_025_004_003.png: 640x384 1 person, 75.9ms\n",
            "Speed: 5.7ms preprocess, 75.9ms inference, 38.1ms postprocess per image at shape (1, 3, 640, 384)\n",
            "\n",
            "image 1/1 /content/dataset/images/train/imgRGB_017_004_004.png: 640x384 1 person, 9.0ms\n",
            "Speed: 1.1ms preprocess, 9.0ms inference, 2.1ms postprocess per image at shape (1, 3, 640, 384)\n"
          ]
        },
        {
          "output_type": "stream",
          "name": "stdout",
          "text": [
            "Distância estimada: 281.86cm, Altura (estimada | real): 176.0cm | 160.0cm\n"
          ]
        },
        {
          "output_type": "stream",
          "name": "stderr",
          "text": [
            "\n",
            "image 1/1 /content/dataset/images/train/imgRGB_004_002_001.png: 640x384 1 person, 9.5ms\n",
            "Speed: 1.5ms preprocess, 9.5ms inference, 2.7ms postprocess per image at shape (1, 3, 640, 384)\n"
          ]
        },
        {
          "output_type": "stream",
          "name": "stdout",
          "text": [
            "Distância estimada: 267.2cm, Altura (estimada | real): 193.72cm | 184.0cm\n"
          ]
        },
        {
          "output_type": "stream",
          "name": "stderr",
          "text": [
            "\n",
            "image 1/1 /content/dataset/images/train/imgRGB_013_004_000.png: 640x384 1 person, 7.9ms\n",
            "Speed: 1.1ms preprocess, 7.9ms inference, 2.1ms postprocess per image at shape (1, 3, 640, 384)\n"
          ]
        },
        {
          "output_type": "stream",
          "name": "stdout",
          "text": [
            "Distância estimada: 183.0cm, Altura (estimada | real): 163.4cm | 167.0cm\n"
          ]
        },
        {
          "output_type": "stream",
          "name": "stderr",
          "text": [
            "\n",
            "image 1/1 /content/dataset/images/train/imgRGB_017_002_000.png: 640x384 1 person, 7.8ms\n",
            "Speed: 1.1ms preprocess, 7.8ms inference, 2.3ms postprocess per image at shape (1, 3, 640, 384)\n"
          ]
        },
        {
          "output_type": "stream",
          "name": "stdout",
          "text": [
            "Distância estimada: 259.84cm, Altura (estimada | real): 170.53cm | 182.0cm\n"
          ]
        },
        {
          "output_type": "stream",
          "name": "stderr",
          "text": [
            "\n",
            "image 1/1 /content/dataset/images/train/imgRGB_002_004_006.png: 640x384 1 person, 7.7ms\n",
            "Speed: 1.2ms preprocess, 7.7ms inference, 2.5ms postprocess per image at shape (1, 3, 640, 384)\n"
          ]
        },
        {
          "output_type": "stream",
          "name": "stdout",
          "text": [
            "Distância estimada: 156.09cm, Altura (estimada | real): 196.94cm | 184.0cm\n"
          ]
        },
        {
          "output_type": "stream",
          "name": "stderr",
          "text": [
            "\n",
            "image 1/1 /content/dataset/images/train/imgRGB_009_002_007.png: 640x384 1 person, 7.5ms\n",
            "Speed: 1.1ms preprocess, 7.5ms inference, 2.7ms postprocess per image at shape (1, 3, 640, 384)\n"
          ]
        },
        {
          "output_type": "stream",
          "name": "stdout",
          "text": [
            "Distância estimada: 256.71cm, Altura (estimada | real): 172.94cm | 177.0cm\n"
          ]
        },
        {
          "output_type": "stream",
          "name": "stderr",
          "text": [
            "\n",
            "image 1/1 /content/dataset/images/train/imgRGB_001_003_007.png: 640x384 1 person, 8.8ms\n",
            "Speed: 1.4ms preprocess, 8.8ms inference, 3.1ms postprocess per image at shape (1, 3, 640, 384)\n"
          ]
        },
        {
          "output_type": "stream",
          "name": "stdout",
          "text": [
            "Distância estimada: 191.06cm, Altura (estimada | real): 138.56cm | 166.0cm\n"
          ]
        },
        {
          "output_type": "stream",
          "name": "stderr",
          "text": [
            "\n",
            "image 1/1 /content/dataset/images/train/imgRGB_003_002_001.png: 640x384 1 person, 8.0ms\n",
            "Speed: 1.2ms preprocess, 8.0ms inference, 2.3ms postprocess per image at shape (1, 3, 640, 384)\n"
          ]
        },
        {
          "output_type": "stream",
          "name": "stdout",
          "text": [
            "Distância estimada: 201.34cm, Altura (estimada | real): 153.11cm | 177.0cm\n"
          ]
        },
        {
          "output_type": "stream",
          "name": "stderr",
          "text": [
            "\n",
            "image 1/1 /content/dataset/images/train/imgRGB_021_002_002.png: 640x384 1 person, 7.7ms\n",
            "Speed: 1.1ms preprocess, 7.7ms inference, 2.1ms postprocess per image at shape (1, 3, 640, 384)\n"
          ]
        },
        {
          "output_type": "stream",
          "name": "stdout",
          "text": [
            "Distância estimada: 175.46cm, Altura (estimada | real): 186.08cm | 178.5cm\n"
          ]
        },
        {
          "output_type": "stream",
          "name": "stderr",
          "text": [
            "\n",
            "image 1/1 /content/dataset/images/train/imgRGB_011_002_006.png: 640x384 1 person, 7.6ms\n",
            "Speed: 1.1ms preprocess, 7.6ms inference, 2.2ms postprocess per image at shape (1, 3, 640, 384)\n"
          ]
        },
        {
          "output_type": "stream",
          "name": "stdout",
          "text": [
            "Distância estimada: 171.01cm, Altura (estimada | real): 180.98cm | 176.0cm\n"
          ]
        },
        {
          "output_type": "stream",
          "name": "stderr",
          "text": [
            "\n",
            "image 1/1 /content/dataset/images/train/imgRGB_014_004_005.png: 640x384 1 person, 7.7ms\n",
            "Speed: 1.2ms preprocess, 7.7ms inference, 2.1ms postprocess per image at shape (1, 3, 640, 384)\n"
          ]
        },
        {
          "output_type": "stream",
          "name": "stdout",
          "text": [
            "Distância estimada: 167.34cm, Altura (estimada | real): 157.19cm | 186.0cm\n"
          ]
        },
        {
          "output_type": "stream",
          "name": "stderr",
          "text": [
            "\n",
            "image 1/1 /content/dataset/images/train/imgRGB_023_002_007.png: 640x384 1 person, 10.7ms\n",
            "Speed: 1.4ms preprocess, 10.7ms inference, 2.9ms postprocess per image at shape (1, 3, 640, 384)\n"
          ]
        },
        {
          "output_type": "stream",
          "name": "stdout",
          "text": [
            "Distância estimada: 247.38cm, Altura (estimada | real): 181.01cm | 175.0cm\n"
          ]
        },
        {
          "output_type": "stream",
          "name": "stderr",
          "text": [
            "\n",
            "image 1/1 /content/dataset/images/train/imgRGB_013_003_008.png: 640x384 1 person, 7.7ms\n",
            "Speed: 1.1ms preprocess, 7.7ms inference, 2.4ms postprocess per image at shape (1, 3, 640, 384)\n"
          ]
        },
        {
          "output_type": "stream",
          "name": "stdout",
          "text": [
            "Distância estimada: 176.97cm, Altura (estimada | real): 185.66cm | 187.0cm\n"
          ]
        },
        {
          "output_type": "stream",
          "name": "stderr",
          "text": [
            "\n",
            "image 1/1 /content/dataset/images/train/imgRGB_017_003_006.png: 640x384 1 person, 7.9ms\n",
            "Speed: 1.2ms preprocess, 7.9ms inference, 2.2ms postprocess per image at shape (1, 3, 640, 384)\n"
          ]
        },
        {
          "output_type": "stream",
          "name": "stdout",
          "text": [
            "Distância estimada: 207.88cm, Altura (estimada | real): 163.34cm | 182.0cm\n"
          ]
        },
        {
          "output_type": "stream",
          "name": "stderr",
          "text": [
            "\n",
            "image 1/1 /content/dataset/images/train/imgRGB_025_004_006.png: 640x384 1 person, 10.7ms\n",
            "Speed: 1.5ms preprocess, 10.7ms inference, 2.4ms postprocess per image at shape (1, 3, 640, 384)\n"
          ]
        },
        {
          "output_type": "stream",
          "name": "stdout",
          "text": [
            "Distância estimada: 211.94cm, Altura (estimada | real): 190.82cm | 184.0cm\n"
          ]
        },
        {
          "output_type": "stream",
          "name": "stderr",
          "text": [
            "\n",
            "image 1/1 /content/dataset/images/train/imgRGB_007_004_007.png: 640x384 1 person, 7.7ms\n",
            "Speed: 1.2ms preprocess, 7.7ms inference, 2.2ms postprocess per image at shape (1, 3, 640, 384)\n"
          ]
        },
        {
          "output_type": "stream",
          "name": "stdout",
          "text": [
            "Distância estimada: 283.04cm, Altura (estimada | real): 178.35cm | 160.0cm\n"
          ]
        },
        {
          "output_type": "stream",
          "name": "stderr",
          "text": [
            "\n",
            "image 1/1 /content/dataset/images/train/imgRGB_022_003_009.png: 640x384 1 person, 12.4ms\n",
            "Speed: 1.4ms preprocess, 12.4ms inference, 3.2ms postprocess per image at shape (1, 3, 640, 384)\n"
          ]
        },
        {
          "output_type": "stream",
          "name": "stdout",
          "text": [
            "Distância estimada: 248.33cm, Altura (estimada | real): 175.69cm | 172.0cm\n"
          ]
        },
        {
          "output_type": "stream",
          "name": "stderr",
          "text": [
            "\n",
            "image 1/1 /content/dataset/images/train/imgRGB_023_003_004.png: 640x384 1 person, 7.7ms\n",
            "Speed: 1.2ms preprocess, 7.7ms inference, 2.1ms postprocess per image at shape (1, 3, 640, 384)\n"
          ]
        },
        {
          "output_type": "stream",
          "name": "stdout",
          "text": [
            "Distância estimada: 207.38cm, Altura (estimada | real): 188.91cm | 175.0cm\n"
          ]
        },
        {
          "output_type": "stream",
          "name": "stderr",
          "text": [
            "\n",
            "image 1/1 /content/dataset/images/train/imgRGB_016_003_004.png: 640x384 1 person, 10.4ms\n",
            "Speed: 1.4ms preprocess, 10.4ms inference, 3.5ms postprocess per image at shape (1, 3, 640, 384)\n"
          ]
        },
        {
          "output_type": "stream",
          "name": "stdout",
          "text": [
            "Distância estimada: 209.39cm, Altura (estimada | real): 178.7cm | 187.0cm\n"
          ]
        },
        {
          "output_type": "stream",
          "name": "stderr",
          "text": [
            "\n",
            "image 1/1 /content/dataset/images/train/imgRGB_011_003_003.png: 640x384 1 person, 7.6ms\n",
            "Speed: 1.0ms preprocess, 7.6ms inference, 2.3ms postprocess per image at shape (1, 3, 640, 384)\n"
          ]
        },
        {
          "output_type": "stream",
          "name": "stdout",
          "text": [
            "Distância estimada: 214.76cm, Altura (estimada | real): 164.78cm | 175.0cm\n"
          ]
        },
        {
          "output_type": "stream",
          "name": "stderr",
          "text": [
            "\n",
            "image 1/1 /content/dataset/images/train/imgRGB_018_003_007.png: 640x384 1 person, 11.8ms\n",
            "Speed: 1.4ms preprocess, 11.8ms inference, 2.8ms postprocess per image at shape (1, 3, 640, 384)\n"
          ]
        },
        {
          "output_type": "stream",
          "name": "stdout",
          "text": [
            "Distância estimada: 201.44cm, Altura (estimada | real): 164.08cm | 186.0cm\n"
          ]
        },
        {
          "output_type": "stream",
          "name": "stderr",
          "text": [
            "\n",
            "image 1/1 /content/dataset/images/train/imgRGB_024_004_002.png: 640x384 1 person, 13.4ms\n",
            "Speed: 1.5ms preprocess, 13.4ms inference, 3.1ms postprocess per image at shape (1, 3, 640, 384)\n"
          ]
        },
        {
          "output_type": "stream",
          "name": "stdout",
          "text": [
            "Distância estimada: 208.2cm, Altura (estimada | real): 191.79cm | 186.5cm\n"
          ]
        },
        {
          "output_type": "stream",
          "name": "stderr",
          "text": [
            "\n",
            "image 1/1 /content/dataset/images/train/imgRGB_007_003_009.png: 640x384 1 person, 7.6ms\n",
            "Speed: 1.1ms preprocess, 7.6ms inference, 2.2ms postprocess per image at shape (1, 3, 640, 384)\n"
          ]
        },
        {
          "output_type": "stream",
          "name": "stdout",
          "text": [
            "Distância estimada: 266.79cm, Altura (estimada | real): 156.2cm | 166.0cm\n"
          ]
        },
        {
          "output_type": "stream",
          "name": "stderr",
          "text": [
            "\n",
            "image 1/1 /content/dataset/images/train/imgRGB_015_004_006.png: 640x384 1 person, 7.5ms\n",
            "Speed: 1.0ms preprocess, 7.5ms inference, 2.1ms postprocess per image at shape (1, 3, 640, 384)\n"
          ]
        },
        {
          "output_type": "stream",
          "name": "stdout",
          "text": [
            "Distância estimada: 204.58cm, Altura (estimada | real): 167.41cm | 172.0cm\n"
          ]
        },
        {
          "output_type": "stream",
          "name": "stderr",
          "text": [
            "\n",
            "image 1/1 /content/dataset/images/train/imgRGB_016_004_008.png: 640x384 1 person, 8.0ms\n",
            "Speed: 1.2ms preprocess, 8.0ms inference, 2.5ms postprocess per image at shape (1, 3, 640, 384)\n"
          ]
        },
        {
          "output_type": "stream",
          "name": "stdout",
          "text": [
            "Distância estimada: 265.68cm, Altura (estimada | real): 166.26cm | 165.0cm\n"
          ]
        },
        {
          "output_type": "stream",
          "name": "stderr",
          "text": [
            "\n",
            "image 1/1 /content/dataset/images/train/imgRGB_020_004_007.png: 640x384 1 person, 9.1ms\n",
            "Speed: 1.4ms preprocess, 9.1ms inference, 3.0ms postprocess per image at shape (1, 3, 640, 384)\n"
          ]
        },
        {
          "output_type": "stream",
          "name": "stdout",
          "text": [
            "Distância estimada: 268.87cm, Altura (estimada | real): 162.75cm | 175.0cm\n"
          ]
        },
        {
          "output_type": "stream",
          "name": "stderr",
          "text": [
            "\n",
            "image 1/1 /content/dataset/images/train/imgRGB_006_002_005.png: 640x384 1 person, 12.2ms\n",
            "Speed: 1.5ms preprocess, 12.2ms inference, 3.3ms postprocess per image at shape (1, 3, 640, 384)\n"
          ]
        },
        {
          "output_type": "stream",
          "name": "stdout",
          "text": [
            "Distância estimada: 258.78cm, Altura (estimada | real): 169.54cm | 171.0cm\n"
          ]
        },
        {
          "output_type": "stream",
          "name": "stderr",
          "text": [
            "\n",
            "image 1/1 /content/dataset/images/train/imgRGB_010_003_008.png: 640x384 1 person, 7.8ms\n",
            "Speed: 1.2ms preprocess, 7.8ms inference, 2.2ms postprocess per image at shape (1, 3, 640, 384)\n"
          ]
        },
        {
          "output_type": "stream",
          "name": "stdout",
          "text": [
            "Distância estimada: 169.2cm, Altura (estimada | real): 142.88cm | 167.0cm\n"
          ]
        },
        {
          "output_type": "stream",
          "name": "stderr",
          "text": [
            "\n",
            "image 1/1 /content/dataset/images/train/imgRGB_017_002_007.png: 640x384 1 person, 8.2ms\n",
            "Speed: 1.1ms preprocess, 8.2ms inference, 2.2ms postprocess per image at shape (1, 3, 640, 384)\n"
          ]
        },
        {
          "output_type": "stream",
          "name": "stdout",
          "text": [
            "Distância estimada: 196.26cm, Altura (estimada | real): 165.66cm | 176.0cm\n"
          ]
        },
        {
          "output_type": "stream",
          "name": "stderr",
          "text": [
            "\n",
            "image 1/1 /content/dataset/images/train/imgRGB_011_002_005.png: 640x384 1 person, 7.8ms\n",
            "Speed: 1.1ms preprocess, 7.8ms inference, 2.2ms postprocess per image at shape (1, 3, 640, 384)\n"
          ]
        },
        {
          "output_type": "stream",
          "name": "stdout",
          "text": [
            "Distância estimada: 166.82cm, Altura (estimada | real): 195.4cm | 184.0cm\n"
          ]
        },
        {
          "output_type": "stream",
          "name": "stderr",
          "text": [
            "\n",
            "image 1/1 /content/dataset/images/train/imgRGB_019_003_007.png: 640x384 1 person, 7.9ms\n",
            "Speed: 1.2ms preprocess, 7.9ms inference, 2.2ms postprocess per image at shape (1, 3, 640, 384)\n"
          ]
        },
        {
          "output_type": "stream",
          "name": "stdout",
          "text": [
            "Distância estimada: 164.05cm, Altura (estimada | real): 153.4cm | 186.0cm\n"
          ]
        },
        {
          "output_type": "stream",
          "name": "stderr",
          "text": [
            "\n",
            "image 1/1 /content/dataset/images/train/imgRGB_004_003_009.png: 640x384 1 person, 12.4ms\n",
            "Speed: 1.5ms preprocess, 12.4ms inference, 3.4ms postprocess per image at shape (1, 3, 640, 384)\n"
          ]
        },
        {
          "output_type": "stream",
          "name": "stdout",
          "text": [
            "Distância estimada: 212.21cm, Altura (estimada | real): 180.86cm | 176.0cm\n"
          ]
        },
        {
          "output_type": "stream",
          "name": "stderr",
          "text": [
            "\n",
            "image 1/1 /content/dataset/images/train/imgRGB_018_002_008.png: 640x384 1 person, 8.9ms\n",
            "Speed: 1.4ms preprocess, 8.9ms inference, 2.2ms postprocess per image at shape (1, 3, 640, 384)\n"
          ]
        },
        {
          "output_type": "stream",
          "name": "stdout",
          "text": [
            "Distância estimada: 206.2cm, Altura (estimada | real): 154.51cm | 167.0cm\n"
          ]
        },
        {
          "output_type": "stream",
          "name": "stderr",
          "text": [
            "\n",
            "image 1/1 /content/dataset/images/train/imgRGB_004_002_005.png: 640x384 1 person, 7.8ms\n",
            "Speed: 1.2ms preprocess, 7.8ms inference, 2.3ms postprocess per image at shape (1, 3, 640, 384)\n"
          ]
        },
        {
          "output_type": "stream",
          "name": "stdout",
          "text": [
            "Distância estimada: 161.0cm, Altura (estimada | real): 181.87cm | 186.5cm\n"
          ]
        },
        {
          "output_type": "stream",
          "name": "stderr",
          "text": [
            "\n",
            "image 1/1 /content/dataset/images/train/imgRGB_010_002_001.png: 640x384 1 person, 7.8ms\n",
            "Speed: 1.1ms preprocess, 7.8ms inference, 2.2ms postprocess per image at shape (1, 3, 640, 384)\n"
          ]
        },
        {
          "output_type": "stream",
          "name": "stdout",
          "text": [
            "Distância estimada: 182.92cm, Altura (estimada | real): 169.31cm | 167.0cm\n"
          ]
        },
        {
          "output_type": "stream",
          "name": "stderr",
          "text": [
            "\n",
            "image 1/1 /content/dataset/images/train/imgRGB_021_004_004.png: 640x384 1 person, 7.5ms\n",
            "Speed: 1.2ms preprocess, 7.5ms inference, 2.1ms postprocess per image at shape (1, 3, 640, 384)\n"
          ]
        },
        {
          "output_type": "stream",
          "name": "stdout",
          "text": [
            "Distância estimada: 173.68cm, Altura (estimada | real): 154.63cm | 176.0cm\n"
          ]
        },
        {
          "output_type": "stream",
          "name": "stderr",
          "text": [
            "\n",
            "image 1/1 /content/dataset/images/train/imgRGB_025_003_003.png: 640x384 1 person, 9.1ms\n",
            "Speed: 1.4ms preprocess, 9.1ms inference, 3.0ms postprocess per image at shape (1, 3, 640, 384)\n"
          ]
        },
        {
          "output_type": "stream",
          "name": "stdout",
          "text": [
            "Distância estimada: 265.49cm, Altura (estimada | real): 182.95cm | 176.0cm\n"
          ]
        },
        {
          "output_type": "stream",
          "name": "stderr",
          "text": [
            "\n",
            "image 1/1 /content/dataset/images/train/imgRGB_009_004_000.png: 640x384 1 person, 7.8ms\n",
            "Speed: 1.1ms preprocess, 7.8ms inference, 2.1ms postprocess per image at shape (1, 3, 640, 384)\n"
          ]
        },
        {
          "output_type": "stream",
          "name": "stdout",
          "text": [
            "Distância estimada: 242.7cm, Altura (estimada | real): 164.47cm | 160.0cm\n"
          ]
        },
        {
          "output_type": "stream",
          "name": "stderr",
          "text": [
            "\n",
            "image 1/1 /content/dataset/images/train/imgRGB_011_003_009.png: 640x384 1 person, 11.1ms\n",
            "Speed: 1.3ms preprocess, 11.1ms inference, 2.6ms postprocess per image at shape (1, 3, 640, 384)\n"
          ]
        },
        {
          "output_type": "stream",
          "name": "stdout",
          "text": [
            "Distância estimada: 262.65cm, Altura (estimada | real): 168.47cm | 166.0cm\n"
          ]
        },
        {
          "output_type": "stream",
          "name": "stderr",
          "text": [
            "\n",
            "image 1/1 /content/dataset/images/train/imgRGB_006_003_003.png: 640x384 1 person, 7.8ms\n",
            "Speed: 1.1ms preprocess, 7.8ms inference, 2.1ms postprocess per image at shape (1, 3, 640, 384)\n"
          ]
        },
        {
          "output_type": "stream",
          "name": "stdout",
          "text": [
            "Distância estimada: 202.82cm, Altura (estimada | real): 156.7cm | 186.0cm\n"
          ]
        },
        {
          "output_type": "stream",
          "name": "stderr",
          "text": [
            "\n",
            "image 1/1 /content/dataset/images/train/imgRGB_023_002_002.png: 640x384 1 person, 7.8ms\n",
            "Speed: 1.2ms preprocess, 7.8ms inference, 2.3ms postprocess per image at shape (1, 3, 640, 384)\n"
          ]
        },
        {
          "output_type": "stream",
          "name": "stdout",
          "text": [
            "Distância estimada: 195.02cm, Altura (estimada | real): 163.54cm | 167.0cm\n"
          ]
        },
        {
          "output_type": "stream",
          "name": "stderr",
          "text": [
            "\n",
            "image 1/1 /content/dataset/images/train/imgRGB_024_002_000.png: 640x384 1 person, 9.1ms\n",
            "Speed: 1.3ms preprocess, 9.1ms inference, 2.9ms postprocess per image at shape (1, 3, 640, 384)\n"
          ]
        },
        {
          "output_type": "stream",
          "name": "stdout",
          "text": [
            "Distância estimada: 184.92cm, Altura (estimada | real): 181.44cm | 187.0cm\n"
          ]
        },
        {
          "output_type": "stream",
          "name": "stderr",
          "text": [
            "\n",
            "image 1/1 /content/dataset/images/train/imgRGB_010_003_002.png: 640x384 1 person, 7.8ms\n",
            "Speed: 1.1ms preprocess, 7.8ms inference, 2.3ms postprocess per image at shape (1, 3, 640, 384)\n"
          ]
        },
        {
          "output_type": "stream",
          "name": "stdout",
          "text": [
            "Distância estimada: 165.45cm, Altura (estimada | real): 154.07cm | 166.0cm\n"
          ]
        },
        {
          "output_type": "stream",
          "name": "stderr",
          "text": [
            "\n",
            "image 1/1 /content/dataset/images/train/imgRGB_005_002_005.png: 640x384 1 person, 7.6ms\n",
            "Speed: 1.1ms preprocess, 7.6ms inference, 2.1ms postprocess per image at shape (1, 3, 640, 384)\n"
          ]
        },
        {
          "output_type": "stream",
          "name": "stdout",
          "text": [
            "Distância estimada: 197.04cm, Altura (estimada | real): 165.82cm | 176.0cm\n"
          ]
        },
        {
          "output_type": "stream",
          "name": "stderr",
          "text": [
            "\n",
            "image 1/1 /content/dataset/images/train/imgRGB_007_004_001.png: 640x384 1 person, 7.7ms\n",
            "Speed: 1.1ms preprocess, 7.7ms inference, 2.1ms postprocess per image at shape (1, 3, 640, 384)\n"
          ]
        },
        {
          "output_type": "stream",
          "name": "stdout",
          "text": [
            "Distância estimada: 174.96cm, Altura (estimada | real): 164.1cm | 175.0cm\n"
          ]
        },
        {
          "output_type": "stream",
          "name": "stderr",
          "text": [
            "\n",
            "image 1/1 /content/dataset/images/train/imgRGB_003_002_002.png: 640x384 1 person, 7.6ms\n",
            "Speed: 1.2ms preprocess, 7.6ms inference, 2.1ms postprocess per image at shape (1, 3, 640, 384)\n"
          ]
        },
        {
          "output_type": "stream",
          "name": "stdout",
          "text": [
            "Distância estimada: 252.84cm, Altura (estimada | real): 174.29cm | 172.0cm\n"
          ]
        },
        {
          "output_type": "stream",
          "name": "stderr",
          "text": [
            "\n",
            "image 1/1 /content/dataset/images/train/imgRGB_022_002_003.png: 640x384 1 person, 11.6ms\n",
            "Speed: 1.3ms preprocess, 11.6ms inference, 2.9ms postprocess per image at shape (1, 3, 640, 384)\n"
          ]
        },
        {
          "output_type": "stream",
          "name": "stdout",
          "text": [
            "Distância estimada: 175.78cm, Altura (estimada | real): 187.4cm | 178.5cm\n"
          ]
        },
        {
          "output_type": "stream",
          "name": "stderr",
          "text": [
            "\n",
            "image 1/1 /content/dataset/images/train/imgRGB_014_003_005.png: 640x384 1 person, 7.8ms\n",
            "Speed: 1.2ms preprocess, 7.8ms inference, 2.2ms postprocess per image at shape (1, 3, 640, 384)\n"
          ]
        },
        {
          "output_type": "stream",
          "name": "stdout",
          "text": [
            "Distância estimada: 185.92cm, Altura (estimada | real): 183.06cm | 175.0cm\n"
          ]
        },
        {
          "output_type": "stream",
          "name": "stderr",
          "text": [
            "\n",
            "image 1/1 /content/dataset/images/train/imgRGB_005_004_006.png: 640x384 1 person, 7.7ms\n",
            "Speed: 1.0ms preprocess, 7.7ms inference, 2.1ms postprocess per image at shape (1, 3, 640, 384)\n"
          ]
        },
        {
          "output_type": "stream",
          "name": "stdout",
          "text": [
            "Distância estimada: 197.34cm, Altura (estimada | real): 170.49cm | 175.0cm\n"
          ]
        },
        {
          "output_type": "stream",
          "name": "stderr",
          "text": [
            "\n",
            "image 1/1 /content/dataset/images/train/imgRGB_018_002_004.png: 640x384 1 person, 7.6ms\n",
            "Speed: 1.1ms preprocess, 7.6ms inference, 2.2ms postprocess per image at shape (1, 3, 640, 384)\n"
          ]
        },
        {
          "output_type": "stream",
          "name": "stdout",
          "text": [
            "Distância estimada: 252.94cm, Altura (estimada | real): 181.1cm | 175.0cm\n"
          ]
        },
        {
          "output_type": "stream",
          "name": "stderr",
          "text": [
            "\n",
            "image 1/1 /content/dataset/images/train/imgRGB_008_002_007.png: 640x384 1 person, 7.8ms\n",
            "Speed: 1.2ms preprocess, 7.8ms inference, 2.2ms postprocess per image at shape (1, 3, 640, 384)\n"
          ]
        },
        {
          "output_type": "stream",
          "name": "stdout",
          "text": [
            "Distância estimada: 187.24cm, Altura (estimada | real): 167.28cm | 186.5cm\n"
          ]
        },
        {
          "output_type": "stream",
          "name": "stderr",
          "text": [
            "\n",
            "image 1/1 /content/dataset/images/train/imgRGB_022_002_002.png: 640x384 1 person, 9.4ms\n",
            "Speed: 1.4ms preprocess, 9.4ms inference, 3.1ms postprocess per image at shape (1, 3, 640, 384)\n"
          ]
        },
        {
          "output_type": "stream",
          "name": "stdout",
          "text": [
            "Distância estimada: 178.99cm, Altura (estimada | real): 166.44cm | 180.0cm\n"
          ]
        },
        {
          "output_type": "stream",
          "name": "stderr",
          "text": [
            "\n",
            "image 1/1 /content/dataset/images/train/imgRGB_024_004_004.png: 640x384 1 person, 7.7ms\n",
            "Speed: 1.1ms preprocess, 7.7ms inference, 2.1ms postprocess per image at shape (1, 3, 640, 384)\n"
          ]
        },
        {
          "output_type": "stream",
          "name": "stdout",
          "text": [
            "Distância estimada: 174.18cm, Altura (estimada | real): 188.2cm | 175.0cm\n"
          ]
        },
        {
          "output_type": "stream",
          "name": "stderr",
          "text": [
            "\n",
            "image 1/1 /content/dataset/images/train/imgRGB_024_002_006.png: 640x384 1 person, 7.6ms\n",
            "Speed: 1.0ms preprocess, 7.6ms inference, 2.2ms postprocess per image at shape (1, 3, 640, 384)\n"
          ]
        },
        {
          "output_type": "stream",
          "name": "stdout",
          "text": [
            "Distância estimada: 262.76cm, Altura (estimada | real): 167.9cm | 166.0cm\n"
          ]
        },
        {
          "output_type": "stream",
          "name": "stderr",
          "text": [
            "\n",
            "image 1/1 /content/dataset/images/train/imgRGB_025_002_002.png: 640x384 1 person, 7.5ms\n",
            "Speed: 1.1ms preprocess, 7.5ms inference, 2.3ms postprocess per image at shape (1, 3, 640, 384)\n"
          ]
        },
        {
          "output_type": "stream",
          "name": "stdout",
          "text": [
            "Distância estimada: 162.15cm, Altura (estimada | real): 170.26cm | 166.0cm\n"
          ]
        },
        {
          "output_type": "stream",
          "name": "stderr",
          "text": [
            "\n",
            "image 1/1 /content/dataset/images/train/imgRGB_021_002_006.png: 640x384 1 person, 7.8ms\n",
            "Speed: 1.2ms preprocess, 7.8ms inference, 2.3ms postprocess per image at shape (1, 3, 640, 384)\n"
          ]
        },
        {
          "output_type": "stream",
          "name": "stdout",
          "text": [
            "Distância estimada: 195.58cm, Altura (estimada | real): 176.44cm | 160.0cm\n"
          ]
        },
        {
          "output_type": "stream",
          "name": "stderr",
          "text": [
            "\n",
            "image 1/1 /content/dataset/images/train/imgRGB_025_002_006.png: 640x384 1 person, 8.9ms\n",
            "Speed: 1.4ms preprocess, 8.9ms inference, 2.8ms postprocess per image at shape (1, 3, 640, 384)\n"
          ]
        },
        {
          "output_type": "stream",
          "name": "stdout",
          "text": [
            "Distância estimada: 167.27cm, Altura (estimada | real): 181.33cm | 176.0cm\n"
          ]
        },
        {
          "output_type": "stream",
          "name": "stderr",
          "text": [
            "\n",
            "image 1/1 /content/dataset/images/train/imgRGB_006_003_005.png: 640x384 1 person, 8.1ms\n",
            "Speed: 1.1ms preprocess, 8.1ms inference, 2.4ms postprocess per image at shape (1, 3, 640, 384)\n"
          ]
        },
        {
          "output_type": "stream",
          "name": "stdout",
          "text": [
            "Distância estimada: 183.9cm, Altura (estimada | real): 176.34cm | 160.0cm\n"
          ]
        },
        {
          "output_type": "stream",
          "name": "stderr",
          "text": [
            "\n",
            "image 1/1 /content/dataset/images/train/imgRGB_013_003_007.png: 640x384 1 person, 10.7ms\n",
            "Speed: 1.4ms preprocess, 10.7ms inference, 2.1ms postprocess per image at shape (1, 3, 640, 384)\n"
          ]
        },
        {
          "output_type": "stream",
          "name": "stdout",
          "text": [
            "Distância estimada: 194.02cm, Altura (estimada | real): 165.04cm | 167.0cm\n"
          ]
        },
        {
          "output_type": "stream",
          "name": "stderr",
          "text": [
            "\n",
            "image 1/1 /content/dataset/images/train/imgRGB_021_003_002.png: 640x384 1 person, 8.0ms\n",
            "Speed: 1.2ms preprocess, 8.0ms inference, 2.3ms postprocess per image at shape (1, 3, 640, 384)\n"
          ]
        },
        {
          "output_type": "stream",
          "name": "stdout",
          "text": [
            "Distância estimada: 209.2cm, Altura (estimada | real): 164.61cm | 182.0cm\n"
          ]
        },
        {
          "output_type": "stream",
          "name": "stderr",
          "text": [
            "\n",
            "image 1/1 /content/dataset/images/train/imgRGB_022_003_000.png: 640x384 1 person, 8.4ms\n",
            "Speed: 1.1ms preprocess, 8.4ms inference, 3.1ms postprocess per image at shape (1, 3, 640, 384)\n"
          ]
        },
        {
          "output_type": "stream",
          "name": "stdout",
          "text": [
            "Distância estimada: 213.24cm, Altura (estimada | real): 182.99cm | 176.0cm\n"
          ]
        },
        {
          "output_type": "stream",
          "name": "stderr",
          "text": [
            "\n",
            "image 1/1 /content/dataset/images/train/imgRGB_009_003_000.png: 640x384 1 person, 9.7ms\n",
            "Speed: 1.4ms preprocess, 9.7ms inference, 3.1ms postprocess per image at shape (1, 3, 640, 384)\n"
          ]
        },
        {
          "output_type": "stream",
          "name": "stdout",
          "text": [
            "Distância estimada: 212.81cm, Altura (estimada | real): 181.79cm | 175.0cm\n"
          ]
        },
        {
          "output_type": "stream",
          "name": "stderr",
          "text": [
            "\n",
            "image 1/1 /content/dataset/images/train/imgRGB_014_003_001.png: 640x384 1 person, 7.8ms\n",
            "Speed: 1.1ms preprocess, 7.8ms inference, 2.3ms postprocess per image at shape (1, 3, 640, 384)\n"
          ]
        },
        {
          "output_type": "stream",
          "name": "stdout",
          "text": [
            "Distância estimada: 214.11cm, Altura (estimada | real): 165.34cm | 166.0cm\n"
          ]
        },
        {
          "output_type": "stream",
          "name": "stderr",
          "text": [
            "\n",
            "image 1/1 /content/dataset/images/train/imgRGB_011_002_002.png: 640x384 1 person, 7.8ms\n",
            "Speed: 1.2ms preprocess, 7.8ms inference, 2.6ms postprocess per image at shape (1, 3, 640, 384)\n"
          ]
        },
        {
          "output_type": "stream",
          "name": "stdout",
          "text": [
            "Distância estimada: 202.58cm, Altura (estimada | real): 166.69cm | 175.0cm\n"
          ]
        },
        {
          "output_type": "stream",
          "name": "stderr",
          "text": [
            "\n",
            "image 1/1 /content/dataset/images/train/imgRGB_013_004_001.png: 640x384 1 person, 7.8ms\n",
            "Speed: 1.2ms preprocess, 7.8ms inference, 2.2ms postprocess per image at shape (1, 3, 640, 384)\n"
          ]
        },
        {
          "output_type": "stream",
          "name": "stdout",
          "text": [
            "Distância estimada: 156.65cm, Altura (estimada | real): 156.83cm | 186.0cm\n"
          ]
        },
        {
          "output_type": "stream",
          "name": "stderr",
          "text": [
            "\n",
            "image 1/1 /content/dataset/images/train/imgRGB_002_003_008.png: 640x384 1 person, 7.6ms\n",
            "Speed: 1.1ms preprocess, 7.6ms inference, 2.2ms postprocess per image at shape (1, 3, 640, 384)\n"
          ]
        },
        {
          "output_type": "stream",
          "name": "stdout",
          "text": [
            "Distância estimada: 254.63cm, Altura (estimada | real): 175.1cm | 182.0cm\n"
          ]
        },
        {
          "output_type": "stream",
          "name": "stderr",
          "text": [
            "\n",
            "image 1/1 /content/dataset/images/train/imgRGB_012_004_005.png: 640x384 1 person, 9.2ms\n",
            "Speed: 1.3ms preprocess, 9.2ms inference, 2.8ms postprocess per image at shape (1, 3, 640, 384)\n"
          ]
        },
        {
          "output_type": "stream",
          "name": "stdout",
          "text": [
            "Distância estimada: 197.81cm, Altura (estimada | real): 154.08cm | 177.0cm\n"
          ]
        },
        {
          "output_type": "stream",
          "name": "stderr",
          "text": [
            "\n",
            "image 1/1 /content/dataset/images/train/imgRGB_021_002_007.png: 640x384 1 person, 7.9ms\n",
            "Speed: 1.1ms preprocess, 7.9ms inference, 2.3ms postprocess per image at shape (1, 3, 640, 384)\n"
          ]
        },
        {
          "output_type": "stream",
          "name": "stdout",
          "text": [
            "Distância estimada: 246.56cm, Altura (estimada | real): 176.08cm | 181.0cm\n"
          ]
        },
        {
          "output_type": "stream",
          "name": "stderr",
          "text": [
            "\n",
            "image 1/1 /content/dataset/images/train/imgRGB_023_004_002.png: 640x384 1 person, 7.5ms\n",
            "Speed: 1.1ms preprocess, 7.5ms inference, 2.2ms postprocess per image at shape (1, 3, 640, 384)\n"
          ]
        },
        {
          "output_type": "stream",
          "name": "stdout",
          "text": [
            "Distância estimada: 163.78cm, Altura (estimada | real): 191.14cm | 176.0cm\n"
          ]
        },
        {
          "output_type": "stream",
          "name": "stderr",
          "text": [
            "\n",
            "image 1/1 /content/dataset/images/train/imgRGB_010_002_007.png: 640x384 1 person, 7.6ms\n",
            "Speed: 1.0ms preprocess, 7.6ms inference, 2.1ms postprocess per image at shape (1, 3, 640, 384)\n"
          ]
        },
        {
          "output_type": "stream",
          "name": "stdout",
          "text": [
            "Distância estimada: 249.52cm, Altura (estimada | real): 191.93cm | 187.0cm\n"
          ]
        },
        {
          "output_type": "stream",
          "name": "stderr",
          "text": [
            "\n",
            "image 1/1 /content/dataset/images/train/imgRGB_006_002_002.png: 640x384 1 person, 7.6ms\n",
            "Speed: 1.1ms preprocess, 7.6ms inference, 2.1ms postprocess per image at shape (1, 3, 640, 384)\n"
          ]
        },
        {
          "output_type": "stream",
          "name": "stdout",
          "text": [
            "Distância estimada: 173.06cm, Altura (estimada | real): 147.44cm | 176.0cm\n"
          ]
        },
        {
          "output_type": "stream",
          "name": "stderr",
          "text": [
            "\n",
            "image 1/1 /content/dataset/images/train/imgRGB_007_003_008.png: 640x384 1 person, 9.0ms\n",
            "Speed: 1.3ms preprocess, 9.0ms inference, 2.8ms postprocess per image at shape (1, 3, 640, 384)\n"
          ]
        },
        {
          "output_type": "stream",
          "name": "stdout",
          "text": [
            "Distância estimada: 178.09cm, Altura (estimada | real): 144.83cm | 167.0cm\n"
          ]
        },
        {
          "output_type": "stream",
          "name": "stderr",
          "text": [
            "\n",
            "image 1/1 /content/dataset/images/train/imgRGB_013_003_001.png: 640x384 1 person, 7.5ms\n",
            "Speed: 1.2ms preprocess, 7.5ms inference, 2.2ms postprocess per image at shape (1, 3, 640, 384)\n"
          ]
        },
        {
          "output_type": "stream",
          "name": "stdout",
          "text": [
            "Distância estimada: 204.48cm, Altura (estimada | real): 167.86cm | 172.0cm\n"
          ]
        },
        {
          "output_type": "stream",
          "name": "stderr",
          "text": [
            "\n",
            "image 1/1 /content/dataset/images/train/imgRGB_018_003_003.png: 640x384 1 person, 7.7ms\n",
            "Speed: 1.1ms preprocess, 7.7ms inference, 2.1ms postprocess per image at shape (1, 3, 640, 384)\n"
          ]
        },
        {
          "output_type": "stream",
          "name": "stdout",
          "text": [
            "Distância estimada: 208.26cm, Altura (estimada | real): 164.8cm | 182.0cm\n"
          ]
        },
        {
          "output_type": "stream",
          "name": "stderr",
          "text": [
            "\n",
            "image 1/1 /content/dataset/images/train/imgRGB_019_002_002.png: 640x384 1 person, 7.9ms\n",
            "Speed: 1.1ms preprocess, 7.9ms inference, 2.1ms postprocess per image at shape (1, 3, 640, 384)\n"
          ]
        },
        {
          "output_type": "stream",
          "name": "stdout",
          "text": [
            "Distância estimada: 206.97cm, Altura (estimada | real): 193.39cm | 186.5cm\n"
          ]
        },
        {
          "output_type": "stream",
          "name": "stderr",
          "text": [
            "\n",
            "image 1/1 /content/dataset/images/train/imgRGB_012_003_001.png: 640x384 1 person, 7.8ms\n",
            "Speed: 1.1ms preprocess, 7.8ms inference, 2.2ms postprocess per image at shape (1, 3, 640, 384)\n"
          ]
        },
        {
          "output_type": "stream",
          "name": "stdout",
          "text": [
            "Distância estimada: 184.48cm, Altura (estimada | real): 184.35cm | 176.0cm\n"
          ]
        },
        {
          "output_type": "stream",
          "name": "stderr",
          "text": [
            "\n",
            "image 1/1 /content/dataset/images/train/imgRGB_010_002_000.png: 640x384 1 person, 10.2ms\n",
            "Speed: 1.4ms preprocess, 10.2ms inference, 2.8ms postprocess per image at shape (1, 3, 640, 384)\n"
          ]
        },
        {
          "output_type": "stream",
          "name": "stdout",
          "text": [
            "Distância estimada: 199.75cm, Altura (estimada | real): 165.24cm | 181.0cm\n"
          ]
        },
        {
          "output_type": "stream",
          "name": "stderr",
          "text": [
            "\n",
            "image 1/1 /content/dataset/images/train/imgRGB_018_004_003.png: 640x384 1 person, 7.7ms\n",
            "Speed: 1.2ms preprocess, 7.7ms inference, 2.2ms postprocess per image at shape (1, 3, 640, 384)\n"
          ]
        },
        {
          "output_type": "stream",
          "name": "stdout",
          "text": [
            "Distância estimada: 177.6cm, Altura (estimada | real): 148.66cm | 176.0cm\n"
          ]
        },
        {
          "output_type": "stream",
          "name": "stderr",
          "text": [
            "\n",
            "image 1/1 /content/dataset/images/train/imgRGB_009_002_001.png: 640x384 1 person, 10.6ms\n",
            "Speed: 1.4ms preprocess, 10.6ms inference, 2.3ms postprocess per image at shape (1, 3, 640, 384)\n"
          ]
        },
        {
          "output_type": "stream",
          "name": "stdout",
          "text": [
            "Distância estimada: 263.31cm, Altura (estimada | real): 183.94cm | 186.5cm\n"
          ]
        },
        {
          "output_type": "stream",
          "name": "stderr",
          "text": [
            "\n",
            "image 1/1 /content/dataset/images/train/imgRGB_009_004_008.png: 640x384 1 person, 7.7ms\n",
            "Speed: 1.1ms preprocess, 7.7ms inference, 2.1ms postprocess per image at shape (1, 3, 640, 384)\n"
          ]
        },
        {
          "output_type": "stream",
          "name": "stdout",
          "text": [
            "Distância estimada: 177.48cm, Altura (estimada | real): 145.24cm | 166.0cm\n"
          ]
        },
        {
          "output_type": "stream",
          "name": "stderr",
          "text": [
            "\n",
            "image 1/1 /content/dataset/images/train/imgRGB_015_002_008.png: 640x384 1 person, 7.7ms\n",
            "Speed: 1.1ms preprocess, 7.7ms inference, 2.2ms postprocess per image at shape (1, 3, 640, 384)\n"
          ]
        },
        {
          "output_type": "stream",
          "name": "stdout",
          "text": [
            "Distância estimada: 261.89cm, Altura (estimada | real): 170.33cm | 166.0cm\n"
          ]
        },
        {
          "output_type": "stream",
          "name": "stderr",
          "text": [
            "\n",
            "image 1/1 /content/dataset/images/train/imgRGB_002_004_007.png: 640x384 1 person, 9.1ms\n",
            "Speed: 1.5ms preprocess, 9.1ms inference, 2.8ms postprocess per image at shape (1, 3, 640, 384)\n"
          ]
        },
        {
          "output_type": "stream",
          "name": "stdout",
          "text": [
            "Distância estimada: 183.86cm, Altura (estimada | real): 169.24cm | 165.0cm\n"
          ]
        },
        {
          "output_type": "stream",
          "name": "stderr",
          "text": [
            "\n",
            "image 1/1 /content/dataset/images/train/imgRGB_010_003_006.png: 640x384 1 person, 7.8ms\n",
            "Speed: 1.1ms preprocess, 7.8ms inference, 2.1ms postprocess per image at shape (1, 3, 640, 384)\n"
          ]
        },
        {
          "output_type": "stream",
          "name": "stdout",
          "text": [
            "Distância estimada: 253.24cm, Altura (estimada | real): 172.53cm | 177.0cm\n"
          ]
        },
        {
          "output_type": "stream",
          "name": "stderr",
          "text": [
            "\n",
            "image 1/1 /content/dataset/images/train/imgRGB_009_004_005.png: 640x384 1 person, 7.7ms\n",
            "Speed: 1.1ms preprocess, 7.7ms inference, 2.2ms postprocess per image at shape (1, 3, 640, 384)\n"
          ]
        },
        {
          "output_type": "stream",
          "name": "stdout",
          "text": [
            "Distância estimada: 200.14cm, Altura (estimada | real): 163.49cm | 176.0cm\n"
          ]
        },
        {
          "output_type": "stream",
          "name": "stderr",
          "text": [
            "\n",
            "image 1/1 /content/dataset/images/train/imgRGB_024_003_006.png: 640x384 1 person, 7.9ms\n",
            "Speed: 1.2ms preprocess, 7.9ms inference, 2.7ms postprocess per image at shape (1, 3, 640, 384)\n"
          ]
        },
        {
          "output_type": "stream",
          "name": "stdout",
          "text": [
            "Distância estimada: 262.83cm, Altura (estimada | real): 169.84cm | 166.0cm\n"
          ]
        },
        {
          "output_type": "stream",
          "name": "stderr",
          "text": [
            "\n",
            "image 1/1 /content/dataset/images/train/imgRGB_008_003_008.png: 640x384 1 person, 7.7ms\n",
            "Speed: 1.1ms preprocess, 7.7ms inference, 2.1ms postprocess per image at shape (1, 3, 640, 384)\n"
          ]
        },
        {
          "output_type": "stream",
          "name": "stdout",
          "text": [
            "Distância estimada: 210.88cm, Altura (estimada | real): 172.57cm | 166.0cm\n"
          ]
        },
        {
          "output_type": "stream",
          "name": "stderr",
          "text": [
            "\n",
            "image 1/1 /content/dataset/images/train/imgRGB_007_002_008.png: 640x384 1 person, 9.3ms\n",
            "Speed: 1.5ms preprocess, 9.3ms inference, 2.9ms postprocess per image at shape (1, 3, 640, 384)\n"
          ]
        },
        {
          "output_type": "stream",
          "name": "stdout",
          "text": [
            "Distância estimada: 197.54cm, Altura (estimada | real): 173.21cm | 180.0cm\n"
          ]
        },
        {
          "output_type": "stream",
          "name": "stderr",
          "text": [
            "\n",
            "image 1/1 /content/dataset/images/train/imgRGB_022_004_003.png: 640x384 1 person, 11.5ms\n",
            "Speed: 1.3ms preprocess, 11.5ms inference, 3.2ms postprocess per image at shape (1, 3, 640, 384)\n"
          ]
        },
        {
          "output_type": "stream",
          "name": "stdout",
          "text": [
            "Distância estimada: 178.52cm, Altura (estimada | real): 166.04cm | 172.0cm\n"
          ]
        },
        {
          "output_type": "stream",
          "name": "stderr",
          "text": [
            "\n",
            "image 1/1 /content/dataset/images/train/imgRGB_009_002_008.png: 640x384 1 person, 7.7ms\n",
            "Speed: 1.1ms preprocess, 7.7ms inference, 5.1ms postprocess per image at shape (1, 3, 640, 384)\n"
          ]
        },
        {
          "output_type": "stream",
          "name": "stdout",
          "text": [
            "Distância estimada: 253.08cm, Altura (estimada | real): 200.31cm | 175.0cm\n"
          ]
        },
        {
          "output_type": "stream",
          "name": "stderr",
          "text": [
            "\n",
            "image 1/1 /content/dataset/images/train/imgRGB_006_003_000.png: 640x384 1 person, 8.0ms\n",
            "Speed: 1.1ms preprocess, 8.0ms inference, 2.1ms postprocess per image at shape (1, 3, 640, 384)\n"
          ]
        },
        {
          "output_type": "stream",
          "name": "stdout",
          "text": [
            "Distância estimada: 188.24cm, Altura (estimada | real): 141.85cm | 166.0cm\n"
          ]
        },
        {
          "output_type": "stream",
          "name": "stderr",
          "text": [
            "\n",
            "image 1/1 /content/dataset/images/train/imgRGB_011_004_009.png: 640x384 1 person, 7.6ms\n",
            "Speed: 1.1ms preprocess, 7.6ms inference, 2.2ms postprocess per image at shape (1, 3, 640, 384)\n"
          ]
        },
        {
          "output_type": "stream",
          "name": "stdout",
          "text": [
            "Distância estimada: 197.74cm, Altura (estimada | real): 161.55cm | 167.0cm\n"
          ]
        },
        {
          "output_type": "stream",
          "name": "stderr",
          "text": [
            "\n",
            "image 1/1 /content/dataset/images/train/imgRGB_023_003_009.png: 640x384 1 person, 11.3ms\n",
            "Speed: 1.4ms preprocess, 11.3ms inference, 3.1ms postprocess per image at shape (1, 3, 640, 384)\n"
          ]
        },
        {
          "output_type": "stream",
          "name": "stdout",
          "text": [
            "Distância estimada: 241.5cm, Altura (estimada | real): 176.86cm | 186.0cm\n"
          ]
        },
        {
          "output_type": "stream",
          "name": "stderr",
          "text": [
            "\n",
            "image 1/1 /content/dataset/images/train/imgRGB_005_003_007.png: 640x384 1 person, 11.9ms\n",
            "Speed: 1.4ms preprocess, 11.9ms inference, 3.4ms postprocess per image at shape (1, 3, 640, 384)\n"
          ]
        },
        {
          "output_type": "stream",
          "name": "stdout",
          "text": [
            "Distância estimada: 208.32cm, Altura (estimada | real): 183.72cm | 187.0cm\n"
          ]
        },
        {
          "output_type": "stream",
          "name": "stderr",
          "text": [
            "\n",
            "image 1/1 /content/dataset/images/train/imgRGB_012_002_005.png: 640x384 1 person, 7.9ms\n",
            "Speed: 1.1ms preprocess, 7.9ms inference, 2.2ms postprocess per image at shape (1, 3, 640, 384)\n"
          ]
        },
        {
          "output_type": "stream",
          "name": "stdout",
          "text": [
            "Distância estimada: 204.32cm, Altura (estimada | real): 174.42cm | 175.0cm\n"
          ]
        },
        {
          "output_type": "stream",
          "name": "stderr",
          "text": [
            "\n",
            "image 1/1 /content/dataset/images/train/imgRGB_013_004_006.png: 640x384 1 person, 8.0ms\n",
            "Speed: 1.3ms preprocess, 8.0ms inference, 2.1ms postprocess per image at shape (1, 3, 640, 384)\n"
          ]
        },
        {
          "output_type": "stream",
          "name": "stdout",
          "text": [
            "Distância estimada: 173.14cm, Altura (estimada | real): 141.85cm | 181.0cm\n"
          ]
        },
        {
          "output_type": "stream",
          "name": "stderr",
          "text": [
            "\n",
            "image 1/1 /content/dataset/images/train/imgRGB_020_004_008.png: 640x384 1 person, 9.1ms\n",
            "Speed: 1.1ms preprocess, 9.1ms inference, 2.9ms postprocess per image at shape (1, 3, 640, 384)\n"
          ]
        },
        {
          "output_type": "stream",
          "name": "stdout",
          "text": [
            "Distância estimada: 253.28cm, Altura (estimada | real): 177.7cm | 182.0cm\n"
          ]
        },
        {
          "output_type": "stream",
          "name": "stderr",
          "text": [
            "\n",
            "image 1/1 /content/dataset/images/train/imgRGB_025_004_008.png: 640x384 1 person, 9.2ms\n",
            "Speed: 1.4ms preprocess, 9.2ms inference, 3.0ms postprocess per image at shape (1, 3, 640, 384)\n"
          ]
        },
        {
          "output_type": "stream",
          "name": "stdout",
          "text": [
            "Distância estimada: 266.22cm, Altura (estimada | real): 173.21cm | 171.0cm\n"
          ]
        },
        {
          "output_type": "stream",
          "name": "stderr",
          "text": [
            "\n",
            "image 1/1 /content/dataset/images/train/imgRGB_001_003_008.png: 640x384 1 person, 13.7ms\n",
            "Speed: 1.5ms preprocess, 13.7ms inference, 3.1ms postprocess per image at shape (1, 3, 640, 384)\n"
          ]
        },
        {
          "output_type": "stream",
          "name": "stdout",
          "text": [
            "Distância estimada: 288.35cm, Altura (estimada | real): 168.59cm | 160.0cm\n"
          ]
        },
        {
          "output_type": "stream",
          "name": "stderr",
          "text": [
            "\n",
            "image 1/1 /content/dataset/images/train/imgRGB_005_002_001.png: 640x384 1 person, 10.7ms\n",
            "Speed: 1.4ms preprocess, 10.7ms inference, 3.5ms postprocess per image at shape (1, 3, 640, 384)\n"
          ]
        },
        {
          "output_type": "stream",
          "name": "stdout",
          "text": [
            "Distância estimada: 198.28cm, Altura (estimada | real): 155.6cm | 177.0cm\n"
          ]
        },
        {
          "output_type": "stream",
          "name": "stderr",
          "text": [
            "\n",
            "image 1/1 /content/dataset/images/train/imgRGB_019_002_005.png: 640x384 1 person, 7.9ms\n",
            "Speed: 1.2ms preprocess, 7.9ms inference, 2.0ms postprocess per image at shape (1, 3, 640, 384)\n"
          ]
        },
        {
          "output_type": "stream",
          "name": "stdout",
          "text": [
            "Distância estimada: 176.38cm, Altura (estimada | real): 161.52cm | 175.0cm\n"
          ]
        },
        {
          "output_type": "stream",
          "name": "stderr",
          "text": [
            "\n",
            "image 1/1 /content/dataset/images/train/imgRGB_016_004_005.png: 640x384 1 person, 8.6ms\n",
            "Speed: 1.4ms preprocess, 8.6ms inference, 2.2ms postprocess per image at shape (1, 3, 640, 384)\n"
          ]
        },
        {
          "output_type": "stream",
          "name": "stdout",
          "text": [
            "Distância estimada: 178.33cm, Altura (estimada | real): 183.32cm | 176.0cm\n"
          ]
        },
        {
          "output_type": "stream",
          "name": "stderr",
          "text": [
            "\n",
            "image 1/1 /content/dataset/images/train/imgRGB_023_004_006.png: 640x384 1 person, 9.0ms\n",
            "Speed: 1.3ms preprocess, 9.0ms inference, 2.7ms postprocess per image at shape (1, 3, 640, 384)\n"
          ]
        },
        {
          "output_type": "stream",
          "name": "stdout",
          "text": [
            "Distância estimada: 260.95cm, Altura (estimada | real): 167.55cm | 175.0cm\n"
          ]
        },
        {
          "output_type": "stream",
          "name": "stderr",
          "text": [
            "\n",
            "image 1/1 /content/dataset/images/train/imgRGB_011_004_008.png: 640x384 1 person, 12.3ms\n",
            "Speed: 1.4ms preprocess, 12.3ms inference, 3.5ms postprocess per image at shape (1, 3, 640, 384)\n"
          ]
        },
        {
          "output_type": "stream",
          "name": "stdout",
          "text": [
            "Distância estimada: 268.78cm, Altura (estimada | real): 184.1cm | 187.0cm\n"
          ]
        },
        {
          "output_type": "stream",
          "name": "stderr",
          "text": [
            "\n",
            "image 1/1 /content/dataset/images/train/imgRGB_006_002_008.png: 640x384 1 person, 7.8ms\n",
            "Speed: 1.1ms preprocess, 7.8ms inference, 2.2ms postprocess per image at shape (1, 3, 640, 384)\n"
          ]
        },
        {
          "output_type": "stream",
          "name": "stdout",
          "text": [
            "Distância estimada: 243.08cm, Altura (estimada | real): 173.01cm | 186.0cm\n"
          ]
        },
        {
          "output_type": "stream",
          "name": "stderr",
          "text": [
            "\n",
            "image 1/1 /content/dataset/images/train/imgRGB_016_003_005.png: 640x384 1 person, 8.1ms\n",
            "Speed: 1.1ms preprocess, 8.1ms inference, 2.2ms postprocess per image at shape (1, 3, 640, 384)\n"
          ]
        },
        {
          "output_type": "stream",
          "name": "stdout",
          "text": [
            "Distância estimada: 170.76cm, Altura (estimada | real): 146.58cm | 167.0cm\n"
          ]
        },
        {
          "output_type": "stream",
          "name": "stderr",
          "text": [
            "\n",
            "image 1/1 /content/dataset/images/train/imgRGB_005_002_004.png: 640x384 1 person, 7.8ms\n",
            "Speed: 1.2ms preprocess, 7.8ms inference, 2.2ms postprocess per image at shape (1, 3, 640, 384)\n"
          ]
        },
        {
          "output_type": "stream",
          "name": "stdout",
          "text": [
            "Distância estimada: 221.28cm, Altura (estimada | real): 159.85cm | 175.0cm\n"
          ]
        },
        {
          "output_type": "stream",
          "name": "stderr",
          "text": [
            "\n",
            "image 1/1 /content/dataset/images/train/imgRGB_014_004_001.png: 640x384 1 person, 10.0ms\n",
            "Speed: 1.3ms preprocess, 10.0ms inference, 3.1ms postprocess per image at shape (1, 3, 640, 384)\n"
          ]
        },
        {
          "output_type": "stream",
          "name": "stdout",
          "text": [
            "Distância estimada: 175.42cm, Altura (estimada | real): 163.16cm | 175.0cm\n"
          ]
        },
        {
          "output_type": "stream",
          "name": "stderr",
          "text": [
            "\n",
            "image 1/1 /content/dataset/images/train/imgRGB_023_003_007.png: 640x384 1 person, 12.5ms\n",
            "Speed: 1.3ms preprocess, 12.5ms inference, 3.3ms postprocess per image at shape (1, 3, 640, 384)\n"
          ]
        },
        {
          "output_type": "stream",
          "name": "stdout",
          "text": [
            "Distância estimada: 251.42cm, Altura (estimada | real): 179.72cm | 175.0cm\n"
          ]
        },
        {
          "output_type": "stream",
          "name": "stderr",
          "text": [
            "\n",
            "image 1/1 /content/dataset/images/train/imgRGB_019_003_008.png: 640x384 1 person, 8.0ms\n",
            "Speed: 1.2ms preprocess, 8.0ms inference, 2.2ms postprocess per image at shape (1, 3, 640, 384)\n"
          ]
        },
        {
          "output_type": "stream",
          "name": "stdout",
          "text": [
            "Distância estimada: 219.39cm, Altura (estimada | real): 174.5cm | 187.0cm\n"
          ]
        },
        {
          "output_type": "stream",
          "name": "stderr",
          "text": [
            "\n",
            "image 1/1 /content/dataset/images/train/imgRGB_024_002_002.png: 640x384 1 person, 8.3ms\n",
            "Speed: 1.1ms preprocess, 8.3ms inference, 2.1ms postprocess per image at shape (1, 3, 640, 384)\n"
          ]
        },
        {
          "output_type": "stream",
          "name": "stdout",
          "text": [
            "Distância estimada: 215.66cm, Altura (estimada | real): 178.06cm | 176.0cm\n"
          ]
        },
        {
          "output_type": "stream",
          "name": "stderr",
          "text": [
            "\n",
            "image 1/1 /content/dataset/images/train/imgRGB_004_003_006.png: 640x384 1 person, 7.9ms\n",
            "Speed: 1.2ms preprocess, 7.9ms inference, 2.6ms postprocess per image at shape (1, 3, 640, 384)\n"
          ]
        },
        {
          "output_type": "stream",
          "name": "stdout",
          "text": [
            "Distância estimada: 178.5cm, Altura (estimada | real): 176.81cm | 166.0cm\n"
          ]
        },
        {
          "output_type": "stream",
          "name": "stderr",
          "text": [
            "\n",
            "image 1/1 /content/dataset/images/train/imgRGB_025_003_002.png: 640x384 1 person, 7.8ms\n",
            "Speed: 1.1ms preprocess, 7.8ms inference, 2.6ms postprocess per image at shape (1, 3, 640, 384)\n"
          ]
        },
        {
          "output_type": "stream",
          "name": "stdout",
          "text": [
            "Distância estimada: 206.2cm, Altura (estimada | real): 152.08cm | 167.0cm\n"
          ]
        },
        {
          "output_type": "stream",
          "name": "stderr",
          "text": [
            "\n",
            "image 1/1 /content/dataset/images/train/imgRGB_002_003_005.png: 640x384 1 person, 9.3ms\n",
            "Speed: 1.4ms preprocess, 9.3ms inference, 2.9ms postprocess per image at shape (1, 3, 640, 384)\n"
          ]
        },
        {
          "output_type": "stream",
          "name": "stdout",
          "text": [
            "Distância estimada: 231.25cm, Altura (estimada | real): 168.53cm | 160.0cm\n"
          ]
        },
        {
          "output_type": "stream",
          "name": "stderr",
          "text": [
            "\n",
            "image 1/1 /content/dataset/images/train/imgRGB_024_002_007.png: 640x384 1 person, 7.8ms\n",
            "Speed: 1.3ms preprocess, 7.8ms inference, 2.1ms postprocess per image at shape (1, 3, 640, 384)\n"
          ]
        },
        {
          "output_type": "stream",
          "name": "stdout",
          "text": [
            "Distância estimada: 199.22cm, Altura (estimada | real): 153.87cm | 177.0cm\n"
          ]
        },
        {
          "output_type": "stream",
          "name": "stderr",
          "text": [
            "\n",
            "image 1/1 /content/dataset/images/train/imgRGB_004_002_006.png: 640x384 1 person, 11.1ms\n",
            "Speed: 1.3ms preprocess, 11.1ms inference, 2.3ms postprocess per image at shape (1, 3, 640, 384)\n"
          ]
        },
        {
          "output_type": "stream",
          "name": "stdout",
          "text": [
            "Distância estimada: 170.72cm, Altura (estimada | real): 171.66cm | 166.0cm\n"
          ]
        },
        {
          "output_type": "stream",
          "name": "stderr",
          "text": [
            "\n",
            "image 1/1 /content/dataset/images/train/imgRGB_005_002_000.png: 640x384 1 person, 7.7ms\n",
            "Speed: 1.1ms preprocess, 7.7ms inference, 2.1ms postprocess per image at shape (1, 3, 640, 384)\n"
          ]
        },
        {
          "output_type": "stream",
          "name": "stdout",
          "text": [
            "Distância estimada: 185.14cm, Altura (estimada | real): 171.0cm | 167.0cm\n"
          ]
        },
        {
          "output_type": "stream",
          "name": "stderr",
          "text": [
            "\n",
            "image 1/1 /content/dataset/images/train/imgRGB_020_003_009.png: 640x384 1 person, 7.8ms\n",
            "Speed: 1.2ms preprocess, 7.8ms inference, 2.1ms postprocess per image at shape (1, 3, 640, 384)\n"
          ]
        },
        {
          "output_type": "stream",
          "name": "stdout",
          "text": [
            "Distância estimada: 174.76cm, Altura (estimada | real): 163.97cm | 175.0cm\n"
          ]
        },
        {
          "output_type": "stream",
          "name": "stderr",
          "text": [
            "\n",
            "image 1/1 /content/dataset/images/train/imgRGB_015_004_003.png: 640x384 1 person, 9.2ms\n",
            "Speed: 1.5ms preprocess, 9.2ms inference, 2.9ms postprocess per image at shape (1, 3, 640, 384)\n"
          ]
        },
        {
          "output_type": "stream",
          "name": "stdout",
          "text": [
            "Distância estimada: 209.17cm, Altura (estimada | real): 173.64cm | 171.0cm\n"
          ]
        },
        {
          "output_type": "stream",
          "name": "stderr",
          "text": [
            "\n",
            "image 1/1 /content/dataset/images/train/imgRGB_002_003_004.png: 640x384 1 person, 11.6ms\n",
            "Speed: 1.3ms preprocess, 11.6ms inference, 2.3ms postprocess per image at shape (1, 3, 640, 384)\n"
          ]
        },
        {
          "output_type": "stream",
          "name": "stdout",
          "text": [
            "Distância estimada: 263.81cm, Altura (estimada | real): 164.63cm | 165.0cm\n"
          ]
        },
        {
          "output_type": "stream",
          "name": "stderr",
          "text": [
            "\n",
            "image 1/1 /content/dataset/images/train/imgRGB_013_002_003.png: 640x384 1 person, 7.7ms\n",
            "Speed: 1.1ms preprocess, 7.7ms inference, 2.3ms postprocess per image at shape (1, 3, 640, 384)\n"
          ]
        },
        {
          "output_type": "stream",
          "name": "stdout",
          "text": [
            "Distância estimada: 198.63cm, Altura (estimada | real): 153.47cm | 177.0cm\n"
          ]
        },
        {
          "output_type": "stream",
          "name": "stderr",
          "text": [
            "\n",
            "image 1/1 /content/dataset/images/train/imgRGB_006_004_009.png: 640x384 1 person, 7.7ms\n",
            "Speed: 1.1ms preprocess, 7.7ms inference, 2.1ms postprocess per image at shape (1, 3, 640, 384)\n"
          ]
        },
        {
          "output_type": "stream",
          "name": "stdout",
          "text": [
            "Distância estimada: 178.27cm, Altura (estimada | real): 183.08cm | 182.0cm\n"
          ]
        },
        {
          "output_type": "stream",
          "name": "stderr",
          "text": [
            "\n",
            "image 1/1 /content/dataset/images/train/imgRGB_016_003_000.png: 640x384 1 person, 7.6ms\n",
            "Speed: 1.1ms preprocess, 7.6ms inference, 2.1ms postprocess per image at shape (1, 3, 640, 384)\n"
          ]
        },
        {
          "output_type": "stream",
          "name": "stdout",
          "text": [
            "Distância estimada: 251.39cm, Altura (estimada | real): 164.38cm | 167.0cm\n"
          ]
        },
        {
          "output_type": "stream",
          "name": "stderr",
          "text": [
            "\n",
            "image 1/1 /content/dataset/images/train/imgRGB_014_002_004.png: 640x384 1 person, 8.9ms\n",
            "Speed: 1.4ms preprocess, 8.9ms inference, 3.5ms postprocess per image at shape (1, 3, 640, 384)\n"
          ]
        },
        {
          "output_type": "stream",
          "name": "stdout",
          "text": [
            "Distância estimada: 208.02cm, Altura (estimada | real): 168.63cm | 175.0cm\n"
          ]
        },
        {
          "output_type": "stream",
          "name": "stderr",
          "text": [
            "\n",
            "image 1/1 /content/dataset/images/train/imgRGB_003_003_003.png: 640x384 1 person, 9.4ms\n",
            "Speed: 1.1ms preprocess, 9.4ms inference, 2.1ms postprocess per image at shape (1, 3, 640, 384)\n"
          ]
        },
        {
          "output_type": "stream",
          "name": "stdout",
          "text": [
            "Distância estimada: 169.78cm, Altura (estimada | real): 160.15cm | 175.0cm\n"
          ]
        },
        {
          "output_type": "stream",
          "name": "stderr",
          "text": [
            "\n",
            "image 1/1 /content/dataset/images/train/imgRGB_007_004_004.png: 640x384 1 person, 7.8ms\n",
            "Speed: 1.1ms preprocess, 7.8ms inference, 2.1ms postprocess per image at shape (1, 3, 640, 384)\n"
          ]
        },
        {
          "output_type": "stream",
          "name": "stdout",
          "text": [
            "Distância estimada: 210.0cm, Altura (estimada | real): 172.63cm | 178.5cm\n"
          ]
        },
        {
          "output_type": "stream",
          "name": "stderr",
          "text": [
            "\n",
            "image 1/1 /content/dataset/images/train/imgRGB_020_004_005.png: 640x384 1 person, 7.6ms\n",
            "Speed: 1.1ms preprocess, 7.6ms inference, 2.3ms postprocess per image at shape (1, 3, 640, 384)\n"
          ]
        },
        {
          "output_type": "stream",
          "name": "stdout",
          "text": [
            "Distância estimada: 258.66cm, Altura (estimada | real): 169.25cm | 172.0cm\n"
          ]
        },
        {
          "output_type": "stream",
          "name": "stderr",
          "text": [
            "\n",
            "image 1/1 /content/dataset/images/train/imgRGB_015_003_002.png: 640x384 1 person, 7.7ms\n",
            "Speed: 1.1ms preprocess, 7.7ms inference, 2.2ms postprocess per image at shape (1, 3, 640, 384)\n"
          ]
        },
        {
          "output_type": "stream",
          "name": "stdout",
          "text": [
            "Distância estimada: 259.7cm, Altura (estimada | real): 169.37cm | 171.0cm\n"
          ]
        },
        {
          "output_type": "stream",
          "name": "stderr",
          "text": [
            "\n",
            "image 1/1 /content/dataset/images/train/imgRGB_016_003_003.png: 640x384 1 person, 9.2ms\n",
            "Speed: 1.3ms preprocess, 9.2ms inference, 2.8ms postprocess per image at shape (1, 3, 640, 384)\n"
          ]
        },
        {
          "output_type": "stream",
          "name": "stdout",
          "text": [
            "Distância estimada: 210.62cm, Altura (estimada | real): 164.33cm | 165.0cm\n"
          ]
        },
        {
          "output_type": "stream",
          "name": "stderr",
          "text": [
            "\n",
            "image 1/1 /content/dataset/images/train/imgRGB_024_002_003.png: 640x384 1 person, 7.8ms\n",
            "Speed: 1.1ms preprocess, 7.8ms inference, 2.2ms postprocess per image at shape (1, 3, 640, 384)\n"
          ]
        },
        {
          "output_type": "stream",
          "name": "stdout",
          "text": [
            "Distância estimada: 212.08cm, Altura (estimada | real): 164.97cm | 175.0cm\n"
          ]
        },
        {
          "output_type": "stream",
          "name": "stderr",
          "text": [
            "\n",
            "image 1/1 /content/dataset/images/train/imgRGB_021_003_008.png: 640x384 1 person, 7.9ms\n",
            "Speed: 1.2ms preprocess, 7.9ms inference, 2.4ms postprocess per image at shape (1, 3, 640, 384)\n"
          ]
        },
        {
          "output_type": "stream",
          "name": "stdout",
          "text": [
            "Distância estimada: 173.15cm, Altura (estimada | real): 191.63cm | 166.0cm\n"
          ]
        },
        {
          "output_type": "stream",
          "name": "stderr",
          "text": [
            "\n",
            "image 1/1 /content/dataset/images/train/imgRGB_008_002_006.png: 640x384 1 person, 7.9ms\n",
            "Speed: 1.1ms preprocess, 7.9ms inference, 2.2ms postprocess per image at shape (1, 3, 640, 384)\n"
          ]
        },
        {
          "output_type": "stream",
          "name": "stdout",
          "text": [
            "Distância estimada: 217.04cm, Altura (estimada | real): 182.14cm | 176.0cm\n"
          ]
        },
        {
          "output_type": "stream",
          "name": "stderr",
          "text": [
            "\n",
            "image 1/1 /content/dataset/images/train/imgRGB_022_004_006.png: 640x384 1 person, 7.7ms\n",
            "Speed: 1.1ms preprocess, 7.7ms inference, 2.1ms postprocess per image at shape (1, 3, 640, 384)\n"
          ]
        },
        {
          "output_type": "stream",
          "name": "stdout",
          "text": [
            "Distância estimada: 175.8cm, Altura (estimada | real): 161.78cm | 180.0cm\n"
          ]
        },
        {
          "output_type": "stream",
          "name": "stderr",
          "text": [
            "\n",
            "image 1/1 /content/dataset/images/train/imgRGB_018_003_001.png: 640x384 1 person, 8.8ms\n",
            "Speed: 1.3ms preprocess, 8.8ms inference, 2.9ms postprocess per image at shape (1, 3, 640, 384)\n"
          ]
        },
        {
          "output_type": "stream",
          "name": "stdout",
          "text": [
            "Distância estimada: 266.28cm, Altura (estimada | real): 194.71cm | 175.0cm\n"
          ]
        },
        {
          "output_type": "stream",
          "name": "stderr",
          "text": [
            "\n",
            "image 1/1 /content/dataset/images/train/imgRGB_013_003_003.png: 640x384 1 person, 7.8ms\n",
            "Speed: 1.2ms preprocess, 7.8ms inference, 2.1ms postprocess per image at shape (1, 3, 640, 384)\n"
          ]
        },
        {
          "output_type": "stream",
          "name": "stdout",
          "text": [
            "Distância estimada: 210.71cm, Altura (estimada | real): 189.62cm | 186.5cm\n"
          ]
        },
        {
          "output_type": "stream",
          "name": "stderr",
          "text": [
            "\n",
            "image 1/1 /content/dataset/images/train/imgRGB_024_002_004.png: 640x384 1 person, 7.6ms\n",
            "Speed: 1.0ms preprocess, 7.6ms inference, 2.1ms postprocess per image at shape (1, 3, 640, 384)\n"
          ]
        },
        {
          "output_type": "stream",
          "name": "stdout",
          "text": [
            "Distância estimada: 208.6cm, Altura (estimada | real): 170.03cm | 182.0cm\n"
          ]
        },
        {
          "output_type": "stream",
          "name": "stderr",
          "text": [
            "\n",
            "image 1/1 /content/dataset/images/train/imgRGB_021_002_009.png: 640x384 1 person, 7.6ms\n",
            "Speed: 1.3ms preprocess, 7.6ms inference, 2.2ms postprocess per image at shape (1, 3, 640, 384)\n"
          ]
        },
        {
          "output_type": "stream",
          "name": "stdout",
          "text": [
            "Distância estimada: 155.38cm, Altura (estimada | real): 154.29cm | 166.0cm\n"
          ]
        },
        {
          "output_type": "stream",
          "name": "stderr",
          "text": [
            "\n",
            "image 1/1 /content/dataset/images/train/imgRGB_017_004_001.png: 640x384 1 person, 7.7ms\n",
            "Speed: 1.2ms preprocess, 7.7ms inference, 3.1ms postprocess per image at shape (1, 3, 640, 384)\n"
          ]
        },
        {
          "output_type": "stream",
          "name": "stdout",
          "text": [
            "Distância estimada: 168.34cm, Altura (estimada | real): 188.91cm | 176.0cm\n"
          ]
        },
        {
          "output_type": "stream",
          "name": "stderr",
          "text": [
            "\n",
            "image 1/1 /content/dataset/images/train/imgRGB_020_002_004.png: 640x384 1 person, 9.5ms\n",
            "Speed: 1.5ms preprocess, 9.5ms inference, 2.8ms postprocess per image at shape (1, 3, 640, 384)\n"
          ]
        },
        {
          "output_type": "stream",
          "name": "stdout",
          "text": [
            "Distância estimada: 264.82cm, Altura (estimada | real): 192.26cm | 184.0cm\n"
          ]
        },
        {
          "output_type": "stream",
          "name": "stderr",
          "text": [
            "\n",
            "image 1/1 /content/dataset/images/train/imgRGB_013_002_002.png: 640x384 1 person, 10.0ms\n",
            "Speed: 1.4ms preprocess, 10.0ms inference, 2.2ms postprocess per image at shape (1, 3, 640, 384)\n"
          ]
        },
        {
          "output_type": "stream",
          "name": "stdout",
          "text": [
            "Distância estimada: 176.6cm, Altura (estimada | real): 179.57cm | 171.0cm\n"
          ]
        },
        {
          "output_type": "stream",
          "name": "stderr",
          "text": [
            "\n",
            "image 1/1 /content/dataset/images/train/imgRGB_004_003_007.png: 640x384 1 person, 7.8ms\n",
            "Speed: 1.2ms preprocess, 7.8ms inference, 2.3ms postprocess per image at shape (1, 3, 640, 384)\n"
          ]
        },
        {
          "output_type": "stream",
          "name": "stdout",
          "text": [
            "Distância estimada: 177.14cm, Altura (estimada | real): 191.98cm | 182.0cm\n"
          ]
        },
        {
          "output_type": "stream",
          "name": "stderr",
          "text": [
            "\n",
            "image 1/1 /content/dataset/images/train/imgRGB_023_004_001.png: 640x384 1 person, 8.0ms\n",
            "Speed: 1.2ms preprocess, 8.0ms inference, 2.3ms postprocess per image at shape (1, 3, 640, 384)\n"
          ]
        },
        {
          "output_type": "stream",
          "name": "stdout",
          "text": [
            "Distância estimada: 205.46cm, Altura (estimada | real): 154.66cm | 167.0cm\n"
          ]
        },
        {
          "output_type": "stream",
          "name": "stderr",
          "text": [
            "\n",
            "image 1/1 /content/dataset/images/train/imgRGB_012_003_000.png: 640x384 1 person, 7.9ms\n",
            "Speed: 1.1ms preprocess, 7.9ms inference, 2.1ms postprocess per image at shape (1, 3, 640, 384)\n"
          ]
        },
        {
          "output_type": "stream",
          "name": "stdout",
          "text": [
            "Distância estimada: 245.69cm, Altura (estimada | real): 191.78cm | 187.0cm\n"
          ]
        },
        {
          "output_type": "stream",
          "name": "stderr",
          "text": [
            "\n",
            "image 1/1 /content/dataset/images/train/imgRGB_010_004_002.png: 640x384 1 person, 9.2ms\n",
            "Speed: 1.4ms preprocess, 9.2ms inference, 3.0ms postprocess per image at shape (1, 3, 640, 384)\n"
          ]
        },
        {
          "output_type": "stream",
          "name": "stdout",
          "text": [
            "Distância estimada: 200.58cm, Altura (estimada | real): 164.32cm | 181.0cm\n"
          ]
        },
        {
          "output_type": "stream",
          "name": "stderr",
          "text": [
            "\n",
            "image 1/1 /content/dataset/images/train/imgRGB_003_003_001.png: 640x384 1 person, 10.1ms\n",
            "Speed: 1.3ms preprocess, 10.1ms inference, 3.0ms postprocess per image at shape (1, 3, 640, 384)\n"
          ]
        },
        {
          "output_type": "stream",
          "name": "stdout",
          "text": [
            "Distância estimada: 258.26cm, Altura (estimada | real): 173.13cm | 176.0cm\n"
          ]
        },
        {
          "output_type": "stream",
          "name": "stderr",
          "text": [
            "\n",
            "image 1/1 /content/dataset/images/train/imgRGB_022_003_002.png: 640x384 1 person, 7.7ms\n",
            "Speed: 1.1ms preprocess, 7.7ms inference, 2.3ms postprocess per image at shape (1, 3, 640, 384)\n"
          ]
        },
        {
          "output_type": "stream",
          "name": "stdout",
          "text": [
            "Distância estimada: 209.94cm, Altura (estimada | real): 171.82cm | 178.5cm\n"
          ]
        },
        {
          "output_type": "stream",
          "name": "stderr",
          "text": [
            "\n",
            "image 1/1 /content/dataset/images/train/imgRGB_001_002_008.png: 640x384 1 person, 7.9ms\n",
            "Speed: 1.0ms preprocess, 7.9ms inference, 2.2ms postprocess per image at shape (1, 3, 640, 384)\n"
          ]
        },
        {
          "output_type": "stream",
          "name": "stdout",
          "text": [
            "Distância estimada: 206.67cm, Altura (estimada | real): 184.37cm | 175.0cm\n"
          ]
        },
        {
          "output_type": "stream",
          "name": "stderr",
          "text": [
            "\n",
            "image 1/1 /content/dataset/images/train/imgRGB_004_004_003.png: 640x384 1 person, 7.7ms\n",
            "Speed: 1.2ms preprocess, 7.7ms inference, 2.1ms postprocess per image at shape (1, 3, 640, 384)\n"
          ]
        },
        {
          "output_type": "stream",
          "name": "stdout",
          "text": [
            "Distância estimada: 166.45cm, Altura (estimada | real): 161.01cm | 177.0cm\n"
          ]
        },
        {
          "output_type": "stream",
          "name": "stderr",
          "text": [
            "\n",
            "image 1/1 /content/dataset/images/train/imgRGB_004_004_007.png: 640x384 1 person, 10.0ms\n",
            "Speed: 5.5ms preprocess, 10.0ms inference, 3.4ms postprocess per image at shape (1, 3, 640, 384)\n"
          ]
        },
        {
          "output_type": "stream",
          "name": "stdout",
          "text": [
            "Distância estimada: 258.29cm, Altura (estimada | real): 157.07cm | 167.0cm\n"
          ]
        },
        {
          "output_type": "stream",
          "name": "stderr",
          "text": [
            "\n",
            "image 1/1 /content/dataset/images/train/imgRGB_023_004_004.png: 640x384 1 person, 12.4ms\n",
            "Speed: 1.3ms preprocess, 12.4ms inference, 3.4ms postprocess per image at shape (1, 3, 640, 384)\n"
          ]
        },
        {
          "output_type": "stream",
          "name": "stdout",
          "text": [
            "Distância estimada: 259.47cm, Altura (estimada | real): 154.14cm | 167.0cm\n"
          ]
        },
        {
          "output_type": "stream",
          "name": "stderr",
          "text": [
            "\n",
            "image 1/1 /content/dataset/images/train/imgRGB_001_003_001.png: 640x384 1 person, 8.0ms\n",
            "Speed: 1.2ms preprocess, 8.0ms inference, 2.1ms postprocess per image at shape (1, 3, 640, 384)\n"
          ]
        },
        {
          "output_type": "stream",
          "name": "stdout",
          "text": [
            "Distância estimada: 254.24cm, Altura (estimada | real): 189.99cm | 187.0cm\n"
          ]
        },
        {
          "output_type": "stream",
          "name": "stderr",
          "text": [
            "\n",
            "image 1/1 /content/dataset/images/train/imgRGB_018_004_002.png: 640x384 1 person, 7.8ms\n",
            "Speed: 1.2ms preprocess, 7.8ms inference, 2.2ms postprocess per image at shape (1, 3, 640, 384)\n"
          ]
        },
        {
          "output_type": "stream",
          "name": "stdout",
          "text": [
            "Distância estimada: 199.44cm, Altura (estimada | real): 156.68cm | 177.0cm\n"
          ]
        },
        {
          "output_type": "stream",
          "name": "stderr",
          "text": [
            "\n",
            "image 1/1 /content/dataset/images/train/imgRGB_009_003_005.png: 640x384 1 person, 9.3ms\n",
            "Speed: 1.3ms preprocess, 9.3ms inference, 2.2ms postprocess per image at shape (1, 3, 640, 384)\n"
          ]
        },
        {
          "output_type": "stream",
          "name": "stdout",
          "text": [
            "Distância estimada: 253.16cm, Altura (estimada | real): 195.19cm | 186.5cm\n"
          ]
        },
        {
          "output_type": "stream",
          "name": "stderr",
          "text": [
            "\n",
            "image 1/1 /content/dataset/images/train/imgRGB_012_003_009.png: 640x384 1 person, 9.3ms\n",
            "Speed: 1.3ms preprocess, 9.3ms inference, 2.8ms postprocess per image at shape (1, 3, 640, 384)\n"
          ]
        },
        {
          "output_type": "stream",
          "name": "stdout",
          "text": [
            "Distância estimada: 212.56cm, Altura (estimada | real): 165.3cm | 166.0cm\n"
          ]
        },
        {
          "output_type": "stream",
          "name": "stderr",
          "text": [
            "\n",
            "image 1/1 /content/dataset/images/train/imgRGB_009_003_007.png: 640x384 1 person, 12.7ms\n",
            "Speed: 1.3ms preprocess, 12.7ms inference, 3.5ms postprocess per image at shape (1, 3, 640, 384)\n"
          ]
        },
        {
          "output_type": "stream",
          "name": "stdout",
          "text": [
            "Distância estimada: 201.86cm, Altura (estimada | real): 161.06cm | 181.0cm\n"
          ]
        },
        {
          "output_type": "stream",
          "name": "stderr",
          "text": [
            "\n",
            "image 1/1 /content/dataset/images/train/imgRGB_023_004_003.png: 640x384 1 person, 8.0ms\n",
            "Speed: 1.1ms preprocess, 8.0ms inference, 2.1ms postprocess per image at shape (1, 3, 640, 384)\n"
          ]
        },
        {
          "output_type": "stream",
          "name": "stdout",
          "text": [
            "Distância estimada: 211.6cm, Altura (estimada | real): 164.28cm | 166.0cm\n"
          ]
        },
        {
          "output_type": "stream",
          "name": "stderr",
          "text": [
            "\n",
            "image 1/1 /content/dataset/images/train/imgRGB_012_004_004.png: 640x384 1 person, 8.0ms\n",
            "Speed: 1.1ms preprocess, 8.0ms inference, 2.3ms postprocess per image at shape (1, 3, 640, 384)\n"
          ]
        },
        {
          "output_type": "stream",
          "name": "stdout",
          "text": [
            "Distância estimada: 258.16cm, Altura (estimada | real): 186.21cm | 187.0cm\n"
          ]
        },
        {
          "output_type": "stream",
          "name": "stderr",
          "text": [
            "\n",
            "image 1/1 /content/dataset/images/train/imgRGB_024_003_007.png: 640x384 1 person, 7.8ms\n",
            "Speed: 1.3ms preprocess, 7.8ms inference, 2.3ms postprocess per image at shape (1, 3, 640, 384)\n"
          ]
        },
        {
          "output_type": "stream",
          "name": "stdout",
          "text": [
            "Distância estimada: 246.68cm, Altura (estimada | real): 180.49cm | 181.0cm\n"
          ]
        },
        {
          "output_type": "stream",
          "name": "stderr",
          "text": [
            "\n",
            "image 1/1 /content/dataset/images/train/imgRGB_015_002_002.png: 640x384 1 person, 7.5ms\n",
            "Speed: 1.1ms preprocess, 7.5ms inference, 2.1ms postprocess per image at shape (1, 3, 640, 384)\n"
          ]
        },
        {
          "output_type": "stream",
          "name": "stdout",
          "text": [
            "Distância estimada: 211.48cm, Altura (estimada | real): 170.72cm | 166.0cm\n"
          ]
        },
        {
          "output_type": "stream",
          "name": "stderr",
          "text": [
            "\n",
            "image 1/1 /content/dataset/images/train/imgRGB_019_002_000.png: 640x384 1 person, 14.5ms\n",
            "Speed: 1.6ms preprocess, 14.5ms inference, 3.4ms postprocess per image at shape (1, 3, 640, 384)\n"
          ]
        },
        {
          "output_type": "stream",
          "name": "stdout",
          "text": [
            "Distância estimada: 189.46cm, Altura (estimada | real): 164.44cm | 165.0cm\n"
          ]
        },
        {
          "output_type": "stream",
          "name": "stderr",
          "text": [
            "\n",
            "image 1/1 /content/dataset/images/train/imgRGB_019_004_009.png: 640x384 1 person, 7.9ms\n",
            "Speed: 1.2ms preprocess, 7.9ms inference, 2.7ms postprocess per image at shape (1, 3, 640, 384)\n"
          ]
        },
        {
          "output_type": "stream",
          "name": "stdout",
          "text": [
            "Distância estimada: 177.77cm, Altura (estimada | real): 180.35cm | 176.0cm\n"
          ]
        },
        {
          "output_type": "stream",
          "name": "stderr",
          "text": [
            "\n",
            "image 1/1 /content/dataset/images/train/imgRGB_025_002_008.png: 640x384 1 person, 7.7ms\n",
            "Speed: 1.1ms preprocess, 7.7ms inference, 2.2ms postprocess per image at shape (1, 3, 640, 384)\n"
          ]
        },
        {
          "output_type": "stream",
          "name": "stdout",
          "text": [
            "Distância estimada: 262.82cm, Altura (estimada | real): 175.56cm | 176.0cm\n"
          ]
        },
        {
          "output_type": "stream",
          "name": "stderr",
          "text": [
            "\n",
            "image 1/1 /content/dataset/images/train/imgRGB_025_002_007.png: 640x384 1 person, 7.8ms\n",
            "Speed: 1.2ms preprocess, 7.8ms inference, 2.1ms postprocess per image at shape (1, 3, 640, 384)\n"
          ]
        },
        {
          "output_type": "stream",
          "name": "stdout",
          "text": [
            "Distância estimada: 177.89cm, Altura (estimada | real): 164.8cm | 160.0cm\n"
          ]
        },
        {
          "output_type": "stream",
          "name": "stderr",
          "text": [
            "\n",
            "image 1/1 /content/dataset/images/train/imgRGB_007_004_000.png: 640x384 1 person, 7.9ms\n",
            "Speed: 1.1ms preprocess, 7.9ms inference, 2.1ms postprocess per image at shape (1, 3, 640, 384)\n"
          ]
        },
        {
          "output_type": "stream",
          "name": "stdout",
          "text": [
            "Distância estimada: 197.76cm, Altura (estimada | real): 161.27cm | 160.0cm\n"
          ]
        },
        {
          "output_type": "stream",
          "name": "stderr",
          "text": [
            "\n",
            "image 1/1 /content/dataset/images/train/imgRGB_017_003_009.png: 640x384 1 person, 9.4ms\n",
            "Speed: 1.3ms preprocess, 9.4ms inference, 2.9ms postprocess per image at shape (1, 3, 640, 384)\n"
          ]
        },
        {
          "output_type": "stream",
          "name": "stdout",
          "text": [
            "Distância estimada: 251.4cm, Altura (estimada | real): 174.83cm | 172.0cm\n"
          ]
        },
        {
          "output_type": "stream",
          "name": "stderr",
          "text": [
            "\n",
            "image 1/1 /content/dataset/images/train/imgRGB_021_002_001.png: 640x384 1 person, 7.5ms\n",
            "Speed: 1.1ms preprocess, 7.5ms inference, 2.2ms postprocess per image at shape (1, 3, 640, 384)\n"
          ]
        },
        {
          "output_type": "stream",
          "name": "stdout",
          "text": [
            "Distância estimada: 217.9cm, Altura (estimada | real): 190.22cm | 184.0cm\n"
          ]
        },
        {
          "output_type": "stream",
          "name": "stderr",
          "text": [
            "\n",
            "image 1/1 /content/dataset/images/train/imgRGB_024_002_001.png: 640x384 1 person, 7.8ms\n",
            "Speed: 1.1ms preprocess, 7.8ms inference, 2.2ms postprocess per image at shape (1, 3, 640, 384)\n"
          ]
        },
        {
          "output_type": "stream",
          "name": "stdout",
          "text": [
            "Distância estimada: 169.89cm, Altura (estimada | real): 180.96cm | 176.0cm\n"
          ]
        },
        {
          "output_type": "stream",
          "name": "stderr",
          "text": [
            "\n",
            "image 1/1 /content/dataset/images/train/imgRGB_009_003_006.png: 640x384 1 person, 7.6ms\n",
            "Speed: 1.1ms preprocess, 7.6ms inference, 2.1ms postprocess per image at shape (1, 3, 640, 384)\n"
          ]
        },
        {
          "output_type": "stream",
          "name": "stdout",
          "text": [
            "Distância estimada: 179.67cm, Altura (estimada | real): 175.6cm | 166.0cm\n"
          ]
        },
        {
          "output_type": "stream",
          "name": "stderr",
          "text": [
            "\n",
            "image 1/1 /content/dataset/images/train/imgRGB_007_004_009.png: 640x384 1 person, 7.9ms\n",
            "Speed: 1.1ms preprocess, 7.9ms inference, 2.2ms postprocess per image at shape (1, 3, 640, 384)\n"
          ]
        },
        {
          "output_type": "stream",
          "name": "stdout",
          "text": [
            "Distância estimada: 214.0cm, Altura (estimada | real): 165.16cm | 166.0cm\n"
          ]
        },
        {
          "output_type": "stream",
          "name": "stderr",
          "text": [
            "\n",
            "image 1/1 /content/dataset/images/train/imgRGB_011_002_009.png: 640x384 1 person, 15.6ms\n",
            "Speed: 1.4ms preprocess, 15.6ms inference, 2.4ms postprocess per image at shape (1, 3, 640, 384)\n"
          ]
        },
        {
          "output_type": "stream",
          "name": "stdout",
          "text": [
            "Distância estimada: 257.49cm, Altura (estimada | real): 172.51cm | 172.0cm\n"
          ]
        },
        {
          "output_type": "stream",
          "name": "stderr",
          "text": [
            "\n",
            "image 1/1 /content/dataset/images/train/imgRGB_003_004_004.png: 640x384 1 person, 8.5ms\n",
            "Speed: 1.3ms preprocess, 8.5ms inference, 2.1ms postprocess per image at shape (1, 3, 640, 384)\n"
          ]
        },
        {
          "output_type": "stream",
          "name": "stdout",
          "text": [
            "Distância estimada: 158.86cm, Altura (estimada | real): 160.86cm | 186.0cm\n"
          ]
        },
        {
          "output_type": "stream",
          "name": "stderr",
          "text": [
            "\n",
            "image 1/1 /content/dataset/images/train/imgRGB_021_004_006.png: 640x384 1 person, 7.6ms\n",
            "Speed: 1.1ms preprocess, 7.6ms inference, 2.1ms postprocess per image at shape (1, 3, 640, 384)\n"
          ]
        },
        {
          "output_type": "stream",
          "name": "stdout",
          "text": [
            "Distância estimada: 253.24cm, Altura (estimada | real): 178.41cm | 178.5cm\n"
          ]
        },
        {
          "output_type": "stream",
          "name": "stderr",
          "text": [
            "\n",
            "image 1/1 /content/dataset/images/train/imgRGB_012_002_009.png: 640x384 1 person, 16.5ms\n",
            "Speed: 1.6ms preprocess, 16.5ms inference, 4.1ms postprocess per image at shape (1, 3, 640, 384)\n"
          ]
        },
        {
          "output_type": "stream",
          "name": "stdout",
          "text": [
            "Distância estimada: 266.98cm, Altura (estimada | real): 182.43cm | 176.0cm\n"
          ]
        },
        {
          "output_type": "stream",
          "name": "stderr",
          "text": [
            "\n",
            "image 1/1 /content/dataset/images/train/imgRGB_014_003_003.png: 640x384 1 person, 11.5ms\n",
            "Speed: 1.3ms preprocess, 11.5ms inference, 10.0ms postprocess per image at shape (1, 3, 640, 384)\n"
          ]
        },
        {
          "output_type": "stream",
          "name": "stdout",
          "text": [
            "Distância estimada: 162.1cm, Altura (estimada | real): 142.03cm | 181.0cm\n"
          ]
        },
        {
          "output_type": "stream",
          "name": "stderr",
          "text": [
            "\n",
            "image 1/1 /content/dataset/images/train/imgRGB_022_002_007.png: 640x384 1 person, 11.0ms\n",
            "Speed: 1.4ms preprocess, 11.0ms inference, 3.6ms postprocess per image at shape (1, 3, 640, 384)\n"
          ]
        },
        {
          "output_type": "stream",
          "name": "stdout",
          "text": [
            "Distância estimada: 201.34cm, Altura (estimada | real): 165.55cm | 175.0cm\n"
          ]
        },
        {
          "output_type": "stream",
          "name": "stderr",
          "text": [
            "\n",
            "image 1/1 /content/dataset/images/train/imgRGB_002_003_001.png: 640x384 1 person, 8.0ms\n",
            "Speed: 1.1ms preprocess, 8.0ms inference, 2.1ms postprocess per image at shape (1, 3, 640, 384)\n"
          ]
        },
        {
          "output_type": "stream",
          "name": "stdout",
          "text": [
            "Distância estimada: 172.19cm, Altura (estimada | real): 181.06cm | 175.0cm\n"
          ]
        },
        {
          "output_type": "stream",
          "name": "stderr",
          "text": [
            "\n",
            "image 1/1 /content/dataset/images/train/imgRGB_005_004_001.png: 640x384 1 person, 7.8ms\n",
            "Speed: 1.1ms preprocess, 7.8ms inference, 2.1ms postprocess per image at shape (1, 3, 640, 384)\n"
          ]
        },
        {
          "output_type": "stream",
          "name": "stdout",
          "text": [
            "Distância estimada: 200.43cm, Altura (estimada | real): 153.61cm | 177.0cm\n"
          ]
        },
        {
          "output_type": "stream",
          "name": "stderr",
          "text": [
            "\n",
            "image 1/1 /content/dataset/images/train/imgRGB_014_003_000.png: 640x384 1 person, 10.5ms\n",
            "Speed: 1.4ms preprocess, 10.5ms inference, 3.0ms postprocess per image at shape (1, 3, 640, 384)\n"
          ]
        },
        {
          "output_type": "stream",
          "name": "stdout",
          "text": [
            "Distância estimada: 254.92cm, Altura (estimada | real): 177.8cm | 175.0cm\n"
          ]
        },
        {
          "output_type": "stream",
          "name": "stderr",
          "text": [
            "\n",
            "image 1/1 /content/dataset/images/train/imgRGB_023_002_006.png: 640x384 1 person, 14.5ms\n",
            "Speed: 1.6ms preprocess, 14.5ms inference, 5.2ms postprocess per image at shape (1, 3, 640, 384)\n"
          ]
        },
        {
          "output_type": "stream",
          "name": "stdout",
          "text": [
            "Distância estimada: 198.4cm, Altura (estimada | real): 166.48cm | 175.0cm\n"
          ]
        },
        {
          "output_type": "stream",
          "name": "stderr",
          "text": [
            "\n",
            "image 1/1 /content/dataset/images/train/imgRGB_007_002_007.png: 640x384 1 person, 7.9ms\n",
            "Speed: 1.1ms preprocess, 7.9ms inference, 2.1ms postprocess per image at shape (1, 3, 640, 384)\n"
          ]
        },
        {
          "output_type": "stream",
          "name": "stdout",
          "text": [
            "Distância estimada: 182.56cm, Altura (estimada | real): 189.27cm | 187.0cm\n"
          ]
        },
        {
          "output_type": "stream",
          "name": "stderr",
          "text": [
            "\n",
            "image 1/1 /content/dataset/images/train/imgRGB_010_003_005.png: 640x384 1 person, 7.5ms\n",
            "Speed: 1.1ms preprocess, 7.5ms inference, 2.0ms postprocess per image at shape (1, 3, 640, 384)\n"
          ]
        },
        {
          "output_type": "stream",
          "name": "stdout",
          "text": [
            "Distância estimada: 178.43cm, Altura (estimada | real): 166.57cm | 172.0cm\n"
          ]
        },
        {
          "output_type": "stream",
          "name": "stderr",
          "text": [
            "\n",
            "image 1/1 /content/dataset/images/train/imgRGB_011_004_002.png: 640x384 1 person, 7.7ms\n",
            "Speed: 1.1ms preprocess, 7.7ms inference, 2.2ms postprocess per image at shape (1, 3, 640, 384)\n"
          ]
        },
        {
          "output_type": "stream",
          "name": "stdout",
          "text": [
            "Distância estimada: 197.24cm, Altura (estimada | real): 164.14cm | 176.0cm\n"
          ]
        },
        {
          "output_type": "stream",
          "name": "stderr",
          "text": [
            "\n",
            "image 1/1 /content/dataset/images/train/imgRGB_021_003_006.png: 640x384 1 person, 9.7ms\n",
            "Speed: 1.3ms preprocess, 9.7ms inference, 2.8ms postprocess per image at shape (1, 3, 640, 384)\n"
          ]
        },
        {
          "output_type": "stream",
          "name": "stdout",
          "text": [
            "Distância estimada: 242.72cm, Altura (estimada | real): 174.25cm | 186.0cm\n"
          ]
        },
        {
          "output_type": "stream",
          "name": "stderr",
          "text": [
            "\n",
            "image 1/1 /content/dataset/images/train/imgRGB_019_003_005.png: 640x384 1 person, 11.8ms\n",
            "Speed: 1.3ms preprocess, 11.8ms inference, 3.2ms postprocess per image at shape (1, 3, 640, 384)\n"
          ]
        },
        {
          "output_type": "stream",
          "name": "stdout",
          "text": [
            "Distância estimada: 208.83cm, Altura (estimada | real): 185.5cm | 176.0cm\n"
          ]
        },
        {
          "output_type": "stream",
          "name": "stderr",
          "text": [
            "\n",
            "image 1/1 /content/dataset/images/train/imgRGB_018_004_006.png: 640x384 1 person, 7.8ms\n",
            "Speed: 1.1ms preprocess, 7.8ms inference, 2.2ms postprocess per image at shape (1, 3, 640, 384)\n"
          ]
        },
        {
          "output_type": "stream",
          "name": "stdout",
          "text": [
            "Distância estimada: 211.14cm, Altura (estimada | real): 180.66cm | 176.0cm\n"
          ]
        },
        {
          "output_type": "stream",
          "name": "stderr",
          "text": [
            "\n",
            "image 1/1 /content/dataset/images/train/imgRGB_012_004_000.png: 640x384 1 person, 7.5ms\n",
            "Speed: 1.1ms preprocess, 7.5ms inference, 2.0ms postprocess per image at shape (1, 3, 640, 384)\n"
          ]
        },
        {
          "output_type": "stream",
          "name": "stdout",
          "text": [
            "Distância estimada: 252.88cm, Altura (estimada | real): 192.96cm | 186.5cm\n"
          ]
        },
        {
          "output_type": "stream",
          "name": "stderr",
          "text": [
            "\n",
            "image 1/1 /content/dataset/images/train/imgRGB_005_004_004.png: 640x384 1 person, 7.7ms\n",
            "Speed: 1.1ms preprocess, 7.7ms inference, 2.3ms postprocess per image at shape (1, 3, 640, 384)\n"
          ]
        },
        {
          "output_type": "stream",
          "name": "stdout",
          "text": [
            "Distância estimada: 237.63cm, Altura (estimada | real): 179.42cm | 181.0cm\n"
          ]
        },
        {
          "output_type": "stream",
          "name": "stderr",
          "text": [
            "\n",
            "image 1/1 /content/dataset/images/train/imgRGB_020_003_004.png: 640x384 1 person, 12.0ms\n",
            "Speed: 1.5ms preprocess, 12.0ms inference, 4.0ms postprocess per image at shape (1, 3, 640, 384)\n"
          ]
        },
        {
          "output_type": "stream",
          "name": "stdout",
          "text": [
            "Distância estimada: 251.5cm, Altura (estimada | real): 180.43cm | 175.0cm\n"
          ]
        },
        {
          "output_type": "stream",
          "name": "stderr",
          "text": [
            "\n",
            "image 1/1 /content/dataset/images/train/imgRGB_025_003_007.png: 640x384 1 person, 12.6ms\n",
            "Speed: 1.4ms preprocess, 12.6ms inference, 3.4ms postprocess per image at shape (1, 3, 640, 384)\n"
          ]
        },
        {
          "output_type": "stream",
          "name": "stdout",
          "text": [
            "Distância estimada: 208.2cm, Altura (estimada | real): 179.21cm | 171.0cm\n"
          ]
        },
        {
          "output_type": "stream",
          "name": "stderr",
          "text": [
            "\n",
            "image 1/1 /content/dataset/images/train/imgRGB_002_003_000.png: 640x384 1 person, 7.8ms\n",
            "Speed: 1.2ms preprocess, 7.8ms inference, 2.2ms postprocess per image at shape (1, 3, 640, 384)\n"
          ]
        },
        {
          "output_type": "stream",
          "name": "stdout",
          "text": [
            "Distância estimada: 229.3cm, Altura (estimada | real): 166.11cm | 160.0cm\n"
          ]
        },
        {
          "output_type": "stream",
          "name": "stderr",
          "text": [
            "\n",
            "image 1/1 /content/dataset/images/train/imgRGB_013_004_008.png: 640x384 1 person, 7.8ms\n",
            "Speed: 1.3ms preprocess, 7.8ms inference, 2.1ms postprocess per image at shape (1, 3, 640, 384)\n"
          ]
        },
        {
          "output_type": "stream",
          "name": "stdout",
          "text": [
            "Distância estimada: 204.74cm, Altura (estimada | real): 153.83cm | 177.0cm\n"
          ]
        },
        {
          "output_type": "stream",
          "name": "stderr",
          "text": [
            "\n",
            "image 1/1 /content/dataset/images/train/imgRGB_007_004_006.png: 640x384 1 person, 7.6ms\n",
            "Speed: 1.1ms preprocess, 7.6ms inference, 2.2ms postprocess per image at shape (1, 3, 640, 384)\n"
          ]
        },
        {
          "output_type": "stream",
          "name": "stdout",
          "text": [
            "Distância estimada: 258.53cm, Altura (estimada | real): 173.8cm | 182.0cm\n"
          ]
        },
        {
          "output_type": "stream",
          "name": "stderr",
          "text": [
            "\n",
            "image 1/1 /content/dataset/images/train/imgRGB_022_004_009.png: 640x384 1 person, 9.8ms\n",
            "Speed: 1.3ms preprocess, 9.8ms inference, 2.9ms postprocess per image at shape (1, 3, 640, 384)\n"
          ]
        },
        {
          "output_type": "stream",
          "name": "stdout",
          "text": [
            "Distância estimada: 254.09cm, Altura (estimada | real): 172.15cm | 172.0cm\n"
          ]
        },
        {
          "output_type": "stream",
          "name": "stderr",
          "text": [
            "\n",
            "image 1/1 /content/dataset/images/train/imgRGB_022_002_006.png: 640x384 1 person, 11.6ms\n",
            "Speed: 1.3ms preprocess, 11.6ms inference, 3.2ms postprocess per image at shape (1, 3, 640, 384)\n"
          ]
        },
        {
          "output_type": "stream",
          "name": "stdout",
          "text": [
            "Distância estimada: 254.21cm, Altura (estimada | real): 197.75cm | 175.0cm\n"
          ]
        },
        {
          "output_type": "stream",
          "name": "stderr",
          "text": [
            "\n",
            "image 1/1 /content/dataset/images/train/imgRGB_015_004_007.png: 640x384 1 person, 8.1ms\n",
            "Speed: 1.1ms preprocess, 8.1ms inference, 2.3ms postprocess per image at shape (1, 3, 640, 384)\n"
          ]
        },
        {
          "output_type": "stream",
          "name": "stdout",
          "text": [
            "Distância estimada: 173.06cm, Altura (estimada | real): 190.11cm | 175.0cm\n"
          ]
        },
        {
          "output_type": "stream",
          "name": "stderr",
          "text": [
            "\n",
            "image 1/1 /content/dataset/images/train/imgRGB_016_003_006.png: 640x384 1 person, 7.8ms\n",
            "Speed: 1.6ms preprocess, 7.8ms inference, 2.4ms postprocess per image at shape (1, 3, 640, 384)\n"
          ]
        },
        {
          "output_type": "stream",
          "name": "stdout",
          "text": [
            "Distância estimada: 265.59cm, Altura (estimada | real): 166.07cm | 165.0cm\n"
          ]
        },
        {
          "output_type": "stream",
          "name": "stderr",
          "text": [
            "\n",
            "image 1/1 /content/dataset/images/train/imgRGB_014_004_003.png: 640x384 1 person, 8.3ms\n",
            "Speed: 1.6ms preprocess, 8.3ms inference, 2.2ms postprocess per image at shape (1, 3, 640, 384)\n"
          ]
        },
        {
          "output_type": "stream",
          "name": "stdout",
          "text": [
            "Distância estimada: 220.94cm, Altura (estimada | real): 160.31cm | 175.0cm\n"
          ]
        },
        {
          "output_type": "stream",
          "name": "stderr",
          "text": [
            "\n",
            "image 1/1 /content/dataset/images/train/imgRGB_022_003_001.png: 640x384 1 person, 7.9ms\n",
            "Speed: 1.1ms preprocess, 7.9ms inference, 3.0ms postprocess per image at shape (1, 3, 640, 384)\n"
          ]
        },
        {
          "output_type": "stream",
          "name": "stdout",
          "text": [
            "Distância estimada: 250.32cm, Altura (estimada | real): 177.76cm | 175.0cm\n"
          ]
        },
        {
          "output_type": "stream",
          "name": "stderr",
          "text": [
            "\n",
            "image 1/1 /content/dataset/images/train/imgRGB_022_004_005.png: 640x384 1 person, 20.1ms\n",
            "Speed: 3.5ms preprocess, 20.1ms inference, 3.4ms postprocess per image at shape (1, 3, 640, 384)\n"
          ]
        },
        {
          "output_type": "stream",
          "name": "stdout",
          "text": [
            "Distância estimada: 214.53cm, Altura (estimada | real): 183.42cm | 175.0cm\n"
          ]
        },
        {
          "output_type": "stream",
          "name": "stderr",
          "text": [
            "\n",
            "image 1/1 /content/dataset/images/train/imgRGB_021_004_008.png: 640x384 1 person, 7.9ms\n",
            "Speed: 1.2ms preprocess, 7.9ms inference, 2.2ms postprocess per image at shape (1, 3, 640, 384)\n"
          ]
        },
        {
          "output_type": "stream",
          "name": "stdout",
          "text": [
            "Distância estimada: 265.21cm, Altura (estimada | real): 186.06cm | 175.0cm\n"
          ]
        },
        {
          "output_type": "stream",
          "name": "stderr",
          "text": [
            "\n",
            "image 1/1 /content/dataset/images/train/imgRGB_019_003_006.png: 640x384 1 person, 7.7ms\n",
            "Speed: 1.2ms preprocess, 7.7ms inference, 2.1ms postprocess per image at shape (1, 3, 640, 384)\n"
          ]
        },
        {
          "output_type": "stream",
          "name": "stdout",
          "text": [
            "Distância estimada: 273.51cm, Altura (estimada | real): 180.04cm | 176.0cm\n"
          ]
        },
        {
          "output_type": "stream",
          "name": "stderr",
          "text": [
            "\n",
            "image 1/1 /content/dataset/images/train/imgRGB_009_004_002.png: 640x384 1 person, 7.7ms\n",
            "Speed: 1.1ms preprocess, 7.7ms inference, 2.2ms postprocess per image at shape (1, 3, 640, 384)\n"
          ]
        },
        {
          "output_type": "stream",
          "name": "stdout",
          "text": [
            "Distância estimada: 212.71cm, Altura (estimada | real): 179.04cm | 176.0cm\n"
          ]
        },
        {
          "output_type": "stream",
          "name": "stderr",
          "text": [
            "\n",
            "image 1/1 /content/dataset/images/train/imgRGB_024_003_002.png: 640x384 1 person, 10.5ms\n",
            "Speed: 1.4ms preprocess, 10.5ms inference, 2.7ms postprocess per image at shape (1, 3, 640, 384)\n"
          ]
        },
        {
          "output_type": "stream",
          "name": "stdout",
          "text": [
            "Distância estimada: 262.24cm, Altura (estimada | real): 167.59cm | 166.0cm\n"
          ]
        },
        {
          "output_type": "stream",
          "name": "stderr",
          "text": [
            "\n",
            "image 1/1 /content/dataset/images/train/imgRGB_018_002_007.png: 640x384 1 person, 11.3ms\n",
            "Speed: 1.4ms preprocess, 11.3ms inference, 3.3ms postprocess per image at shape (1, 3, 640, 384)\n"
          ]
        },
        {
          "output_type": "stream",
          "name": "stdout",
          "text": [
            "Distância estimada: 212.26cm, Altura (estimada | real): 176.26cm | 166.0cm\n"
          ]
        },
        {
          "output_type": "stream",
          "name": "stderr",
          "text": [
            "\n",
            "image 1/1 /content/dataset/images/train/imgRGB_001_003_003.png: 640x384 1 person, 7.6ms\n",
            "Speed: 1.1ms preprocess, 7.6ms inference, 2.1ms postprocess per image at shape (1, 3, 640, 384)\n"
          ]
        },
        {
          "output_type": "stream",
          "name": "stdout",
          "text": [
            "Distância estimada: 179.62cm, Altura (estimada | real): 177.25cm | 186.5cm\n"
          ]
        },
        {
          "output_type": "stream",
          "name": "stderr",
          "text": [
            "\n",
            "image 1/1 /content/dataset/images/train/imgRGB_003_002_004.png: 640x384 1 person, 7.7ms\n",
            "Speed: 1.2ms preprocess, 7.7ms inference, 2.2ms postprocess per image at shape (1, 3, 640, 384)\n"
          ]
        },
        {
          "output_type": "stream",
          "name": "stdout",
          "text": [
            "Distância estimada: 198.6cm, Altura (estimada | real): 154.7cm | 177.0cm\n"
          ]
        },
        {
          "output_type": "stream",
          "name": "stderr",
          "text": [
            "\n",
            "image 1/1 /content/dataset/images/train/imgRGB_006_003_009.png: 640x384 1 person, 8.0ms\n",
            "Speed: 1.1ms preprocess, 8.0ms inference, 2.1ms postprocess per image at shape (1, 3, 640, 384)\n"
          ]
        },
        {
          "output_type": "stream",
          "name": "stdout",
          "text": [
            "Distância estimada: 179.17cm, Altura (estimada | real): 189.2cm | 178.5cm\n"
          ]
        },
        {
          "output_type": "stream",
          "name": "stderr",
          "text": [
            "\n",
            "image 1/1 /content/dataset/images/train/imgRGB_008_003_004.png: 640x384 1 person, 7.6ms\n",
            "Speed: 1.1ms preprocess, 7.6ms inference, 2.2ms postprocess per image at shape (1, 3, 640, 384)\n"
          ]
        },
        {
          "output_type": "stream",
          "name": "stdout",
          "text": [
            "Distância estimada: 198.54cm, Altura (estimada | real): 160.22cm | 167.0cm\n"
          ]
        },
        {
          "output_type": "stream",
          "name": "stderr",
          "text": [
            "\n",
            "image 1/1 /content/dataset/images/train/imgRGB_001_004_001.png: 640x384 1 person, 9.1ms\n",
            "Speed: 2.1ms preprocess, 9.1ms inference, 2.9ms postprocess per image at shape (1, 3, 640, 384)\n"
          ]
        },
        {
          "output_type": "stream",
          "name": "stdout",
          "text": [
            "Distância estimada: 207.52cm, Altura (estimada | real): 166.74cm | 180.0cm\n"
          ]
        },
        {
          "output_type": "stream",
          "name": "stderr",
          "text": [
            "\n",
            "image 1/1 /content/dataset/images/train/imgRGB_024_003_008.png: 640x384 1 person, 7.9ms\n",
            "Speed: 1.3ms preprocess, 7.9ms inference, 2.2ms postprocess per image at shape (1, 3, 640, 384)\n"
          ]
        },
        {
          "output_type": "stream",
          "name": "stdout",
          "text": [
            "Distância estimada: 236.92cm, Altura (estimada | real): 180.21cm | 177.0cm\n"
          ]
        },
        {
          "output_type": "stream",
          "name": "stderr",
          "text": [
            "\n",
            "image 1/1 /content/dataset/images/train/imgRGB_001_004_000.png: 640x384 1 person, 7.5ms\n",
            "Speed: 1.1ms preprocess, 7.5ms inference, 2.1ms postprocess per image at shape (1, 3, 640, 384)\n"
          ]
        },
        {
          "output_type": "stream",
          "name": "stdout",
          "text": [
            "Distância estimada: 209.34cm, Altura (estimada | real): 172.07cm | 166.0cm\n"
          ]
        },
        {
          "output_type": "stream",
          "name": "stderr",
          "text": [
            "\n",
            "image 1/1 /content/dataset/images/train/imgRGB_025_004_001.png: 640x384 1 person, 8.0ms\n",
            "Speed: 1.2ms preprocess, 8.0ms inference, 2.3ms postprocess per image at shape (1, 3, 640, 384)\n"
          ]
        },
        {
          "output_type": "stream",
          "name": "stdout",
          "text": [
            "Distância estimada: 239.48cm, Altura (estimada | real): 182.4cm | 177.0cm\n"
          ]
        },
        {
          "output_type": "stream",
          "name": "stderr",
          "text": [
            "\n",
            "image 1/1 /content/dataset/images/train/imgRGB_008_002_001.png: 640x384 1 person, 7.9ms\n",
            "Speed: 1.3ms preprocess, 7.9ms inference, 2.4ms postprocess per image at shape (1, 3, 640, 384)\n"
          ]
        },
        {
          "output_type": "stream",
          "name": "stdout",
          "text": [
            "Distância estimada: 280.74cm, Altura (estimada | real): 182.41cm | 160.0cm\n"
          ]
        },
        {
          "output_type": "stream",
          "name": "stderr",
          "text": [
            "\n",
            "image 1/1 /content/dataset/images/train/imgRGB_022_003_003.png: 640x384 1 person, 11.8ms\n",
            "Speed: 1.4ms preprocess, 11.8ms inference, 3.3ms postprocess per image at shape (1, 3, 640, 384)\n"
          ]
        },
        {
          "output_type": "stream",
          "name": "stdout",
          "text": [
            "Distância estimada: 167.27cm, Altura (estimada | real): 173.22cm | 180.0cm\n"
          ]
        },
        {
          "output_type": "stream",
          "name": "stderr",
          "text": [
            "\n",
            "image 1/1 /content/dataset/images/train/imgRGB_024_003_005.png: 640x384 1 person, 8.0ms\n",
            "Speed: 1.1ms preprocess, 8.0ms inference, 2.2ms postprocess per image at shape (1, 3, 640, 384)\n"
          ]
        },
        {
          "output_type": "stream",
          "name": "stdout",
          "text": [
            "Distância estimada: 206.98cm, Altura (estimada | real): 185.34cm | 175.0cm\n"
          ]
        },
        {
          "output_type": "stream",
          "name": "stderr",
          "text": [
            "\n",
            "image 1/1 /content/dataset/images/train/imgRGB_025_004_000.png: 640x384 1 person, 7.8ms\n",
            "Speed: 1.1ms preprocess, 7.8ms inference, 2.5ms postprocess per image at shape (1, 3, 640, 384)\n"
          ]
        },
        {
          "output_type": "stream",
          "name": "stdout",
          "text": [
            "Distância estimada: 209.26cm, Altura (estimada | real): 175.94cm | 166.0cm\n"
          ]
        },
        {
          "output_type": "stream",
          "name": "stderr",
          "text": [
            "\n",
            "image 1/1 /content/dataset/images/train/imgRGB_019_003_009.png: 640x384 1 person, 7.9ms\n",
            "Speed: 1.1ms preprocess, 7.9ms inference, 2.1ms postprocess per image at shape (1, 3, 640, 384)\n"
          ]
        },
        {
          "output_type": "stream",
          "name": "stdout",
          "text": [
            "Distância estimada: 276.11cm, Altura (estimada | real): 176.43cm | 160.0cm\n"
          ]
        },
        {
          "output_type": "stream",
          "name": "stderr",
          "text": [
            "\n",
            "image 1/1 /content/dataset/images/train/imgRGB_005_003_000.png: 640x384 1 person, 7.6ms\n",
            "Speed: 1.1ms preprocess, 7.6ms inference, 2.1ms postprocess per image at shape (1, 3, 640, 384)\n"
          ]
        },
        {
          "output_type": "stream",
          "name": "stdout",
          "text": [
            "Distância estimada: 215.74cm, Altura (estimada | real): 176.57cm | 176.0cm\n"
          ]
        },
        {
          "output_type": "stream",
          "name": "stderr",
          "text": [
            "\n",
            "image 1/1 /content/dataset/images/train/imgRGB_004_002_008.png: 640x384 1 person, 13.6ms\n",
            "Speed: 6.4ms preprocess, 13.6ms inference, 3.0ms postprocess per image at shape (1, 3, 640, 384)\n"
          ]
        },
        {
          "output_type": "stream",
          "name": "stdout",
          "text": [
            "Distância estimada: 208.42cm, Altura (estimada | real): 173.1cm | 175.0cm\n"
          ]
        },
        {
          "output_type": "stream",
          "name": "stderr",
          "text": [
            "\n",
            "image 1/1 /content/dataset/images/train/imgRGB_023_002_005.png: 640x384 1 person, 7.6ms\n",
            "Speed: 1.2ms preprocess, 7.6ms inference, 2.1ms postprocess per image at shape (1, 3, 640, 384)\n"
          ]
        },
        {
          "output_type": "stream",
          "name": "stdout",
          "text": [
            "Distância estimada: 180.9cm, Altura (estimada | real): 166.81cm | 167.0cm\n"
          ]
        },
        {
          "output_type": "stream",
          "name": "stderr",
          "text": [
            "\n",
            "image 1/1 /content/dataset/images/train/imgRGB_022_004_008.png: 640x384 1 person, 7.9ms\n",
            "Speed: 1.3ms preprocess, 7.9ms inference, 2.4ms postprocess per image at shape (1, 3, 640, 384)\n"
          ]
        },
        {
          "output_type": "stream",
          "name": "stdout",
          "text": [
            "Distância estimada: 163.42cm, Altura (estimada | real): 183.03cm | 187.0cm\n"
          ]
        },
        {
          "output_type": "stream",
          "name": "stderr",
          "text": [
            "\n",
            "image 1/1 /content/dataset/images/train/imgRGB_008_002_009.png: 640x384 1 person, 7.6ms\n",
            "Speed: 1.0ms preprocess, 7.6ms inference, 2.1ms postprocess per image at shape (1, 3, 640, 384)\n"
          ]
        },
        {
          "output_type": "stream",
          "name": "stdout",
          "text": [
            "Distância estimada: 256.9cm, Altura (estimada | real): 202.29cm | 175.0cm\n"
          ]
        },
        {
          "output_type": "stream",
          "name": "stderr",
          "text": [
            "\n",
            "image 1/1 /content/dataset/images/train/imgRGB_021_004_005.png: 640x384 1 person, 7.7ms\n",
            "Speed: 1.1ms preprocess, 7.7ms inference, 2.2ms postprocess per image at shape (1, 3, 640, 384)\n"
          ]
        },
        {
          "output_type": "stream",
          "name": "stdout",
          "text": [
            "Distância estimada: 176.94cm, Altura (estimada | real): 169.82cm | 180.0cm\n"
          ]
        },
        {
          "output_type": "stream",
          "name": "stderr",
          "text": [
            "\n",
            "image 1/1 /content/dataset/images/train/imgRGB_004_004_006.png: 640x384 1 person, 11.5ms\n",
            "Speed: 4.1ms preprocess, 11.5ms inference, 3.1ms postprocess per image at shape (1, 3, 640, 384)\n"
          ]
        },
        {
          "output_type": "stream",
          "name": "stdout",
          "text": [
            "Distância estimada: 268.92cm, Altura (estimada | real): 184.01cm | 176.0cm\n"
          ]
        },
        {
          "output_type": "stream",
          "name": "stderr",
          "text": [
            "\n",
            "image 1/1 /content/dataset/images/train/imgRGB_017_003_001.png: 640x384 1 person, 8.0ms\n",
            "Speed: 1.1ms preprocess, 8.0ms inference, 3.2ms postprocess per image at shape (1, 3, 640, 384)\n"
          ]
        },
        {
          "output_type": "stream",
          "name": "stdout",
          "text": [
            "Distância estimada: 258.14cm, Altura (estimada | real): 158.65cm | 167.0cm\n"
          ]
        },
        {
          "output_type": "stream",
          "name": "stderr",
          "text": [
            "\n",
            "image 1/1 /content/dataset/images/train/imgRGB_007_003_004.png: 640x384 1 person, 7.8ms\n",
            "Speed: 1.2ms preprocess, 7.8ms inference, 2.1ms postprocess per image at shape (1, 3, 640, 384)\n"
          ]
        },
        {
          "output_type": "stream",
          "name": "stdout",
          "text": [
            "Distância estimada: 216.04cm, Altura (estimada | real): 195.25cm | 184.0cm\n"
          ]
        },
        {
          "output_type": "stream",
          "name": "stderr",
          "text": [
            "\n",
            "image 1/1 /content/dataset/images/train/imgRGB_016_002_007.png: 640x384 1 person, 7.6ms\n",
            "Speed: 1.1ms preprocess, 7.6ms inference, 2.1ms postprocess per image at shape (1, 3, 640, 384)\n"
          ]
        },
        {
          "output_type": "stream",
          "name": "stdout",
          "text": [
            "Distância estimada: 209.41cm, Altura (estimada | real): 165.33cm | 172.0cm\n"
          ]
        },
        {
          "output_type": "stream",
          "name": "stderr",
          "text": [
            "\n",
            "image 1/1 /content/dataset/images/train/imgRGB_022_003_007.png: 640x384 1 person, 8.0ms\n",
            "Speed: 1.2ms preprocess, 8.0ms inference, 2.2ms postprocess per image at shape (1, 3, 640, 384)\n"
          ]
        },
        {
          "output_type": "stream",
          "name": "stdout",
          "text": [
            "Distância estimada: 172.08cm, Altura (estimada | real): 155.16cm | 175.0cm\n"
          ]
        },
        {
          "output_type": "stream",
          "name": "stderr",
          "text": [
            "\n",
            "image 1/1 /content/dataset/images/train/imgRGB_016_004_007.png: 640x384 1 person, 9.5ms\n",
            "Speed: 1.4ms preprocess, 9.5ms inference, 2.9ms postprocess per image at shape (1, 3, 640, 384)\n"
          ]
        },
        {
          "output_type": "stream",
          "name": "stdout",
          "text": [
            "Distância estimada: 211.52cm, Altura (estimada | real): 182.33cm | 175.0cm\n"
          ]
        },
        {
          "output_type": "stream",
          "name": "stderr",
          "text": [
            "\n",
            "image 1/1 /content/dataset/images/train/imgRGB_020_002_002.png: 640x384 1 person, 7.9ms\n",
            "Speed: 1.1ms preprocess, 7.9ms inference, 2.2ms postprocess per image at shape (1, 3, 640, 384)\n"
          ]
        },
        {
          "output_type": "stream",
          "name": "stdout",
          "text": [
            "Distância estimada: 268.63cm, Altura (estimada | real): 166.11cm | 175.0cm\n"
          ]
        },
        {
          "output_type": "stream",
          "name": "stderr",
          "text": [
            "\n",
            "image 1/1 /content/dataset/images/train/imgRGB_006_002_004.png: 640x384 1 person, 7.9ms\n",
            "Speed: 1.2ms preprocess, 7.9ms inference, 2.3ms postprocess per image at shape (1, 3, 640, 384)\n"
          ]
        },
        {
          "output_type": "stream",
          "name": "stdout",
          "text": [
            "Distância estimada: 183.12cm, Altura (estimada | real): 176.26cm | 171.0cm\n"
          ]
        },
        {
          "output_type": "stream",
          "name": "stderr",
          "text": [
            "\n",
            "image 1/1 /content/dataset/images/train/imgRGB_008_003_003.png: 640x384 1 person, 7.8ms\n",
            "Speed: 1.2ms preprocess, 7.8ms inference, 2.2ms postprocess per image at shape (1, 3, 640, 384)\n"
          ]
        },
        {
          "output_type": "stream",
          "name": "stdout",
          "text": [
            "Distância estimada: 189.63cm, Altura (estimada | real): 135.28cm | 167.0cm\n"
          ]
        },
        {
          "output_type": "stream",
          "name": "stderr",
          "text": [
            "\n",
            "image 1/1 /content/dataset/images/train/imgRGB_005_003_004.png: 640x384 1 person, 7.8ms\n",
            "Speed: 1.2ms preprocess, 7.8ms inference, 2.1ms postprocess per image at shape (1, 3, 640, 384)\n"
          ]
        },
        {
          "output_type": "stream",
          "name": "stdout",
          "text": [
            "Distância estimada: 210.86cm, Altura (estimada | real): 165.49cm | 180.0cm\n"
          ]
        },
        {
          "output_type": "stream",
          "name": "stderr",
          "text": [
            "\n",
            "image 1/1 /content/dataset/images/train/imgRGB_003_002_000.png: 640x384 1 person, 9.6ms\n",
            "Speed: 1.4ms preprocess, 9.6ms inference, 2.9ms postprocess per image at shape (1, 3, 640, 384)\n"
          ]
        },
        {
          "output_type": "stream",
          "name": "stdout",
          "text": [
            "Distância estimada: 208.27cm, Altura (estimada | real): 173.37cm | 175.0cm\n"
          ]
        },
        {
          "output_type": "stream",
          "name": "stderr",
          "text": [
            "\n",
            "image 1/1 /content/dataset/images/train/imgRGB_011_003_000.png: 640x384 1 person, 7.7ms\n",
            "Speed: 1.2ms preprocess, 7.7ms inference, 2.2ms postprocess per image at shape (1, 3, 640, 384)\n"
          ]
        },
        {
          "output_type": "stream",
          "name": "stdout",
          "text": [
            "Distância estimada: 173.94cm, Altura (estimada | real): 186.44cm | 178.5cm\n"
          ]
        },
        {
          "output_type": "stream",
          "name": "stderr",
          "text": [
            "\n",
            "image 1/1 /content/dataset/images/train/imgRGB_004_004_009.png: 640x384 1 person, 7.7ms\n",
            "Speed: 1.1ms preprocess, 7.7ms inference, 2.1ms postprocess per image at shape (1, 3, 640, 384)\n"
          ]
        },
        {
          "output_type": "stream",
          "name": "stdout",
          "text": [
            "Distância estimada: 206.77cm, Altura (estimada | real): 157.95cm | 186.0cm\n"
          ]
        },
        {
          "output_type": "stream",
          "name": "stderr",
          "text": [
            "\n",
            "image 1/1 /content/dataset/images/train/imgRGB_017_004_003.png: 640x384 1 person, 7.8ms\n",
            "Speed: 1.1ms preprocess, 7.8ms inference, 2.3ms postprocess per image at shape (1, 3, 640, 384)\n"
          ]
        },
        {
          "output_type": "stream",
          "name": "stdout",
          "text": [
            "Distância estimada: 255.55cm, Altura (estimada | real): 156.52cm | 167.0cm\n"
          ]
        },
        {
          "output_type": "stream",
          "name": "stderr",
          "text": [
            "\n",
            "image 1/1 /content/dataset/images/train/imgRGB_021_002_004.png: 640x384 1 person, 8.5ms\n",
            "Speed: 1.4ms preprocess, 8.5ms inference, 2.3ms postprocess per image at shape (1, 3, 640, 384)\n"
          ]
        },
        {
          "output_type": "stream",
          "name": "stdout",
          "text": [
            "Distância estimada: 274.36cm, Altura (estimada | real): 189.31cm | 184.0cm\n"
          ]
        },
        {
          "output_type": "stream",
          "name": "stderr",
          "text": [
            "\n",
            "image 1/1 /content/dataset/images/train/imgRGB_014_002_006.png: 640x384 1 person, 14.6ms\n",
            "Speed: 1.3ms preprocess, 14.6ms inference, 5.1ms postprocess per image at shape (1, 3, 640, 384)\n"
          ]
        },
        {
          "output_type": "stream",
          "name": "stdout",
          "text": [
            "Distância estimada: 168.7cm, Altura (estimada | real): 181.24cm | 176.0cm\n"
          ]
        },
        {
          "output_type": "stream",
          "name": "stderr",
          "text": [
            "\n",
            "image 1/1 /content/dataset/images/train/imgRGB_015_003_005.png: 640x384 1 person, 7.8ms\n",
            "Speed: 1.3ms preprocess, 7.8ms inference, 2.2ms postprocess per image at shape (1, 3, 640, 384)\n"
          ]
        },
        {
          "output_type": "stream",
          "name": "stdout",
          "text": [
            "Distância estimada: 167.8cm, Altura (estimada | real): 155.8cm | 175.0cm\n"
          ]
        },
        {
          "output_type": "stream",
          "name": "stderr",
          "text": [
            "\n",
            "image 1/1 /content/dataset/images/train/imgRGB_007_003_003.png: 640x384 1 person, 8.0ms\n",
            "Speed: 1.2ms preprocess, 8.0ms inference, 2.1ms postprocess per image at shape (1, 3, 640, 384)\n"
          ]
        },
        {
          "output_type": "stream",
          "name": "stdout",
          "text": [
            "Distância estimada: 209.4cm, Altura (estimada | real): 163.92cm | 165.0cm\n"
          ]
        },
        {
          "output_type": "stream",
          "name": "stderr",
          "text": [
            "\n",
            "image 1/1 /content/dataset/images/train/imgRGB_013_002_004.png: 640x384 1 person, 7.9ms\n",
            "Speed: 1.1ms preprocess, 7.9ms inference, 2.1ms postprocess per image at shape (1, 3, 640, 384)\n"
          ]
        },
        {
          "output_type": "stream",
          "name": "stdout",
          "text": [
            "Distância estimada: 208.73cm, Altura (estimada | real): 163.34cm | 172.0cm\n"
          ]
        },
        {
          "output_type": "stream",
          "name": "stderr",
          "text": [
            "\n",
            "image 1/1 /content/dataset/images/train/imgRGB_010_004_001.png: 640x384 1 person, 8.1ms\n",
            "Speed: 1.3ms preprocess, 8.1ms inference, 2.2ms postprocess per image at shape (1, 3, 640, 384)\n"
          ]
        },
        {
          "output_type": "stream",
          "name": "stdout",
          "text": [
            "Distância estimada: 176.35cm, Altura (estimada | real): 174.55cm | 182.0cm\n"
          ]
        },
        {
          "output_type": "stream",
          "name": "stderr",
          "text": [
            "\n",
            "image 1/1 /content/dataset/images/train/imgRGB_014_004_008.png: 640x384 1 person, 12.6ms\n",
            "Speed: 1.3ms preprocess, 12.6ms inference, 4.6ms postprocess per image at shape (1, 3, 640, 384)\n"
          ]
        },
        {
          "output_type": "stream",
          "name": "stdout",
          "text": [
            "Distância estimada: 249.86cm, Altura (estimada | real): 176.14cm | 176.0cm\n"
          ]
        },
        {
          "output_type": "stream",
          "name": "stderr",
          "text": [
            "\n",
            "image 1/1 /content/dataset/images/train/imgRGB_009_002_004.png: 640x384 1 person, 7.6ms\n",
            "Speed: 1.2ms preprocess, 7.6ms inference, 2.1ms postprocess per image at shape (1, 3, 640, 384)\n"
          ]
        },
        {
          "output_type": "stream",
          "name": "stdout",
          "text": [
            "Distância estimada: 251.4cm, Altura (estimada | real): 177.72cm | 175.0cm\n"
          ]
        },
        {
          "output_type": "stream",
          "name": "stderr",
          "text": [
            "\n",
            "image 1/1 /content/dataset/images/train/imgRGB_002_002_000.png: 640x384 1 person, 7.9ms\n",
            "Speed: 1.3ms preprocess, 7.9ms inference, 2.1ms postprocess per image at shape (1, 3, 640, 384)\n"
          ]
        },
        {
          "output_type": "stream",
          "name": "stdout",
          "text": [
            "Distância estimada: 179.9cm, Altura (estimada | real): 144.04cm | 166.0cm\n"
          ]
        },
        {
          "output_type": "stream",
          "name": "stderr",
          "text": [
            "\n",
            "image 1/1 /content/dataset/images/train/imgRGB_025_004_009.png: 640x384 1 person, 7.7ms\n",
            "Speed: 1.1ms preprocess, 7.7ms inference, 2.2ms postprocess per image at shape (1, 3, 640, 384)\n"
          ]
        },
        {
          "output_type": "stream",
          "name": "stdout",
          "text": [
            "Distância estimada: 169.48cm, Altura (estimada | real): 153.29cm | 177.0cm\n"
          ]
        },
        {
          "output_type": "stream",
          "name": "stderr",
          "text": [
            "\n",
            "image 1/1 /content/dataset/images/train/imgRGB_013_002_009.png: 640x384 1 person, 7.8ms\n",
            "Speed: 1.2ms preprocess, 7.8ms inference, 2.1ms postprocess per image at shape (1, 3, 640, 384)\n"
          ]
        },
        {
          "output_type": "stream",
          "name": "stdout",
          "text": [
            "Distância estimada: 289.99cm, Altura (estimada | real): 173.86cm | 160.0cm\n"
          ]
        },
        {
          "output_type": "stream",
          "name": "stderr",
          "text": [
            "\n",
            "image 1/1 /content/dataset/images/train/imgRGB_007_003_006.png: 640x384 1 person, 9.3ms\n",
            "Speed: 1.7ms preprocess, 9.3ms inference, 2.9ms postprocess per image at shape (1, 3, 640, 384)\n"
          ]
        },
        {
          "output_type": "stream",
          "name": "stdout",
          "text": [
            "Distância estimada: 178.24cm, Altura (estimada | real): 171.99cm | 182.0cm\n"
          ]
        },
        {
          "output_type": "stream",
          "name": "stderr",
          "text": [
            "\n",
            "image 1/1 /content/dataset/images/train/imgRGB_010_002_002.png: 640x384 1 person, 7.9ms\n",
            "Speed: 1.1ms preprocess, 7.9ms inference, 2.2ms postprocess per image at shape (1, 3, 640, 384)\n"
          ]
        },
        {
          "output_type": "stream",
          "name": "stdout",
          "text": [
            "Distância estimada: 204.16cm, Altura (estimada | real): 164.75cm | 172.0cm\n"
          ]
        },
        {
          "output_type": "stream",
          "name": "stderr",
          "text": [
            "\n",
            "image 1/1 /content/dataset/images/train/imgRGB_003_004_002.png: 640x384 1 person, 7.8ms\n",
            "Speed: 1.1ms preprocess, 7.8ms inference, 2.3ms postprocess per image at shape (1, 3, 640, 384)\n"
          ]
        },
        {
          "output_type": "stream",
          "name": "stdout",
          "text": [
            "Distância estimada: 174.13cm, Altura (estimada | real): 151.4cm | 176.0cm\n"
          ]
        },
        {
          "output_type": "stream",
          "name": "stderr",
          "text": [
            "\n",
            "image 1/1 /content/dataset/images/train/imgRGB_009_003_002.png: 640x384 1 person, 8.9ms\n",
            "Speed: 1.1ms preprocess, 8.9ms inference, 2.1ms postprocess per image at shape (1, 3, 640, 384)\n"
          ]
        },
        {
          "output_type": "stream",
          "name": "stdout",
          "text": [
            "Distância estimada: 254.16cm, Altura (estimada | real): 180.53cm | 178.5cm\n"
          ]
        },
        {
          "output_type": "stream",
          "name": "stderr",
          "text": [
            "\n",
            "image 1/1 /content/dataset/images/train/imgRGB_009_003_003.png: 640x384 1 person, 7.7ms\n",
            "Speed: 1.1ms preprocess, 7.7ms inference, 2.2ms postprocess per image at shape (1, 3, 640, 384)\n"
          ]
        },
        {
          "output_type": "stream",
          "name": "stdout",
          "text": [
            "Distância estimada: 213.57cm, Altura (estimada | real): 163.96cm | 166.0cm\n"
          ]
        },
        {
          "output_type": "stream",
          "name": "stderr",
          "text": [
            "\n",
            "image 1/1 /content/dataset/images/train/imgRGB_001_002_000.png: 640x384 1 person, 18.7ms\n",
            "Speed: 1.4ms preprocess, 18.7ms inference, 3.3ms postprocess per image at shape (1, 3, 640, 384)\n"
          ]
        },
        {
          "output_type": "stream",
          "name": "stdout",
          "text": [
            "Distância estimada: 212.92cm, Altura (estimada | real): 164.36cm | 166.0cm\n"
          ]
        },
        {
          "output_type": "stream",
          "name": "stderr",
          "text": [
            "\n",
            "image 1/1 /content/dataset/images/train/imgRGB_021_004_003.png: 640x384 1 person, 8.2ms\n",
            "Speed: 1.3ms preprocess, 8.2ms inference, 2.4ms postprocess per image at shape (1, 3, 640, 384)\n"
          ]
        },
        {
          "output_type": "stream",
          "name": "stdout",
          "text": [
            "Distância estimada: 166.54cm, Altura (estimada | real): 161.61cm | 177.0cm\n"
          ]
        },
        {
          "output_type": "stream",
          "name": "stderr",
          "text": [
            "\n",
            "image 1/1 /content/dataset/images/train/imgRGB_010_002_009.png: 640x384 1 person, 7.8ms\n",
            "Speed: 1.2ms preprocess, 7.8ms inference, 2.3ms postprocess per image at shape (1, 3, 640, 384)\n"
          ]
        },
        {
          "output_type": "stream",
          "name": "stdout",
          "text": [
            "Distância estimada: 264.07cm, Altura (estimada | real): 179.29cm | 176.0cm\n"
          ]
        },
        {
          "output_type": "stream",
          "name": "stderr",
          "text": [
            "\n",
            "image 1/1 /content/dataset/images/train/imgRGB_006_004_005.png: 640x384 1 person, 10.1ms\n",
            "Speed: 1.4ms preprocess, 10.1ms inference, 2.9ms postprocess per image at shape (1, 3, 640, 384)\n"
          ]
        },
        {
          "output_type": "stream",
          "name": "stdout",
          "text": [
            "Distância estimada: 175.42cm, Altura (estimada | real): 137.51cm | 176.0cm\n"
          ]
        },
        {
          "output_type": "stream",
          "name": "stderr",
          "text": [
            "\n",
            "image 1/1 /content/dataset/images/train/imgRGB_008_004_006.png: 640x384 1 person, 7.9ms\n",
            "Speed: 1.2ms preprocess, 7.9ms inference, 2.1ms postprocess per image at shape (1, 3, 640, 384)\n"
          ]
        },
        {
          "output_type": "stream",
          "name": "stdout",
          "text": [
            "Distância estimada: 255.86cm, Altura (estimada | real): 161.29cm | 167.0cm\n"
          ]
        },
        {
          "output_type": "stream",
          "name": "stderr",
          "text": [
            "\n",
            "image 1/1 /content/dataset/images/train/imgRGB_006_003_008.png: 640x384 1 person, 22.8ms\n",
            "Speed: 1.4ms preprocess, 22.8ms inference, 3.7ms postprocess per image at shape (1, 3, 640, 384)\n"
          ]
        },
        {
          "output_type": "stream",
          "name": "stdout",
          "text": [
            "Distância estimada: 250.86cm, Altura (estimada | real): 175.85cm | 180.0cm\n"
          ]
        },
        {
          "output_type": "stream",
          "name": "stderr",
          "text": [
            "\n",
            "image 1/1 /content/dataset/images/train/imgRGB_003_003_004.png: 640x384 1 person, 7.8ms\n",
            "Speed: 1.2ms preprocess, 7.8ms inference, 2.1ms postprocess per image at shape (1, 3, 640, 384)\n"
          ]
        },
        {
          "output_type": "stream",
          "name": "stdout",
          "text": [
            "Distância estimada: 198.17cm, Altura (estimada | real): 160.13cm | 167.0cm\n"
          ]
        },
        {
          "output_type": "stream",
          "name": "stderr",
          "text": [
            "\n",
            "image 1/1 /content/dataset/images/train/imgRGB_024_004_003.png: 640x384 1 person, 7.7ms\n",
            "Speed: 1.0ms preprocess, 7.7ms inference, 2.2ms postprocess per image at shape (1, 3, 640, 384)\n"
          ]
        },
        {
          "output_type": "stream",
          "name": "stdout",
          "text": [
            "Distância estimada: 209.59cm, Altura (estimada | real): 172.2cm | 178.5cm\n"
          ]
        },
        {
          "output_type": "stream",
          "name": "stderr",
          "text": [
            "\n",
            "image 1/1 /content/dataset/images/train/imgRGB_001_004_003.png: 640x384 1 person, 8.4ms\n",
            "Speed: 1.4ms preprocess, 8.4ms inference, 2.1ms postprocess per image at shape (1, 3, 640, 384)\n"
          ]
        },
        {
          "output_type": "stream",
          "name": "stdout",
          "text": [
            "Distância estimada: 258.75cm, Altura (estimada | real): 164.09cm | 166.0cm\n"
          ]
        },
        {
          "output_type": "stream",
          "name": "stderr",
          "text": [
            "\n",
            "image 1/1 /content/dataset/images/train/imgRGB_021_003_001.png: 640x384 1 person, 7.9ms\n",
            "Speed: 1.2ms preprocess, 7.9ms inference, 2.2ms postprocess per image at shape (1, 3, 640, 384)\n"
          ]
        },
        {
          "output_type": "stream",
          "name": "stdout",
          "text": [
            "Distância estimada: 243.68cm, Altura (estimada | real): 176.73cm | 177.0cm\n"
          ]
        },
        {
          "output_type": "stream",
          "name": "stderr",
          "text": [
            "\n",
            "image 1/1 /content/dataset/images/train/imgRGB_012_004_009.png: 640x384 1 person, 8.9ms\n",
            "Speed: 1.3ms preprocess, 8.9ms inference, 2.7ms postprocess per image at shape (1, 3, 640, 384)\n"
          ]
        },
        {
          "output_type": "stream",
          "name": "stdout",
          "text": [
            "Distância estimada: 210.4cm, Altura (estimada | real): 184.82cm | 176.0cm\n"
          ]
        },
        {
          "output_type": "stream",
          "name": "stderr",
          "text": [
            "\n",
            "image 1/1 /content/dataset/images/train/imgRGB_012_004_006.png: 640x384 1 person, 7.7ms\n",
            "Speed: 1.3ms preprocess, 7.7ms inference, 2.1ms postprocess per image at shape (1, 3, 640, 384)\n"
          ]
        },
        {
          "output_type": "stream",
          "name": "stdout",
          "text": [
            "Distância estimada: 233.0cm, Altura (estimada | real): 187.34cm | 181.0cm\n"
          ]
        },
        {
          "output_type": "stream",
          "name": "stderr",
          "text": [
            "\n",
            "image 1/1 /content/dataset/images/train/imgRGB_021_003_007.png: 640x384 1 person, 8.0ms\n",
            "Speed: 1.1ms preprocess, 8.0ms inference, 2.3ms postprocess per image at shape (1, 3, 640, 384)\n"
          ]
        },
        {
          "output_type": "stream",
          "name": "stdout",
          "text": [
            "Distância estimada: 246.54cm, Altura (estimada | real): 176.36cm | 181.0cm\n"
          ]
        },
        {
          "output_type": "stream",
          "name": "stderr",
          "text": [
            "\n",
            "image 1/1 /content/dataset/images/train/imgRGB_001_003_009.png: 640x384 1 person, 7.8ms\n",
            "Speed: 1.2ms preprocess, 7.8ms inference, 2.3ms postprocess per image at shape (1, 3, 640, 384)\n"
          ]
        },
        {
          "output_type": "stream",
          "name": "stdout",
          "text": [
            "Distância estimada: 212.28cm, Altura (estimada | real): 183.46cm | 176.0cm\n"
          ]
        },
        {
          "output_type": "stream",
          "name": "stderr",
          "text": [
            "\n",
            "image 1/1 /content/dataset/images/train/imgRGB_013_002_000.png: 640x384 1 person, 7.8ms\n",
            "Speed: 1.1ms preprocess, 7.8ms inference, 2.2ms postprocess per image at shape (1, 3, 640, 384)\n"
          ]
        },
        {
          "output_type": "stream",
          "name": "stdout",
          "text": [
            "Distância estimada: 193.44cm, Altura (estimada | real): 158.48cm | 177.0cm\n"
          ]
        },
        {
          "output_type": "stream",
          "name": "stderr",
          "text": [
            "\n",
            "image 1/1 /content/dataset/images/train/imgRGB_023_003_008.png: 640x384 1 person, 13.3ms\n",
            "Speed: 1.4ms preprocess, 13.3ms inference, 2.9ms postprocess per image at shape (1, 3, 640, 384)\n"
          ]
        },
        {
          "output_type": "stream",
          "name": "stdout",
          "text": [
            "Distância estimada: 171.17cm, Altura (estimada | real): 189.46cm | 182.0cm\n"
          ]
        },
        {
          "output_type": "stream",
          "name": "stderr",
          "text": [
            "\n",
            "image 1/1 /content/dataset/images/train/imgRGB_003_004_008.png: 640x384 1 person, 7.7ms\n",
            "Speed: 1.1ms preprocess, 7.7ms inference, 2.2ms postprocess per image at shape (1, 3, 640, 384)\n"
          ]
        },
        {
          "output_type": "stream",
          "name": "stdout",
          "text": [
            "Distância estimada: 209.72cm, Altura (estimada | real): 180.16cm | 187.0cm\n"
          ]
        },
        {
          "output_type": "stream",
          "name": "stderr",
          "text": [
            "\n",
            "image 1/1 /content/dataset/images/train/imgRGB_015_002_001.png: 640x384 1 person, 7.9ms\n",
            "Speed: 1.1ms preprocess, 7.9ms inference, 2.3ms postprocess per image at shape (1, 3, 640, 384)\n"
          ]
        },
        {
          "output_type": "stream",
          "name": "stdout",
          "text": [
            "Distância estimada: 254.86cm, Altura (estimada | real): 179.3cm | 178.5cm\n"
          ]
        },
        {
          "output_type": "stream",
          "name": "stderr",
          "text": [
            "\n",
            "image 1/1 /content/dataset/images/train/imgRGB_015_003_004.png: 640x384 1 person, 8.1ms\n",
            "Speed: 1.6ms preprocess, 8.1ms inference, 2.2ms postprocess per image at shape (1, 3, 640, 384)\n"
          ]
        },
        {
          "output_type": "stream",
          "name": "stdout",
          "text": [
            "Distância estimada: 190.1cm, Altura (estimada | real): 161.1cm | 165.0cm\n"
          ]
        },
        {
          "output_type": "stream",
          "name": "stderr",
          "text": [
            "\n",
            "image 1/1 /content/dataset/images/train/imgRGB_023_004_009.png: 640x384 1 person, 7.8ms\n",
            "Speed: 1.2ms preprocess, 7.8ms inference, 2.1ms postprocess per image at shape (1, 3, 640, 384)\n"
          ]
        },
        {
          "output_type": "stream",
          "name": "stdout",
          "text": [
            "Distância estimada: 209.47cm, Altura (estimada | real): 162.92cm | 165.0cm\n"
          ]
        },
        {
          "output_type": "stream",
          "name": "stderr",
          "text": [
            "\n",
            "image 1/1 /content/dataset/images/train/imgRGB_021_004_001.png: 640x384 1 person, 9.9ms\n",
            "Speed: 1.4ms preprocess, 9.9ms inference, 2.8ms postprocess per image at shape (1, 3, 640, 384)\n"
          ]
        },
        {
          "output_type": "stream",
          "name": "stdout",
          "text": [
            "Distância estimada: 257.32cm, Altura (estimada | real): 180.77cm | 187.0cm\n"
          ]
        },
        {
          "output_type": "stream",
          "name": "stderr",
          "text": [
            "\n",
            "image 1/1 /content/dataset/images/train/imgRGB_017_002_001.png: 640x384 1 person, 7.8ms\n",
            "Speed: 1.1ms preprocess, 7.8ms inference, 2.1ms postprocess per image at shape (1, 3, 640, 384)\n"
          ]
        },
        {
          "output_type": "stream",
          "name": "stdout",
          "text": [
            "Distância estimada: 264.06cm, Altura (estimada | real): 184.32cm | 176.0cm\n"
          ]
        },
        {
          "output_type": "stream",
          "name": "stderr",
          "text": [
            "\n",
            "image 1/1 /content/dataset/images/train/imgRGB_019_004_007.png: 640x384 1 person, 7.6ms\n",
            "Speed: 1.1ms preprocess, 7.6ms inference, 2.1ms postprocess per image at shape (1, 3, 640, 384)\n"
          ]
        },
        {
          "output_type": "stream",
          "name": "stdout",
          "text": [
            "Distância estimada: 161.17cm, Altura (estimada | real): 202.46cm | 184.0cm\n"
          ]
        },
        {
          "output_type": "stream",
          "name": "stderr",
          "text": [
            "\n",
            "image 1/1 /content/dataset/images/train/imgRGB_003_002_007.png: 640x384 1 person, 7.6ms\n",
            "Speed: 1.1ms preprocess, 7.6ms inference, 2.1ms postprocess per image at shape (1, 3, 640, 384)\n"
          ]
        },
        {
          "output_type": "stream",
          "name": "stdout",
          "text": [
            "Distância estimada: 267.56cm, Altura (estimada | real): 174.21cm | 176.0cm\n"
          ]
        },
        {
          "output_type": "stream",
          "name": "stderr",
          "text": [
            "\n",
            "image 1/1 /content/dataset/images/train/imgRGB_007_004_005.png: 640x384 1 person, 7.7ms\n",
            "Speed: 1.1ms preprocess, 7.7ms inference, 2.1ms postprocess per image at shape (1, 3, 640, 384)\n"
          ]
        },
        {
          "output_type": "stream",
          "name": "stdout",
          "text": [
            "Distância estimada: 175.84cm, Altura (estimada | real): 187.4cm | 178.5cm\n"
          ]
        },
        {
          "output_type": "stream",
          "name": "stderr",
          "text": [
            "\n",
            "image 1/1 /content/dataset/images/train/imgRGB_020_002_007.png: 640x384 1 person, 8.9ms\n",
            "Speed: 1.3ms preprocess, 8.9ms inference, 13.5ms postprocess per image at shape (1, 3, 640, 384)\n"
          ]
        },
        {
          "output_type": "stream",
          "name": "stdout",
          "text": [
            "Distância estimada: 254.64cm, Altura (estimada | real): 169.62cm | 172.0cm\n"
          ]
        },
        {
          "output_type": "stream",
          "name": "stderr",
          "text": [
            "\n",
            "image 1/1 /content/dataset/images/train/imgRGB_019_003_003.png: 640x384 1 person, 11.0ms\n",
            "Speed: 2.8ms preprocess, 11.0ms inference, 2.9ms postprocess per image at shape (1, 3, 640, 384)\n"
          ]
        },
        {
          "output_type": "stream",
          "name": "stdout",
          "text": [
            "Distância estimada: 171.83cm, Altura (estimada | real): 181.79cm | 171.0cm\n"
          ]
        },
        {
          "output_type": "stream",
          "name": "stderr",
          "text": [
            "\n",
            "image 1/1 /content/dataset/images/train/imgRGB_025_002_009.png: 640x384 1 person, 8.0ms\n",
            "Speed: 1.1ms preprocess, 8.0ms inference, 2.2ms postprocess per image at shape (1, 3, 640, 384)\n"
          ]
        },
        {
          "output_type": "stream",
          "name": "stdout",
          "text": [
            "Distância estimada: 211.77cm, Altura (estimada | real): 179.72cm | 176.0cm\n"
          ]
        },
        {
          "output_type": "stream",
          "name": "stderr",
          "text": [
            "\n",
            "image 1/1 /content/dataset/images/train/imgRGB_013_003_009.png: 640x384 1 person, 8.0ms\n",
            "Speed: 1.1ms preprocess, 8.0ms inference, 2.2ms postprocess per image at shape (1, 3, 640, 384)\n"
          ]
        },
        {
          "output_type": "stream",
          "name": "stdout",
          "text": [
            "Distância estimada: 179.1cm, Altura (estimada | real): 163.91cm | 160.0cm\n"
          ]
        },
        {
          "output_type": "stream",
          "name": "stderr",
          "text": [
            "\n",
            "image 1/1 /content/dataset/images/train/imgRGB_019_003_002.png: 640x384 1 person, 8.4ms\n",
            "Speed: 1.2ms preprocess, 8.4ms inference, 2.3ms postprocess per image at shape (1, 3, 640, 384)\n"
          ]
        },
        {
          "output_type": "stream",
          "name": "stdout",
          "text": [
            "Distância estimada: 209.88cm, Altura (estimada | real): 161.86cm | 182.0cm\n"
          ]
        },
        {
          "output_type": "stream",
          "name": "stderr",
          "text": [
            "\n",
            "image 1/1 /content/dataset/images/train/imgRGB_020_002_005.png: 640x384 1 person, 9.1ms\n",
            "Speed: 1.3ms preprocess, 9.1ms inference, 4.6ms postprocess per image at shape (1, 3, 640, 384)\n"
          ]
        },
        {
          "output_type": "stream",
          "name": "stdout",
          "text": [
            "Distância estimada: 212.3cm, Altura (estimada | real): 179.16cm | 176.0cm\n"
          ]
        },
        {
          "output_type": "stream",
          "name": "stderr",
          "text": [
            "\n",
            "image 1/1 /content/dataset/images/train/imgRGB_010_004_006.png: 640x384 1 person, 12.7ms\n",
            "Speed: 1.3ms preprocess, 12.7ms inference, 3.3ms postprocess per image at shape (1, 3, 640, 384)\n"
          ]
        },
        {
          "output_type": "stream",
          "name": "stdout",
          "text": [
            "Distância estimada: 163.36cm, Altura (estimada | real): 179.98cm | 171.0cm\n"
          ]
        },
        {
          "output_type": "stream",
          "name": "stderr",
          "text": [
            "\n",
            "image 1/1 /content/dataset/images/train/imgRGB_022_004_007.png: 640x384 1 person, 7.7ms\n",
            "Speed: 1.1ms preprocess, 7.7ms inference, 2.1ms postprocess per image at shape (1, 3, 640, 384)\n"
          ]
        },
        {
          "output_type": "stream",
          "name": "stdout",
          "text": [
            "Distância estimada: 248.85cm, Altura (estimada | real): 177.25cm | 176.0cm\n"
          ]
        },
        {
          "output_type": "stream",
          "name": "stderr",
          "text": [
            "\n",
            "image 1/1 /content/dataset/images/train/imgRGB_007_002_004.png: 640x384 1 person, 7.6ms\n",
            "Speed: 1.2ms preprocess, 7.6ms inference, 2.1ms postprocess per image at shape (1, 3, 640, 384)\n"
          ]
        },
        {
          "output_type": "stream",
          "name": "stdout",
          "text": [
            "Distância estimada: 262.98cm, Altura (estimada | real): 198.23cm | 175.0cm\n"
          ]
        },
        {
          "output_type": "stream",
          "name": "stderr",
          "text": [
            "\n",
            "image 1/1 /content/dataset/images/train/imgRGB_014_003_006.png: 640x384 1 person, 7.6ms\n",
            "Speed: 1.2ms preprocess, 7.6ms inference, 2.0ms postprocess per image at shape (1, 3, 640, 384)\n"
          ]
        },
        {
          "output_type": "stream",
          "name": "stdout",
          "text": [
            "Distância estimada: 179.02cm, Altura (estimada | real): 166.98cm | 172.0cm\n"
          ]
        },
        {
          "output_type": "stream",
          "name": "stderr",
          "text": [
            "\n",
            "image 1/1 /content/dataset/images/train/imgRGB_015_003_001.png: 640x384 1 person, 10.0ms\n",
            "Speed: 1.2ms preprocess, 10.0ms inference, 3.0ms postprocess per image at shape (1, 3, 640, 384)\n"
          ]
        },
        {
          "output_type": "stream",
          "name": "stdout",
          "text": [
            "Distância estimada: 198.4cm, Altura (estimada | real): 168.59cm | 175.0cm\n"
          ]
        },
        {
          "output_type": "stream",
          "name": "stderr",
          "text": [
            "\n",
            "image 1/1 /content/dataset/images/train/imgRGB_014_004_009.png: 640x384 1 person, 14.7ms\n",
            "Speed: 1.4ms preprocess, 14.7ms inference, 3.3ms postprocess per image at shape (1, 3, 640, 384)\n"
          ]
        },
        {
          "output_type": "stream",
          "name": "stdout",
          "text": [
            "Distância estimada: 211.06cm, Altura (estimada | real): 155.43cm | 165.0cm\n"
          ]
        },
        {
          "output_type": "stream",
          "name": "stderr",
          "text": [
            "\n",
            "image 1/1 /content/dataset/images/train/imgRGB_017_004_006.png: 640x384 1 person, 7.9ms\n",
            "Speed: 1.2ms preprocess, 7.9ms inference, 2.2ms postprocess per image at shape (1, 3, 640, 384)\n"
          ]
        },
        {
          "output_type": "stream",
          "name": "stdout",
          "text": [
            "Distância estimada: 249.75cm, Altura (estimada | real): 179.91cm | 175.0cm\n"
          ]
        },
        {
          "output_type": "stream",
          "name": "stderr",
          "text": [
            "\n",
            "image 1/1 /content/dataset/images/train/imgRGB_008_003_005.png: 640x384 1 person, 9.7ms\n",
            "Speed: 1.5ms preprocess, 9.7ms inference, 2.0ms postprocess per image at shape (1, 3, 640, 384)\n"
          ]
        },
        {
          "output_type": "stream",
          "name": "stdout",
          "text": [
            "Distância estimada: 263.51cm, Altura (estimada | real): 197.87cm | 184.0cm\n"
          ]
        },
        {
          "output_type": "stream",
          "name": "stderr",
          "text": [
            "\n",
            "image 1/1 /content/dataset/images/train/imgRGB_006_004_004.png: 640x384 1 person, 7.7ms\n",
            "Speed: 1.2ms preprocess, 7.7ms inference, 2.2ms postprocess per image at shape (1, 3, 640, 384)\n"
          ]
        },
        {
          "output_type": "stream",
          "name": "stdout",
          "text": [
            "Distância estimada: 207.83cm, Altura (estimada | real): 166.4cm | 180.0cm\n"
          ]
        },
        {
          "output_type": "stream",
          "name": "stderr",
          "text": [
            "\n",
            "image 1/1 /content/dataset/images/train/imgRGB_013_003_000.png: 640x384 1 person, 8.4ms\n",
            "Speed: 1.3ms preprocess, 8.4ms inference, 3.2ms postprocess per image at shape (1, 3, 640, 384)\n"
          ]
        },
        {
          "output_type": "stream",
          "name": "stdout",
          "text": [
            "Distância estimada: 251.94cm, Altura (estimada | real): 170.89cm | 167.0cm\n"
          ]
        },
        {
          "output_type": "stream",
          "name": "stderr",
          "text": [
            "\n",
            "image 1/1 /content/dataset/images/train/imgRGB_006_003_007.png: 640x384 1 person, 12.3ms\n",
            "Speed: 1.6ms preprocess, 12.3ms inference, 3.2ms postprocess per image at shape (1, 3, 640, 384)\n"
          ]
        },
        {
          "output_type": "stream",
          "name": "stdout",
          "text": [
            "Distância estimada: 208.26cm, Altura (estimada | real): 164.16cm | 182.0cm\n"
          ]
        },
        {
          "output_type": "stream",
          "name": "stderr",
          "text": [
            "\n",
            "image 1/1 /content/dataset/images/train/imgRGB_001_003_005.png: 640x384 1 person, 7.9ms\n",
            "Speed: 1.3ms preprocess, 7.9ms inference, 3.0ms postprocess per image at shape (1, 3, 640, 384)\n"
          ]
        },
        {
          "output_type": "stream",
          "name": "stdout",
          "text": [
            "Distância estimada: 199.66cm, Altura (estimada | real): 161.1cm | 167.0cm\n"
          ]
        },
        {
          "output_type": "stream",
          "name": "stderr",
          "text": [
            "\n",
            "image 1/1 /content/dataset/images/train/imgRGB_007_003_001.png: 640x384 1 person, 7.7ms\n",
            "Speed: 1.0ms preprocess, 7.7ms inference, 2.1ms postprocess per image at shape (1, 3, 640, 384)\n"
          ]
        },
        {
          "output_type": "stream",
          "name": "stdout",
          "text": [
            "Distância estimada: 201.4cm, Altura (estimada | real): 155.53cm | 177.0cm\n"
          ]
        },
        {
          "output_type": "stream",
          "name": "stderr",
          "text": [
            "\n",
            "image 1/1 /content/dataset/images/train/imgRGB_007_003_000.png: 640x384 1 person, 8.5ms\n",
            "Speed: 1.3ms preprocess, 8.5ms inference, 3.5ms postprocess per image at shape (1, 3, 640, 384)\n"
          ]
        },
        {
          "output_type": "stream",
          "name": "stdout",
          "text": [
            "Distância estimada: 206.66cm, Altura (estimada | real): 166.39cm | 172.0cm\n"
          ]
        },
        {
          "output_type": "stream",
          "name": "stderr",
          "text": [
            "\n",
            "image 1/1 /content/dataset/images/train/imgRGB_018_002_002.png: 640x384 1 person, 10.8ms\n",
            "Speed: 1.4ms preprocess, 10.8ms inference, 2.1ms postprocess per image at shape (1, 3, 640, 384)\n"
          ]
        },
        {
          "output_type": "stream",
          "name": "stdout",
          "text": [
            "Distância estimada: 209.14cm, Altura (estimada | real): 163.85cm | 172.0cm\n"
          ]
        },
        {
          "output_type": "stream",
          "name": "stderr",
          "text": [
            "\n",
            "image 1/1 /content/dataset/images/train/imgRGB_005_003_008.png: 640x384 1 person, 12.0ms\n",
            "Speed: 4.3ms preprocess, 12.0ms inference, 7.1ms postprocess per image at shape (1, 3, 640, 384)\n"
          ]
        },
        {
          "output_type": "stream",
          "name": "stdout",
          "text": [
            "Distância estimada: 188.96cm, Altura (estimada | real): 172.96cm | 186.5cm\n"
          ]
        },
        {
          "output_type": "stream",
          "name": "stderr",
          "text": [
            "\n",
            "image 1/1 /content/dataset/images/train/imgRGB_018_002_009.png: 640x384 1 person, 8.2ms\n",
            "Speed: 1.1ms preprocess, 8.2ms inference, 2.3ms postprocess per image at shape (1, 3, 640, 384)\n"
          ]
        },
        {
          "output_type": "stream",
          "name": "stdout",
          "text": [
            "Distância estimada: 206.85cm, Altura (estimada | real): 172.39cm | 175.0cm\n"
          ]
        },
        {
          "output_type": "stream",
          "name": "stderr",
          "text": [
            "\n",
            "image 1/1 /content/dataset/images/train/imgRGB_012_004_002.png: 640x384 1 person, 7.9ms\n",
            "Speed: 1.2ms preprocess, 7.9ms inference, 2.2ms postprocess per image at shape (1, 3, 640, 384)\n"
          ]
        },
        {
          "output_type": "stream",
          "name": "stdout",
          "text": [
            "Distância estimada: 161.6cm, Altura (estimada | real): 179.74cm | 186.5cm\n"
          ]
        },
        {
          "output_type": "stream",
          "name": "stderr",
          "text": [
            "\n",
            "image 1/1 /content/dataset/images/train/imgRGB_019_004_003.png: 640x384 1 person, 9.9ms\n",
            "Speed: 1.1ms preprocess, 9.9ms inference, 2.3ms postprocess per image at shape (1, 3, 640, 384)\n"
          ]
        },
        {
          "output_type": "stream",
          "name": "stdout",
          "text": [
            "Distância estimada: 237.07cm, Altura (estimada | real): 170.11cm | 181.0cm\n"
          ]
        },
        {
          "output_type": "stream",
          "name": "stderr",
          "text": [
            "\n",
            "image 1/1 /content/dataset/images/train/imgRGB_017_003_005.png: 640x384 1 person, 7.8ms\n",
            "Speed: 1.3ms preprocess, 7.8ms inference, 2.5ms postprocess per image at shape (1, 3, 640, 384)\n"
          ]
        },
        {
          "output_type": "stream",
          "name": "stdout",
          "text": [
            "Distância estimada: 260.36cm, Altura (estimada | real): 174.21cm | 176.0cm\n"
          ]
        },
        {
          "output_type": "stream",
          "name": "stderr",
          "text": [
            "\n",
            "image 1/1 /content/dataset/images/train/imgRGB_005_002_002.png: 640x384 1 person, 9.9ms\n",
            "Speed: 3.8ms preprocess, 9.9ms inference, 2.9ms postprocess per image at shape (1, 3, 640, 384)\n"
          ]
        },
        {
          "output_type": "stream",
          "name": "stdout",
          "text": [
            "Distância estimada: 215.17cm, Altura (estimada | real): 192.12cm | 184.0cm\n"
          ]
        },
        {
          "output_type": "stream",
          "name": "stderr",
          "text": [
            "\n",
            "image 1/1 /content/dataset/images/train/imgRGB_006_002_001.png: 640x384 1 person, 7.7ms\n",
            "Speed: 1.2ms preprocess, 7.7ms inference, 2.1ms postprocess per image at shape (1, 3, 640, 384)\n"
          ]
        },
        {
          "output_type": "stream",
          "name": "stdout",
          "text": [
            "Distância estimada: 177.28cm, Altura (estimada | real): 166.65cm | 175.0cm\n"
          ]
        },
        {
          "output_type": "stream",
          "name": "stderr",
          "text": [
            "\n",
            "image 1/1 /content/dataset/images/train/imgRGB_022_002_001.png: 640x384 1 person, 8.5ms\n",
            "Speed: 1.2ms preprocess, 8.5ms inference, 2.2ms postprocess per image at shape (1, 3, 640, 384)\n"
          ]
        },
        {
          "output_type": "stream",
          "name": "stdout",
          "text": [
            "Distância estimada: 167.3cm, Altura (estimada | real): 151.21cm | 167.0cm\n"
          ]
        },
        {
          "output_type": "stream",
          "name": "stderr",
          "text": [
            "\n",
            "image 1/1 /content/dataset/images/train/imgRGB_007_002_000.png: 640x384 1 person, 7.7ms\n",
            "Speed: 1.1ms preprocess, 7.7ms inference, 2.1ms postprocess per image at shape (1, 3, 640, 384)\n"
          ]
        },
        {
          "output_type": "stream",
          "name": "stdout",
          "text": [
            "Distância estimada: 167.17cm, Altura (estimada | real): 188.97cm | 175.0cm\n"
          ]
        },
        {
          "output_type": "stream",
          "name": "stderr",
          "text": [
            "\n",
            "image 1/1 /content/dataset/images/train/imgRGB_004_004_008.png: 640x384 1 person, 8.2ms\n",
            "Speed: 1.1ms preprocess, 8.2ms inference, 2.1ms postprocess per image at shape (1, 3, 640, 384)\n"
          ]
        },
        {
          "output_type": "stream",
          "name": "stdout",
          "text": [
            "Distância estimada: 181.28cm, Altura (estimada | real): 167.27cm | 172.0cm\n"
          ]
        },
        {
          "output_type": "stream",
          "name": "stderr",
          "text": [
            "\n",
            "image 1/1 /content/dataset/images/train/imgRGB_020_003_000.png: 640x384 1 person, 11.2ms\n",
            "Speed: 2.3ms preprocess, 11.2ms inference, 3.4ms postprocess per image at shape (1, 3, 640, 384)\n"
          ]
        },
        {
          "output_type": "stream",
          "name": "stdout",
          "text": [
            "Distância estimada: 255.3cm, Altura (estimada | real): 158.8cm | 167.0cm\n"
          ]
        },
        {
          "output_type": "stream",
          "name": "stderr",
          "text": [
            "\n",
            "image 1/1 /content/dataset/images/train/imgRGB_019_002_008.png: 640x384 1 person, 8.2ms\n",
            "Speed: 1.3ms preprocess, 8.2ms inference, 2.3ms postprocess per image at shape (1, 3, 640, 384)\n"
          ]
        },
        {
          "output_type": "stream",
          "name": "stdout",
          "text": [
            "Distância estimada: 219.8cm, Altura (estimada | real): 174.22cm | 171.0cm\n"
          ]
        },
        {
          "output_type": "stream",
          "name": "stderr",
          "text": [
            "\n",
            "image 1/1 /content/dataset/images/train/imgRGB_015_002_006.png: 640x384 1 person, 8.3ms\n",
            "Speed: 1.2ms preprocess, 8.3ms inference, 2.1ms postprocess per image at shape (1, 3, 640, 384)\n"
          ]
        },
        {
          "output_type": "stream",
          "name": "stdout",
          "text": [
            "Distância estimada: 178.76cm, Altura (estimada | real): 181.72cm | 176.0cm\n"
          ]
        },
        {
          "output_type": "stream",
          "name": "stderr",
          "text": [
            "\n",
            "image 1/1 /content/dataset/images/train/imgRGB_011_002_004.png: 640x384 1 person, 7.6ms\n",
            "Speed: 1.1ms preprocess, 7.6ms inference, 2.3ms postprocess per image at shape (1, 3, 640, 384)\n"
          ]
        },
        {
          "output_type": "stream",
          "name": "stdout",
          "text": [
            "Distância estimada: 192.98cm, Altura (estimada | real): 161.47cm | 165.0cm\n"
          ]
        },
        {
          "output_type": "stream",
          "name": "stderr",
          "text": [
            "\n",
            "image 1/1 /content/dataset/images/train/imgRGB_007_002_002.png: 640x384 1 person, 8.3ms\n",
            "Speed: 1.4ms preprocess, 8.3ms inference, 2.2ms postprocess per image at shape (1, 3, 640, 384)\n"
          ]
        },
        {
          "output_type": "stream",
          "name": "stdout",
          "text": [
            "Distância estimada: 163.39cm, Altura (estimada | real): 144.01cm | 186.0cm\n"
          ]
        },
        {
          "output_type": "stream",
          "name": "stderr",
          "text": [
            "\n",
            "image 1/1 /content/dataset/images/train/imgRGB_024_003_001.png: 640x384 1 person, 9.0ms\n",
            "Speed: 1.4ms preprocess, 9.0ms inference, 2.7ms postprocess per image at shape (1, 3, 640, 384)\n"
          ]
        },
        {
          "output_type": "stream",
          "name": "stdout",
          "text": [
            "Distância estimada: 178.17cm, Altura (estimada | real): 166.69cm | 172.0cm\n"
          ]
        },
        {
          "output_type": "stream",
          "name": "stderr",
          "text": [
            "\n",
            "image 1/1 /content/dataset/images/train/imgRGB_012_002_000.png: 640x384 1 person, 9.1ms\n",
            "Speed: 1.3ms preprocess, 9.1ms inference, 2.1ms postprocess per image at shape (1, 3, 640, 384)\n"
          ]
        },
        {
          "output_type": "stream",
          "name": "stdout",
          "text": [
            "Distância estimada: 209.83cm, Altura (estimada | real): 173.14cm | 166.0cm\n"
          ]
        },
        {
          "output_type": "stream",
          "name": "stderr",
          "text": [
            "\n",
            "image 1/1 /content/dataset/images/train/imgRGB_003_003_008.png: 640x384 1 person, 7.6ms\n",
            "Speed: 1.1ms preprocess, 7.6ms inference, 2.3ms postprocess per image at shape (1, 3, 640, 384)\n"
          ]
        },
        {
          "output_type": "stream",
          "name": "stdout",
          "text": [
            "Distância estimada: 213.97cm, Altura (estimada | real): 136.36cm | 181.0cm\n"
          ]
        },
        {
          "output_type": "stream",
          "name": "stderr",
          "text": [
            "\n",
            "image 1/1 /content/dataset/images/train/imgRGB_018_004_001.png: 640x384 1 person, 7.6ms\n",
            "Speed: 1.1ms preprocess, 7.6ms inference, 2.3ms postprocess per image at shape (1, 3, 640, 384)\n"
          ]
        },
        {
          "output_type": "stream",
          "name": "stdout",
          "text": [
            "Distância estimada: 211.53cm, Altura (estimada | real): 171.32cm | 178.5cm\n"
          ]
        },
        {
          "output_type": "stream",
          "name": "stderr",
          "text": [
            "\n",
            "image 1/1 /content/dataset/images/train/imgRGB_018_004_009.png: 640x384 1 person, 9.6ms\n",
            "Speed: 1.3ms preprocess, 9.6ms inference, 2.1ms postprocess per image at shape (1, 3, 640, 384)\n"
          ]
        },
        {
          "output_type": "stream",
          "name": "stdout",
          "text": [
            "Distância estimada: 253.38cm, Altura (estimada | real): 194.42cm | 186.5cm\n"
          ]
        },
        {
          "output_type": "stream",
          "name": "stderr",
          "text": [
            "\n",
            "image 1/1 /content/dataset/images/train/imgRGB_008_004_004.png: 640x384 1 person, 9.1ms\n",
            "Speed: 1.5ms preprocess, 9.1ms inference, 2.9ms postprocess per image at shape (1, 3, 640, 384)\n"
          ]
        },
        {
          "output_type": "stream",
          "name": "stdout",
          "text": [
            "Distância estimada: 255.58cm, Altura (estimada | real): 194.25cm | 186.5cm\n"
          ]
        },
        {
          "output_type": "stream",
          "name": "stderr",
          "text": [
            "\n",
            "image 1/1 /content/dataset/images/train/imgRGB_024_002_005.png: 640x384 1 person, 8.1ms\n",
            "Speed: 1.3ms preprocess, 8.1ms inference, 2.2ms postprocess per image at shape (1, 3, 640, 384)\n"
          ]
        },
        {
          "output_type": "stream",
          "name": "stdout",
          "text": [
            "Distância estimada: 259.91cm, Altura (estimada | real): 168.13cm | 180.0cm\n"
          ]
        },
        {
          "output_type": "stream",
          "name": "stderr",
          "text": [
            "\n",
            "image 1/1 /content/dataset/images/train/imgRGB_005_003_003.png: 640x384 1 person, 7.7ms\n",
            "Speed: 1.2ms preprocess, 7.7ms inference, 2.1ms postprocess per image at shape (1, 3, 640, 384)\n"
          ]
        },
        {
          "output_type": "stream",
          "name": "stdout",
          "text": [
            "Distância estimada: 152.34cm, Altura (estimada | real): 157.97cm | 166.0cm\n"
          ]
        },
        {
          "output_type": "stream",
          "name": "stderr",
          "text": [
            "\n",
            "image 1/1 /content/dataset/images/train/imgRGB_015_002_000.png: 640x384 1 person, 7.7ms\n",
            "Speed: 1.3ms preprocess, 7.7ms inference, 2.1ms postprocess per image at shape (1, 3, 640, 384)\n"
          ]
        },
        {
          "output_type": "stream",
          "name": "stdout",
          "text": [
            "Distância estimada: 207.42cm, Altura (estimada | real): 172.65cm | 175.0cm\n"
          ]
        },
        {
          "output_type": "stream",
          "name": "stderr",
          "text": [
            "\n",
            "image 1/1 /content/dataset/images/train/imgRGB_013_003_006.png: 640x384 1 person, 15.6ms\n",
            "Speed: 1.4ms preprocess, 15.6ms inference, 2.9ms postprocess per image at shape (1, 3, 640, 384)\n"
          ]
        },
        {
          "output_type": "stream",
          "name": "stdout",
          "text": [
            "Distância estimada: 189.22cm, Altura (estimada | real): 160.78cm | 165.0cm\n"
          ]
        },
        {
          "output_type": "stream",
          "name": "stderr",
          "text": [
            "\n",
            "image 1/1 /content/dataset/images/train/imgRGB_023_003_001.png: 640x384 1 person, 9.8ms\n",
            "Speed: 1.8ms preprocess, 9.8ms inference, 3.1ms postprocess per image at shape (1, 3, 640, 384)\n"
          ]
        },
        {
          "output_type": "stream",
          "name": "stdout",
          "text": [
            "Distância estimada: 204.34cm, Altura (estimada | real): 163.94cm | 182.0cm\n"
          ]
        },
        {
          "output_type": "stream",
          "name": "stderr",
          "text": [
            "\n",
            "image 1/1 /content/dataset/images/train/imgRGB_018_002_003.png: 640x384 1 person, 11.5ms\n",
            "Speed: 1.4ms preprocess, 11.5ms inference, 2.1ms postprocess per image at shape (1, 3, 640, 384)\n"
          ]
        },
        {
          "output_type": "stream",
          "name": "stdout",
          "text": [
            "Distância estimada: 209.34cm, Altura (estimada | real): 180.22cm | 187.0cm\n"
          ]
        },
        {
          "output_type": "stream",
          "name": "stderr",
          "text": [
            "\n",
            "image 1/1 /content/dataset/images/train/imgRGB_002_002_009.png: 640x384 1 person, 7.6ms\n",
            "Speed: 1.2ms preprocess, 7.6ms inference, 2.1ms postprocess per image at shape (1, 3, 640, 384)\n"
          ]
        },
        {
          "output_type": "stream",
          "name": "stdout",
          "text": [
            "Distância estimada: 175.1cm, Altura (estimada | real): 171.91cm | 186.5cm\n"
          ]
        },
        {
          "output_type": "stream",
          "name": "stderr",
          "text": [
            "\n",
            "image 1/1 /content/dataset/images/train/imgRGB_018_004_008.png: 640x384 1 person, 7.8ms\n",
            "Speed: 1.1ms preprocess, 7.8ms inference, 2.4ms postprocess per image at shape (1, 3, 640, 384)\n"
          ]
        },
        {
          "output_type": "stream",
          "name": "stdout",
          "text": [
            "Distância estimada: 173.35cm, Altura (estimada | real): 155.25cm | 177.0cm\n"
          ]
        },
        {
          "output_type": "stream",
          "name": "stderr",
          "text": [
            "\n",
            "image 1/1 /content/dataset/images/train/imgRGB_025_004_007.png: 640x384 1 person, 7.6ms\n",
            "Speed: 1.1ms preprocess, 7.6ms inference, 2.2ms postprocess per image at shape (1, 3, 640, 384)\n"
          ]
        },
        {
          "output_type": "stream",
          "name": "stdout",
          "text": [
            "Distância estimada: 255.6cm, Altura (estimada | real): 189.67cm | 186.5cm\n"
          ]
        },
        {
          "output_type": "stream",
          "name": "stderr",
          "text": [
            "\n",
            "image 1/1 /content/dataset/images/train/imgRGB_018_004_007.png: 640x384 1 person, 13.2ms\n",
            "Speed: 1.2ms preprocess, 13.2ms inference, 6.7ms postprocess per image at shape (1, 3, 640, 384)\n"
          ]
        },
        {
          "output_type": "stream",
          "name": "stdout",
          "text": [
            "Distância estimada: 288.7cm, Altura (estimada | real): 170.76cm | 160.0cm\n"
          ]
        },
        {
          "output_type": "stream",
          "name": "stderr",
          "text": [
            "\n",
            "image 1/1 /content/dataset/images/train/imgRGB_002_002_006.png: 640x384 1 person, 11.2ms\n",
            "Speed: 1.2ms preprocess, 11.2ms inference, 2.5ms postprocess per image at shape (1, 3, 640, 384)\n"
          ]
        },
        {
          "output_type": "stream",
          "name": "stdout",
          "text": [
            "Distância estimada: 255.44cm, Altura (estimada | real): 194.3cm | 186.5cm\n"
          ]
        },
        {
          "output_type": "stream",
          "name": "stderr",
          "text": [
            "\n",
            "image 1/1 /content/dataset/images/train/imgRGB_022_004_001.png: 640x384 1 person, 7.8ms\n",
            "Speed: 1.1ms preprocess, 7.8ms inference, 2.1ms postprocess per image at shape (1, 3, 640, 384)\n"
          ]
        },
        {
          "output_type": "stream",
          "name": "stdout",
          "text": [
            "Distância estimada: 170.6cm, Altura (estimada | real): 149.8cm | 177.0cm\n"
          ]
        },
        {
          "output_type": "stream",
          "name": "stderr",
          "text": [
            "\n",
            "image 1/1 /content/dataset/images/train/imgRGB_001_004_007.png: 640x384 1 person, 7.7ms\n",
            "Speed: 1.1ms preprocess, 7.7ms inference, 2.1ms postprocess per image at shape (1, 3, 640, 384)\n"
          ]
        },
        {
          "output_type": "stream",
          "name": "stdout",
          "text": [
            "Distância estimada: 259.49cm, Altura (estimada | real): 193.62cm | 175.0cm\n"
          ]
        },
        {
          "output_type": "stream",
          "name": "stderr",
          "text": [
            "\n",
            "image 1/1 /content/dataset/images/train/imgRGB_010_004_004.png: 640x384 1 person, 9.0ms\n",
            "Speed: 1.3ms preprocess, 9.0ms inference, 2.2ms postprocess per image at shape (1, 3, 640, 384)\n"
          ]
        },
        {
          "output_type": "stream",
          "name": "stdout",
          "text": [
            "Distância estimada: 246.81cm, Altura (estimada | real): 175.47cm | 177.0cm\n"
          ]
        },
        {
          "output_type": "stream",
          "name": "stderr",
          "text": [
            "\n",
            "image 1/1 /content/dataset/images/train/imgRGB_001_002_009.png: 640x384 1 person, 10.5ms\n",
            "Speed: 1.4ms preprocess, 10.5ms inference, 3.2ms postprocess per image at shape (1, 3, 640, 384)\n"
          ]
        },
        {
          "output_type": "stream",
          "name": "stdout",
          "text": [
            "Distância estimada: 252.17cm, Altura (estimada | real): 175.29cm | 176.0cm\n"
          ]
        },
        {
          "output_type": "stream",
          "name": "stderr",
          "text": [
            "\n",
            "image 1/1 /content/dataset/images/train/imgRGB_001_002_005.png: 640x384 1 person, 16.0ms\n",
            "Speed: 1.6ms preprocess, 16.0ms inference, 7.2ms postprocess per image at shape (1, 3, 640, 384)\n"
          ]
        },
        {
          "output_type": "stream",
          "name": "stdout",
          "text": [
            "Distância estimada: 166.02cm, Altura (estimada | real): 161.67cm | 177.0cm\n"
          ]
        },
        {
          "output_type": "stream",
          "name": "stderr",
          "text": [
            "\n",
            "image 1/1 /content/dataset/images/train/imgRGB_016_004_000.png: 640x384 1 person, 8.9ms\n",
            "Speed: 1.2ms preprocess, 8.9ms inference, 2.1ms postprocess per image at shape (1, 3, 640, 384)\n"
          ]
        },
        {
          "output_type": "stream",
          "name": "stdout",
          "text": [
            "Distância estimada: 171.28cm, Altura (estimada | real): 157.47cm | 177.0cm\n"
          ]
        },
        {
          "output_type": "stream",
          "name": "stderr",
          "text": [
            "\n",
            "image 1/1 /content/dataset/images/train/imgRGB_020_002_009.png: 640x384 1 person, 7.7ms\n",
            "Speed: 1.2ms preprocess, 7.7ms inference, 2.3ms postprocess per image at shape (1, 3, 640, 384)\n"
          ]
        },
        {
          "output_type": "stream",
          "name": "stdout",
          "text": [
            "Distância estimada: 266.09cm, Altura (estimada | real): 162.08cm | 175.0cm\n"
          ]
        },
        {
          "output_type": "stream",
          "name": "stderr",
          "text": [
            "\n",
            "image 1/1 /content/dataset/images/train/imgRGB_023_002_008.png: 640x384 1 person, 14.7ms\n",
            "Speed: 1.3ms preprocess, 14.7ms inference, 2.2ms postprocess per image at shape (1, 3, 640, 384)\n"
          ]
        },
        {
          "output_type": "stream",
          "name": "stdout",
          "text": [
            "Distância estimada: 175.02cm, Altura (estimada | real): 181.48cm | 171.0cm\n"
          ]
        },
        {
          "output_type": "stream",
          "name": "stderr",
          "text": [
            "\n",
            "image 1/1 /content/dataset/images/train/imgRGB_005_002_006.png: 640x384 1 person, 10.8ms\n",
            "Speed: 3.7ms preprocess, 10.8ms inference, 3.0ms postprocess per image at shape (1, 3, 640, 384)\n"
          ]
        },
        {
          "output_type": "stream",
          "name": "stdout",
          "text": [
            "Distância estimada: 170.41cm, Altura (estimada | real): 189.82cm | 187.0cm\n"
          ]
        },
        {
          "output_type": "stream",
          "name": "stderr",
          "text": [
            "\n",
            "image 1/1 /content/dataset/images/train/imgRGB_023_003_006.png: 640x384 1 person, 14.8ms\n",
            "Speed: 1.3ms preprocess, 14.8ms inference, 7.2ms postprocess per image at shape (1, 3, 640, 384)\n"
          ]
        },
        {
          "output_type": "stream",
          "name": "stdout",
          "text": [
            "Distância estimada: 175.72cm, Altura (estimada | real): 162.54cm | 175.0cm\n"
          ]
        },
        {
          "output_type": "stream",
          "name": "stderr",
          "text": [
            "\n",
            "image 1/1 /content/dataset/images/train/imgRGB_002_003_009.png: 640x384 1 person, 11.0ms\n",
            "Speed: 1.4ms preprocess, 11.0ms inference, 2.4ms postprocess per image at shape (1, 3, 640, 384)\n"
          ]
        },
        {
          "output_type": "stream",
          "name": "stdout",
          "text": [
            "Distância estimada: 208.75cm, Altura (estimada | real): 182.08cm | 187.0cm\n"
          ]
        },
        {
          "output_type": "stream",
          "name": "stderr",
          "text": [
            "\n",
            "image 1/1 /content/dataset/images/train/imgRGB_001_004_006.png: 640x384 1 person, 8.3ms\n",
            "Speed: 1.3ms preprocess, 8.3ms inference, 2.1ms postprocess per image at shape (1, 3, 640, 384)\n"
          ]
        },
        {
          "output_type": "stream",
          "name": "stdout",
          "text": [
            "Distância estimada: 200.96cm, Altura (estimada | real): 156.22cm | 177.0cm\n"
          ]
        },
        {
          "output_type": "stream",
          "name": "stderr",
          "text": [
            "\n",
            "image 1/1 /content/dataset/images/train/imgRGB_018_004_005.png: 640x384 1 person, 7.6ms\n",
            "Speed: 1.1ms preprocess, 7.6ms inference, 4.3ms postprocess per image at shape (1, 3, 640, 384)\n"
          ]
        },
        {
          "output_type": "stream",
          "name": "stdout",
          "text": [
            "Distância estimada: 247.19cm, Altura (estimada | real): 178.11cm | 177.0cm\n"
          ]
        },
        {
          "output_type": "stream",
          "name": "stderr",
          "text": [
            "\n",
            "image 1/1 /content/dataset/images/train/imgRGB_001_004_002.png: 640x384 1 person, 12.9ms\n",
            "Speed: 1.4ms preprocess, 12.9ms inference, 4.3ms postprocess per image at shape (1, 3, 640, 384)\n"
          ]
        },
        {
          "output_type": "stream",
          "name": "stdout",
          "text": [
            "Distância estimada: 256.64cm, Altura (estimada | real): 192.12cm | 186.5cm\n"
          ]
        },
        {
          "output_type": "stream",
          "name": "stderr",
          "text": [
            "\n",
            "image 1/1 /content/dataset/images/train/imgRGB_003_003_002.png: 640x384 1 person, 13.7ms\n",
            "Speed: 1.3ms preprocess, 13.7ms inference, 3.3ms postprocess per image at shape (1, 3, 640, 384)\n"
          ]
        },
        {
          "output_type": "stream",
          "name": "stdout",
          "text": [
            "Distância estimada: 240.0cm, Altura (estimada | real): 184.21cm | 177.0cm\n"
          ]
        },
        {
          "output_type": "stream",
          "name": "stderr",
          "text": [
            "\n",
            "image 1/1 /content/dataset/images/train/imgRGB_002_004_008.png: 640x384 1 person, 7.9ms\n",
            "Speed: 1.3ms preprocess, 7.9ms inference, 2.1ms postprocess per image at shape (1, 3, 640, 384)\n"
          ]
        },
        {
          "output_type": "stream",
          "name": "stdout",
          "text": [
            "Distância estimada: 206.65cm, Altura (estimada | real): 175.35cm | 178.5cm\n"
          ]
        },
        {
          "output_type": "stream",
          "name": "stderr",
          "text": [
            "\n",
            "image 1/1 /content/dataset/images/train/imgRGB_008_004_009.png: 640x384 1 person, 8.2ms\n",
            "Speed: 1.2ms preprocess, 8.2ms inference, 2.3ms postprocess per image at shape (1, 3, 640, 384)\n"
          ]
        },
        {
          "output_type": "stream",
          "name": "stdout",
          "text": [
            "Distância estimada: 259.6cm, Altura (estimada | real): 170.01cm | 177.0cm\n"
          ]
        },
        {
          "output_type": "stream",
          "name": "stderr",
          "text": [
            "\n",
            "image 1/1 /content/dataset/images/train/imgRGB_002_004_000.png: 640x384 1 person, 11.2ms\n",
            "Speed: 1.2ms preprocess, 11.2ms inference, 3.1ms postprocess per image at shape (1, 3, 640, 384)\n"
          ]
        },
        {
          "output_type": "stream",
          "name": "stdout",
          "text": [
            "Distância estimada: 251.04cm, Altura (estimada | real): 174.51cm | 180.0cm\n"
          ]
        },
        {
          "output_type": "stream",
          "name": "stderr",
          "text": [
            "\n",
            "image 1/1 /content/dataset/images/train/imgRGB_022_002_005.png: 640x384 1 person, 12.9ms\n",
            "Speed: 1.4ms preprocess, 12.9ms inference, 3.4ms postprocess per image at shape (1, 3, 640, 384)\n"
          ]
        },
        {
          "output_type": "stream",
          "name": "stdout",
          "text": [
            "Distância estimada: 252.67cm, Altura (estimada | real): 175.3cm | 177.0cm\n"
          ]
        },
        {
          "output_type": "stream",
          "name": "stderr",
          "text": [
            "\n",
            "image 1/1 /content/dataset/images/train/imgRGB_013_002_005.png: 640x384 1 person, 11.8ms\n",
            "Speed: 1.4ms preprocess, 11.8ms inference, 4.3ms postprocess per image at shape (1, 3, 640, 384)\n"
          ]
        },
        {
          "output_type": "stream",
          "name": "stdout",
          "text": [
            "Distância estimada: 171.89cm, Altura (estimada | real): 184.29cm | 175.0cm\n"
          ]
        },
        {
          "output_type": "stream",
          "name": "stderr",
          "text": [
            "\n",
            "image 1/1 /content/dataset/images/train/imgRGB_001_002_006.png: 640x384 1 person, 8.3ms\n",
            "Speed: 1.3ms preprocess, 8.3ms inference, 2.2ms postprocess per image at shape (1, 3, 640, 384)\n"
          ]
        },
        {
          "output_type": "stream",
          "name": "stdout",
          "text": [
            "Distância estimada: 168.8cm, Altura (estimada | real): 177.32cm | 182.0cm\n"
          ]
        },
        {
          "output_type": "stream",
          "name": "stderr",
          "text": [
            "\n",
            "image 1/1 /content/dataset/images/train/imgRGB_017_003_004.png: 640x384 1 person, 8.2ms\n",
            "Speed: 1.5ms preprocess, 8.2ms inference, 2.1ms postprocess per image at shape (1, 3, 640, 384)\n"
          ]
        },
        {
          "output_type": "stream",
          "name": "stdout",
          "text": [
            "Distância estimada: 166.64cm, Altura (estimada | real): 159.19cm | 177.0cm\n"
          ]
        },
        {
          "output_type": "stream",
          "name": "stderr",
          "text": [
            "\n",
            "image 1/1 /content/dataset/images/train/imgRGB_016_004_004.png: 640x384 1 person, 9.2ms\n",
            "Speed: 1.3ms preprocess, 9.2ms inference, 2.5ms postprocess per image at shape (1, 3, 640, 384)\n"
          ]
        },
        {
          "output_type": "stream",
          "name": "stdout",
          "text": [
            "Distância estimada: 218.43cm, Altura (estimada | real): 192.76cm | 184.0cm\n"
          ]
        },
        {
          "output_type": "stream",
          "name": "stderr",
          "text": [
            "\n",
            "image 1/1 /content/dataset/images/train/imgRGB_021_002_005.png: 640x384 1 person, 7.7ms\n",
            "Speed: 1.3ms preprocess, 7.7ms inference, 2.3ms postprocess per image at shape (1, 3, 640, 384)\n"
          ]
        },
        {
          "output_type": "stream",
          "name": "stdout",
          "text": [
            "Distância estimada: 261.27cm, Altura (estimada | real): 164.68cm | 175.0cm\n"
          ]
        },
        {
          "output_type": "stream",
          "name": "stderr",
          "text": [
            "\n",
            "image 1/1 /content/dataset/images/train/imgRGB_013_002_001.png: 640x384 1 person, 8.8ms\n",
            "Speed: 1.3ms preprocess, 8.8ms inference, 5.6ms postprocess per image at shape (1, 3, 640, 384)\n"
          ]
        },
        {
          "output_type": "stream",
          "name": "stdout",
          "text": [
            "Distância estimada: 165.66cm, Altura (estimada | real): 182.47cm | 176.0cm\n"
          ]
        },
        {
          "output_type": "stream",
          "name": "stderr",
          "text": [
            "\n",
            "image 1/1 /content/dataset/images/train/imgRGB_021_004_007.png: 640x384 1 person, 7.7ms\n",
            "Speed: 1.4ms preprocess, 7.7ms inference, 2.3ms postprocess per image at shape (1, 3, 640, 384)\n"
          ]
        },
        {
          "output_type": "stream",
          "name": "stdout",
          "text": [
            "Distância estimada: 171.8cm, Altura (estimada | real): 182.27cm | 182.0cm\n"
          ]
        },
        {
          "output_type": "stream",
          "name": "stderr",
          "text": [
            "\n",
            "image 1/1 /content/dataset/images/train/imgRGB_017_003_008.png: 640x384 1 person, 8.0ms\n",
            "Speed: 1.3ms preprocess, 8.0ms inference, 2.2ms postprocess per image at shape (1, 3, 640, 384)\n"
          ]
        },
        {
          "output_type": "stream",
          "name": "stdout",
          "text": [
            "Distância estimada: 267.86cm, Altura (estimada | real): 176.83cm | 176.0cm\n"
          ]
        },
        {
          "output_type": "stream",
          "name": "stderr",
          "text": [
            "\n",
            "image 1/1 /content/dataset/images/train/imgRGB_002_002_002.png: 640x384 1 person, 10.6ms\n",
            "Speed: 1.2ms preprocess, 10.6ms inference, 2.3ms postprocess per image at shape (1, 3, 640, 384)\n"
          ]
        },
        {
          "output_type": "stream",
          "name": "stdout",
          "text": [
            "Distância estimada: 217.55cm, Altura (estimada | real): 190.76cm | 184.0cm\n"
          ]
        },
        {
          "output_type": "stream",
          "name": "stderr",
          "text": [
            "\n",
            "image 1/1 /content/dataset/images/train/imgRGB_005_004_005.png: 640x384 1 person, 8.0ms\n",
            "Speed: 1.3ms preprocess, 8.0ms inference, 2.3ms postprocess per image at shape (1, 3, 640, 384)\n"
          ]
        },
        {
          "output_type": "stream",
          "name": "stdout",
          "text": [
            "Distância estimada: 170.05cm, Altura (estimada | real): 150.82cm | 177.0cm\n"
          ]
        },
        {
          "output_type": "stream",
          "name": "stderr",
          "text": [
            "\n",
            "image 1/1 /content/dataset/images/train/imgRGB_010_002_005.png: 640x384 1 person, 10.4ms\n",
            "Speed: 1.6ms preprocess, 10.4ms inference, 3.0ms postprocess per image at shape (1, 3, 640, 384)\n"
          ]
        },
        {
          "output_type": "stream",
          "name": "stdout",
          "text": [
            "Distância estimada: 249.94cm, Altura (estimada | real): 181.05cm | 175.0cm\n"
          ]
        },
        {
          "output_type": "stream",
          "name": "stderr",
          "text": [
            "\n",
            "image 1/1 /content/dataset/images/train/imgRGB_019_002_003.png: 640x384 1 person, 8.0ms\n",
            "Speed: 1.2ms preprocess, 8.0ms inference, 2.2ms postprocess per image at shape (1, 3, 640, 384)\n"
          ]
        },
        {
          "output_type": "stream",
          "name": "stdout",
          "text": [
            "Distância estimada: 174.14cm, Altura (estimada | real): 146.19cm | 176.0cm\n"
          ]
        },
        {
          "output_type": "stream",
          "name": "stderr",
          "text": [
            "\n",
            "image 1/1 /content/dataset/images/train/imgRGB_008_003_002.png: 640x384 1 person, 7.9ms\n",
            "Speed: 1.3ms preprocess, 7.9ms inference, 2.1ms postprocess per image at shape (1, 3, 640, 384)\n"
          ]
        },
        {
          "output_type": "stream",
          "name": "stdout",
          "text": [
            "Distância estimada: 177.97cm, Altura (estimada | real): 177.74cm | 176.0cm\n"
          ]
        },
        {
          "output_type": "stream",
          "name": "stderr",
          "text": [
            "\n",
            "image 1/1 /content/dataset/images/train/imgRGB_006_003_004.png: 640x384 1 person, 8.0ms\n",
            "Speed: 1.3ms preprocess, 8.0ms inference, 2.2ms postprocess per image at shape (1, 3, 640, 384)\n"
          ]
        },
        {
          "output_type": "stream",
          "name": "stdout",
          "text": [
            "Distância estimada: 207.52cm, Altura (estimada | real): 168.26cm | 180.0cm\n"
          ]
        },
        {
          "output_type": "stream",
          "name": "stderr",
          "text": [
            "\n",
            "image 1/1 /content/dataset/images/train/imgRGB_019_004_001.png: 640x384 1 person, 7.9ms\n",
            "Speed: 1.2ms preprocess, 7.9ms inference, 2.1ms postprocess per image at shape (1, 3, 640, 384)\n"
          ]
        },
        {
          "output_type": "stream",
          "name": "stdout",
          "text": [
            "Distância estimada: 195.54cm, Altura (estimada | real): 164.31cm | 167.0cm\n"
          ]
        },
        {
          "output_type": "stream",
          "name": "stderr",
          "text": [
            "\n",
            "image 1/1 /content/dataset/images/train/imgRGB_020_002_008.png: 640x384 1 person, 9.5ms\n",
            "Speed: 1.4ms preprocess, 9.5ms inference, 2.9ms postprocess per image at shape (1, 3, 640, 384)\n"
          ]
        },
        {
          "output_type": "stream",
          "name": "stdout",
          "text": [
            "Distância estimada: 258.74cm, Altura (estimada | real): 175.77cm | 176.0cm\n"
          ]
        },
        {
          "output_type": "stream",
          "name": "stderr",
          "text": [
            "\n",
            "image 1/1 /content/dataset/images/train/imgRGB_017_004_005.png: 640x384 1 person, 8.5ms\n",
            "Speed: 1.4ms preprocess, 8.5ms inference, 2.4ms postprocess per image at shape (1, 3, 640, 384)\n"
          ]
        },
        {
          "output_type": "stream",
          "name": "stdout",
          "text": [
            "Distância estimada: 172.58cm, Altura (estimada | real): 181.55cm | 171.0cm\n"
          ]
        },
        {
          "output_type": "stream",
          "name": "stderr",
          "text": [
            "\n",
            "image 1/1 /content/dataset/images/train/imgRGB_008_004_008.png: 640x384 1 person, 7.7ms\n",
            "Speed: 1.2ms preprocess, 7.7ms inference, 2.3ms postprocess per image at shape (1, 3, 640, 384)\n"
          ]
        },
        {
          "output_type": "stream",
          "name": "stdout",
          "text": [
            "Distância estimada: 265.62cm, Altura (estimada | real): 193.7cm | 184.0cm\n"
          ]
        },
        {
          "output_type": "stream",
          "name": "stderr",
          "text": [
            "\n",
            "image 1/1 /content/dataset/images/train/imgRGB_018_002_006.png: 640x384 1 person, 11.2ms\n",
            "Speed: 1.6ms preprocess, 11.2ms inference, 3.2ms postprocess per image at shape (1, 3, 640, 384)\n"
          ]
        },
        {
          "output_type": "stream",
          "name": "stdout",
          "text": [
            "Distância estimada: 250.9cm, Altura (estimada | real): 173.53cm | 180.0cm\n"
          ]
        },
        {
          "output_type": "stream",
          "name": "stderr",
          "text": [
            "\n",
            "image 1/1 /content/dataset/images/train/imgRGB_004_002_004.png: 640x384 1 person, 9.2ms\n",
            "Speed: 1.7ms preprocess, 9.2ms inference, 2.4ms postprocess per image at shape (1, 3, 640, 384)\n"
          ]
        },
        {
          "output_type": "stream",
          "name": "stdout",
          "text": [
            "Distância estimada: 164.78cm, Altura (estimada | real): 176.98cm | 186.5cm\n"
          ]
        },
        {
          "output_type": "stream",
          "name": "stderr",
          "text": [
            "\n",
            "image 1/1 /content/dataset/images/train/imgRGB_004_003_004.png: 640x384 1 person, 16.5ms\n",
            "Speed: 1.4ms preprocess, 16.5ms inference, 2.9ms postprocess per image at shape (1, 3, 640, 384)\n"
          ]
        },
        {
          "output_type": "stream",
          "name": "stdout",
          "text": [
            "Distância estimada: 184.02cm, Altura (estimada | real): 168.81cm | 167.0cm\n"
          ]
        },
        {
          "output_type": "stream",
          "name": "stderr",
          "text": [
            "\n",
            "image 1/1 /content/dataset/images/train/imgRGB_018_002_000.png: 640x384 1 person, 7.7ms\n",
            "Speed: 1.1ms preprocess, 7.7ms inference, 2.1ms postprocess per image at shape (1, 3, 640, 384)\n"
          ]
        },
        {
          "output_type": "stream",
          "name": "stdout",
          "text": [
            "Distância estimada: 212.2cm, Altura (estimada | real): 149.7cm | 167.0cm\n"
          ]
        },
        {
          "output_type": "stream",
          "name": "stderr",
          "text": [
            "\n",
            "image 1/1 /content/dataset/images/train/imgRGB_020_004_001.png: 640x384 1 person, 8.0ms\n",
            "Speed: 1.2ms preprocess, 8.0ms inference, 2.1ms postprocess per image at shape (1, 3, 640, 384)\n"
          ]
        },
        {
          "output_type": "stream",
          "name": "stdout",
          "text": [
            "Distância estimada: 184.06cm, Altura (estimada | real): 173.35cm | 186.5cm\n"
          ]
        },
        {
          "output_type": "stream",
          "name": "stderr",
          "text": [
            "\n",
            "image 1/1 /content/dataset/images/train/imgRGB_006_002_006.png: 640x384 1 person, 12.0ms\n",
            "Speed: 1.3ms preprocess, 12.0ms inference, 2.1ms postprocess per image at shape (1, 3, 640, 384)\n"
          ]
        },
        {
          "output_type": "stream",
          "name": "stdout",
          "text": [
            "Distância estimada: 250.88cm, Altura (estimada | real): 164.13cm | 171.0cm\n"
          ]
        },
        {
          "output_type": "stream",
          "name": "stderr",
          "text": [
            "\n",
            "image 1/1 /content/dataset/images/train/imgRGB_018_003_004.png: 640x384 1 person, 8.0ms\n",
            "Speed: 1.2ms preprocess, 8.0ms inference, 2.2ms postprocess per image at shape (1, 3, 640, 384)\n"
          ]
        },
        {
          "output_type": "stream",
          "name": "stdout",
          "text": [
            "Distância estimada: 179.1cm, Altura (estimada | real): 146.63cm | 167.0cm\n"
          ]
        },
        {
          "output_type": "stream",
          "name": "stderr",
          "text": [
            "\n",
            "image 1/1 /content/dataset/images/train/imgRGB_025_004_002.png: 640x384 1 person, 8.8ms\n",
            "Speed: 1.3ms preprocess, 8.8ms inference, 4.1ms postprocess per image at shape (1, 3, 640, 384)\n"
          ]
        },
        {
          "output_type": "stream",
          "name": "stdout",
          "text": [
            "Distância estimada: 207.88cm, Altura (estimada | real): 190.94cm | 186.5cm\n"
          ]
        },
        {
          "output_type": "stream",
          "name": "stderr",
          "text": [
            "\n",
            "image 1/1 /content/dataset/images/train/imgRGB_021_003_009.png: 640x384 1 person, 8.0ms\n",
            "Speed: 1.2ms preprocess, 8.0ms inference, 2.2ms postprocess per image at shape (1, 3, 640, 384)\n"
          ]
        },
        {
          "output_type": "stream",
          "name": "stdout",
          "text": [
            "Distância estimada: 279.56cm, Altura (estimada | real): 171.0cm | 160.0cm\n"
          ]
        },
        {
          "output_type": "stream",
          "name": "stderr",
          "text": [
            "\n",
            "image 1/1 /content/dataset/images/train/imgRGB_025_003_000.png: 640x384 1 person, 8.1ms\n",
            "Speed: 1.3ms preprocess, 8.1ms inference, 2.1ms postprocess per image at shape (1, 3, 640, 384)\n"
          ]
        },
        {
          "output_type": "stream",
          "name": "stdout",
          "text": [
            "Distância estimada: 207.92cm, Altura (estimada | real): 180.52cm | 176.0cm\n"
          ]
        },
        {
          "output_type": "stream",
          "name": "stderr",
          "text": [
            "\n",
            "image 1/1 /content/dataset/images/train/imgRGB_024_003_009.png: 640x384 1 person, 10.2ms\n",
            "Speed: 1.3ms preprocess, 10.2ms inference, 2.4ms postprocess per image at shape (1, 3, 640, 384)\n"
          ]
        },
        {
          "output_type": "stream",
          "name": "stdout",
          "text": [
            "Distância estimada: 237.48cm, Altura (estimada | real): 157.99cm | 160.0cm\n"
          ]
        },
        {
          "output_type": "stream",
          "name": "stderr",
          "text": [
            "\n",
            "image 1/1 /content/dataset/images/train/imgRGB_001_003_002.png: 640x384 1 person, 8.8ms\n",
            "Speed: 1.5ms preprocess, 8.8ms inference, 2.1ms postprocess per image at shape (1, 3, 640, 384)\n"
          ]
        },
        {
          "output_type": "stream",
          "name": "stdout",
          "text": [
            "Distância estimada: 213.68cm, Altura (estimada | real): 165.85cm | 166.0cm\n"
          ]
        },
        {
          "output_type": "stream",
          "name": "stderr",
          "text": [
            "\n",
            "image 1/1 /content/dataset/images/train/imgRGB_011_004_000.png: 640x384 1 person, 10.5ms\n",
            "Speed: 1.4ms preprocess, 10.5ms inference, 4.6ms postprocess per image at shape (1, 3, 640, 384)\n"
          ]
        },
        {
          "output_type": "stream",
          "name": "stdout",
          "text": [
            "Distância estimada: 197.1cm, Altura (estimada | real): 156.72cm | 177.0cm\n"
          ]
        },
        {
          "output_type": "stream",
          "name": "stderr",
          "text": [
            "\n",
            "image 1/1 /content/dataset/images/train/imgRGB_024_003_000.png: 640x384 1 person, 7.9ms\n",
            "Speed: 1.2ms preprocess, 7.9ms inference, 2.3ms postprocess per image at shape (1, 3, 640, 384)\n"
          ]
        },
        {
          "output_type": "stream",
          "name": "stdout",
          "text": [
            "Distância estimada: 241.24cm, Altura (estimada | real): 173.39cm | 186.0cm\n"
          ]
        },
        {
          "output_type": "stream",
          "name": "stderr",
          "text": [
            "\n",
            "image 1/1 /content/dataset/images/train/imgRGB_021_003_005.png: 640x384 1 person, 7.7ms\n",
            "Speed: 1.1ms preprocess, 7.7ms inference, 2.2ms postprocess per image at shape (1, 3, 640, 384)\n"
          ]
        },
        {
          "output_type": "stream",
          "name": "stdout",
          "text": [
            "Distância estimada: 205.18cm, Altura (estimada | real): 176.57cm | 166.0cm\n"
          ]
        },
        {
          "output_type": "stream",
          "name": "stderr",
          "text": [
            "\n",
            "image 1/1 /content/dataset/images/train/imgRGB_008_003_007.png: 640x384 1 person, 8.0ms\n",
            "Speed: 1.3ms preprocess, 8.0ms inference, 2.2ms postprocess per image at shape (1, 3, 640, 384)\n"
          ]
        },
        {
          "output_type": "stream",
          "name": "stdout",
          "text": [
            "Distância estimada: 207.22cm, Altura (estimada | real): 187.85cm | 176.0cm\n"
          ]
        },
        {
          "output_type": "stream",
          "name": "stderr",
          "text": [
            "\n",
            "image 1/1 /content/dataset/images/train/imgRGB_023_003_005.png: 640x384 1 person, 8.4ms\n",
            "Speed: 1.3ms preprocess, 8.4ms inference, 2.1ms postprocess per image at shape (1, 3, 640, 384)\n"
          ]
        },
        {
          "output_type": "stream",
          "name": "stdout",
          "text": [
            "Distância estimada: 205.32cm, Altura (estimada | real): 171.18cm | 180.0cm\n"
          ]
        },
        {
          "output_type": "stream",
          "name": "stderr",
          "text": [
            "\n",
            "image 1/1 /content/dataset/images/train/imgRGB_006_004_002.png: 640x384 1 person, 11.9ms\n",
            "Speed: 2.4ms preprocess, 11.9ms inference, 2.8ms postprocess per image at shape (1, 3, 640, 384)\n"
          ]
        },
        {
          "output_type": "stream",
          "name": "stdout",
          "text": [
            "Distância estimada: 207.8cm, Altura (estimada | real): 177.34cm | 187.0cm\n"
          ]
        },
        {
          "output_type": "stream",
          "name": "stderr",
          "text": [
            "\n",
            "image 1/1 /content/dataset/images/train/imgRGB_003_003_005.png: 640x384 1 person, 8.2ms\n",
            "Speed: 1.3ms preprocess, 8.2ms inference, 2.1ms postprocess per image at shape (1, 3, 640, 384)\n"
          ]
        },
        {
          "output_type": "stream",
          "name": "stdout",
          "text": [
            "Distância estimada: 253.04cm, Altura (estimada | real): 167.1cm | 167.0cm\n"
          ]
        },
        {
          "output_type": "stream",
          "name": "stderr",
          "text": [
            "\n",
            "image 1/1 /content/dataset/images/train/imgRGB_014_003_009.png: 640x384 1 person, 8.1ms\n",
            "Speed: 1.2ms preprocess, 8.1ms inference, 2.1ms postprocess per image at shape (1, 3, 640, 384)\n"
          ]
        },
        {
          "output_type": "stream",
          "name": "stdout",
          "text": [
            "Distância estimada: 209.34cm, Altura (estimada | real): 172.92cm | 178.5cm\n"
          ]
        },
        {
          "output_type": "stream",
          "name": "stderr",
          "text": [
            "\n",
            "image 1/1 /content/dataset/images/train/imgRGB_004_003_002.png: 640x384 1 person, 7.8ms\n",
            "Speed: 1.1ms preprocess, 7.8ms inference, 2.3ms postprocess per image at shape (1, 3, 640, 384)\n"
          ]
        },
        {
          "output_type": "stream",
          "name": "stdout",
          "text": [
            "Distância estimada: 201.0cm, Altura (estimada | real): 164.7cm | 175.0cm\n"
          ]
        },
        {
          "output_type": "stream",
          "name": "stderr",
          "text": [
            "\n",
            "image 1/1 /content/dataset/images/train/imgRGB_012_004_007.png: 640x384 1 person, 8.2ms\n",
            "Speed: 1.2ms preprocess, 8.2ms inference, 2.0ms postprocess per image at shape (1, 3, 640, 384)\n"
          ]
        },
        {
          "output_type": "stream",
          "name": "stdout",
          "text": [
            "Distância estimada: 205.8cm, Altura (estimada | real): 156.86cm | 167.0cm\n"
          ]
        },
        {
          "output_type": "stream",
          "name": "stderr",
          "text": [
            "\n",
            "image 1/1 /content/dataset/images/train/imgRGB_008_004_005.png: 640x384 1 person, 12.5ms\n",
            "Speed: 1.3ms preprocess, 12.5ms inference, 2.7ms postprocess per image at shape (1, 3, 640, 384)\n"
          ]
        },
        {
          "output_type": "stream",
          "name": "stdout",
          "text": [
            "Distância estimada: 237.39cm, Altura (estimada | real): 190.0cm | 181.0cm\n"
          ]
        },
        {
          "output_type": "stream",
          "name": "stderr",
          "text": [
            "\n",
            "image 1/1 /content/dataset/images/train/imgRGB_012_002_004.png: 640x384 1 person, 8.1ms\n",
            "Speed: 1.1ms preprocess, 8.1ms inference, 2.2ms postprocess per image at shape (1, 3, 640, 384)\n"
          ]
        },
        {
          "output_type": "stream",
          "name": "stdout",
          "text": [
            "Distância estimada: 247.52cm, Altura (estimada | real): 174.63cm | 180.0cm\n"
          ]
        },
        {
          "output_type": "stream",
          "name": "stderr",
          "text": [
            "\n",
            "image 1/1 /content/dataset/images/train/imgRGB_010_004_003.png: 640x384 1 person, 8.1ms\n",
            "Speed: 1.2ms preprocess, 8.1ms inference, 2.2ms postprocess per image at shape (1, 3, 640, 384)\n"
          ]
        },
        {
          "output_type": "stream",
          "name": "stdout",
          "text": [
            "Distância estimada: 160.98cm, Altura (estimada | real): 146.28cm | 181.0cm\n"
          ]
        },
        {
          "output_type": "stream",
          "name": "stderr",
          "text": [
            "\n",
            "image 1/1 /content/dataset/images/train/imgRGB_019_002_001.png: 640x384 1 person, 8.4ms\n",
            "Speed: 1.2ms preprocess, 8.4ms inference, 2.3ms postprocess per image at shape (1, 3, 640, 384)\n"
          ]
        },
        {
          "output_type": "stream",
          "name": "stdout",
          "text": [
            "Distância estimada: 251.68cm, Altura (estimada | real): 176.51cm | 176.0cm\n"
          ]
        },
        {
          "output_type": "stream",
          "name": "stderr",
          "text": [
            "\n",
            "image 1/1 /content/dataset/images/train/imgRGB_022_003_005.png: 640x384 1 person, 7.8ms\n",
            "Speed: 1.1ms preprocess, 7.8ms inference, 2.1ms postprocess per image at shape (1, 3, 640, 384)\n"
          ]
        },
        {
          "output_type": "stream",
          "name": "stdout",
          "text": [
            "Distância estimada: 181.72cm, Altura (estimada | real): 178.98cm | 176.0cm\n"
          ]
        },
        {
          "output_type": "stream",
          "name": "stderr",
          "text": [
            "\n",
            "image 1/1 /content/dataset/images/train/imgRGB_020_003_006.png: 640x384 1 person, 8.9ms\n",
            "Speed: 1.6ms preprocess, 8.9ms inference, 2.8ms postprocess per image at shape (1, 3, 640, 384)\n"
          ]
        },
        {
          "output_type": "stream",
          "name": "stdout",
          "text": [
            "Distância estimada: 210.77cm, Altura (estimada | real): 184.35cm | 175.0cm\n"
          ]
        },
        {
          "output_type": "stream",
          "name": "stderr",
          "text": [
            "\n",
            "image 1/1 /content/dataset/images/train/imgRGB_017_003_007.png: 640x384 1 person, 8.0ms\n",
            "Speed: 1.4ms preprocess, 8.0ms inference, 2.4ms postprocess per image at shape (1, 3, 640, 384)\n"
          ]
        },
        {
          "output_type": "stream",
          "name": "stdout",
          "text": [
            "Distância estimada: 208.14cm, Altura (estimada | real): 178.92cm | 171.0cm\n"
          ]
        },
        {
          "output_type": "stream",
          "name": "stderr",
          "text": [
            "\n",
            "image 1/1 /content/dataset/images/train/imgRGB_015_004_000.png: 640x384 1 person, 7.9ms\n",
            "Speed: 1.3ms preprocess, 7.9ms inference, 2.3ms postprocess per image at shape (1, 3, 640, 384)\n"
          ]
        },
        {
          "output_type": "stream",
          "name": "stdout",
          "text": [
            "Distância estimada: 215.05cm, Altura (estimada | real): 190.34cm | 184.0cm\n"
          ]
        },
        {
          "output_type": "stream",
          "name": "stderr",
          "text": [
            "\n",
            "image 1/1 /content/dataset/images/train/imgRGB_017_002_009.png: 640x384 1 person, 10.1ms\n",
            "Speed: 1.3ms preprocess, 10.1ms inference, 2.3ms postprocess per image at shape (1, 3, 640, 384)\n"
          ]
        },
        {
          "output_type": "stream",
          "name": "stdout",
          "text": [
            "Distância estimada: 300.08cm, Altura (estimada | real): 146.07cm | 165.0cm\n"
          ]
        },
        {
          "output_type": "stream",
          "name": "stderr",
          "text": [
            "\n",
            "image 1/1 /content/dataset/images/train/imgRGB_014_004_004.png: 640x384 1 person, 7.8ms\n",
            "Speed: 1.1ms preprocess, 7.8ms inference, 2.1ms postprocess per image at shape (1, 3, 640, 384)\n"
          ]
        },
        {
          "output_type": "stream",
          "name": "stdout",
          "text": [
            "Distância estimada: 166.1cm, Altura (estimada | real): 192.65cm | 184.0cm\n"
          ]
        },
        {
          "output_type": "stream",
          "name": "stderr",
          "text": [
            "\n",
            "image 1/1 /content/dataset/images/train/imgRGB_003_003_000.png: 640x384 1 person, 9.2ms\n",
            "Speed: 1.4ms preprocess, 9.2ms inference, 3.0ms postprocess per image at shape (1, 3, 640, 384)\n"
          ]
        },
        {
          "output_type": "stream",
          "name": "stdout",
          "text": [
            "Distância estimada: 245.08cm, Altura (estimada | real): 180.19cm | 175.0cm\n"
          ]
        },
        {
          "output_type": "stream",
          "name": "stderr",
          "text": [
            "\n",
            "image 1/1 /content/dataset/images/train/imgRGB_009_002_000.png: 640x384 1 person, 7.9ms\n",
            "Speed: 1.2ms preprocess, 7.9ms inference, 2.1ms postprocess per image at shape (1, 3, 640, 384)\n"
          ]
        },
        {
          "output_type": "stream",
          "name": "stdout",
          "text": [
            "Distância estimada: 209.78cm, Altura (estimada | real): 171.03cm | 178.5cm\n"
          ]
        },
        {
          "output_type": "stream",
          "name": "stderr",
          "text": [
            "\n",
            "image 1/1 /content/dataset/images/train/imgRGB_008_003_001.png: 640x384 1 person, 7.8ms\n",
            "Speed: 1.1ms preprocess, 7.8ms inference, 2.1ms postprocess per image at shape (1, 3, 640, 384)\n"
          ]
        },
        {
          "output_type": "stream",
          "name": "stdout",
          "text": [
            "Distância estimada: 177.23cm, Altura (estimada | real): 142.39cm | 166.0cm\n"
          ]
        },
        {
          "output_type": "stream",
          "name": "stderr",
          "text": [
            "\n",
            "image 1/1 /content/dataset/images/train/imgRGB_013_004_002.png: 640x384 1 person, 7.9ms\n",
            "Speed: 1.1ms preprocess, 7.9ms inference, 2.2ms postprocess per image at shape (1, 3, 640, 384)\n"
          ]
        },
        {
          "output_type": "stream",
          "name": "stdout",
          "text": [
            "Distância estimada: 208.34cm, Altura (estimada | real): 167.22cm | 180.0cm\n"
          ]
        },
        {
          "output_type": "stream",
          "name": "stderr",
          "text": [
            "\n",
            "image 1/1 /content/dataset/images/train/imgRGB_003_004_007.png: 640x384 1 person, 8.9ms\n",
            "Speed: 1.2ms preprocess, 8.9ms inference, 2.0ms postprocess per image at shape (1, 3, 640, 384)\n"
          ]
        },
        {
          "output_type": "stream",
          "name": "stdout",
          "text": [
            "Distância estimada: 267.61cm, Altura (estimada | real): 167.68cm | 182.0cm\n"
          ]
        },
        {
          "output_type": "stream",
          "name": "stderr",
          "text": [
            "\n",
            "image 1/1 /content/dataset/images/train/imgRGB_001_002_004.png: 640x384 1 person, 12.5ms\n",
            "Speed: 2.7ms preprocess, 12.5ms inference, 2.9ms postprocess per image at shape (1, 3, 640, 384)\n"
          ]
        },
        {
          "output_type": "stream",
          "name": "stdout",
          "text": [
            "Distância estimada: 252.73cm, Altura (estimada | real): 182.89cm | 178.5cm\n"
          ]
        },
        {
          "output_type": "stream",
          "name": "stderr",
          "text": [
            "\n",
            "image 1/1 /content/dataset/images/train/imgRGB_023_002_003.png: 640x384 1 person, 7.9ms\n",
            "Speed: 1.2ms preprocess, 7.9ms inference, 2.2ms postprocess per image at shape (1, 3, 640, 384)\n"
          ]
        },
        {
          "output_type": "stream",
          "name": "stdout",
          "text": [
            "Distância estimada: 169.22cm, Altura (estimada | real): 158.22cm | 177.0cm\n"
          ]
        },
        {
          "output_type": "stream",
          "name": "stderr",
          "text": [
            "\n",
            "image 1/1 /content/dataset/images/train/imgRGB_003_003_009.png: 640x384 1 person, 7.7ms\n",
            "Speed: 1.1ms preprocess, 7.7ms inference, 2.1ms postprocess per image at shape (1, 3, 640, 384)\n"
          ]
        },
        {
          "output_type": "stream",
          "name": "stdout",
          "text": [
            "Distância estimada: 184.67cm, Altura (estimada | real): 179.33cm | 187.0cm\n"
          ]
        },
        {
          "output_type": "stream",
          "name": "stderr",
          "text": [
            "\n",
            "image 1/1 /content/dataset/images/train/imgRGB_021_003_000.png: 640x384 1 person, 7.8ms\n",
            "Speed: 1.2ms preprocess, 7.8ms inference, 2.0ms postprocess per image at shape (1, 3, 640, 384)\n"
          ]
        },
        {
          "output_type": "stream",
          "name": "stdout",
          "text": [
            "Distância estimada: 207.7cm, Altura (estimada | real): 173.72cm | 178.5cm\n"
          ]
        },
        {
          "output_type": "stream",
          "name": "stderr",
          "text": [
            "\n",
            "image 1/1 /content/dataset/images/train/imgRGB_008_003_006.png: 640x384 1 person, 7.9ms\n",
            "Speed: 1.0ms preprocess, 7.9ms inference, 2.2ms postprocess per image at shape (1, 3, 640, 384)\n"
          ]
        },
        {
          "output_type": "stream",
          "name": "stdout",
          "text": [
            "Distância estimada: 211.2cm, Altura (estimada | real): 184.12cm | 176.0cm\n"
          ]
        },
        {
          "output_type": "stream",
          "name": "stderr",
          "text": [
            "\n",
            "image 1/1 /content/dataset/images/train/imgRGB_006_002_003.png: 640x384 1 person, 9.3ms\n",
            "Speed: 1.3ms preprocess, 9.3ms inference, 2.9ms postprocess per image at shape (1, 3, 640, 384)\n"
          ]
        },
        {
          "output_type": "stream",
          "name": "stdout",
          "text": [
            "Distância estimada: 204.74cm, Altura (estimada | real): 168.68cm | 180.0cm\n"
          ]
        },
        {
          "output_type": "stream",
          "name": "stderr",
          "text": [
            "\n",
            "image 1/1 /content/dataset/images/train/imgRGB_014_002_007.png: 640x384 1 person, 10.5ms\n",
            "Speed: 1.3ms preprocess, 10.5ms inference, 2.1ms postprocess per image at shape (1, 3, 640, 384)\n"
          ]
        },
        {
          "output_type": "stream",
          "name": "stdout",
          "text": [
            "Distância estimada: 170.04cm, Altura (estimada | real): 149.83cm | 167.0cm\n"
          ]
        },
        {
          "output_type": "stream",
          "name": "stderr",
          "text": [
            "\n",
            "image 1/1 /content/dataset/images/train/imgRGB_015_003_003.png: 640x384 1 person, 8.7ms\n",
            "Speed: 1.5ms preprocess, 8.7ms inference, 2.4ms postprocess per image at shape (1, 3, 640, 384)\n"
          ]
        },
        {
          "output_type": "stream",
          "name": "stdout",
          "text": [
            "Distância estimada: 168.46cm, Altura (estimada | real): 156.74cm | 175.0cm\n"
          ]
        },
        {
          "output_type": "stream",
          "name": "stderr",
          "text": [
            "\n",
            "image 1/1 /content/dataset/images/train/imgRGB_001_004_004.png: 640x384 1 person, 7.6ms\n",
            "Speed: 1.1ms preprocess, 7.6ms inference, 2.2ms postprocess per image at shape (1, 3, 640, 384)\n"
          ]
        },
        {
          "output_type": "stream",
          "name": "stdout",
          "text": [
            "Distância estimada: 210.22cm, Altura (estimada | real): 161.77cm | 165.0cm\n"
          ]
        },
        {
          "output_type": "stream",
          "name": "stderr",
          "text": [
            "\n",
            "image 1/1 /content/dataset/images/train/imgRGB_018_003_009.png: 640x384 1 person, 10.2ms\n",
            "Speed: 1.5ms preprocess, 10.2ms inference, 2.9ms postprocess per image at shape (1, 3, 640, 384)\n"
          ]
        },
        {
          "output_type": "stream",
          "name": "stdout",
          "text": [
            "Distância estimada: 244.29cm, Altura (estimada | real): 177.44cm | 177.0cm\n"
          ]
        },
        {
          "output_type": "stream",
          "name": "stderr",
          "text": [
            "\n",
            "image 1/1 /content/dataset/images/train/imgRGB_014_004_007.png: 640x384 1 person, 10.8ms\n",
            "Speed: 1.5ms preprocess, 10.8ms inference, 2.9ms postprocess per image at shape (1, 3, 640, 384)\n"
          ]
        },
        {
          "output_type": "stream",
          "name": "stdout",
          "text": [
            "Distância estimada: 202.19cm, Altura (estimada | real): 193.71cm | 186.5cm\n"
          ]
        },
        {
          "output_type": "stream",
          "name": "stderr",
          "text": [
            "\n",
            "image 1/1 /content/dataset/images/train/imgRGB_004_004_004.png: 640x384 1 person, 8.1ms\n",
            "Speed: 1.2ms preprocess, 8.1ms inference, 2.1ms postprocess per image at shape (1, 3, 640, 384)\n"
          ]
        },
        {
          "output_type": "stream",
          "name": "stdout",
          "text": [
            "Distância estimada: 247.59cm, Altura (estimada | real): 180.2cm | 175.0cm\n"
          ]
        },
        {
          "output_type": "stream",
          "name": "stderr",
          "text": [
            "\n",
            "image 1/1 /content/dataset/images/train/imgRGB_023_003_003.png: 640x384 1 person, 9.3ms\n",
            "Speed: 1.3ms preprocess, 9.3ms inference, 2.3ms postprocess per image at shape (1, 3, 640, 384)\n"
          ]
        },
        {
          "output_type": "stream",
          "name": "stdout",
          "text": [
            "Distância estimada: 257.3cm, Altura (estimada | real): 159.04cm | 167.0cm\n"
          ]
        },
        {
          "output_type": "stream",
          "name": "stderr",
          "text": [
            "\n",
            "image 1/1 /content/dataset/images/train/imgRGB_023_003_002.png: 640x384 1 person, 10.5ms\n",
            "Speed: 1.3ms preprocess, 10.5ms inference, 2.4ms postprocess per image at shape (1, 3, 640, 384)\n"
          ]
        },
        {
          "output_type": "stream",
          "name": "stdout",
          "text": [
            "Distância estimada: 208.94cm, Altura (estimada | real): 175.93cm | 187.0cm\n"
          ]
        },
        {
          "output_type": "stream",
          "name": "stderr",
          "text": [
            "\n",
            "image 1/1 /content/dataset/images/train/imgRGB_008_002_000.png: 640x384 1 person, 9.0ms\n",
            "Speed: 1.4ms preprocess, 9.0ms inference, 2.1ms postprocess per image at shape (1, 3, 640, 384)\n"
          ]
        },
        {
          "output_type": "stream",
          "name": "stdout",
          "text": [
            "Distância estimada: 215.64cm, Altura (estimada | real): 176.26cm | 187.0cm\n"
          ]
        },
        {
          "output_type": "stream",
          "name": "stderr",
          "text": [
            "\n",
            "image 1/1 /content/dataset/images/train/imgRGB_019_004_002.png: 640x384 1 person, 9.0ms\n",
            "Speed: 1.2ms preprocess, 9.0ms inference, 2.8ms postprocess per image at shape (1, 3, 640, 384)\n"
          ]
        },
        {
          "output_type": "stream",
          "name": "stdout",
          "text": [
            "Distância estimada: 173.8cm, Altura (estimada | real): 171.95cm | 180.0cm\n"
          ]
        },
        {
          "output_type": "stream",
          "name": "stderr",
          "text": [
            "\n",
            "image 1/1 /content/dataset/images/train/imgRGB_008_002_005.png: 640x384 1 person, 8.0ms\n",
            "Speed: 1.2ms preprocess, 8.0ms inference, 2.2ms postprocess per image at shape (1, 3, 640, 384)\n"
          ]
        },
        {
          "output_type": "stream",
          "name": "stdout",
          "text": [
            "Distância estimada: 258.48cm, Altura (estimada | real): 175.5cm | 176.0cm\n"
          ]
        },
        {
          "output_type": "stream",
          "name": "stderr",
          "text": [
            "\n",
            "image 1/1 /content/dataset/images/train/imgRGB_010_002_004.png: 640x384 1 person, 10.0ms\n",
            "Speed: 1.3ms preprocess, 10.0ms inference, 2.5ms postprocess per image at shape (1, 3, 640, 384)\n"
          ]
        },
        {
          "output_type": "stream",
          "name": "stdout",
          "text": [
            "Distância estimada: 170.6cm, Altura (estimada | real): 166.38cm | 180.0cm\n"
          ]
        },
        {
          "output_type": "stream",
          "name": "stderr",
          "text": [
            "\n",
            "image 1/1 /content/dataset/images/train/imgRGB_009_004_004.png: 640x384 1 person, 7.9ms\n",
            "Speed: 1.3ms preprocess, 7.9ms inference, 2.3ms postprocess per image at shape (1, 3, 640, 384)\n"
          ]
        },
        {
          "output_type": "stream",
          "name": "stdout",
          "text": [
            "Distância estimada: 171.14cm, Altura (estimada | real): 154.41cm | 176.0cm\n"
          ]
        },
        {
          "output_type": "stream",
          "name": "stderr",
          "text": [
            "\n",
            "image 1/1 /content/dataset/images/train/imgRGB_018_003_008.png: 640x384 1 person, 7.9ms\n",
            "Speed: 1.1ms preprocess, 7.9ms inference, 2.3ms postprocess per image at shape (1, 3, 640, 384)\n"
          ]
        },
        {
          "output_type": "stream",
          "name": "stdout",
          "text": [
            "Distância estimada: 263.17cm, Altura (estimada | real): 170.55cm | 166.0cm\n"
          ]
        },
        {
          "output_type": "stream",
          "name": "stderr",
          "text": [
            "\n",
            "image 1/1 /content/dataset/images/train/imgRGB_013_003_004.png: 640x384 1 person, 9.6ms\n",
            "Speed: 1.4ms preprocess, 9.6ms inference, 2.8ms postprocess per image at shape (1, 3, 640, 384)\n"
          ]
        },
        {
          "output_type": "stream",
          "name": "stdout",
          "text": [
            "Distância estimada: 207.12cm, Altura (estimada | real): 191.66cm | 186.5cm\n"
          ]
        },
        {
          "output_type": "stream",
          "name": "stderr",
          "text": [
            "\n",
            "image 1/1 /content/dataset/images/train/imgRGB_012_003_002.png: 640x384 1 person, 8.6ms\n",
            "Speed: 1.4ms preprocess, 8.6ms inference, 2.1ms postprocess per image at shape (1, 3, 640, 384)\n"
          ]
        },
        {
          "output_type": "stream",
          "name": "stdout",
          "text": [
            "Distância estimada: 209.95cm, Altura (estimada | real): 163.22cm | 182.0cm\n"
          ]
        },
        {
          "output_type": "stream",
          "name": "stderr",
          "text": [
            "\n",
            "image 1/1 /content/dataset/images/train/imgRGB_014_002_005.png: 640x384 1 person, 7.9ms\n",
            "Speed: 1.2ms preprocess, 7.9ms inference, 2.2ms postprocess per image at shape (1, 3, 640, 384)\n"
          ]
        },
        {
          "output_type": "stream",
          "name": "stdout",
          "text": [
            "Distância estimada: 201.16cm, Altura (estimada | real): 168.42cm | 181.0cm\n"
          ]
        },
        {
          "output_type": "stream",
          "name": "stderr",
          "text": [
            "\n",
            "image 1/1 /content/dataset/images/train/imgRGB_004_002_002.png: 640x384 1 person, 7.8ms\n",
            "Speed: 1.1ms preprocess, 7.8ms inference, 2.3ms postprocess per image at shape (1, 3, 640, 384)\n"
          ]
        },
        {
          "output_type": "stream",
          "name": "stdout",
          "text": [
            "Distância estimada: 170.24cm, Altura (estimada | real): 161.84cm | 175.0cm\n"
          ]
        },
        {
          "output_type": "stream",
          "name": "stderr",
          "text": [
            "\n",
            "image 1/1 /content/dataset/images/train/imgRGB_007_002_005.png: 640x384 1 person, 9.5ms\n",
            "Speed: 1.4ms preprocess, 9.5ms inference, 2.5ms postprocess per image at shape (1, 3, 640, 384)\n"
          ]
        },
        {
          "output_type": "stream",
          "name": "stdout",
          "text": [
            "Distância estimada: 181.64cm, Altura (estimada | real): 166.23cm | 167.0cm\n"
          ]
        },
        {
          "output_type": "stream",
          "name": "stderr",
          "text": [
            "\n",
            "image 1/1 /content/dataset/images/train/imgRGB_004_004_000.png: 640x384 1 person, 10.3ms\n",
            "Speed: 2.5ms preprocess, 10.3ms inference, 2.9ms postprocess per image at shape (1, 3, 640, 384)\n"
          ]
        },
        {
          "output_type": "stream",
          "name": "stdout",
          "text": [
            "Distância estimada: 178.44cm, Altura (estimada | real): 165.45cm | 172.0cm\n"
          ]
        },
        {
          "output_type": "stream",
          "name": "stderr",
          "text": [
            "\n",
            "image 1/1 /content/dataset/images/train/imgRGB_002_002_005.png: 640x384 1 person, 7.9ms\n",
            "Speed: 1.1ms preprocess, 7.9ms inference, 2.3ms postprocess per image at shape (1, 3, 640, 384)\n"
          ]
        },
        {
          "output_type": "stream",
          "name": "stdout",
          "text": [
            "Distância estimada: 259.12cm, Altura (estimada | real): 157.81cm | 167.0cm\n"
          ]
        },
        {
          "output_type": "stream",
          "name": "stderr",
          "text": [
            "\n",
            "image 1/1 /content/dataset/images/train/imgRGB_011_002_000.png: 640x384 1 person, 8.1ms\n",
            "Speed: 1.3ms preprocess, 8.1ms inference, 2.4ms postprocess per image at shape (1, 3, 640, 384)\n"
          ]
        },
        {
          "output_type": "stream",
          "name": "stdout",
          "text": [
            "Distância estimada: 172.31cm, Altura (estimada | real): 151.35cm | 177.0cm\n"
          ]
        },
        {
          "output_type": "stream",
          "name": "stderr",
          "text": [
            "\n",
            "image 1/1 /content/dataset/images/train/imgRGB_008_002_008.png: 640x384 1 person, 7.8ms\n",
            "Speed: 1.1ms preprocess, 7.8ms inference, 2.1ms postprocess per image at shape (1, 3, 640, 384)\n"
          ]
        },
        {
          "output_type": "stream",
          "name": "stdout",
          "text": [
            "Distância estimada: 170.75cm, Altura (estimada | real): 158.51cm | 186.0cm\n"
          ]
        },
        {
          "output_type": "stream",
          "name": "stderr",
          "text": [
            "\n",
            "image 1/1 /content/dataset/images/train/imgRGB_025_002_001.png: 640x384 1 person, 10.8ms\n",
            "Speed: 1.4ms preprocess, 10.8ms inference, 2.2ms postprocess per image at shape (1, 3, 640, 384)\n"
          ]
        },
        {
          "output_type": "stream",
          "name": "stdout",
          "text": [
            "Distância estimada: 178.52cm, Altura (estimada | real): 169.5cm | 180.0cm\n"
          ]
        },
        {
          "output_type": "stream",
          "name": "stderr",
          "text": [
            "\n",
            "image 1/1 /content/dataset/images/train/imgRGB_005_004_009.png: 640x384 1 person, 9.9ms\n",
            "Speed: 3.4ms preprocess, 9.9ms inference, 2.8ms postprocess per image at shape (1, 3, 640, 384)\n"
          ]
        },
        {
          "output_type": "stream",
          "name": "stdout",
          "text": [
            "Distância estimada: 195.9cm, Altura (estimada | real): 176.28cm | 160.0cm\n"
          ]
        },
        {
          "output_type": "stream",
          "name": "stderr",
          "text": [
            "\n",
            "image 1/1 /content/dataset/images/train/imgRGB_025_002_003.png: 640x384 1 person, 9.2ms\n",
            "Speed: 1.4ms preprocess, 9.2ms inference, 2.3ms postprocess per image at shape (1, 3, 640, 384)\n"
          ]
        },
        {
          "output_type": "stream",
          "name": "stdout",
          "text": [
            "Distância estimada: 260.14cm, Altura (estimada | real): 174.22cm | 175.0cm\n"
          ]
        },
        {
          "output_type": "stream",
          "name": "stderr",
          "text": [
            "\n",
            "image 1/1 /content/dataset/images/train/imgRGB_019_002_007.png: 640x384 1 person, 10.9ms\n",
            "Speed: 1.5ms preprocess, 10.9ms inference, 2.3ms postprocess per image at shape (1, 3, 640, 384)\n"
          ]
        },
        {
          "output_type": "stream",
          "name": "stdout",
          "text": [
            "Distância estimada: 191.18cm, Altura (estimada | real): 178.87cm | 160.0cm\n"
          ]
        },
        {
          "output_type": "stream",
          "name": "stderr",
          "text": [
            "\n",
            "image 1/1 /content/dataset/images/train/imgRGB_023_004_005.png: 640x384 1 person, 8.0ms\n",
            "Speed: 1.2ms preprocess, 8.0ms inference, 2.2ms postprocess per image at shape (1, 3, 640, 384)\n"
          ]
        },
        {
          "output_type": "stream",
          "name": "stdout",
          "text": [
            "Distância estimada: 181.98cm, Altura (estimada | real): 177.1cm | 176.0cm\n"
          ]
        },
        {
          "output_type": "stream",
          "name": "stderr",
          "text": [
            "\n",
            "image 1/1 /content/dataset/images/train/imgRGB_010_003_004.png: 640x384 1 person, 7.9ms\n",
            "Speed: 1.2ms preprocess, 7.9ms inference, 2.1ms postprocess per image at shape (1, 3, 640, 384)\n"
          ]
        },
        {
          "output_type": "stream",
          "name": "stdout",
          "text": [
            "Distância estimada: 266.48cm, Altura (estimada | real): 183.34cm | 187.0cm\n"
          ]
        },
        {
          "output_type": "stream",
          "name": "stderr",
          "text": [
            "\n",
            "image 1/1 /content/dataset/images/train/imgRGB_024_003_004.png: 640x384 1 person, 15.8ms\n",
            "Speed: 1.4ms preprocess, 15.8ms inference, 3.0ms postprocess per image at shape (1, 3, 640, 384)\n"
          ]
        },
        {
          "output_type": "stream",
          "name": "stdout",
          "text": [
            "Distância estimada: 198.21cm, Altura (estimada | real): 163.09cm | 176.0cm\n"
          ]
        },
        {
          "output_type": "stream",
          "name": "stderr",
          "text": [
            "\n",
            "image 1/1 /content/dataset/images/train/imgRGB_001_004_008.png: 640x384 1 person, 8.6ms\n",
            "Speed: 1.4ms preprocess, 8.6ms inference, 2.2ms postprocess per image at shape (1, 3, 640, 384)\n"
          ]
        },
        {
          "output_type": "stream",
          "name": "stdout",
          "text": [
            "Distância estimada: 215.54cm, Altura (estimada | real): 167.58cm | 166.0cm\n"
          ]
        },
        {
          "output_type": "stream",
          "name": "stderr",
          "text": [
            "\n",
            "image 1/1 /content/dataset/images/train/imgRGB_016_003_007.png: 640x384 1 person, 11.1ms\n",
            "Speed: 1.4ms preprocess, 11.1ms inference, 2.3ms postprocess per image at shape (1, 3, 640, 384)\n"
          ]
        },
        {
          "output_type": "stream",
          "name": "stdout",
          "text": [
            "Distância estimada: 239.62cm, Altura (estimada | real): 177.5cm | 177.0cm\n"
          ]
        },
        {
          "output_type": "stream",
          "name": "stderr",
          "text": [
            "\n",
            "image 1/1 /content/dataset/images/train/imgRGB_015_004_005.png: 640x384 1 person, 11.5ms\n",
            "Speed: 1.3ms preprocess, 11.5ms inference, 3.1ms postprocess per image at shape (1, 3, 640, 384)\n"
          ]
        },
        {
          "output_type": "stream",
          "name": "stdout",
          "text": [
            "Distância estimada: 222.73cm, Altura (estimada | real): 162.73cm | 175.0cm\n"
          ]
        },
        {
          "output_type": "stream",
          "name": "stderr",
          "text": [
            "\n",
            "image 1/1 /content/dataset/images/train/imgRGB_001_003_004.png: 640x384 1 person, 8.7ms\n",
            "Speed: 1.5ms preprocess, 8.7ms inference, 2.1ms postprocess per image at shape (1, 3, 640, 384)\n"
          ]
        },
        {
          "output_type": "stream",
          "name": "stdout",
          "text": [
            "Distância estimada: 265.98cm, Altura (estimada | real): 167.35cm | 165.0cm\n"
          ]
        },
        {
          "output_type": "stream",
          "name": "stderr",
          "text": [
            "\n",
            "image 1/1 /content/dataset/images/train/imgRGB_025_002_005.png: 640x384 1 person, 12.0ms\n",
            "Speed: 4.5ms preprocess, 12.0ms inference, 3.0ms postprocess per image at shape (1, 3, 640, 384)\n"
          ]
        },
        {
          "output_type": "stream",
          "name": "stdout",
          "text": [
            "Distância estimada: 203.73cm, Altura (estimada | real): 152.15cm | 177.0cm\n"
          ]
        },
        {
          "output_type": "stream",
          "name": "stderr",
          "text": [
            "\n",
            "image 1/1 /content/dataset/images/train/imgRGB_016_003_009.png: 640x384 1 person, 8.3ms\n",
            "Speed: 1.4ms preprocess, 8.3ms inference, 2.1ms postprocess per image at shape (1, 3, 640, 384)\n"
          ]
        },
        {
          "output_type": "stream",
          "name": "stdout",
          "text": [
            "Distância estimada: 181.42cm, Altura (estimada | real): 178.2cm | 160.0cm\n"
          ]
        },
        {
          "output_type": "stream",
          "name": "stderr",
          "text": [
            "\n",
            "image 1/1 /content/dataset/images/train/imgRGB_014_003_008.png: 640x384 1 person, 8.4ms\n",
            "Speed: 1.4ms preprocess, 8.4ms inference, 2.1ms postprocess per image at shape (1, 3, 640, 384)\n"
          ]
        },
        {
          "output_type": "stream",
          "name": "stdout",
          "text": [
            "Distância estimada: 227.12cm, Altura (estimada | real): 158.84cm | 175.0cm\n"
          ]
        },
        {
          "output_type": "stream",
          "name": "stderr",
          "text": [
            "\n",
            "image 1/1 /content/dataset/images/train/imgRGB_018_003_005.png: 640x384 1 person, 8.3ms\n",
            "Speed: 1.7ms preprocess, 8.3ms inference, 2.3ms postprocess per image at shape (1, 3, 640, 384)\n"
          ]
        },
        {
          "output_type": "stream",
          "name": "stdout",
          "text": [
            "Distância estimada: 200.99cm, Altura (estimada | real): 170.43cm | 175.0cm\n"
          ]
        },
        {
          "output_type": "stream",
          "name": "stderr",
          "text": [
            "\n",
            "image 1/1 /content/dataset/images/train/imgRGB_008_002_004.png: 640x384 1 person, 9.2ms\n",
            "Speed: 1.3ms preprocess, 9.2ms inference, 2.2ms postprocess per image at shape (1, 3, 640, 384)\n"
          ]
        },
        {
          "output_type": "stream",
          "name": "stdout",
          "text": [
            "Distância estimada: 206.48cm, Altura (estimada | real): 190.34cm | 186.5cm\n"
          ]
        },
        {
          "output_type": "stream",
          "name": "stderr",
          "text": [
            "\n",
            "image 1/1 /content/dataset/images/train/imgRGB_001_004_005.png: 640x384 1 person, 8.9ms\n",
            "Speed: 1.3ms preprocess, 8.9ms inference, 2.7ms postprocess per image at shape (1, 3, 640, 384)\n"
          ]
        },
        {
          "output_type": "stream",
          "name": "stdout",
          "text": [
            "Distância estimada: 163.18cm, Altura (estimada | real): 166.62cm | 180.0cm\n"
          ]
        },
        {
          "output_type": "stream",
          "name": "stderr",
          "text": [
            "\n",
            "image 1/1 /content/dataset/images/train/imgRGB_012_002_006.png: 640x384 1 person, 9.5ms\n",
            "Speed: 1.4ms preprocess, 9.5ms inference, 2.3ms postprocess per image at shape (1, 3, 640, 384)\n"
          ]
        },
        {
          "output_type": "stream",
          "name": "stdout",
          "text": [
            "Distância estimada: 246.23cm, Altura (estimada | real): 178.18cm | 177.0cm\n"
          ]
        },
        {
          "output_type": "stream",
          "name": "stderr",
          "text": [
            "\n",
            "image 1/1 /content/dataset/images/train/imgRGB_010_003_009.png: 640x384 1 person, 10.4ms\n",
            "Speed: 1.3ms preprocess, 10.4ms inference, 2.3ms postprocess per image at shape (1, 3, 640, 384)\n"
          ]
        },
        {
          "output_type": "stream",
          "name": "stdout",
          "text": [
            "Distância estimada: 163.68cm, Altura (estimada | real): 149.67cm | 181.0cm\n"
          ]
        },
        {
          "output_type": "stream",
          "name": "stderr",
          "text": [
            "\n",
            "image 1/1 /content/dataset/images/train/imgRGB_015_002_004.png: 640x384 1 person, 7.9ms\n",
            "Speed: 1.4ms preprocess, 7.9ms inference, 2.1ms postprocess per image at shape (1, 3, 640, 384)\n"
          ]
        },
        {
          "output_type": "stream",
          "name": "stdout",
          "text": [
            "Distância estimada: 198.76cm, Altura (estimada | real): 166.16cm | 176.0cm\n"
          ]
        },
        {
          "output_type": "stream",
          "name": "stderr",
          "text": [
            "\n",
            "image 1/1 /content/dataset/images/train/imgRGB_010_004_008.png: 640x384 1 person, 9.8ms\n",
            "Speed: 1.4ms preprocess, 9.8ms inference, 2.4ms postprocess per image at shape (1, 3, 640, 384)\n"
          ]
        },
        {
          "output_type": "stream",
          "name": "stdout",
          "text": [
            "Distância estimada: 175.52cm, Altura (estimada | real): 167.29cm | 165.0cm\n"
          ]
        },
        {
          "output_type": "stream",
          "name": "stderr",
          "text": [
            "\n",
            "image 1/1 /content/dataset/images/train/imgRGB_002_004_002.png: 640x384 1 person, 10.1ms\n",
            "Speed: 1.7ms preprocess, 10.1ms inference, 2.9ms postprocess per image at shape (1, 3, 640, 384)\n"
          ]
        },
        {
          "output_type": "stream",
          "name": "stdout",
          "text": [
            "Distância estimada: 246.12cm, Altura (estimada | real): 178.83cm | 176.0cm\n"
          ]
        },
        {
          "output_type": "stream",
          "name": "stderr",
          "text": [
            "\n",
            "image 1/1 /content/dataset/images/train/imgRGB_011_004_004.png: 640x384 1 person, 7.7ms\n",
            "Speed: 1.2ms preprocess, 7.7ms inference, 2.1ms postprocess per image at shape (1, 3, 640, 384)\n"
          ]
        },
        {
          "output_type": "stream",
          "name": "stdout",
          "text": [
            "Distância estimada: 255.98cm, Altura (estimada | real): 176.11cm | 177.0cm\n"
          ]
        },
        {
          "output_type": "stream",
          "name": "stderr",
          "text": [
            "\n",
            "image 1/1 /content/dataset/images/train/imgRGB_003_004_005.png: 640x384 1 person, 11.5ms\n",
            "Speed: 1.3ms preprocess, 11.5ms inference, 2.3ms postprocess per image at shape (1, 3, 640, 384)\n"
          ]
        },
        {
          "output_type": "stream",
          "name": "stdout",
          "text": [
            "Distância estimada: 244.6cm, Altura (estimada | real): 171.2cm | 186.0cm\n"
          ]
        },
        {
          "output_type": "stream",
          "name": "stderr",
          "text": [
            "\n",
            "image 1/1 /content/dataset/images/train/imgRGB_025_003_009.png: 640x384 1 person, 9.6ms\n",
            "Speed: 1.2ms preprocess, 9.6ms inference, 2.3ms postprocess per image at shape (1, 3, 640, 384)\n"
          ]
        },
        {
          "output_type": "stream",
          "name": "stdout",
          "text": [
            "Distância estimada: 251.22cm, Altura (estimada | real): 177.01cm | 178.5cm\n"
          ]
        },
        {
          "output_type": "stream",
          "name": "stderr",
          "text": [
            "\n",
            "image 1/1 /content/dataset/images/train/imgRGB_007_004_003.png: 640x384 1 person, 10.0ms\n",
            "Speed: 1.3ms preprocess, 10.0ms inference, 2.2ms postprocess per image at shape (1, 3, 640, 384)\n"
          ]
        },
        {
          "output_type": "stream",
          "name": "stdout",
          "text": [
            "Distância estimada: 239.41cm, Altura (estimada | real): 167.17cm | 160.0cm\n"
          ]
        },
        {
          "output_type": "stream",
          "name": "stderr",
          "text": [
            "\n",
            "image 1/1 /content/dataset/images/train/imgRGB_004_003_008.png: 640x384 1 person, 12.0ms\n",
            "Speed: 1.3ms preprocess, 12.0ms inference, 2.8ms postprocess per image at shape (1, 3, 640, 384)\n"
          ]
        },
        {
          "output_type": "stream",
          "name": "stdout",
          "text": [
            "Distância estimada: 255.1cm, Altura (estimada | real): 172.41cm | 172.0cm\n"
          ]
        },
        {
          "output_type": "stream",
          "name": "stderr",
          "text": [
            "\n",
            "image 1/1 /content/dataset/images/train/imgRGB_023_004_007.png: 640x384 1 person, 7.8ms\n",
            "Speed: 1.1ms preprocess, 7.8ms inference, 2.2ms postprocess per image at shape (1, 3, 640, 384)\n"
          ]
        },
        {
          "output_type": "stream",
          "name": "stdout",
          "text": [
            "Distância estimada: 211.07cm, Altura (estimada | real): 149.68cm | 167.0cm\n"
          ]
        },
        {
          "output_type": "stream",
          "name": "stderr",
          "text": [
            "\n",
            "image 1/1 /content/dataset/images/train/imgRGB_008_002_002.png: 640x384 1 person, 9.8ms\n",
            "Speed: 1.4ms preprocess, 9.8ms inference, 2.2ms postprocess per image at shape (1, 3, 640, 384)\n"
          ]
        },
        {
          "output_type": "stream",
          "name": "stdout",
          "text": [
            "Distância estimada: 257.24cm, Altura (estimada | real): 186.91cm | 187.0cm\n"
          ]
        },
        {
          "output_type": "stream",
          "name": "stderr",
          "text": [
            "\n",
            "image 1/1 /content/dataset/images/train/imgRGB_025_004_004.png: 640x384 1 person, 7.8ms\n",
            "Speed: 1.2ms preprocess, 7.8ms inference, 2.1ms postprocess per image at shape (1, 3, 640, 384)\n"
          ]
        },
        {
          "output_type": "stream",
          "name": "stdout",
          "text": [
            "Distância estimada: 178.3cm, Altura (estimada | real): 174.11cm | 180.0cm\n"
          ]
        },
        {
          "output_type": "stream",
          "name": "stderr",
          "text": [
            "\n",
            "image 1/1 /content/dataset/images/train/imgRGB_014_004_000.png: 640x384 1 person, 8.7ms\n",
            "Speed: 1.1ms preprocess, 8.7ms inference, 2.1ms postprocess per image at shape (1, 3, 640, 384)\n"
          ]
        },
        {
          "output_type": "stream",
          "name": "stdout",
          "text": [
            "Distância estimada: 288.46cm, Altura (estimada | real): 172.15cm | 160.0cm\n"
          ]
        },
        {
          "output_type": "stream",
          "name": "stderr",
          "text": [
            "\n",
            "image 1/1 /content/dataset/images/train/imgRGB_024_004_007.png: 640x384 1 person, 13.8ms\n",
            "Speed: 3.8ms preprocess, 13.8ms inference, 2.8ms postprocess per image at shape (1, 3, 640, 384)\n"
          ]
        },
        {
          "output_type": "stream",
          "name": "stdout",
          "text": [
            "Distância estimada: 251.37cm, Altura (estimada | real): 180.24cm | 175.0cm\n"
          ]
        },
        {
          "output_type": "stream",
          "name": "stderr",
          "text": [
            "\n",
            "image 1/1 /content/dataset/images/train/imgRGB_020_003_002.png: 640x384 1 person, 9.2ms\n",
            "Speed: 1.2ms preprocess, 9.2ms inference, 2.1ms postprocess per image at shape (1, 3, 640, 384)\n"
          ]
        },
        {
          "output_type": "stream",
          "name": "stdout",
          "text": [
            "Distância estimada: 256.18cm, Altura (estimada | real): 171.08cm | 166.0cm\n"
          ]
        },
        {
          "output_type": "stream",
          "name": "stderr",
          "text": [
            "\n",
            "image 1/1 /content/dataset/images/train/imgRGB_016_003_002.png: 640x384 1 person, 8.4ms\n",
            "Speed: 1.5ms preprocess, 8.4ms inference, 2.3ms postprocess per image at shape (1, 3, 640, 384)\n"
          ]
        },
        {
          "output_type": "stream",
          "name": "stdout",
          "text": [
            "Distância estimada: 213.2cm, Altura (estimada | real): 178.97cm | 171.0cm\n"
          ]
        },
        {
          "output_type": "stream",
          "name": "stderr",
          "text": [
            "\n",
            "image 1/1 /content/dataset/images/train/imgRGB_017_002_002.png: 640x384 1 person, 8.1ms\n",
            "Speed: 1.4ms preprocess, 8.1ms inference, 2.2ms postprocess per image at shape (1, 3, 640, 384)\n"
          ]
        },
        {
          "output_type": "stream",
          "name": "stdout",
          "text": [
            "Distância estimada: 209.25cm, Altura (estimada | real): 166.38cm | 175.0cm\n"
          ]
        },
        {
          "output_type": "stream",
          "name": "stderr",
          "text": [
            "\n",
            "image 1/1 /content/dataset/images/train/imgRGB_006_003_006.png: 640x384 1 person, 9.2ms\n",
            "Speed: 1.4ms preprocess, 9.2ms inference, 2.2ms postprocess per image at shape (1, 3, 640, 384)\n"
          ]
        },
        {
          "output_type": "stream",
          "name": "stdout",
          "text": [
            "Distância estimada: 167.6cm, Altura (estimada | real): 195.06cm | 184.0cm\n"
          ]
        },
        {
          "output_type": "stream",
          "name": "stderr",
          "text": [
            "\n",
            "image 1/1 /content/dataset/images/train/imgRGB_021_002_008.png: 640x384 1 person, 12.5ms\n",
            "Speed: 1.3ms preprocess, 12.5ms inference, 3.0ms postprocess per image at shape (1, 3, 640, 384)\n"
          ]
        },
        {
          "output_type": "stream",
          "name": "stdout",
          "text": [
            "Distância estimada: 194.84cm, Altura (estimada | real): 163.41cm | 167.0cm\n"
          ]
        },
        {
          "output_type": "stream",
          "name": "stderr",
          "text": [
            "\n",
            "image 1/1 /content/dataset/images/train/imgRGB_007_002_006.png: 640x384 1 person, 7.7ms\n",
            "Speed: 1.3ms preprocess, 7.7ms inference, 2.4ms postprocess per image at shape (1, 3, 640, 384)\n"
          ]
        },
        {
          "output_type": "stream",
          "name": "stdout",
          "text": [
            "Distância estimada: 166.92cm, Altura (estimada | real): 187.32cm | 176.0cm\n"
          ]
        },
        {
          "output_type": "stream",
          "name": "stderr",
          "text": [
            "\n",
            "image 1/1 /content/dataset/images/train/imgRGB_018_002_001.png: 640x384 1 person, 9.7ms\n",
            "Speed: 1.4ms preprocess, 9.7ms inference, 2.4ms postprocess per image at shape (1, 3, 640, 384)\n"
          ]
        },
        {
          "output_type": "stream",
          "name": "stdout",
          "text": [
            "Distância estimada: 180.32cm, Altura (estimada | real): 163.94cm | 172.0cm\n"
          ]
        },
        {
          "output_type": "stream",
          "name": "stderr",
          "text": [
            "\n",
            "image 1/1 /content/dataset/images/train/imgRGB_020_002_003.png: 640x384 1 person, 9.6ms\n",
            "Speed: 1.3ms preprocess, 9.6ms inference, 2.1ms postprocess per image at shape (1, 3, 640, 384)\n"
          ]
        },
        {
          "output_type": "stream",
          "name": "stdout",
          "text": [
            "Distância estimada: 181.38cm, Altura (estimada | real): 173.72cm | 186.5cm\n"
          ]
        },
        {
          "output_type": "stream",
          "name": "stderr",
          "text": [
            "\n",
            "image 1/1 /content/dataset/images/train/imgRGB_011_004_005.png: 640x384 1 person, 8.2ms\n",
            "Speed: 1.1ms preprocess, 8.2ms inference, 2.2ms postprocess per image at shape (1, 3, 640, 384)\n"
          ]
        },
        {
          "output_type": "stream",
          "name": "stdout",
          "text": [
            "Distância estimada: 173.96cm, Altura (estimada | real): 179.21cm | 171.0cm\n"
          ]
        },
        {
          "output_type": "stream",
          "name": "stderr",
          "text": [
            "\n",
            "image 1/1 /content/dataset/images/train/imgRGB_025_002_000.png: 640x384 1 person, 9.6ms\n",
            "Speed: 1.4ms preprocess, 9.6ms inference, 2.7ms postprocess per image at shape (1, 3, 640, 384)\n"
          ]
        },
        {
          "output_type": "stream",
          "name": "stdout",
          "text": [
            "Distância estimada: 250.66cm, Altura (estimada | real): 167.79cm | 186.0cm\n"
          ]
        },
        {
          "output_type": "stream",
          "name": "stderr",
          "text": [
            "\n",
            "image 1/1 /content/dataset/images/train/imgRGB_006_004_003.png: 640x384 1 person, 8.4ms\n",
            "Speed: 1.4ms preprocess, 8.4ms inference, 2.3ms postprocess per image at shape (1, 3, 640, 384)\n"
          ]
        },
        {
          "output_type": "stream",
          "name": "stdout",
          "text": [
            "Distância estimada: 209.86cm, Altura (estimada | real): 169.47cm | 160.0cm\n"
          ]
        },
        {
          "output_type": "stream",
          "name": "stderr",
          "text": [
            "\n",
            "image 1/1 /content/dataset/images/train/imgRGB_020_004_003.png: 640x384 1 person, 14.6ms\n",
            "Speed: 1.8ms preprocess, 14.6ms inference, 3.9ms postprocess per image at shape (1, 3, 640, 384)\n"
          ]
        },
        {
          "output_type": "stream",
          "name": "stdout",
          "text": [
            "Distância estimada: 251.88cm, Altura (estimada | real): 169.12cm | 167.0cm\n"
          ]
        },
        {
          "output_type": "stream",
          "name": "stderr",
          "text": [
            "\n",
            "image 1/1 /content/dataset/images/train/imgRGB_019_002_006.png: 640x384 1 person, 8.4ms\n",
            "Speed: 1.2ms preprocess, 8.4ms inference, 2.2ms postprocess per image at shape (1, 3, 640, 384)\n"
          ]
        },
        {
          "output_type": "stream",
          "name": "stdout",
          "text": [
            "Distância estimada: 259.23cm, Altura (estimada | real): 161.7cm | 171.0cm\n"
          ]
        },
        {
          "output_type": "stream",
          "name": "stderr",
          "text": [
            "\n",
            "image 1/1 /content/dataset/images/train/imgRGB_005_004_008.png: 640x384 1 person, 12.7ms\n",
            "Speed: 1.3ms preprocess, 12.7ms inference, 8.1ms postprocess per image at shape (1, 3, 640, 384)\n"
          ]
        },
        {
          "output_type": "stream",
          "name": "stdout",
          "text": [
            "Distância estimada: 181.06cm, Altura (estimada | real): 179.76cm | 176.0cm\n"
          ]
        },
        {
          "output_type": "stream",
          "name": "stderr",
          "text": [
            "\n",
            "image 1/1 /content/dataset/images/train/imgRGB_006_002_009.png: 640x384 1 person, 10.9ms\n",
            "Speed: 5.2ms preprocess, 10.9ms inference, 3.0ms postprocess per image at shape (1, 3, 640, 384)\n"
          ]
        },
        {
          "output_type": "stream",
          "name": "stdout",
          "text": [
            "Distância estimada: 258.22cm, Altura (estimada | real): 178.3cm | 175.0cm\n"
          ]
        },
        {
          "output_type": "stream",
          "name": "stderr",
          "text": [
            "\n",
            "image 1/1 /content/dataset/images/train/imgRGB_005_004_000.png: 640x384 1 person, 7.9ms\n",
            "Speed: 1.5ms preprocess, 7.9ms inference, 2.2ms postprocess per image at shape (1, 3, 640, 384)\n"
          ]
        },
        {
          "output_type": "stream",
          "name": "stdout",
          "text": [
            "Distância estimada: 175.94cm, Altura (estimada | real): 141.17cm | 167.0cm\n"
          ]
        },
        {
          "output_type": "stream",
          "name": "stderr",
          "text": [
            "\n",
            "image 1/1 /content/dataset/images/train/imgRGB_009_002_002.png: 640x384 1 person, 8.7ms\n",
            "Speed: 1.4ms preprocess, 8.7ms inference, 2.2ms postprocess per image at shape (1, 3, 640, 384)\n"
          ]
        },
        {
          "output_type": "stream",
          "name": "stdout",
          "text": [
            "Distância estimada: 256.72cm, Altura (estimada | real): 178.59cm | 175.0cm\n"
          ]
        },
        {
          "output_type": "stream",
          "name": "stderr",
          "text": [
            "\n",
            "image 1/1 /content/dataset/images/train/imgRGB_004_004_005.png: 640x384 1 person, 10.4ms\n",
            "Speed: 1.2ms preprocess, 10.4ms inference, 2.4ms postprocess per image at shape (1, 3, 640, 384)\n"
          ]
        },
        {
          "output_type": "stream",
          "name": "stdout",
          "text": [
            "Distância estimada: 182.93cm, Altura (estimada | real): 143.22cm | 166.0cm\n"
          ]
        },
        {
          "output_type": "stream",
          "name": "stderr",
          "text": [
            "\n",
            "image 1/1 /content/dataset/images/train/imgRGB_002_004_009.png: 640x384 1 person, 8.1ms\n",
            "Speed: 1.1ms preprocess, 8.1ms inference, 2.2ms postprocess per image at shape (1, 3, 640, 384)\n"
          ]
        },
        {
          "output_type": "stream",
          "name": "stdout",
          "text": [
            "Distância estimada: 257.24cm, Altura (estimada | real): 157.36cm | 167.0cm\n"
          ]
        },
        {
          "output_type": "stream",
          "name": "stderr",
          "text": [
            "\n",
            "image 1/1 /content/dataset/images/train/imgRGB_015_003_008.png: 640x384 1 person, 13.0ms\n",
            "Speed: 1.7ms preprocess, 13.0ms inference, 5.6ms postprocess per image at shape (1, 3, 640, 384)\n"
          ]
        },
        {
          "output_type": "stream",
          "name": "stdout",
          "text": [
            "Distância estimada: 261.78cm, Altura (estimada | real): 167.47cm | 177.0cm\n"
          ]
        },
        {
          "output_type": "stream",
          "name": "stderr",
          "text": [
            "\n",
            "image 1/1 /content/dataset/images/train/imgRGB_012_003_007.png: 640x384 1 person, 8.8ms\n",
            "Speed: 1.4ms preprocess, 8.8ms inference, 2.2ms postprocess per image at shape (1, 3, 640, 384)\n"
          ]
        },
        {
          "output_type": "stream",
          "name": "stdout",
          "text": [
            "Distância estimada: 208.22cm, Altura (estimada | real): 161.09cm | 165.0cm\n"
          ]
        },
        {
          "output_type": "stream",
          "name": "stderr",
          "text": [
            "\n",
            "image 1/1 /content/dataset/images/train/imgRGB_020_002_006.png: 640x384 1 person, 9.9ms\n",
            "Speed: 1.4ms preprocess, 9.9ms inference, 2.5ms postprocess per image at shape (1, 3, 640, 384)\n"
          ]
        },
        {
          "output_type": "stream",
          "name": "stdout",
          "text": [
            "Distância estimada: 202.27cm, Altura (estimada | real): 163.93cm | 181.0cm\n"
          ]
        },
        {
          "output_type": "stream",
          "name": "stderr",
          "text": [
            "\n",
            "image 1/1 /content/dataset/images/train/imgRGB_019_004_008.png: 640x384 1 person, 8.5ms\n",
            "Speed: 1.6ms preprocess, 8.5ms inference, 2.3ms postprocess per image at shape (1, 3, 640, 384)\n"
          ]
        },
        {
          "output_type": "stream",
          "name": "stdout",
          "text": [
            "Distância estimada: 165.5cm, Altura (estimada | real): 182.69cm | 171.0cm\n"
          ]
        },
        {
          "output_type": "stream",
          "name": "stderr",
          "text": [
            "\n",
            "image 1/1 /content/dataset/images/train/imgRGB_004_004_001.png: 640x384 1 person, 8.4ms\n",
            "Speed: 1.2ms preprocess, 8.4ms inference, 3.3ms postprocess per image at shape (1, 3, 640, 384)\n"
          ]
        },
        {
          "output_type": "stream",
          "name": "stdout",
          "text": [
            "Distância estimada: 262.7cm, Altura (estimada | real): 177.59cm | 176.0cm\n"
          ]
        },
        {
          "output_type": "stream",
          "name": "stderr",
          "text": [
            "\n",
            "image 1/1 /content/dataset/images/train/imgRGB_009_003_001.png: 640x384 1 person, 12.5ms\n",
            "Speed: 1.4ms preprocess, 12.5ms inference, 3.3ms postprocess per image at shape (1, 3, 640, 384)\n"
          ]
        },
        {
          "output_type": "stream",
          "name": "stdout",
          "text": [
            "Distância estimada: 257.29cm, Altura (estimada | real): 160.93cm | 167.0cm\n"
          ]
        },
        {
          "output_type": "stream",
          "name": "stderr",
          "text": [
            "\n",
            "image 1/1 /content/dataset/images/train/imgRGB_020_002_000.png: 640x384 1 person, 8.3ms\n",
            "Speed: 1.3ms preprocess, 8.3ms inference, 2.3ms postprocess per image at shape (1, 3, 640, 384)\n"
          ]
        },
        {
          "output_type": "stream",
          "name": "stdout",
          "text": [
            "Distância estimada: 213.78cm, Altura (estimada | real): 168.1cm | 166.0cm\n"
          ]
        },
        {
          "output_type": "stream",
          "name": "stderr",
          "text": [
            "\n",
            "image 1/1 /content/dataset/images/train/imgRGB_020_003_008.png: 640x384 1 person, 8.0ms\n",
            "Speed: 1.2ms preprocess, 8.0ms inference, 2.1ms postprocess per image at shape (1, 3, 640, 384)\n"
          ]
        },
        {
          "output_type": "stream",
          "name": "stdout",
          "text": [
            "Distância estimada: 175.75cm, Altura (estimada | real): 182.41cm | 171.0cm\n"
          ]
        },
        {
          "output_type": "stream",
          "name": "stderr",
          "text": [
            "\n",
            "image 1/1 /content/dataset/images/train/imgRGB_015_003_007.png: 640x384 1 person, 8.9ms\n",
            "Speed: 1.3ms preprocess, 8.9ms inference, 2.2ms postprocess per image at shape (1, 3, 640, 384)\n"
          ]
        },
        {
          "output_type": "stream",
          "name": "stdout",
          "text": [
            "Distância estimada: 207.27cm, Altura (estimada | real): 177.52cm | 171.0cm\n"
          ]
        },
        {
          "output_type": "stream",
          "name": "stderr",
          "text": [
            "\n",
            "image 1/1 /content/dataset/images/train/imgRGB_021_003_003.png: 640x384 1 person, 8.3ms\n",
            "Speed: 1.3ms preprocess, 8.3ms inference, 2.2ms postprocess per image at shape (1, 3, 640, 384)\n"
          ]
        },
        {
          "output_type": "stream",
          "name": "stdout",
          "text": [
            "Distância estimada: 208.9cm, Altura (estimada | real): 161.87cm | 165.0cm\n"
          ]
        },
        {
          "output_type": "stream",
          "name": "stderr",
          "text": [
            "\n",
            "image 1/1 /content/dataset/images/train/imgRGB_008_003_009.png: 640x384 1 person, 9.0ms\n",
            "Speed: 5.6ms preprocess, 9.0ms inference, 4.2ms postprocess per image at shape (1, 3, 640, 384)\n"
          ]
        },
        {
          "output_type": "stream",
          "name": "stdout",
          "text": [
            "Distância estimada: 211.4cm, Altura (estimada | real): 184.92cm | 176.0cm\n"
          ]
        },
        {
          "output_type": "stream",
          "name": "stderr",
          "text": [
            "\n",
            "image 1/1 /content/dataset/images/train/imgRGB_012_002_001.png: 640x384 1 person, 9.4ms\n",
            "Speed: 1.2ms preprocess, 9.4ms inference, 2.5ms postprocess per image at shape (1, 3, 640, 384)\n"
          ]
        },
        {
          "output_type": "stream",
          "name": "stdout",
          "text": [
            "Distância estimada: 197.92cm, Altura (estimada | real): 173.53cm | 180.0cm\n"
          ]
        },
        {
          "output_type": "stream",
          "name": "stderr",
          "text": [
            "\n",
            "image 1/1 /content/dataset/images/train/imgRGB_017_003_000.png: 640x384 1 person, 11.4ms\n",
            "Speed: 1.4ms preprocess, 11.4ms inference, 2.4ms postprocess per image at shape (1, 3, 640, 384)\n"
          ]
        },
        {
          "output_type": "stream",
          "name": "stdout",
          "text": [
            "Distância estimada: 154.86cm, Altura (estimada | real): 151.44cm | 181.0cm\n"
          ]
        },
        {
          "output_type": "stream",
          "name": "stderr",
          "text": [
            "\n",
            "image 1/1 /content/dataset/images/train/imgRGB_021_004_002.png: 640x384 1 person, 9.7ms\n",
            "Speed: 1.4ms preprocess, 9.7ms inference, 2.2ms postprocess per image at shape (1, 3, 640, 384)\n"
          ]
        },
        {
          "output_type": "stream",
          "name": "stdout",
          "text": [
            "Distância estimada: 216.08cm, Altura (estimada | real): 192.19cm | 184.0cm\n"
          ]
        },
        {
          "output_type": "stream",
          "name": "stderr",
          "text": [
            "\n",
            "image 1/1 /content/dataset/images/train/imgRGB_006_003_001.png: 640x384 1 person, 7.7ms\n",
            "Speed: 1.1ms preprocess, 7.7ms inference, 2.2ms postprocess per image at shape (1, 3, 640, 384)\n"
          ]
        },
        {
          "output_type": "stream",
          "name": "stdout",
          "text": [
            "Distância estimada: 262.92cm, Altura (estimada | real): 182.25cm | 176.0cm\n"
          ]
        },
        {
          "output_type": "stream",
          "name": "stderr",
          "text": [
            "\n",
            "image 1/1 /content/dataset/images/train/imgRGB_009_002_003.png: 640x384 1 person, 9.5ms\n",
            "Speed: 1.4ms preprocess, 9.5ms inference, 2.9ms postprocess per image at shape (1, 3, 640, 384)\n"
          ]
        },
        {
          "output_type": "stream",
          "name": "stdout",
          "text": [
            "Distância estimada: 198.6cm, Altura (estimada | real): 160.18cm | 167.0cm\n"
          ]
        },
        {
          "output_type": "stream",
          "name": "stderr",
          "text": [
            "\n",
            "image 1/1 /content/dataset/images/train/imgRGB_014_002_001.png: 640x384 1 person, 9.5ms\n",
            "Speed: 1.3ms preprocess, 9.5ms inference, 2.4ms postprocess per image at shape (1, 3, 640, 384)\n"
          ]
        },
        {
          "output_type": "stream",
          "name": "stdout",
          "text": [
            "Distância estimada: 184.62cm, Altura (estimada | real): 143.58cm | 166.0cm\n"
          ]
        },
        {
          "output_type": "stream",
          "name": "stderr",
          "text": [
            "\n",
            "image 1/1 /content/dataset/images/train/imgRGB_009_003_009.png: 640x384 1 person, 7.7ms\n",
            "Speed: 1.1ms preprocess, 7.7ms inference, 2.3ms postprocess per image at shape (1, 3, 640, 384)\n"
          ]
        },
        {
          "output_type": "stream",
          "name": "stdout",
          "text": [
            "Distância estimada: 169.9cm, Altura (estimada | real): 158.99cm | 175.0cm\n"
          ]
        },
        {
          "output_type": "stream",
          "name": "stderr",
          "text": [
            "\n",
            "image 1/1 /content/dataset/images/train/imgRGB_003_004_001.png: 640x384 1 person, 8.9ms\n",
            "Speed: 1.3ms preprocess, 8.9ms inference, 2.1ms postprocess per image at shape (1, 3, 640, 384)\n"
          ]
        },
        {
          "output_type": "stream",
          "name": "stdout",
          "text": [
            "Distância estimada: 213.48cm, Altura (estimada | real): 165.66cm | 166.0cm\n"
          ]
        },
        {
          "output_type": "stream",
          "name": "stderr",
          "text": [
            "\n",
            "image 1/1 /content/dataset/images/train/imgRGB_010_002_006.png: 640x384 1 person, 8.9ms\n",
            "Speed: 1.5ms preprocess, 8.9ms inference, 2.2ms postprocess per image at shape (1, 3, 640, 384)\n"
          ]
        },
        {
          "output_type": "stream",
          "name": "stdout",
          "text": [
            "Distância estimada: 256.08cm, Altura (estimada | real): 178.78cm | 178.5cm\n"
          ]
        },
        {
          "output_type": "stream",
          "name": "stderr",
          "text": [
            "\n",
            "image 1/1 /content/dataset/images/train/imgRGB_013_004_007.png: 640x384 1 person, 12.9ms\n",
            "Speed: 1.5ms preprocess, 12.9ms inference, 3.7ms postprocess per image at shape (1, 3, 640, 384)\n"
          ]
        },
        {
          "output_type": "stream",
          "name": "stdout",
          "text": [
            "Distância estimada: 173.68cm, Altura (estimada | real): 147.28cm | 176.0cm\n"
          ]
        },
        {
          "output_type": "stream",
          "name": "stderr",
          "text": [
            "\n",
            "image 1/1 /content/dataset/images/train/imgRGB_013_003_002.png: 640x384 1 person, 7.9ms\n",
            "Speed: 1.1ms preprocess, 7.9ms inference, 2.8ms postprocess per image at shape (1, 3, 640, 384)\n"
          ]
        },
        {
          "output_type": "stream",
          "name": "stdout",
          "text": [
            "Distância estimada: 258.7cm, Altura (estimada | real): 175.31cm | 182.0cm\n"
          ]
        },
        {
          "output_type": "stream",
          "name": "stderr",
          "text": [
            "\n",
            "image 1/1 /content/dataset/images/train/imgRGB_021_004_000.png: 640x384 1 person, 9.7ms\n",
            "Speed: 1.3ms preprocess, 9.7ms inference, 3.3ms postprocess per image at shape (1, 3, 640, 384)\n"
          ]
        },
        {
          "output_type": "stream",
          "name": "stdout",
          "text": [
            "Distância estimada: 207.94cm, Altura (estimada | real): 171.41cm | 182.0cm\n"
          ]
        },
        {
          "output_type": "stream",
          "name": "stderr",
          "text": [
            "\n",
            "image 1/1 /content/dataset/images/train/imgRGB_011_004_001.png: 640x384 1 person, 8.1ms\n",
            "Speed: 1.6ms preprocess, 8.1ms inference, 2.3ms postprocess per image at shape (1, 3, 640, 384)\n"
          ]
        },
        {
          "output_type": "stream",
          "name": "stdout",
          "text": [
            "Distância estimada: 268.92cm, Altura (estimada | real): 183.17cm | 176.0cm\n"
          ]
        },
        {
          "output_type": "stream",
          "name": "stderr",
          "text": [
            "\n",
            "image 1/1 /content/dataset/images/train/imgRGB_019_003_004.png: 640x384 1 person, 10.3ms\n",
            "Speed: 1.2ms preprocess, 10.3ms inference, 2.8ms postprocess per image at shape (1, 3, 640, 384)\n"
          ]
        },
        {
          "output_type": "stream",
          "name": "stdout",
          "text": [
            "Distância estimada: 243.73cm, Altura (estimada | real): 175.31cm | 186.0cm\n"
          ]
        },
        {
          "output_type": "stream",
          "name": "stderr",
          "text": [
            "\n",
            "image 1/1 /content/dataset/images/train/imgRGB_014_002_008.png: 640x384 1 person, 9.1ms\n",
            "Speed: 1.3ms preprocess, 9.1ms inference, 3.0ms postprocess per image at shape (1, 3, 640, 384)\n"
          ]
        },
        {
          "output_type": "stream",
          "name": "stdout",
          "text": [
            "Distância estimada: 211.28cm, Altura (estimada | real): 179.5cm | 176.0cm\n"
          ]
        },
        {
          "output_type": "stream",
          "name": "stderr",
          "text": [
            "\n",
            "image 1/1 /content/dataset/images/train/imgRGB_014_002_002.png: 640x384 1 person, 14.5ms\n",
            "Speed: 1.5ms preprocess, 14.5ms inference, 2.8ms postprocess per image at shape (1, 3, 640, 384)\n"
          ]
        },
        {
          "output_type": "stream",
          "name": "stdout",
          "text": [
            "Distância estimada: 168.7cm, Altura (estimada | real): 155.46cm | 175.0cm\n"
          ]
        },
        {
          "output_type": "stream",
          "name": "stderr",
          "text": [
            "\n",
            "image 1/1 /content/dataset/images/train/imgRGB_004_003_000.png: 640x384 1 person, 14.1ms\n",
            "Speed: 1.4ms preprocess, 14.1ms inference, 3.2ms postprocess per image at shape (1, 3, 640, 384)\n"
          ]
        },
        {
          "output_type": "stream",
          "name": "stdout",
          "text": [
            "Distância estimada: 172.94cm, Altura (estimada | real): 160.45cm | 175.0cm\n"
          ]
        },
        {
          "output_type": "stream",
          "name": "stderr",
          "text": [
            "\n",
            "image 1/1 /content/dataset/images/train/imgRGB_020_003_007.png: 640x384 1 person, 10.5ms\n",
            "Speed: 1.3ms preprocess, 10.5ms inference, 2.3ms postprocess per image at shape (1, 3, 640, 384)\n"
          ]
        },
        {
          "output_type": "stream",
          "name": "stdout",
          "text": [
            "Distância estimada: 206.39cm, Altura (estimada | real): 152.06cm | 167.0cm\n"
          ]
        },
        {
          "output_type": "stream",
          "name": "stderr",
          "text": [
            "\n",
            "image 1/1 /content/dataset/images/train/imgRGB_013_003_005.png: 640x384 1 person, 8.3ms\n",
            "Speed: 1.5ms preprocess, 8.3ms inference, 2.1ms postprocess per image at shape (1, 3, 640, 384)\n"
          ]
        },
        {
          "output_type": "stream",
          "name": "stdout",
          "text": [
            "Distância estimada: 210.47cm, Altura (estimada | real): 174.22cm | 171.0cm\n"
          ]
        },
        {
          "output_type": "stream",
          "name": "stderr",
          "text": [
            "\n",
            "image 1/1 /content/dataset/images/train/imgRGB_015_002_003.png: 640x384 1 person, 12.0ms\n",
            "Speed: 1.3ms preprocess, 12.0ms inference, 3.1ms postprocess per image at shape (1, 3, 640, 384)\n"
          ]
        },
        {
          "output_type": "stream",
          "name": "stdout",
          "text": [
            "Distância estimada: 209.4cm, Altura (estimada | real): 164.78cm | 182.0cm\n"
          ]
        },
        {
          "output_type": "stream",
          "name": "stderr",
          "text": [
            "\n",
            "image 1/1 /content/dataset/images/train/imgRGB_011_002_003.png: 640x384 1 person, 8.7ms\n",
            "Speed: 1.3ms preprocess, 8.7ms inference, 2.2ms postprocess per image at shape (1, 3, 640, 384)\n"
          ]
        },
        {
          "output_type": "stream",
          "name": "stdout",
          "text": [
            "Distância estimada: 187.56cm, Altura (estimada | real): 163.17cm | 165.0cm\n"
          ]
        },
        {
          "output_type": "stream",
          "name": "stderr",
          "text": [
            "\n",
            "image 1/1 /content/dataset/images/train/imgRGB_003_003_006.png: 640x384 1 person, 12.0ms\n",
            "Speed: 1.4ms preprocess, 12.0ms inference, 3.9ms postprocess per image at shape (1, 3, 640, 384)\n"
          ]
        },
        {
          "output_type": "stream",
          "name": "stdout",
          "text": [
            "Distância estimada: 157.38cm, Altura (estimada | real): 149.62cm | 186.0cm\n"
          ]
        },
        {
          "output_type": "stream",
          "name": "stderr",
          "text": [
            "\n",
            "image 1/1 /content/dataset/images/train/imgRGB_006_004_007.png: 640x384 1 person, 8.0ms\n",
            "Speed: 1.1ms preprocess, 8.0ms inference, 2.4ms postprocess per image at shape (1, 3, 640, 384)\n"
          ]
        },
        {
          "output_type": "stream",
          "name": "stdout",
          "text": [
            "Distância estimada: 210.46cm, Altura (estimada | real): 172.47cm | 178.5cm\n"
          ]
        },
        {
          "output_type": "stream",
          "name": "stderr",
          "text": [
            "\n",
            "image 1/1 /content/dataset/images/train/imgRGB_014_002_003.png: 640x384 1 person, 9.8ms\n",
            "Speed: 1.3ms preprocess, 9.8ms inference, 2.1ms postprocess per image at shape (1, 3, 640, 384)\n"
          ]
        },
        {
          "output_type": "stream",
          "name": "stdout",
          "text": [
            "Distância estimada: 255.58cm, Altura (estimada | real): 162.8cm | 167.0cm\n"
          ]
        },
        {
          "output_type": "stream",
          "name": "stderr",
          "text": [
            "\n",
            "image 1/1 /content/dataset/images/train/imgRGB_009_004_001.png: 640x384 1 person, 8.8ms\n",
            "Speed: 1.3ms preprocess, 8.8ms inference, 2.8ms postprocess per image at shape (1, 3, 640, 384)\n"
          ]
        },
        {
          "output_type": "stream",
          "name": "stdout",
          "text": [
            "Distância estimada: 172.56cm, Altura (estimada | real): 155.93cm | 175.0cm\n"
          ]
        },
        {
          "output_type": "stream",
          "name": "stderr",
          "text": [
            "\n",
            "image 1/1 /content/dataset/images/train/imgRGB_006_002_000.png: 640x384 1 person, 7.9ms\n",
            "Speed: 1.1ms preprocess, 7.9ms inference, 2.3ms postprocess per image at shape (1, 3, 640, 384)\n"
          ]
        },
        {
          "output_type": "stream",
          "name": "stdout",
          "text": [
            "Distância estimada: 263.46cm, Altura (estimada | real): 166.15cm | 166.0cm\n"
          ]
        },
        {
          "output_type": "stream",
          "name": "stderr",
          "text": [
            "\n",
            "image 1/1 /content/dataset/images/train/imgRGB_023_004_008.png: 640x384 1 person, 8.2ms\n",
            "Speed: 1.5ms preprocess, 8.2ms inference, 2.3ms postprocess per image at shape (1, 3, 640, 384)\n"
          ]
        },
        {
          "output_type": "stream",
          "name": "stdout",
          "text": [
            "Distância estimada: 178.25cm, Altura (estimada | real): 139.78cm | 167.0cm\n"
          ]
        },
        {
          "output_type": "stream",
          "name": "stderr",
          "text": [
            "\n",
            "image 1/1 /content/dataset/images/train/imgRGB_022_002_008.png: 640x384 1 person, 9.5ms\n",
            "Speed: 1.6ms preprocess, 9.5ms inference, 2.2ms postprocess per image at shape (1, 3, 640, 384)\n"
          ]
        },
        {
          "output_type": "stream",
          "name": "stdout",
          "text": [
            "Distância estimada: 250.58cm, Altura (estimada | real): 185.4cm | 187.0cm\n"
          ]
        },
        {
          "output_type": "stream",
          "name": "stderr",
          "text": [
            "\n",
            "image 1/1 /content/dataset/images/train/imgRGB_021_004_009.png: 640x384 1 person, 10.0ms\n",
            "Speed: 1.3ms preprocess, 10.0ms inference, 2.1ms postprocess per image at shape (1, 3, 640, 384)\n"
          ]
        },
        {
          "output_type": "stream",
          "name": "stdout",
          "text": [
            "Distância estimada: 172.54cm, Altura (estimada | real): 189.4cm | 175.0cm\n"
          ]
        },
        {
          "output_type": "stream",
          "name": "stderr",
          "text": [
            "\n",
            "image 1/1 /content/dataset/images/train/imgRGB_012_003_008.png: 640x384 1 person, 11.6ms\n",
            "Speed: 2.5ms preprocess, 11.6ms inference, 3.1ms postprocess per image at shape (1, 3, 640, 384)\n"
          ]
        },
        {
          "output_type": "stream",
          "name": "stdout",
          "text": [
            "Distância estimada: 269.04cm, Altura (estimada | real): 182.95cm | 176.0cm\n"
          ]
        },
        {
          "output_type": "stream",
          "name": "stderr",
          "text": [
            "\n",
            "image 1/1 /content/dataset/images/train/imgRGB_021_002_000.png: 640x384 1 person, 10.1ms\n",
            "Speed: 1.3ms preprocess, 10.1ms inference, 2.5ms postprocess per image at shape (1, 3, 640, 384)\n"
          ]
        },
        {
          "output_type": "stream",
          "name": "stdout",
          "text": [
            "Distância estimada: 202.65cm, Altura (estimada | real): 162.18cm | 181.0cm\n"
          ]
        },
        {
          "output_type": "stream",
          "name": "stderr",
          "text": [
            "\n",
            "image 1/1 /content/dataset/images/train/imgRGB_011_002_008.png: 640x384 1 person, 8.0ms\n",
            "Speed: 1.3ms preprocess, 8.0ms inference, 2.2ms postprocess per image at shape (1, 3, 640, 384)\n"
          ]
        },
        {
          "output_type": "stream",
          "name": "stdout",
          "text": [
            "Distância estimada: 167.04cm, Altura (estimada | real): 176.22cm | 176.0cm\n"
          ]
        },
        {
          "output_type": "stream",
          "name": "stderr",
          "text": [
            "\n",
            "image 1/1 /content/dataset/images/train/imgRGB_016_004_009.png: 640x384 1 person, 9.9ms\n",
            "Speed: 1.3ms preprocess, 9.9ms inference, 2.2ms postprocess per image at shape (1, 3, 640, 384)\n"
          ]
        },
        {
          "output_type": "stream",
          "name": "stdout",
          "text": [
            "Distância estimada: 158.71cm, Altura (estimada | real): 159.16cm | 186.0cm\n"
          ]
        },
        {
          "output_type": "stream",
          "name": "stderr",
          "text": [
            "\n",
            "image 1/1 /content/dataset/images/train/imgRGB_016_002_004.png: 640x384 1 person, 10.1ms\n",
            "Speed: 1.3ms preprocess, 10.1ms inference, 2.7ms postprocess per image at shape (1, 3, 640, 384)\n"
          ]
        },
        {
          "output_type": "stream",
          "name": "stdout",
          "text": [
            "Distância estimada: 270.3cm, Altura (estimada | real): 163.77cm | 175.0cm\n"
          ]
        },
        {
          "output_type": "stream",
          "name": "stderr",
          "text": [
            "\n",
            "image 1/1 /content/dataset/images/train/imgRGB_018_003_006.png: 640x384 1 person, 12.4ms\n",
            "Speed: 1.5ms preprocess, 12.4ms inference, 3.2ms postprocess per image at shape (1, 3, 640, 384)\n"
          ]
        },
        {
          "output_type": "stream",
          "name": "stdout",
          "text": [
            "Distância estimada: 172.44cm, Altura (estimada | real): 153.72cm | 175.0cm\n"
          ]
        },
        {
          "output_type": "stream",
          "name": "stderr",
          "text": [
            "\n",
            "image 1/1 /content/dataset/images/train/imgRGB_007_004_008.png: 640x384 1 person, 8.0ms\n",
            "Speed: 1.2ms preprocess, 8.0ms inference, 2.2ms postprocess per image at shape (1, 3, 640, 384)\n"
          ]
        },
        {
          "output_type": "stream",
          "name": "stdout",
          "text": [
            "Distância estimada: 209.39cm, Altura (estimada | real): 189.43cm | 186.5cm\n"
          ]
        },
        {
          "output_type": "stream",
          "name": "stderr",
          "text": [
            "\n",
            "image 1/1 /content/dataset/images/train/imgRGB_016_004_001.png: 640x384 1 person, 9.9ms\n",
            "Speed: 1.3ms preprocess, 9.9ms inference, 2.8ms postprocess per image at shape (1, 3, 640, 384)\n"
          ]
        },
        {
          "output_type": "stream",
          "name": "stdout",
          "text": [
            "Distância estimada: 254.68cm, Altura (estimada | real): 173.82cm | 172.0cm\n"
          ]
        },
        {
          "output_type": "stream",
          "name": "stderr",
          "text": [
            "\n",
            "image 1/1 /content/dataset/images/train/imgRGB_022_004_000.png: 640x384 1 person, 8.0ms\n",
            "Speed: 1.5ms preprocess, 8.0ms inference, 2.4ms postprocess per image at shape (1, 3, 640, 384)\n"
          ]
        },
        {
          "output_type": "stream",
          "name": "stdout",
          "text": [
            "Distância estimada: 267.47cm, Altura (estimada | real): 159.62cm | 175.0cm\n"
          ]
        },
        {
          "output_type": "stream",
          "name": "stderr",
          "text": [
            "\n",
            "image 1/1 /content/dataset/images/train/imgRGB_024_002_009.png: 640x384 1 person, 8.9ms\n",
            "Speed: 1.3ms preprocess, 8.9ms inference, 2.2ms postprocess per image at shape (1, 3, 640, 384)\n"
          ]
        },
        {
          "output_type": "stream",
          "name": "stdout",
          "text": [
            "Distância estimada: 260.8cm, Altura (estimada | real): 192.1cm | 175.0cm\n"
          ]
        },
        {
          "output_type": "stream",
          "name": "stderr",
          "text": [
            "\n",
            "image 1/1 /content/dataset/images/train/imgRGB_020_003_001.png: 640x384 1 person, 10.3ms\n",
            "Speed: 1.5ms preprocess, 10.3ms inference, 4.1ms postprocess per image at shape (1, 3, 640, 384)\n"
          ]
        },
        {
          "output_type": "stream",
          "name": "stdout",
          "text": [
            "Distância estimada: 160.04cm, Altura (estimada | real): 160.44cm | 166.0cm\n"
          ]
        },
        {
          "output_type": "stream",
          "name": "stderr",
          "text": [
            "\n",
            "image 1/1 /content/dataset/images/train/imgRGB_002_003_003.png: 640x384 1 person, 13.0ms\n",
            "Speed: 1.4ms preprocess, 13.0ms inference, 3.4ms postprocess per image at shape (1, 3, 640, 384)\n"
          ]
        },
        {
          "output_type": "stream",
          "name": "stdout",
          "text": [
            "Distância estimada: 213.26cm, Altura (estimada | real): 176.06cm | 171.0cm\n"
          ]
        },
        {
          "output_type": "stream",
          "name": "stderr",
          "text": [
            "\n",
            "image 1/1 /content/dataset/images/train/imgRGB_023_002_004.png: 640x384 1 person, 9.6ms\n",
            "Speed: 1.8ms preprocess, 9.6ms inference, 2.2ms postprocess per image at shape (1, 3, 640, 384)\n"
          ]
        },
        {
          "output_type": "stream",
          "name": "stdout",
          "text": [
            "Distância estimada: 201.04cm, Altura (estimada | real): 154.15cm | 177.0cm\n"
          ]
        },
        {
          "output_type": "stream",
          "name": "stderr",
          "text": [
            "\n",
            "image 1/1 /content/dataset/images/train/imgRGB_017_002_005.png: 640x384 1 person, 7.8ms\n",
            "Speed: 1.2ms preprocess, 7.8ms inference, 2.1ms postprocess per image at shape (1, 3, 640, 384)\n"
          ]
        },
        {
          "output_type": "stream",
          "name": "stdout",
          "text": [
            "Distância estimada: 182.98cm, Altura (estimada | real): 189.25cm | 187.0cm\n"
          ]
        },
        {
          "output_type": "stream",
          "name": "stderr",
          "text": [
            "\n",
            "image 1/1 /content/dataset/images/train/imgRGB_020_003_005.png: 640x384 1 person, 9.7ms\n",
            "Speed: 1.3ms preprocess, 9.7ms inference, 2.3ms postprocess per image at shape (1, 3, 640, 384)\n"
          ]
        },
        {
          "output_type": "stream",
          "name": "stdout",
          "text": [
            "Distância estimada: 165.5cm, Altura (estimada | real): 194.42cm | 184.0cm\n"
          ]
        },
        {
          "output_type": "stream",
          "name": "stderr",
          "text": [
            "\n",
            "image 1/1 /content/dataset/images/train/imgRGB_025_004_005.png: 640x384 1 person, 12.2ms\n",
            "Speed: 1.4ms preprocess, 12.2ms inference, 2.8ms postprocess per image at shape (1, 3, 640, 384)\n"
          ]
        },
        {
          "output_type": "stream",
          "name": "stdout",
          "text": [
            "Distância estimada: 208.43cm, Altura (estimada | real): 175.2cm | 171.0cm\n"
          ]
        },
        {
          "output_type": "stream",
          "name": "stderr",
          "text": [
            "\n",
            "image 1/1 /content/dataset/images/train/imgRGB_020_004_004.png: 640x384 1 person, 11.9ms\n",
            "Speed: 1.3ms preprocess, 11.9ms inference, 4.2ms postprocess per image at shape (1, 3, 640, 384)\n"
          ]
        },
        {
          "output_type": "stream",
          "name": "stdout",
          "text": [
            "Distância estimada: 280.49cm, Altura (estimada | real): 177.1cm | 160.0cm\n"
          ]
        },
        {
          "output_type": "stream",
          "name": "stderr",
          "text": [
            "\n",
            "image 1/1 /content/dataset/images/train/imgRGB_015_002_005.png: 640x384 1 person, 9.2ms\n",
            "Speed: 1.4ms preprocess, 9.2ms inference, 2.3ms postprocess per image at shape (1, 3, 640, 384)\n"
          ]
        },
        {
          "output_type": "stream",
          "name": "stdout",
          "text": [
            "Distância estimada: 259.54cm, Altura (estimada | real): 171.51cm | 171.0cm\n"
          ]
        },
        {
          "output_type": "stream",
          "name": "stderr",
          "text": [
            "\n",
            "image 1/1 /content/dataset/images/train/imgRGB_010_003_003.png: 640x384 1 person, 10.0ms\n",
            "Speed: 1.3ms preprocess, 10.0ms inference, 2.2ms postprocess per image at shape (1, 3, 640, 384)\n"
          ]
        },
        {
          "output_type": "stream",
          "name": "stdout",
          "text": [
            "Distância estimada: 189.02cm, Altura (estimada | real): 162.31cm | 165.0cm\n"
          ]
        },
        {
          "output_type": "stream",
          "name": "stderr",
          "text": [
            "\n",
            "image 1/1 /content/dataset/images/train/imgRGB_024_004_001.png: 640x384 1 person, 11.2ms\n",
            "Speed: 1.3ms preprocess, 11.2ms inference, 3.0ms postprocess per image at shape (1, 3, 640, 384)\n"
          ]
        },
        {
          "output_type": "stream",
          "name": "stdout",
          "text": [
            "Distância estimada: 198.6cm, Altura (estimada | real): 165.57cm | 176.0cm\n"
          ]
        },
        {
          "output_type": "stream",
          "name": "stderr",
          "text": [
            "\n",
            "image 1/1 /content/dataset/images/train/imgRGB_001_002_002.png: 640x384 1 person, 13.7ms\n",
            "Speed: 1.3ms preprocess, 13.7ms inference, 2.9ms postprocess per image at shape (1, 3, 640, 384)\n"
          ]
        },
        {
          "output_type": "stream",
          "name": "stdout",
          "text": [
            "Distância estimada: 267.9cm, Altura (estimada | real): 167.48cm | 166.0cm\n"
          ]
        },
        {
          "output_type": "stream",
          "name": "stderr",
          "text": [
            "\n",
            "image 1/1 /content/dataset/images/train/imgRGB_020_004_006.png: 640x384 1 person, 11.7ms\n",
            "Speed: 1.8ms preprocess, 11.7ms inference, 3.1ms postprocess per image at shape (1, 3, 640, 384)\n"
          ]
        },
        {
          "output_type": "stream",
          "name": "stdout",
          "text": [
            "Distância estimada: 164.76cm, Altura (estimada | real): 158.67cm | 177.0cm\n"
          ]
        },
        {
          "output_type": "stream",
          "name": "stderr",
          "text": [
            "\n",
            "image 1/1 /content/dataset/images/train/imgRGB_025_003_001.png: 640x384 1 person, 7.5ms\n",
            "Speed: 1.1ms preprocess, 7.5ms inference, 2.1ms postprocess per image at shape (1, 3, 640, 384)\n"
          ]
        },
        {
          "output_type": "stream",
          "name": "stdout",
          "text": [
            "Distância estimada: 260.32cm, Altura (estimada | real): 162.95cm | 171.0cm\n"
          ]
        },
        {
          "output_type": "stream",
          "name": "stderr",
          "text": [
            "\n",
            "image 1/1 /content/dataset/images/train/imgRGB_014_002_000.png: 640x384 1 person, 9.5ms\n",
            "Speed: 1.4ms preprocess, 9.5ms inference, 2.3ms postprocess per image at shape (1, 3, 640, 384)\n"
          ]
        },
        {
          "output_type": "stream",
          "name": "stdout",
          "text": [
            "Distância estimada: 234.82cm, Altura (estimada | real): 167.67cm | 160.0cm\n"
          ]
        },
        {
          "output_type": "stream",
          "name": "stderr",
          "text": [
            "\n",
            "image 1/1 /content/dataset/images/train/imgRGB_005_003_001.png: 640x384 1 person, 8.1ms\n",
            "Speed: 1.2ms preprocess, 8.1ms inference, 2.2ms postprocess per image at shape (1, 3, 640, 384)\n"
          ]
        },
        {
          "output_type": "stream",
          "name": "stdout",
          "text": [
            "Distância estimada: 166.98cm, Altura (estimada | real): 155.49cm | 175.0cm\n"
          ]
        },
        {
          "output_type": "stream",
          "name": "stderr",
          "text": [
            "\n",
            "image 1/1 /content/dataset/images/train/imgRGB_011_003_005.png: 640x384 1 person, 7.8ms\n",
            "Speed: 1.2ms preprocess, 7.8ms inference, 2.2ms postprocess per image at shape (1, 3, 640, 384)\n"
          ]
        },
        {
          "output_type": "stream",
          "name": "stdout",
          "text": [
            "Distância estimada: 208.22cm, Altura (estimada | real): 172.49cm | 175.0cm\n"
          ]
        },
        {
          "output_type": "stream",
          "name": "stderr",
          "text": [
            "\n",
            "image 1/1 /content/dataset/images/train/imgRGB_001_002_007.png: 640x384 1 person, 9.9ms\n",
            "Speed: 1.7ms preprocess, 9.9ms inference, 3.1ms postprocess per image at shape (1, 3, 640, 384)\n"
          ]
        },
        {
          "output_type": "stream",
          "name": "stdout",
          "text": [
            "Distância estimada: 198.36cm, Altura (estimada | real): 162.57cm | 186.0cm\n"
          ]
        },
        {
          "output_type": "stream",
          "name": "stderr",
          "text": [
            "\n",
            "image 1/1 /content/dataset/images/train/imgRGB_023_002_009.png: 640x384 1 person, 11.6ms\n",
            "Speed: 1.4ms preprocess, 11.6ms inference, 2.9ms postprocess per image at shape (1, 3, 640, 384)\n"
          ]
        },
        {
          "output_type": "stream",
          "name": "stdout",
          "text": [
            "Distância estimada: 168.18cm, Altura (estimada | real): 160.8cm | 177.0cm\n"
          ]
        },
        {
          "output_type": "stream",
          "name": "stderr",
          "text": [
            "\n",
            "image 1/1 /content/dataset/images/train/imgRGB_008_004_002.png: 640x384 1 person, 9.0ms\n",
            "Speed: 1.3ms preprocess, 9.0ms inference, 2.2ms postprocess per image at shape (1, 3, 640, 384)\n"
          ]
        },
        {
          "output_type": "stream",
          "name": "stdout",
          "text": [
            "Distância estimada: 171.0cm, Altura (estimada | real): 188.05cm | 187.0cm\n"
          ]
        },
        {
          "output_type": "stream",
          "name": "stderr",
          "text": [
            "\n",
            "image 1/1 /content/dataset/images/train/imgRGB_010_004_009.png: 640x384 1 person, 8.2ms\n",
            "Speed: 1.4ms preprocess, 8.2ms inference, 2.2ms postprocess per image at shape (1, 3, 640, 384)\n"
          ]
        },
        {
          "output_type": "stream",
          "name": "stdout",
          "text": [
            "Distância estimada: 249.3cm, Altura (estimada | real): 176.79cm | 180.0cm\n"
          ]
        },
        {
          "output_type": "stream",
          "name": "stderr",
          "text": [
            "\n",
            "image 1/1 /content/dataset/images/train/imgRGB_016_003_008.png: 640x384 1 person, 8.2ms\n",
            "Speed: 1.1ms preprocess, 8.2ms inference, 2.2ms postprocess per image at shape (1, 3, 640, 384)\n"
          ]
        },
        {
          "output_type": "stream",
          "name": "stdout",
          "text": [
            "Distância estimada: 251.68cm, Altura (estimada | real): 174.34cm | 176.0cm\n"
          ]
        },
        {
          "output_type": "stream",
          "name": "stderr",
          "text": [
            "\n",
            "image 1/1 /content/dataset/images/train/imgRGB_014_002_009.png: 640x384 1 person, 9.6ms\n",
            "Speed: 1.4ms preprocess, 9.6ms inference, 3.1ms postprocess per image at shape (1, 3, 640, 384)\n"
          ]
        },
        {
          "output_type": "stream",
          "name": "stdout",
          "text": [
            "Distância estimada: 218.04cm, Altura (estimada | real): 161.9cm | 175.0cm\n"
          ]
        },
        {
          "output_type": "stream",
          "name": "stderr",
          "text": [
            "\n",
            "image 1/1 /content/dataset/images/train/imgRGB_017_002_006.png: 640x384 1 person, 10.3ms\n",
            "Speed: 1.3ms preprocess, 10.3ms inference, 2.4ms postprocess per image at shape (1, 3, 640, 384)\n"
          ]
        },
        {
          "output_type": "stream",
          "name": "stdout",
          "text": [
            "Distância estimada: 167.91cm, Altura (estimada | real): 158.28cm | 175.0cm\n"
          ]
        },
        {
          "output_type": "stream",
          "name": "stderr",
          "text": [
            "\n",
            "image 1/1 /content/dataset/images/train/imgRGB_001_003_006.png: 640x384 1 person, 8.6ms\n",
            "Speed: 1.3ms preprocess, 8.6ms inference, 2.2ms postprocess per image at shape (1, 3, 640, 384)\n"
          ]
        },
        {
          "output_type": "stream",
          "name": "stdout",
          "text": [
            "Distância estimada: 159.77cm, Altura (estimada | real): 192.12cm | 184.0cm\n"
          ]
        },
        {
          "output_type": "stream",
          "name": "stderr",
          "text": [
            "\n",
            "image 1/1 /content/dataset/images/train/imgRGB_010_003_007.png: 640x384 1 person, 7.7ms\n",
            "Speed: 1.2ms preprocess, 7.7ms inference, 2.1ms postprocess per image at shape (1, 3, 640, 384)\n"
          ]
        },
        {
          "output_type": "stream",
          "name": "stdout",
          "text": [
            "Distância estimada: 198.4cm, Altura (estimada | real): 155.39cm | 177.0cm\n"
          ]
        },
        {
          "output_type": "stream",
          "name": "stderr",
          "text": [
            "\n",
            "image 1/1 /content/dataset/images/train/imgRGB_006_003_002.png: 640x384 1 person, 10.1ms\n",
            "Speed: 1.5ms preprocess, 10.1ms inference, 2.2ms postprocess per image at shape (1, 3, 640, 384)\n"
          ]
        },
        {
          "output_type": "stream",
          "name": "stdout",
          "text": [
            "Distância estimada: 201.0cm, Altura (estimada | real): 162.78cm | 176.0cm\n"
          ]
        },
        {
          "output_type": "stream",
          "name": "stderr",
          "text": [
            "\n",
            "image 1/1 /content/dataset/images/train/imgRGB_022_004_002.png: 640x384 1 person, 9.8ms\n",
            "Speed: 1.9ms preprocess, 9.8ms inference, 2.9ms postprocess per image at shape (1, 3, 640, 384)\n"
          ]
        },
        {
          "output_type": "stream",
          "name": "stdout",
          "text": [
            "Distância estimada: 199.23cm, Altura (estimada | real): 161.55cm | 167.0cm\n"
          ]
        },
        {
          "output_type": "stream",
          "name": "stderr",
          "text": [
            "\n",
            "image 1/1 /content/dataset/images/train/imgRGB_025_003_006.png: 640x384 1 person, 10.1ms\n",
            "Speed: 1.4ms preprocess, 10.1ms inference, 2.2ms postprocess per image at shape (1, 3, 640, 384)\n"
          ]
        },
        {
          "output_type": "stream",
          "name": "stdout",
          "text": [
            "Distância estimada: 261.97cm, Altura (estimada | real): 193.54cm | 175.0cm\n"
          ]
        },
        {
          "output_type": "stream",
          "name": "stderr",
          "text": [
            "\n",
            "image 1/1 /content/dataset/images/train/imgRGB_008_004_001.png: 640x384 1 person, 8.7ms\n",
            "Speed: 1.4ms preprocess, 8.7ms inference, 2.2ms postprocess per image at shape (1, 3, 640, 384)\n"
          ]
        },
        {
          "output_type": "stream",
          "name": "stdout",
          "text": [
            "Distância estimada: 229.36cm, Altura (estimada | real): 169.71cm | 160.0cm\n"
          ]
        },
        {
          "output_type": "stream",
          "name": "stderr",
          "text": [
            "\n",
            "image 1/1 /content/dataset/images/train/imgRGB_007_002_009.png: 640x384 1 person, 9.4ms\n",
            "Speed: 1.4ms preprocess, 9.4ms inference, 2.1ms postprocess per image at shape (1, 3, 640, 384)\n"
          ]
        },
        {
          "output_type": "stream",
          "name": "stdout",
          "text": [
            "Distância estimada: 253.13cm, Altura (estimada | real): 171.12cm | 180.0cm\n"
          ]
        },
        {
          "output_type": "stream",
          "name": "stderr",
          "text": [
            "\n",
            "image 1/1 /content/dataset/images/train/imgRGB_007_004_002.png: 640x384 1 person, 11.0ms\n",
            "Speed: 1.7ms preprocess, 11.0ms inference, 2.7ms postprocess per image at shape (1, 3, 640, 384)\n"
          ]
        },
        {
          "output_type": "stream",
          "name": "stdout",
          "text": [
            "Distância estimada: 179.1cm, Altura (estimada | real): 166.39cm | 172.0cm\n"
          ]
        },
        {
          "output_type": "stream",
          "name": "stderr",
          "text": [
            "\n",
            "image 1/1 /content/dataset/images/train/imgRGB_006_004_000.png: 640x384 1 person, 11.4ms\n",
            "Speed: 1.3ms preprocess, 11.4ms inference, 3.3ms postprocess per image at shape (1, 3, 640, 384)\n"
          ]
        },
        {
          "output_type": "stream",
          "name": "stdout",
          "text": [
            "Distância estimada: 255.86cm, Altura (estimada | real): 170.14cm | 172.0cm\n"
          ]
        },
        {
          "output_type": "stream",
          "name": "stderr",
          "text": [
            "\n",
            "image 1/1 /content/dataset/images/train/imgRGB_009_002_006.png: 640x384 1 person, 9.9ms\n",
            "Speed: 1.4ms preprocess, 9.9ms inference, 2.2ms postprocess per image at shape (1, 3, 640, 384)\n"
          ]
        },
        {
          "output_type": "stream",
          "name": "stdout",
          "text": [
            "Distância estimada: 252.53cm, Altura (estimada | real): 164.18cm | 167.0cm\n"
          ]
        },
        {
          "output_type": "stream",
          "name": "stderr",
          "text": [
            "\n",
            "image 1/1 /content/dataset/images/train/imgRGB_015_004_008.png: 640x384 1 person, 9.9ms\n",
            "Speed: 1.2ms preprocess, 9.9ms inference, 2.2ms postprocess per image at shape (1, 3, 640, 384)\n"
          ]
        },
        {
          "output_type": "stream",
          "name": "stdout",
          "text": [
            "Distância estimada: 174.79cm, Altura (estimada | real): 147.59cm | 166.0cm\n"
          ]
        },
        {
          "output_type": "stream",
          "name": "stderr",
          "text": [
            "\n",
            "image 1/1 /content/dataset/images/train/imgRGB_003_004_000.png: 640x384 1 person, 9.6ms\n",
            "Speed: 1.3ms preprocess, 9.6ms inference, 2.6ms postprocess per image at shape (1, 3, 640, 384)\n"
          ]
        },
        {
          "output_type": "stream",
          "name": "stdout",
          "text": [
            "Distância estimada: 266.04cm, Altura (estimada | real): 196.51cm | 165.0cm\n"
          ]
        },
        {
          "output_type": "stream",
          "name": "stderr",
          "text": [
            "\n",
            "image 1/1 /content/dataset/images/train/imgRGB_010_003_001.png: 640x384 1 person, 7.7ms\n",
            "Speed: 1.1ms preprocess, 7.7ms inference, 2.2ms postprocess per image at shape (1, 3, 640, 384)\n"
          ]
        },
        {
          "output_type": "stream",
          "name": "stdout",
          "text": [
            "Distância estimada: 255.27cm, Altura (estimada | real): 181.85cm | 178.5cm\n"
          ]
        },
        {
          "output_type": "stream",
          "name": "stderr",
          "text": [
            "\n",
            "image 1/1 /content/dataset/images/train/imgRGB_011_003_002.png: 640x384 1 person, 11.2ms\n",
            "Speed: 1.4ms preprocess, 11.2ms inference, 3.0ms postprocess per image at shape (1, 3, 640, 384)\n"
          ]
        },
        {
          "output_type": "stream",
          "name": "stdout",
          "text": [
            "Distância estimada: 201.04cm, Altura (estimada | real): 164.42cm | 176.0cm\n"
          ]
        },
        {
          "output_type": "stream",
          "name": "stderr",
          "text": [
            "\n",
            "image 1/1 /content/dataset/images/train/imgRGB_024_004_008.png: 640x384 1 person, 7.7ms\n",
            "Speed: 1.5ms preprocess, 7.7ms inference, 2.3ms postprocess per image at shape (1, 3, 640, 384)\n"
          ]
        },
        {
          "output_type": "stream",
          "name": "stdout",
          "text": [
            "Distância estimada: 206.22cm, Altura (estimada | real): 158.46cm | 186.0cm\n"
          ]
        },
        {
          "output_type": "stream",
          "name": "stderr",
          "text": [
            "\n",
            "image 1/1 /content/dataset/images/train/imgRGB_008_004_003.png: 640x384 1 person, 10.6ms\n",
            "Speed: 1.2ms preprocess, 10.6ms inference, 2.7ms postprocess per image at shape (1, 3, 640, 384)\n"
          ]
        },
        {
          "output_type": "stream",
          "name": "stdout",
          "text": [
            "Distância estimada: 260.86cm, Altura (estimada | real): 160.5cm | 166.0cm\n"
          ]
        },
        {
          "output_type": "stream",
          "name": "stderr",
          "text": [
            "\n",
            "image 1/1 /content/dataset/images/train/imgRGB_012_003_005.png: 640x384 1 person, 8.1ms\n",
            "Speed: 1.6ms preprocess, 8.1ms inference, 2.3ms postprocess per image at shape (1, 3, 640, 384)\n"
          ]
        },
        {
          "output_type": "stream",
          "name": "stdout",
          "text": [
            "Distância estimada: 258.11cm, Altura (estimada | real): 179.58cm | 180.0cm\n"
          ]
        },
        {
          "output_type": "stream",
          "name": "stderr",
          "text": [
            "\n",
            "image 1/1 /content/dataset/images/train/imgRGB_008_002_003.png: 640x384 1 person, 7.8ms\n",
            "Speed: 1.1ms preprocess, 7.8ms inference, 2.1ms postprocess per image at shape (1, 3, 640, 384)\n"
          ]
        },
        {
          "output_type": "stream",
          "name": "stdout",
          "text": [
            "Distância estimada: 201.08cm, Altura (estimada | real): 165.93cm | 181.0cm\n"
          ]
        },
        {
          "output_type": "stream",
          "name": "stderr",
          "text": [
            "\n",
            "image 1/1 /content/dataset/images/train/imgRGB_005_002_008.png: 640x384 1 person, 14.0ms\n",
            "Speed: 1.4ms preprocess, 14.0ms inference, 3.0ms postprocess per image at shape (1, 3, 640, 384)\n"
          ]
        },
        {
          "output_type": "stream",
          "name": "stdout",
          "text": [
            "Distância estimada: 169.86cm, Altura (estimada | real): 163.03cm | 180.0cm\n"
          ]
        },
        {
          "output_type": "stream",
          "name": "stderr",
          "text": [
            "\n",
            "image 1/1 /content/dataset/images/train/imgRGB_016_004_006.png: 640x384 1 person, 32.1ms\n",
            "Speed: 1.5ms preprocess, 32.1ms inference, 3.9ms postprocess per image at shape (1, 3, 640, 384)\n"
          ]
        },
        {
          "output_type": "stream",
          "name": "stdout",
          "text": [
            "Distância estimada: 178.49cm, Altura (estimada | real): 164.61cm | 175.0cm\n"
          ]
        },
        {
          "output_type": "stream",
          "name": "stderr",
          "text": [
            "\n",
            "image 1/1 /content/dataset/images/train/imgRGB_012_003_006.png: 640x384 1 person, 8.9ms\n",
            "Speed: 1.7ms preprocess, 8.9ms inference, 2.1ms postprocess per image at shape (1, 3, 640, 384)\n"
          ]
        },
        {
          "output_type": "stream",
          "name": "stdout",
          "text": [
            "Distância estimada: 270.46cm, Altura (estimada | real): 162.48cm | 175.0cm\n"
          ]
        },
        {
          "output_type": "stream",
          "name": "stderr",
          "text": [
            "\n",
            "image 1/1 /content/dataset/images/train/imgRGB_003_002_005.png: 640x384 1 person, 9.3ms\n",
            "Speed: 1.3ms preprocess, 9.3ms inference, 4.9ms postprocess per image at shape (1, 3, 640, 384)\n"
          ]
        },
        {
          "output_type": "stream",
          "name": "stdout",
          "text": [
            "Distância estimada: 200.53cm, Altura (estimada | real): 164.52cm | 181.0cm\n"
          ]
        },
        {
          "output_type": "stream",
          "name": "stderr",
          "text": [
            "\n",
            "image 1/1 /content/dataset/images/train/imgRGB_022_002_004.png: 640x384 1 person, 8.2ms\n",
            "Speed: 1.3ms preprocess, 8.2ms inference, 2.5ms postprocess per image at shape (1, 3, 640, 384)\n"
          ]
        },
        {
          "output_type": "stream",
          "name": "stdout",
          "text": [
            "Distância estimada: 177.54cm, Altura (estimada | real): 185.27cm | 178.5cm\n"
          ]
        },
        {
          "output_type": "stream",
          "name": "stderr",
          "text": [
            "\n",
            "image 1/1 /content/dataset/images/train/imgRGB_012_002_003.png: 640x384 1 person, 11.9ms\n",
            "Speed: 5.4ms preprocess, 11.9ms inference, 3.2ms postprocess per image at shape (1, 3, 640, 384)\n"
          ]
        },
        {
          "output_type": "stream",
          "name": "stdout",
          "text": [
            "Distância estimada: 172.3cm, Altura (estimada | real): 179.33cm | 175.0cm\n"
          ]
        },
        {
          "output_type": "stream",
          "name": "stderr",
          "text": [
            "\n",
            "image 1/1 /content/dataset/images/train/imgRGB_012_003_004.png: 640x384 1 person, 13.8ms\n",
            "Speed: 1.6ms preprocess, 13.8ms inference, 3.6ms postprocess per image at shape (1, 3, 640, 384)\n"
          ]
        },
        {
          "output_type": "stream",
          "name": "stdout",
          "text": [
            "Distância estimada: 162.99cm, Altura (estimada | real): 147.03cm | 181.0cm\n"
          ]
        },
        {
          "output_type": "stream",
          "name": "stderr",
          "text": [
            "\n",
            "image 1/1 /content/dataset/images/train/imgRGB_019_004_006.png: 640x384 1 person, 8.6ms\n",
            "Speed: 1.4ms preprocess, 8.6ms inference, 2.3ms postprocess per image at shape (1, 3, 640, 384)\n"
          ]
        },
        {
          "output_type": "stream",
          "name": "stdout",
          "text": [
            "Distância estimada: 197.46cm, Altura (estimada | real): 165.47cm | 181.0cm\n"
          ]
        },
        {
          "output_type": "stream",
          "name": "stderr",
          "text": [
            "\n",
            "image 1/1 /content/dataset/images/train/imgRGB_011_004_007.png: 640x384 1 person, 8.1ms\n",
            "Speed: 1.4ms preprocess, 8.1ms inference, 2.2ms postprocess per image at shape (1, 3, 640, 384)\n"
          ]
        },
        {
          "output_type": "stream",
          "name": "stdout",
          "text": [
            "Distância estimada: 275.15cm, Altura (estimada | real): 169.52cm | 176.0cm\n"
          ]
        },
        {
          "output_type": "stream",
          "name": "stderr",
          "text": [
            "\n",
            "image 1/1 /content/dataset/images/train/imgRGB_012_002_008.png: 640x384 1 person, 9.9ms\n",
            "Speed: 1.3ms preprocess, 9.9ms inference, 2.1ms postprocess per image at shape (1, 3, 640, 384)\n"
          ]
        },
        {
          "output_type": "stream",
          "name": "stdout",
          "text": [
            "Distância estimada: 239.58cm, Altura (estimada | real): 173.09cm | 186.0cm\n"
          ]
        },
        {
          "output_type": "stream",
          "name": "stderr",
          "text": [
            "\n",
            "image 1/1 /content/dataset/images/train/imgRGB_025_003_008.png: 640x384 1 person, 9.5ms\n",
            "Speed: 1.2ms preprocess, 9.5ms inference, 2.1ms postprocess per image at shape (1, 3, 640, 384)\n"
          ]
        },
        {
          "output_type": "stream",
          "name": "stdout",
          "text": [
            "Distância estimada: 168.8cm, Altura (estimada | real): 139.96cm | 181.0cm\n"
          ]
        },
        {
          "output_type": "stream",
          "name": "stderr",
          "text": [
            "\n",
            "image 1/1 /content/dataset/images/train/imgRGB_016_002_006.png: 640x384 1 person, 13.5ms\n",
            "Speed: 1.5ms preprocess, 13.5ms inference, 3.3ms postprocess per image at shape (1, 3, 640, 384)\n"
          ]
        },
        {
          "output_type": "stream",
          "name": "stdout",
          "text": [
            "Distância estimada: 238.91cm, Altura (estimada | real): 163.36cm | 160.0cm\n"
          ]
        },
        {
          "output_type": "stream",
          "name": "stderr",
          "text": [
            "\n",
            "image 1/1 /content/dataset/images/train/imgRGB_025_003_004.png: 640x384 1 person, 8.2ms\n",
            "Speed: 1.1ms preprocess, 8.2ms inference, 2.2ms postprocess per image at shape (1, 3, 640, 384)\n"
          ]
        },
        {
          "output_type": "stream",
          "name": "stdout",
          "text": [
            "Distância estimada: 174.06cm, Altura (estimada | real): 155.03cm | 175.0cm\n"
          ]
        },
        {
          "output_type": "stream",
          "name": "stderr",
          "text": [
            "\n",
            "image 1/1 /content/dataset/images/train/imgRGB_016_002_009.png: 640x384 1 person, 10.3ms\n",
            "Speed: 1.3ms preprocess, 10.3ms inference, 2.2ms postprocess per image at shape (1, 3, 640, 384)\n"
          ]
        },
        {
          "output_type": "stream",
          "name": "stdout",
          "text": [
            "Distância estimada: 234.76cm, Altura (estimada | real): 168.33cm | 160.0cm\n"
          ]
        },
        {
          "output_type": "stream",
          "name": "stderr",
          "text": [
            "\n",
            "image 1/1 /content/dataset/images/train/imgRGB_020_004_009.png: 640x384 1 person, 12.9ms\n",
            "Speed: 1.5ms preprocess, 12.9ms inference, 3.4ms postprocess per image at shape (1, 3, 640, 384)\n"
          ]
        },
        {
          "output_type": "stream",
          "name": "stdout",
          "text": [
            "Distância estimada: 171.78cm, Altura (estimada | real): 155.21cm | 175.0cm\n"
          ]
        },
        {
          "output_type": "stream",
          "name": "stderr",
          "text": [
            "\n",
            "image 1/1 /content/dataset/images/train/imgRGB_017_002_008.png: 640x384 1 person, 9.7ms\n",
            "Speed: 1.4ms preprocess, 9.7ms inference, 2.2ms postprocess per image at shape (1, 3, 640, 384)\n"
          ]
        },
        {
          "output_type": "stream",
          "name": "stdout",
          "text": [
            "Distância estimada: 272.47cm, Altura (estimada | real): 169.76cm | 171.0cm\n"
          ]
        },
        {
          "output_type": "stream",
          "name": "stderr",
          "text": [
            "\n",
            "image 1/1 /content/dataset/images/train/imgRGB_016_002_005.png: 640x384 1 person, 14.0ms\n",
            "Speed: 1.6ms preprocess, 14.0ms inference, 2.8ms postprocess per image at shape (1, 3, 640, 384)\n"
          ]
        },
        {
          "output_type": "stream",
          "name": "stdout",
          "text": [
            "Distância estimada: 172.85cm, Altura (estimada | real): 185.77cm | 184.0cm\n"
          ]
        },
        {
          "output_type": "stream",
          "name": "stderr",
          "text": [
            "\n",
            "image 1/1 /content/dataset/images/train/imgRGB_019_002_004.png: 640x384 1 person, 8.9ms\n",
            "Speed: 1.3ms preprocess, 8.9ms inference, 2.7ms postprocess per image at shape (1, 3, 640, 384)\n"
          ]
        },
        {
          "output_type": "stream",
          "name": "stdout",
          "text": [
            "Distância estimada: 173.1cm, Altura (estimada | real): 156.52cm | 175.0cm\n"
          ]
        },
        {
          "output_type": "stream",
          "name": "stderr",
          "text": [
            "\n",
            "image 1/1 /content/dataset/images/train/imgRGB_007_003_002.png: 640x384 1 person, 8.3ms\n",
            "Speed: 1.3ms preprocess, 8.3ms inference, 2.2ms postprocess per image at shape (1, 3, 640, 384)\n"
          ]
        },
        {
          "output_type": "stream",
          "name": "stdout",
          "text": [
            "Distância estimada: 175.86cm, Altura (estimada | real): 176.59cm | 176.0cm\n"
          ]
        },
        {
          "output_type": "stream",
          "name": "stderr",
          "text": [
            "\n",
            "image 1/1 /content/dataset/images/train/imgRGB_004_003_003.png: 640x384 1 person, 7.9ms\n",
            "Speed: 1.1ms preprocess, 7.9ms inference, 2.3ms postprocess per image at shape (1, 3, 640, 384)\n"
          ]
        },
        {
          "output_type": "stream",
          "name": "stdout",
          "text": [
            "Distância estimada: 207.84cm, Altura (estimada | real): 163.17cm | 172.0cm\n"
          ]
        },
        {
          "output_type": "stream",
          "name": "stderr",
          "text": [
            "\n",
            "image 1/1 /content/dataset/images/train/imgRGB_012_002_002.png: 640x384 1 person, 8.7ms\n",
            "Speed: 1.7ms preprocess, 8.7ms inference, 2.2ms postprocess per image at shape (1, 3, 640, 384)\n"
          ]
        },
        {
          "output_type": "stream",
          "name": "stdout",
          "text": [
            "Distância estimada: 212.9cm, Altura (estimada | real): 150.4cm | 167.0cm\n"
          ]
        },
        {
          "output_type": "stream",
          "name": "stderr",
          "text": [
            "\n",
            "image 1/1 /content/dataset/images/train/imgRGB_001_003_000.png: 640x384 1 person, 18.4ms\n",
            "Speed: 7.3ms preprocess, 18.4ms inference, 8.9ms postprocess per image at shape (1, 3, 640, 384)\n"
          ]
        },
        {
          "output_type": "stream",
          "name": "stdout",
          "text": [
            "Distância estimada: 161.89cm, Altura (estimada | real): 147.61cm | 181.0cm\n"
          ]
        },
        {
          "output_type": "stream",
          "name": "stderr",
          "text": [
            "\n",
            "image 1/1 /content/dataset/images/train/imgRGB_023_003_000.png: 640x384 1 person, 9.6ms\n",
            "Speed: 1.5ms preprocess, 9.6ms inference, 3.1ms postprocess per image at shape (1, 3, 640, 384)\n"
          ]
        },
        {
          "output_type": "stream",
          "name": "stdout",
          "text": [
            "Distância estimada: 198.36cm, Altura (estimada | real): 156.62cm | 177.0cm\n"
          ]
        },
        {
          "output_type": "stream",
          "name": "stderr",
          "text": [
            "\n",
            "image 1/1 /content/dataset/images/train/imgRGB_022_003_008.png: 640x384 1 person, 10.4ms\n",
            "Speed: 1.2ms preprocess, 10.4ms inference, 2.1ms postprocess per image at shape (1, 3, 640, 384)\n"
          ]
        },
        {
          "output_type": "stream",
          "name": "stdout",
          "text": [
            "Distância estimada: 208.92cm, Altura (estimada | real): 182.73cm | 187.0cm\n"
          ]
        },
        {
          "output_type": "stream",
          "name": "stderr",
          "text": [
            "\n",
            "image 1/1 /content/dataset/images/train/imgRGB_014_004_006.png: 640x384 1 person, 9.5ms\n",
            "Speed: 1.3ms preprocess, 9.5ms inference, 2.9ms postprocess per image at shape (1, 3, 640, 384)\n"
          ]
        },
        {
          "output_type": "stream",
          "name": "stdout",
          "text": [
            "Distância estimada: 211.34cm, Altura (estimada | real): 185.87cm | 175.0cm\n"
          ]
        },
        {
          "output_type": "stream",
          "name": "stderr",
          "text": [
            "\n",
            "image 1/1 /content/dataset/images/train/imgRGB_009_002_009.png: 640x384 1 person, 8.1ms\n",
            "Speed: 1.5ms preprocess, 8.1ms inference, 2.2ms postprocess per image at shape (1, 3, 640, 384)\n"
          ]
        },
        {
          "output_type": "stream",
          "name": "stdout",
          "text": [
            "Distância estimada: 246.23cm, Altura (estimada | real): 181.07cm | 175.0cm\n"
          ]
        },
        {
          "output_type": "stream",
          "name": "stderr",
          "text": [
            "\n",
            "image 1/1 /content/dataset/images/train/imgRGB_012_003_003.png: 640x384 1 person, 13.7ms\n",
            "Speed: 1.3ms preprocess, 13.7ms inference, 4.3ms postprocess per image at shape (1, 3, 640, 384)\n"
          ]
        },
        {
          "output_type": "stream",
          "name": "stdout",
          "text": [
            "Distância estimada: 182.3cm, Altura (estimada | real): 144.16cm | 166.0cm\n"
          ]
        },
        {
          "output_type": "stream",
          "name": "stderr",
          "text": [
            "\n",
            "image 1/1 /content/dataset/images/train/imgRGB_010_003_000.png: 640x384 1 person, 7.8ms\n",
            "Speed: 1.4ms preprocess, 7.8ms inference, 2.1ms postprocess per image at shape (1, 3, 640, 384)\n"
          ]
        },
        {
          "output_type": "stream",
          "name": "stdout",
          "text": [
            "Distância estimada: 200.44cm, Altura (estimada | real): 163.16cm | 181.0cm\n"
          ]
        },
        {
          "output_type": "stream",
          "name": "stderr",
          "text": [
            "\n",
            "image 1/1 /content/dataset/images/train/imgRGB_012_004_001.png: 640x384 1 person, 8.0ms\n",
            "Speed: 1.2ms preprocess, 8.0ms inference, 2.1ms postprocess per image at shape (1, 3, 640, 384)\n"
          ]
        },
        {
          "output_type": "stream",
          "name": "stdout",
          "text": [
            "Distância estimada: 200.86cm, Altura (estimada | real): 164.33cm | 176.0cm\n"
          ]
        },
        {
          "output_type": "stream",
          "name": "stderr",
          "text": [
            "\n",
            "image 1/1 /content/dataset/images/train/imgRGB_013_004_003.png: 640x384 1 person, 8.8ms\n",
            "Speed: 1.1ms preprocess, 8.8ms inference, 2.7ms postprocess per image at shape (1, 3, 640, 384)\n"
          ]
        },
        {
          "output_type": "stream",
          "name": "stdout",
          "text": [
            "Distância estimada: 237.04cm, Altura (estimada | real): 176.71cm | 181.0cm\n"
          ]
        },
        {
          "output_type": "stream",
          "name": "stderr",
          "text": [
            "\n",
            "image 1/1 /content/dataset/images/train/imgRGB_010_004_005.png: 640x384 1 person, 9.2ms\n",
            "Speed: 1.4ms preprocess, 9.2ms inference, 2.4ms postprocess per image at shape (1, 3, 640, 384)\n"
          ]
        },
        {
          "output_type": "stream",
          "name": "stdout",
          "text": [
            "Distância estimada: 259.3cm, Altura (estimada | real): 171.28cm | 182.0cm\n"
          ]
        },
        {
          "output_type": "stream",
          "name": "stderr",
          "text": [
            "\n",
            "image 1/1 /content/dataset/images/train/imgRGB_002_003_007.png: 640x384 1 person, 9.6ms\n",
            "Speed: 1.6ms preprocess, 9.6ms inference, 3.4ms postprocess per image at shape (1, 3, 640, 384)\n"
          ]
        },
        {
          "output_type": "stream",
          "name": "stdout",
          "text": [
            "Distância estimada: 253.08cm, Altura (estimada | real): 174.7cm | 176.0cm\n"
          ]
        },
        {
          "output_type": "stream",
          "name": "stderr",
          "text": [
            "\n",
            "image 1/1 /content/dataset/images/train/imgRGB_007_003_007.png: 640x384 1 person, 10.4ms\n",
            "Speed: 1.2ms preprocess, 10.4ms inference, 2.1ms postprocess per image at shape (1, 3, 640, 384)\n"
          ]
        },
        {
          "output_type": "stream",
          "name": "stdout",
          "text": [
            "Distância estimada: 200.32cm, Altura (estimada | real): 155.45cm | 177.0cm\n"
          ]
        },
        {
          "output_type": "stream",
          "name": "stderr",
          "text": [
            "\n",
            "image 1/1 /content/dataset/images/train/imgRGB_014_003_002.png: 640x384 1 person, 9.2ms\n",
            "Speed: 1.4ms preprocess, 9.2ms inference, 2.7ms postprocess per image at shape (1, 3, 640, 384)\n"
          ]
        },
        {
          "output_type": "stream",
          "name": "stdout",
          "text": [
            "Distância estimada: 204.36cm, Altura (estimada | real): 166.12cm | 172.0cm\n"
          ]
        },
        {
          "output_type": "stream",
          "name": "stderr",
          "text": [
            "\n",
            "image 1/1 /content/dataset/images/train/imgRGB_004_003_001.png: 640x384 1 person, 9.5ms\n",
            "Speed: 1.5ms preprocess, 9.5ms inference, 2.2ms postprocess per image at shape (1, 3, 640, 384)\n"
          ]
        },
        {
          "output_type": "stream",
          "name": "stdout",
          "text": [
            "Distância estimada: 199.84cm, Altura (estimada | real): 166.17cm | 175.0cm\n"
          ]
        },
        {
          "output_type": "stream",
          "name": "stderr",
          "text": [
            "\n",
            "image 1/1 /content/dataset/images/train/imgRGB_021_003_004.png: 640x384 1 person, 8.6ms\n",
            "Speed: 1.3ms preprocess, 8.6ms inference, 2.1ms postprocess per image at shape (1, 3, 640, 384)\n"
          ]
        },
        {
          "output_type": "stream",
          "name": "stdout",
          "text": [
            "Distância estimada: 205.06cm, Altura (estimada | real): 153.04cm | 167.0cm\n"
          ]
        },
        {
          "output_type": "stream",
          "name": "stderr",
          "text": [
            "\n",
            "image 1/1 /content/dataset/images/train/imgRGB_003_002_003.png: 640x384 1 person, 11.6ms\n",
            "Speed: 1.4ms preprocess, 11.6ms inference, 3.0ms postprocess per image at shape (1, 3, 640, 384)\n"
          ]
        },
        {
          "output_type": "stream",
          "name": "stdout",
          "text": [
            "Distância estimada: 215.3cm, Altura (estimada | real): 184.7cm | 176.0cm\n"
          ]
        },
        {
          "output_type": "stream",
          "name": "stderr",
          "text": [
            "\n",
            "image 1/1 /content/dataset/images/train/imgRGB_006_004_008.png: 640x384 1 person, 9.8ms\n",
            "Speed: 1.4ms preprocess, 9.8ms inference, 3.0ms postprocess per image at shape (1, 3, 640, 384)\n"
          ]
        },
        {
          "output_type": "stream",
          "name": "stdout",
          "text": [
            "Distância estimada: 174.58cm, Altura (estimada | real): 183.83cm | 178.5cm\n"
          ]
        },
        {
          "output_type": "stream",
          "name": "stderr",
          "text": [
            "\n",
            "image 1/1 /content/dataset/images/train/imgRGB_011_004_003.png: 640x384 1 person, 8.7ms\n",
            "Speed: 1.3ms preprocess, 8.7ms inference, 2.2ms postprocess per image at shape (1, 3, 640, 384)\n"
          ]
        },
        {
          "output_type": "stream",
          "name": "stdout",
          "text": [
            "Distância estimada: 254.7cm, Altura (estimada | real): 163.12cm | 167.0cm\n"
          ]
        },
        {
          "output_type": "stream",
          "name": "stderr",
          "text": [
            "\n",
            "image 1/1 /content/dataset/images/train/imgRGB_006_004_006.png: 640x384 1 person, 10.4ms\n",
            "Speed: 1.2ms preprocess, 10.4ms inference, 2.3ms postprocess per image at shape (1, 3, 640, 384)\n"
          ]
        },
        {
          "output_type": "stream",
          "name": "stdout",
          "text": [
            "Distância estimada: 240.31cm, Altura (estimada | real): 173.98cm | 186.0cm\n"
          ]
        },
        {
          "output_type": "stream",
          "name": "stderr",
          "text": [
            "\n",
            "image 1/1 /content/dataset/images/train/imgRGB_018_004_004.png: 640x384 1 person, 10.0ms\n",
            "Speed: 1.4ms preprocess, 10.0ms inference, 2.1ms postprocess per image at shape (1, 3, 640, 384)\n"
          ]
        },
        {
          "output_type": "stream",
          "name": "stdout",
          "text": [
            "Distância estimada: 254.36cm, Altura (estimada | real): 166.41cm | 167.0cm\n"
          ]
        },
        {
          "output_type": "stream",
          "name": "stderr",
          "text": [
            "\n",
            "image 1/1 /content/dataset/images/train/imgRGB_005_002_009.png: 640x384 1 person, 13.7ms\n",
            "Speed: 7.9ms preprocess, 13.7ms inference, 4.8ms postprocess per image at shape (1, 3, 640, 384)\n"
          ]
        },
        {
          "output_type": "stream",
          "name": "stdout",
          "text": [
            "Distância estimada: 260.26cm, Altura (estimada | real): 187.03cm | 186.5cm\n"
          ]
        },
        {
          "output_type": "stream",
          "name": "stderr",
          "text": [
            "\n",
            "image 1/1 /content/dataset/images/train/imgRGB_002_002_008.png: 640x384 1 person, 10.5ms\n",
            "Speed: 1.4ms preprocess, 10.5ms inference, 3.0ms postprocess per image at shape (1, 3, 640, 384)\n"
          ]
        },
        {
          "output_type": "stream",
          "name": "stdout",
          "text": [
            "Distância estimada: 178.0cm, Altura (estimada | real): 160.76cm | 175.0cm\n"
          ]
        },
        {
          "output_type": "stream",
          "name": "stderr",
          "text": [
            "\n",
            "image 1/1 /content/dataset/images/train/imgRGB_016_004_003.png: 640x384 1 person, 11.0ms\n",
            "Speed: 1.5ms preprocess, 11.0ms inference, 2.2ms postprocess per image at shape (1, 3, 640, 384)\n"
          ]
        },
        {
          "output_type": "stream",
          "name": "stdout",
          "text": [
            "Distância estimada: 173.8cm, Altura (estimada | real): 152.16cm | 177.0cm\n"
          ]
        },
        {
          "output_type": "stream",
          "name": "stderr",
          "text": [
            "\n",
            "image 1/1 /content/dataset/images/train/imgRGB_020_004_000.png: 640x384 1 person, 10.1ms\n",
            "Speed: 1.2ms preprocess, 10.1ms inference, 2.8ms postprocess per image at shape (1, 3, 640, 384)\n"
          ]
        },
        {
          "output_type": "stream",
          "name": "stdout",
          "text": [
            "Distância estimada: 260.69cm, Altura (estimada | real): 163.34cm | 175.0cm\n"
          ]
        },
        {
          "output_type": "stream",
          "name": "stderr",
          "text": [
            "\n",
            "image 1/1 /content/dataset/images/train/imgRGB_002_002_001.png: 640x384 1 person, 9.3ms\n",
            "Speed: 1.4ms preprocess, 9.3ms inference, 2.3ms postprocess per image at shape (1, 3, 640, 384)\n"
          ]
        },
        {
          "output_type": "stream",
          "name": "stdout",
          "text": [
            "Distância estimada: 259.83cm, Altura (estimada | real): 169.26cm | 171.0cm\n"
          ]
        },
        {
          "output_type": "stream",
          "name": "stderr",
          "text": [
            "\n",
            "image 1/1 /content/dataset/images/train/imgRGB_020_004_002.png: 640x384 1 person, 12.7ms\n",
            "Speed: 4.4ms preprocess, 12.7ms inference, 2.9ms postprocess per image at shape (1, 3, 640, 384)\n"
          ]
        },
        {
          "output_type": "stream",
          "name": "stdout",
          "text": [
            "Distância estimada: 169.21cm, Altura (estimada | real): 150.48cm | 177.0cm\n"
          ]
        },
        {
          "output_type": "stream",
          "name": "stderr",
          "text": [
            "\n",
            "image 1/1 /content/dataset/images/train/imgRGB_001_002_001.png: 640x384 1 person, 10.5ms\n",
            "Speed: 1.3ms preprocess, 10.5ms inference, 3.2ms postprocess per image at shape (1, 3, 640, 384)\n"
          ]
        },
        {
          "output_type": "stream",
          "name": "stdout",
          "text": [
            "Distância estimada: 257.71cm, Altura (estimada | real): 172.39cm | 171.0cm\n"
          ]
        },
        {
          "output_type": "stream",
          "name": "stderr",
          "text": [
            "\n",
            "image 1/1 /content/dataset/images/train/imgRGB_019_004_000.png: 640x384 1 person, 7.6ms\n",
            "Speed: 1.1ms preprocess, 7.6ms inference, 2.1ms postprocess per image at shape (1, 3, 640, 384)\n"
          ]
        },
        {
          "output_type": "stream",
          "name": "stdout",
          "text": [
            "Distância estimada: 163.45cm, Altura (estimada | real): 162.95cm | 177.0cm\n"
          ]
        },
        {
          "output_type": "stream",
          "name": "stderr",
          "text": [
            "\n",
            "image 1/1 /content/dataset/images/train/imgRGB_022_003_006.png: 640x384 1 person, 9.4ms\n",
            "Speed: 1.3ms preprocess, 9.4ms inference, 2.3ms postprocess per image at shape (1, 3, 640, 384)\n"
          ]
        },
        {
          "output_type": "stream",
          "name": "stdout",
          "text": [
            "Distância estimada: 259.35cm, Altura (estimada | real): 175.43cm | 176.0cm\n"
          ]
        },
        {
          "output_type": "stream",
          "name": "stderr",
          "text": [
            "\n",
            "image 1/1 /content/dataset/images/train/imgRGB_012_004_003.png: 640x384 1 person, 13.3ms\n",
            "Speed: 1.3ms preprocess, 13.3ms inference, 2.8ms postprocess per image at shape (1, 3, 640, 384)\n"
          ]
        },
        {
          "output_type": "stream",
          "name": "stdout",
          "text": [
            "Distância estimada: 219.98cm, Altura (estimada | real): 181.3cm | 175.0cm\n"
          ]
        },
        {
          "output_type": "stream",
          "name": "stderr",
          "text": [
            "\n",
            "image 1/1 /content/dataset/images/train/imgRGB_011_004_006.png: 640x384 1 person, 10.9ms\n",
            "Speed: 1.3ms preprocess, 10.9ms inference, 3.3ms postprocess per image at shape (1, 3, 640, 384)\n"
          ]
        },
        {
          "output_type": "stream",
          "name": "stdout",
          "text": [
            "Distância estimada: 238.14cm, Altura (estimada | real): 177.14cm | 181.0cm\n"
          ]
        },
        {
          "output_type": "stream",
          "name": "stderr",
          "text": [
            "\n",
            "image 1/1 /content/dataset/images/train/imgRGB_003_002_006.png: 640x384 1 person, 16.0ms\n",
            "Speed: 5.3ms preprocess, 16.0ms inference, 3.4ms postprocess per image at shape (1, 3, 640, 384)\n"
          ]
        },
        {
          "output_type": "stream",
          "name": "stdout",
          "text": [
            "Distância estimada: 245.13cm, Altura (estimada | real): 173.23cm | 186.0cm\n"
          ]
        },
        {
          "output_type": "stream",
          "name": "stderr",
          "text": [
            "\n",
            "image 1/1 /content/dataset/images/train/imgRGB_017_004_000.png: 640x384 1 person, 9.0ms\n",
            "Speed: 1.3ms preprocess, 9.0ms inference, 2.1ms postprocess per image at shape (1, 3, 640, 384)\n"
          ]
        },
        {
          "output_type": "stream",
          "name": "stdout",
          "text": [
            "Distância estimada: 175.0cm, Altura (estimada | real): 184.88cm | 178.5cm\n"
          ]
        },
        {
          "output_type": "stream",
          "name": "stderr",
          "text": [
            "\n",
            "image 1/1 /content/dataset/images/train/imgRGB_004_003_005.png: 640x384 1 person, 8.5ms\n",
            "Speed: 1.3ms preprocess, 8.5ms inference, 3.0ms postprocess per image at shape (1, 3, 640, 384)\n"
          ]
        },
        {
          "output_type": "stream",
          "name": "stdout",
          "text": [
            "Distância estimada: 262.42cm, Altura (estimada | real): 195.47cm | 184.0cm\n"
          ]
        },
        {
          "output_type": "stream",
          "name": "stderr",
          "text": [
            "\n",
            "image 1/1 /content/dataset/images/train/imgRGB_004_002_003.png: 640x384 1 person, 8.5ms\n",
            "Speed: 1.3ms preprocess, 8.5ms inference, 2.2ms postprocess per image at shape (1, 3, 640, 384)\n"
          ]
        },
        {
          "output_type": "stream",
          "name": "stdout",
          "text": [
            "Distância estimada: 207.48cm, Altura (estimada | real): 155.17cm | 167.0cm\n"
          ]
        },
        {
          "output_type": "stream",
          "name": "stderr",
          "text": [
            "\n",
            "image 1/1 /content/dataset/images/train/imgRGB_015_004_001.png: 640x384 1 person, 9.6ms\n",
            "Speed: 1.3ms preprocess, 9.6ms inference, 2.4ms postprocess per image at shape (1, 3, 640, 384)\n"
          ]
        },
        {
          "output_type": "stream",
          "name": "stdout",
          "text": [
            "Distância estimada: 183.78cm, Altura (estimada | real): 166.73cm | 167.0cm\n"
          ]
        },
        {
          "output_type": "stream",
          "name": "stderr",
          "text": [
            "\n",
            "image 1/1 /content/dataset/images/train/imgRGB_015_002_007.png: 640x384 1 person, 10.1ms\n",
            "Speed: 4.7ms preprocess, 10.1ms inference, 2.8ms postprocess per image at shape (1, 3, 640, 384)\n"
          ]
        },
        {
          "output_type": "stream",
          "name": "stdout",
          "text": [
            "Distância estimada: 270.15cm, Altura (estimada | real): 169.94cm | 165.0cm\n"
          ]
        },
        {
          "output_type": "stream",
          "name": "stderr",
          "text": [
            "\n",
            "image 1/1 /content/dataset/images/train/imgRGB_004_004_002.png: 640x384 1 person, 9.6ms\n",
            "Speed: 1.3ms preprocess, 9.6ms inference, 2.2ms postprocess per image at shape (1, 3, 640, 384)\n"
          ]
        },
        {
          "output_type": "stream",
          "name": "stdout",
          "text": [
            "Distância estimada: 187.65cm, Altura (estimada | real): 159.23cm | 165.0cm\n"
          ]
        },
        {
          "output_type": "stream",
          "name": "stderr",
          "text": [
            "\n",
            "image 1/1 /content/dataset/images/train/imgRGB_010_002_008.png: 640x384 1 person, 9.7ms\n",
            "Speed: 1.2ms preprocess, 9.7ms inference, 2.5ms postprocess per image at shape (1, 3, 640, 384)\n"
          ]
        },
        {
          "output_type": "stream",
          "name": "stdout",
          "text": [
            "Distância estimada: 256.54cm, Altura (estimada | real): 161.16cm | 167.0cm\n"
          ]
        },
        {
          "output_type": "stream",
          "name": "stderr",
          "text": [
            "\n",
            "image 1/1 /content/dataset/images/train/imgRGB_006_002_007.png: 640x384 1 person, 10.1ms\n",
            "Speed: 1.3ms preprocess, 10.1ms inference, 2.1ms postprocess per image at shape (1, 3, 640, 384)\n"
          ]
        },
        {
          "output_type": "stream",
          "name": "stdout",
          "text": [
            "Distância estimada: 169.96cm, Altura (estimada | real): 138.69cm | 176.0cm\n"
          ]
        },
        {
          "output_type": "stream",
          "name": "stderr",
          "text": [
            "\n",
            "image 1/1 /content/dataset/images/train/imgRGB_017_003_003.png: 640x384 1 person, 11.5ms\n",
            "Speed: 1.3ms preprocess, 11.5ms inference, 2.9ms postprocess per image at shape (1, 3, 640, 384)\n"
          ]
        },
        {
          "output_type": "stream",
          "name": "stdout",
          "text": [
            "Distância estimada: 175.32cm, Altura (estimada | real): 148.34cm | 167.0cm\n"
          ]
        },
        {
          "output_type": "stream",
          "name": "stderr",
          "text": [
            "\n",
            "image 1/1 /content/dataset/images/train/imgRGB_011_003_008.png: 640x384 1 person, 9.9ms\n",
            "Speed: 1.3ms preprocess, 9.9ms inference, 2.8ms postprocess per image at shape (1, 3, 640, 384)\n"
          ]
        },
        {
          "output_type": "stream",
          "name": "stdout",
          "text": [
            "Distância estimada: 225.54cm, Altura (estimada | real): 189.0cm | 184.0cm\n"
          ]
        },
        {
          "output_type": "stream",
          "name": "stderr",
          "text": [
            "\n",
            "image 1/1 /content/dataset/images/train/imgRGB_017_003_002.png: 640x384 1 person, 9.6ms\n",
            "Speed: 1.2ms preprocess, 9.6ms inference, 2.6ms postprocess per image at shape (1, 3, 640, 384)\n"
          ]
        },
        {
          "output_type": "stream",
          "name": "stdout",
          "text": [
            "Distância estimada: 199.51cm, Altura (estimada | real): 157.88cm | 186.0cm\n"
          ]
        },
        {
          "output_type": "stream",
          "name": "stderr",
          "text": [
            "\n",
            "image 1/1 /content/dataset/images/train/imgRGB_002_004_003.png: 640x384 1 person, 10.7ms\n",
            "Speed: 1.3ms preprocess, 10.7ms inference, 2.8ms postprocess per image at shape (1, 3, 640, 384)\n"
          ]
        },
        {
          "output_type": "stream",
          "name": "stdout",
          "text": [
            "Distância estimada: 221.38cm, Altura (estimada | real): 191.84cm | 184.0cm\n"
          ]
        },
        {
          "output_type": "stream",
          "name": "stderr",
          "text": [
            "\n",
            "image 1/1 /content/dataset/images/train/imgRGB_009_004_007.png: 640x384 1 person, 8.7ms\n",
            "Speed: 1.4ms preprocess, 8.7ms inference, 3.3ms postprocess per image at shape (1, 3, 640, 384)\n"
          ]
        },
        {
          "output_type": "stream",
          "name": "stdout",
          "text": [
            "Distância estimada: 256.65cm, Altura (estimada | real): 171.1cm | 177.0cm\n"
          ]
        },
        {
          "output_type": "stream",
          "name": "stderr",
          "text": [
            "\n",
            "image 1/1 /content/dataset/images/train/imgRGB_019_004_004.png: 640x384 1 person, 9.4ms\n",
            "Speed: 1.5ms preprocess, 9.4ms inference, 2.2ms postprocess per image at shape (1, 3, 640, 384)\n"
          ]
        },
        {
          "output_type": "stream",
          "name": "stdout",
          "text": [
            "Distância estimada: 263.88cm, Altura (estimada | real): 172.77cm | 166.0cm\n"
          ]
        },
        {
          "output_type": "stream",
          "name": "stderr",
          "text": [
            "\n",
            "image 1/1 /content/dataset/images/train/imgRGB_013_002_006.png: 640x384 1 person, 10.7ms\n",
            "Speed: 1.7ms preprocess, 10.7ms inference, 2.8ms postprocess per image at shape (1, 3, 640, 384)\n"
          ]
        },
        {
          "output_type": "stream",
          "name": "stdout",
          "text": [
            "Distância estimada: 259.42cm, Altura (estimada | real): 181.19cm | 176.0cm\n"
          ]
        },
        {
          "output_type": "stream",
          "name": "stderr",
          "text": [
            "\n",
            "image 1/1 /content/dataset/images/train/imgRGB_018_003_000.png: 640x384 1 person, 9.6ms\n",
            "Speed: 1.2ms preprocess, 9.6ms inference, 2.2ms postprocess per image at shape (1, 3, 640, 384)\n"
          ]
        },
        {
          "output_type": "stream",
          "name": "stdout",
          "text": [
            "Distância estimada: 171.87cm, Altura (estimada | real): 185.66cm | 182.0cm\n"
          ]
        },
        {
          "output_type": "stream",
          "name": "stderr",
          "text": [
            "\n",
            "image 1/1 /content/dataset/images/train/imgRGB_025_002_004.png: 640x384 1 person, 10.5ms\n",
            "Speed: 1.2ms preprocess, 10.5ms inference, 3.3ms postprocess per image at shape (1, 3, 640, 384)\n"
          ]
        },
        {
          "output_type": "stream",
          "name": "stdout",
          "text": [
            "Distância estimada: 213.87cm, Altura (estimada | real): 187.13cm | 186.5cm\n"
          ]
        },
        {
          "output_type": "stream",
          "name": "stderr",
          "text": [
            "\n",
            "image 1/1 /content/dataset/images/train/imgRGB_002_003_002.png: 640x384 1 person, 11.3ms\n",
            "Speed: 1.5ms preprocess, 11.3ms inference, 2.2ms postprocess per image at shape (1, 3, 640, 384)\n"
          ]
        },
        {
          "output_type": "stream",
          "name": "stdout",
          "text": [
            "Distância estimada: 184.42cm, Altura (estimada | real): 178.99cm | 160.0cm\n"
          ]
        },
        {
          "output_type": "stream",
          "name": "stderr",
          "text": [
            "\n",
            "image 1/1 /content/dataset/images/train/imgRGB_002_004_004.png: 640x384 1 person, 9.8ms\n",
            "Speed: 1.4ms preprocess, 9.8ms inference, 2.7ms postprocess per image at shape (1, 3, 640, 384)\n"
          ]
        },
        {
          "output_type": "stream",
          "name": "stdout",
          "text": [
            "Distância estimada: 199.96cm, Altura (estimada | real): 152.43cm | 177.0cm\n"
          ]
        },
        {
          "output_type": "stream",
          "name": "stderr",
          "text": [
            "\n",
            "image 1/1 /content/dataset/images/train/imgRGB_024_004_000.png: 640x384 1 person, 14.0ms\n",
            "Speed: 1.3ms preprocess, 14.0ms inference, 2.8ms postprocess per image at shape (1, 3, 640, 384)\n"
          ]
        },
        {
          "output_type": "stream",
          "name": "stdout",
          "text": [
            "Distância estimada: 255.35cm, Altura (estimada | real): 173.25cm | 177.0cm\n"
          ]
        },
        {
          "output_type": "stream",
          "name": "stderr",
          "text": [
            "\n",
            "image 1/1 /content/dataset/images/train/imgRGB_002_002_004.png: 640x384 1 person, 9.2ms\n",
            "Speed: 1.3ms preprocess, 9.2ms inference, 2.7ms postprocess per image at shape (1, 3, 640, 384)\n"
          ]
        },
        {
          "output_type": "stream",
          "name": "stdout",
          "text": [
            "Distância estimada: 268.38cm, Altura (estimada | real): 164.77cm | 166.0cm\n"
          ]
        },
        {
          "output_type": "stream",
          "name": "stderr",
          "text": [
            "\n",
            "image 1/1 /content/dataset/images/train/imgRGB_008_004_007.png: 640x384 1 person, 9.8ms\n",
            "Speed: 1.4ms preprocess, 9.8ms inference, 2.7ms postprocess per image at shape (1, 3, 640, 384)\n"
          ]
        },
        {
          "output_type": "stream",
          "name": "stdout",
          "text": [
            "Distância estimada: 167.89cm, Altura (estimada | real): 147.44cm | 177.0cm\n"
          ]
        },
        {
          "output_type": "stream",
          "name": "stderr",
          "text": [
            "\n",
            "image 1/1 /content/dataset/images/train/imgRGB_016_002_008.png: 640x384 1 person, 8.9ms\n",
            "Speed: 1.3ms preprocess, 8.9ms inference, 2.3ms postprocess per image at shape (1, 3, 640, 384)\n"
          ]
        },
        {
          "output_type": "stream",
          "name": "stdout",
          "text": [
            "Distância estimada: 248.87cm, Altura (estimada | real): 176.76cm | 180.0cm\n"
          ]
        },
        {
          "output_type": "stream",
          "name": "stderr",
          "text": [
            "\n",
            "image 1/1 /content/dataset/images/train/imgRGB_022_002_000.png: 640x384 1 person, 8.0ms\n",
            "Speed: 1.1ms preprocess, 8.0ms inference, 2.1ms postprocess per image at shape (1, 3, 640, 384)\n"
          ]
        },
        {
          "output_type": "stream",
          "name": "stdout",
          "text": [
            "Distância estimada: 171.0cm, Altura (estimada | real): 154.3cm | 175.0cm\n"
          ]
        },
        {
          "output_type": "stream",
          "name": "stderr",
          "text": [
            "\n",
            "image 1/1 /content/dataset/images/train/imgRGB_025_003_005.png: 640x384 1 person, 15.8ms\n",
            "Speed: 1.3ms preprocess, 15.8ms inference, 5.0ms postprocess per image at shape (1, 3, 640, 384)\n"
          ]
        },
        {
          "output_type": "stream",
          "name": "stdout",
          "text": [
            "Distância estimada: 166.04cm, Altura (estimada | real): 182.03cm | 175.0cm\n"
          ]
        },
        {
          "output_type": "stream",
          "name": "stderr",
          "text": [
            "\n",
            "image 1/1 /content/dataset/images/train/imgRGB_011_002_001.png: 640x384 1 person, 8.1ms\n",
            "Speed: 1.2ms preprocess, 8.1ms inference, 2.1ms postprocess per image at shape (1, 3, 640, 384)\n"
          ]
        },
        {
          "output_type": "stream",
          "name": "stdout",
          "text": [
            "Distância estimada: 227.14cm, Altura (estimada | real): 170.58cm | 160.0cm\n"
          ]
        },
        {
          "output_type": "stream",
          "name": "stderr",
          "text": [
            "\n",
            "image 1/1 /content/dataset/images/train/imgRGB_018_004_000.png: 640x384 1 person, 9.2ms\n",
            "Speed: 1.2ms preprocess, 9.2ms inference, 2.1ms postprocess per image at shape (1, 3, 640, 384)\n"
          ]
        },
        {
          "output_type": "stream",
          "name": "stdout",
          "text": [
            "Distância estimada: 154.08cm, Altura (estimada | real): 161.25cm | 186.0cm\n"
          ]
        },
        {
          "output_type": "stream",
          "name": "stderr",
          "text": [
            "\n",
            "image 1/1 /content/dataset/images/train/imgRGB_009_003_008.png: 640x384 1 person, 8.0ms\n",
            "Speed: 1.2ms preprocess, 8.0ms inference, 2.2ms postprocess per image at shape (1, 3, 640, 384)\n"
          ]
        },
        {
          "output_type": "stream",
          "name": "stdout",
          "text": [
            "Distância estimada: 254.28cm, Altura (estimada | real): 193.85cm | 186.5cm\n"
          ]
        },
        {
          "output_type": "stream",
          "name": "stderr",
          "text": [
            "\n",
            "image 1/1 /content/dataset/images/train/imgRGB_024_003_003.png: 640x384 1 person, 10.7ms\n",
            "Speed: 1.4ms preprocess, 10.7ms inference, 2.2ms postprocess per image at shape (1, 3, 640, 384)\n"
          ]
        },
        {
          "output_type": "stream",
          "name": "stdout",
          "text": [
            "Distância estimada: 213.08cm, Altura (estimada | real): 166.71cm | 166.0cm\n"
          ]
        },
        {
          "output_type": "stream",
          "name": "stderr",
          "text": [
            "\n",
            "image 1/1 /content/dataset/images/train/imgRGB_012_002_007.png: 640x384 1 person, 9.4ms\n",
            "Speed: 1.3ms preprocess, 9.4ms inference, 2.8ms postprocess per image at shape (1, 3, 640, 384)\n"
          ]
        },
        {
          "output_type": "stream",
          "name": "stdout",
          "text": [
            "Distância estimada: 210.58cm, Altura (estimada | real): 174.62cm | 166.0cm\n"
          ]
        },
        {
          "output_type": "stream",
          "name": "stderr",
          "text": [
            "\n",
            "image 1/1 /content/dataset/images/train/imgRGB_003_004_009.png: 640x384 1 person, 15.0ms\n",
            "Speed: 1.3ms preprocess, 15.0ms inference, 7.9ms postprocess per image at shape (1, 3, 640, 384)\n"
          ]
        },
        {
          "output_type": "stream",
          "name": "stdout",
          "text": [
            "Distância estimada: 162.78cm, Altura (estimada | real): 149.74cm | 181.0cm\n"
          ]
        },
        {
          "output_type": "stream",
          "name": "stderr",
          "text": [
            "\n",
            "image 1/1 /content/dataset/images/train/imgRGB_019_003_001.png: 640x384 1 person, 8.5ms\n",
            "Speed: 2.2ms preprocess, 8.5ms inference, 5.1ms postprocess per image at shape (1, 3, 640, 384)\n"
          ]
        },
        {
          "output_type": "stream",
          "name": "stdout",
          "text": [
            "Distância estimada: 253.16cm, Altura (estimada | real): 178.12cm | 178.5cm\n"
          ]
        },
        {
          "output_type": "stream",
          "name": "stderr",
          "text": [
            "\n",
            "image 1/1 /content/dataset/images/train/imgRGB_014_003_007.png: 640x384 1 person, 10.2ms\n",
            "Speed: 1.4ms preprocess, 10.2ms inference, 2.3ms postprocess per image at shape (1, 3, 640, 384)\n"
          ]
        },
        {
          "output_type": "stream",
          "name": "stdout",
          "text": [
            "Distância estimada: 213.6cm, Altura (estimada | real): 177.13cm | 176.0cm\n"
          ]
        },
        {
          "output_type": "stream",
          "name": "stderr",
          "text": [
            "\n",
            "image 1/1 /content/dataset/images/train/imgRGB_005_002_003.png: 640x384 1 person, 8.4ms\n",
            "Speed: 1.3ms preprocess, 8.4ms inference, 2.3ms postprocess per image at shape (1, 3, 640, 384)\n"
          ]
        },
        {
          "output_type": "stream",
          "name": "stdout",
          "text": [
            "Distância estimada: 199.34cm, Altura (estimada | real): 168.85cm | 175.0cm\n"
          ]
        },
        {
          "output_type": "stream",
          "name": "stderr",
          "text": [
            "\n",
            "image 1/1 /content/dataset/images/train/imgRGB_019_002_009.png: 640x384 1 person, 9.4ms\n",
            "Speed: 1.5ms preprocess, 9.4ms inference, 2.8ms postprocess per image at shape (1, 3, 640, 384)\n"
          ]
        },
        {
          "output_type": "stream",
          "name": "stdout",
          "text": [
            "Distância estimada: 176.08cm, Altura (estimada | real): 160.96cm | 175.0cm\n"
          ]
        },
        {
          "output_type": "stream",
          "name": "stderr",
          "text": [
            "\n",
            "image 1/1 /content/dataset/images/train/imgRGB_013_002_008.png: 640x384 1 person, 11.2ms\n",
            "Speed: 1.4ms preprocess, 11.2ms inference, 3.3ms postprocess per image at shape (1, 3, 640, 384)\n"
          ]
        },
        {
          "output_type": "stream",
          "name": "stdout",
          "text": [
            "Distância estimada: 176.3cm, Altura (estimada | real): 178.42cm | 176.0cm\n"
          ]
        },
        {
          "output_type": "stream",
          "name": "stderr",
          "text": [
            "\n",
            "image 1/1 /content/dataset/images/train/imgRGB_017_004_002.png: 640x384 1 person, 9.8ms\n",
            "Speed: 1.3ms preprocess, 9.8ms inference, 2.2ms postprocess per image at shape (1, 3, 640, 384)\n"
          ]
        },
        {
          "output_type": "stream",
          "name": "stdout",
          "text": [
            "Distância estimada: 179.96cm, Altura (estimada | real): 186.34cm | 182.0cm\n"
          ]
        },
        {
          "output_type": "stream",
          "name": "stderr",
          "text": [
            "\n",
            "image 1/1 /content/dataset/images/train/imgRGB_015_003_000.png: 640x384 1 person, 9.6ms\n",
            "Speed: 1.4ms preprocess, 9.6ms inference, 2.2ms postprocess per image at shape (1, 3, 640, 384)\n"
          ]
        },
        {
          "output_type": "stream",
          "name": "stdout",
          "text": [
            "Distância estimada: 263.64cm, Altura (estimada | real): 196.55cm | 184.0cm\n"
          ]
        },
        {
          "output_type": "stream",
          "name": "stderr",
          "text": [
            "\n",
            "image 1/1 /content/dataset/images/train/imgRGB_013_002_007.png: 640x384 1 person, 7.6ms\n",
            "Speed: 1.8ms preprocess, 7.6ms inference, 2.1ms postprocess per image at shape (1, 3, 640, 384)\n"
          ]
        },
        {
          "output_type": "stream",
          "name": "stdout",
          "text": [
            "Distância estimada: 211.78cm, Altura (estimada | real): 156.01cm | 165.0cm\n"
          ]
        },
        {
          "output_type": "stream",
          "name": "stderr",
          "text": [
            "\n",
            "image 1/1 /content/dataset/images/train/imgRGB_003_002_009.png: 640x384 1 person, 10.1ms\n",
            "Speed: 1.4ms preprocess, 10.1ms inference, 3.2ms postprocess per image at shape (1, 3, 640, 384)\n"
          ]
        },
        {
          "output_type": "stream",
          "name": "stdout",
          "text": [
            "Distância estimada: 174.44cm, Altura (estimada | real): 189.94cm | 182.0cm\n"
          ]
        },
        {
          "output_type": "stream",
          "name": "stderr",
          "text": [
            "\n",
            "image 1/1 /content/dataset/images/train/imgRGB_019_004_005.png: 640x384 1 person, 11.2ms\n",
            "Speed: 1.3ms preprocess, 11.2ms inference, 3.3ms postprocess per image at shape (1, 3, 640, 384)\n"
          ]
        },
        {
          "output_type": "stream",
          "name": "stdout",
          "text": [
            "Distância estimada: 174.98cm, Altura (estimada | real): 187.03cm | 178.5cm\n"
          ]
        },
        {
          "output_type": "stream",
          "name": "stderr",
          "text": [
            "\n",
            "image 1/1 /content/dataset/images/train/imgRGB_018_002_005.png: 640x384 1 person, 10.3ms\n",
            "Speed: 1.5ms preprocess, 10.3ms inference, 2.1ms postprocess per image at shape (1, 3, 640, 384)\n"
          ]
        },
        {
          "output_type": "stream",
          "name": "stdout",
          "text": [
            "Distância estimada: 276.06cm, Altura (estimada | real): 168.25cm | 176.0cm\n"
          ]
        },
        {
          "output_type": "stream",
          "name": "stderr",
          "text": [
            "\n",
            "image 1/1 /content/dataset/images/train/imgRGB_014_004_002.png: 640x384 1 person, 9.7ms\n",
            "Speed: 1.5ms preprocess, 9.7ms inference, 2.1ms postprocess per image at shape (1, 3, 640, 384)\n"
          ]
        },
        {
          "output_type": "stream",
          "name": "stdout",
          "text": [
            "Distância estimada: 164.98cm, Altura (estimada | real): 174.39cm | 186.5cm\n"
          ]
        },
        {
          "output_type": "stream",
          "name": "stderr",
          "text": [
            "\n",
            "image 1/1 /content/dataset/images/train/imgRGB_003_004_006.png: 640x384 1 person, 9.6ms\n",
            "Speed: 1.3ms preprocess, 9.6ms inference, 2.2ms postprocess per image at shape (1, 3, 640, 384)\n"
          ]
        },
        {
          "output_type": "stream",
          "name": "stdout",
          "text": [
            "Distância estimada: 250.84cm, Altura (estimada | real): 181.16cm | 175.0cm\n"
          ]
        },
        {
          "output_type": "stream",
          "name": "stderr",
          "text": [
            "\n",
            "image 1/1 /content/dataset/images/train/imgRGB_022_002_009.png: 640x384 1 person, 8.2ms\n",
            "Speed: 1.3ms preprocess, 8.2ms inference, 2.9ms postprocess per image at shape (1, 3, 640, 384)\n"
          ]
        },
        {
          "output_type": "stream",
          "name": "stdout",
          "text": [
            "Distância estimada: 231.09cm, Altura (estimada | real): 182.51cm | 178.5cm\n"
          ]
        },
        {
          "output_type": "stream",
          "name": "stderr",
          "text": [
            "\n",
            "image 1/1 /content/dataset/images/train/imgRGB_016_003_001.png: 640x384 1 person, 11.7ms\n",
            "Speed: 1.3ms preprocess, 11.7ms inference, 5.6ms postprocess per image at shape (1, 3, 640, 384)\n"
          ]
        },
        {
          "output_type": "stream",
          "name": "stdout",
          "text": [
            "Distância estimada: 169.31cm, Altura (estimada | real): 180.98cm | 175.0cm\n"
          ]
        },
        {
          "output_type": "stream",
          "name": "stderr",
          "text": [
            "\n",
            "image 1/1 /content/dataset/images/train/imgRGB_022_003_004.png: 640x384 1 person, 9.8ms\n",
            "Speed: 1.1ms preprocess, 9.8ms inference, 2.3ms postprocess per image at shape (1, 3, 640, 384)\n"
          ]
        },
        {
          "output_type": "stream",
          "name": "stdout",
          "text": [
            "Distância estimada: 207.3cm, Altura (estimada | real): 169.31cm | 175.0cm\n"
          ]
        },
        {
          "output_type": "stream",
          "name": "stderr",
          "text": [
            "\n",
            "image 1/1 /content/dataset/images/train/imgRGB_013_004_005.png: 640x384 1 person, 9.5ms\n",
            "Speed: 1.4ms preprocess, 9.5ms inference, 2.1ms postprocess per image at shape (1, 3, 640, 384)\n"
          ]
        },
        {
          "output_type": "stream",
          "name": "stdout",
          "text": [
            "Distância estimada: 209.12cm, Altura (estimada | real): 182.43cm | 175.0cm\n"
          ]
        },
        {
          "output_type": "stream",
          "name": "stderr",
          "text": [
            "\n",
            "image 1/1 /content/dataset/images/train/imgRGB_017_002_003.png: 640x384 1 person, 12.2ms\n",
            "Speed: 2.3ms preprocess, 12.2ms inference, 2.3ms postprocess per image at shape (1, 3, 640, 384)\n"
          ]
        },
        {
          "output_type": "stream",
          "name": "stdout",
          "text": [
            "Distância estimada: 252.0cm, Altura (estimada | real): 177.78cm | 182.0cm\n"
          ]
        },
        {
          "output_type": "stream",
          "name": "stderr",
          "text": [
            "\n",
            "image 1/1 /content/dataset/images/train/imgRGB_024_004_005.png: 640x384 1 person, 8.1ms\n",
            "Speed: 1.3ms preprocess, 8.1ms inference, 2.2ms postprocess per image at shape (1, 3, 640, 384)\n"
          ]
        },
        {
          "output_type": "stream",
          "name": "stdout",
          "text": [
            "Distância estimada: 165.46cm, Altura (estimada | real): 194.67cm | 184.0cm\n"
          ]
        },
        {
          "output_type": "stream",
          "name": "stderr",
          "text": [
            "\n",
            "image 1/1 /content/dataset/images/train/imgRGB_020_002_001.png: 640x384 1 person, 11.6ms\n",
            "Speed: 1.3ms preprocess, 11.6ms inference, 3.0ms postprocess per image at shape (1, 3, 640, 384)\n"
          ]
        },
        {
          "output_type": "stream",
          "name": "stdout",
          "text": [
            "Distância estimada: 274.35cm, Altura (estimada | real): 169.6cm | 166.0cm\n"
          ]
        },
        {
          "output_type": "stream",
          "name": "stderr",
          "text": [
            "\n",
            "image 1/1 /content/dataset/images/train/imgRGB_003_002_008.png: 640x384 1 person, 10.3ms\n",
            "Speed: 1.2ms preprocess, 10.3ms inference, 2.3ms postprocess per image at shape (1, 3, 640, 384)\n"
          ]
        },
        {
          "output_type": "stream",
          "name": "stdout",
          "text": [
            "Distância estimada: 178.85cm, Altura (estimada | real): 179.24cm | 171.0cm\n"
          ]
        },
        {
          "output_type": "stream",
          "name": "stderr",
          "text": [
            "\n",
            "image 1/1 /content/dataset/images/train/imgRGB_001_002_003.png: 640x384 1 person, 7.7ms\n",
            "Speed: 1.1ms preprocess, 7.7ms inference, 2.1ms postprocess per image at shape (1, 3, 640, 384)\n"
          ]
        },
        {
          "output_type": "stream",
          "name": "stdout",
          "text": [
            "Distância estimada: 174.44cm, Altura (estimada | real): 187.21cm | 178.5cm\n"
          ]
        },
        {
          "output_type": "stream",
          "name": "stderr",
          "text": [
            "\n",
            "image 1/1 /content/dataset/images/train/imgRGB_003_003_007.png: 640x384 1 person, 7.8ms\n",
            "Speed: 1.1ms preprocess, 7.8ms inference, 2.2ms postprocess per image at shape (1, 3, 640, 384)\n"
          ]
        },
        {
          "output_type": "stream",
          "name": "stdout",
          "text": [
            "Distância estimada: 171.08cm, Altura (estimada | real): 160.01cm | 177.0cm\n"
          ]
        },
        {
          "output_type": "stream",
          "name": "stderr",
          "text": [
            "\n",
            "image 1/1 /content/dataset/images/train/imgRGB_015_004_004.png: 640x384 1 person, 13.2ms\n",
            "Speed: 1.6ms preprocess, 13.2ms inference, 3.0ms postprocess per image at shape (1, 3, 640, 384)\n"
          ]
        },
        {
          "output_type": "stream",
          "name": "stdout",
          "text": [
            "Distância estimada: 210.37cm, Altura (estimada | real): 172.17cm | 178.5cm\n"
          ]
        },
        {
          "output_type": "stream",
          "name": "stderr",
          "text": [
            "\n",
            "image 1/1 /content/dataset/images/train/imgRGB_019_003_000.png: 640x384 1 person, 9.1ms\n",
            "Speed: 1.3ms preprocess, 9.1ms inference, 4.5ms postprocess per image at shape (1, 3, 640, 384)\n"
          ]
        },
        {
          "output_type": "stream",
          "name": "stdout",
          "text": [
            "Distância estimada: 267.91cm, Altura (estimada | real): 168.08cm | 165.0cm\n"
          ]
        },
        {
          "output_type": "stream",
          "name": "stderr",
          "text": [
            "\n",
            "image 1/1 /content/dataset/images/train/imgRGB_016_002_003.png: 640x384 1 person, 10.9ms\n",
            "Speed: 1.2ms preprocess, 10.9ms inference, 2.2ms postprocess per image at shape (1, 3, 640, 384)\n"
          ]
        },
        {
          "output_type": "stream",
          "name": "stdout",
          "text": [
            "Distância estimada: 216.46cm, Altura (estimada | real): 176.89cm | 176.0cm\n"
          ]
        },
        {
          "output_type": "stream",
          "name": "stderr",
          "text": [
            "\n",
            "image 1/1 /content/dataset/images/train/imgRGB_005_002_007.png: 640x384 1 person, 9.3ms\n",
            "Speed: 1.7ms preprocess, 9.3ms inference, 2.2ms postprocess per image at shape (1, 3, 640, 384)\n"
          ]
        },
        {
          "output_type": "stream",
          "name": "stdout",
          "text": [
            "Distância estimada: 179.88cm, Altura (estimada | real): 150.94cm | 175.0cm\n"
          ]
        },
        {
          "output_type": "stream",
          "name": "stderr",
          "text": [
            "\n",
            "image 1/1 /content/dataset/images/train/imgRGB_015_003_006.png: 640x384 1 person, 11.2ms\n",
            "Speed: 1.3ms preprocess, 11.2ms inference, 3.0ms postprocess per image at shape (1, 3, 640, 384)\n"
          ]
        },
        {
          "output_type": "stream",
          "name": "stdout",
          "text": [
            "Distância estimada: 178.03cm, Altura (estimada | real): 165.85cm | 175.0cm\n"
          ]
        },
        {
          "output_type": "stream",
          "name": "stderr",
          "text": [
            "\n",
            "image 1/1 /content/dataset/images/train/imgRGB_017_004_007.png: 640x384 1 person, 11.2ms\n",
            "Speed: 1.4ms preprocess, 11.2ms inference, 2.6ms postprocess per image at shape (1, 3, 640, 384)\n"
          ]
        },
        {
          "output_type": "stream",
          "name": "stdout",
          "text": [
            "Distância estimada: 209.44cm, Altura (estimada | real): 160.07cm | 165.0cm\n"
          ]
        },
        {
          "output_type": "stream",
          "name": "stderr",
          "text": [
            "\n",
            "image 1/1 /content/dataset/images/train/imgRGB_008_003_000.png: 640x384 1 person, 10.1ms\n",
            "Speed: 1.4ms preprocess, 10.1ms inference, 2.8ms postprocess per image at shape (1, 3, 640, 384)\n"
          ]
        },
        {
          "output_type": "stream",
          "name": "stdout",
          "text": [
            "Distância estimada: 266.88cm, Altura (estimada | real): 196.69cm | 184.0cm\n"
          ]
        },
        {
          "output_type": "stream",
          "name": "stderr",
          "text": [
            "\n",
            "image 1/1 /content/dataset/images/train/imgRGB_007_003_005.png: 640x384 1 person, 9.4ms\n",
            "Speed: 1.3ms preprocess, 9.4ms inference, 2.3ms postprocess per image at shape (1, 3, 640, 384)\n"
          ]
        },
        {
          "output_type": "stream",
          "name": "stdout",
          "text": [
            "Distância estimada: 210.17cm, Altura (estimada | real): 168.33cm | 180.0cm\n"
          ]
        },
        {
          "output_type": "stream",
          "name": "stderr",
          "text": [
            "\n",
            "image 1/1 /content/dataset/images/train/imgRGB_017_004_008.png: 640x384 1 person, 8.8ms\n",
            "Speed: 1.6ms preprocess, 8.8ms inference, 3.0ms postprocess per image at shape (1, 3, 640, 384)\n"
          ]
        },
        {
          "output_type": "stream",
          "name": "stdout",
          "text": [
            "Distância estimada: 210.68cm, Altura (estimada | real): 163.78cm | 172.0cm\n"
          ]
        },
        {
          "output_type": "stream",
          "name": "stderr",
          "text": [
            "\n",
            "image 1/1 /content/dataset/images/train/imgRGB_009_004_003.png: 640x384 1 person, 9.9ms\n",
            "Speed: 1.3ms preprocess, 9.9ms inference, 3.1ms postprocess per image at shape (1, 3, 640, 384)\n"
          ]
        },
        {
          "output_type": "stream",
          "name": "stdout",
          "text": [
            "Distância estimada: 264.76cm, Altura (estimada | real): 196.32cm | 184.0cm\n"
          ]
        },
        {
          "output_type": "stream",
          "name": "stderr",
          "text": [
            "\n",
            "image 1/1 /content/dataset/images/train/imgRGB_010_002_003.png: 640x384 1 person, 10.2ms\n",
            "Speed: 1.2ms preprocess, 10.2ms inference, 2.6ms postprocess per image at shape (1, 3, 640, 384)\n"
          ]
        },
        {
          "output_type": "stream",
          "name": "stdout",
          "text": [
            "Distância estimada: 262.64cm, Altura (estimada | real): 171.7cm | 166.0cm\n"
          ]
        },
        {
          "output_type": "stream",
          "name": "stderr",
          "text": [
            "\n",
            "image 1/1 /content/dataset/images/train/imgRGB_005_004_003.png: 640x384 1 person, 11.9ms\n",
            "Speed: 1.4ms preprocess, 11.9ms inference, 2.8ms postprocess per image at shape (1, 3, 640, 384)\n"
          ]
        },
        {
          "output_type": "stream",
          "name": "stdout",
          "text": [
            "Distância estimada: 169.65cm, Altura (estimada | real): 156.67cm | 176.0cm\n"
          ]
        },
        {
          "output_type": "stream",
          "name": "stderr",
          "text": [
            "\n",
            "image 1/1 /content/dataset/images/train/imgRGB_016_004_002.png: 640x384 1 person, 9.9ms\n",
            "Speed: 1.2ms preprocess, 9.9ms inference, 2.4ms postprocess per image at shape (1, 3, 640, 384)\n"
          ]
        },
        {
          "output_type": "stream",
          "name": "stdout",
          "text": [
            "Distância estimada: 255.2cm, Altura (estimada | real): 178.46cm | 175.0cm\n"
          ]
        },
        {
          "output_type": "stream",
          "name": "stderr",
          "text": [
            "\n",
            "image 1/1 /content/dataset/images/train/imgRGB_002_004_005.png: 640x384 1 person, 9.3ms\n",
            "Speed: 1.4ms preprocess, 9.3ms inference, 2.2ms postprocess per image at shape (1, 3, 640, 384)\n"
          ]
        },
        {
          "output_type": "stream",
          "name": "stdout",
          "text": [
            "Distância estimada: 260.66cm, Altura (estimada | real): 166.36cm | 175.0cm\n"
          ]
        },
        {
          "output_type": "stream",
          "name": "stderr",
          "text": [
            "\n",
            "image 1/1 /content/dataset/images/train/imgRGB_014_003_004.png: 640x384 1 person, 10.5ms\n",
            "Speed: 1.4ms preprocess, 10.5ms inference, 3.7ms postprocess per image at shape (1, 3, 640, 384)\n"
          ]
        },
        {
          "output_type": "stream",
          "name": "stdout",
          "text": [
            "Distância estimada: 257.09cm, Altura (estimada | real): 170.86cm | 177.0cm\n"
          ]
        },
        {
          "output_type": "stream",
          "name": "stderr",
          "text": [
            "\n",
            "image 1/1 /content/dataset/images/train/imgRGB_022_004_004.png: 640x384 1 person, 9.1ms\n",
            "Speed: 1.3ms preprocess, 9.1ms inference, 2.6ms postprocess per image at shape (1, 3, 640, 384)\n"
          ]
        },
        {
          "output_type": "stream",
          "name": "stdout",
          "text": [
            "Distância estimada: 200.5cm, Altura (estimada | real): 166.1cm | 175.0cm\n"
          ]
        },
        {
          "output_type": "stream",
          "name": "stderr",
          "text": [
            "\n",
            "image 1/1 /content/dataset/images/train/imgRGB_002_004_001.png: 640x384 1 person, 13.7ms\n",
            "Speed: 4.9ms preprocess, 13.7ms inference, 3.0ms postprocess per image at shape (1, 3, 640, 384)\n"
          ]
        },
        {
          "output_type": "stream",
          "name": "stdout",
          "text": [
            "Distância estimada: 260.53cm, Altura (estimada | real): 198.94cm | 175.0cm\n"
          ]
        },
        {
          "output_type": "stream",
          "name": "stderr",
          "text": [
            "\n",
            "image 1/1 /content/dataset/images/train/imgRGB_023_004_000.png: 640x384 1 person, 11.7ms\n",
            "Speed: 1.3ms preprocess, 11.7ms inference, 3.0ms postprocess per image at shape (1, 3, 640, 384)\n"
          ]
        },
        {
          "output_type": "stream",
          "name": "stdout",
          "text": [
            "Distância estimada: 255.54cm, Altura (estimada | real): 168.98cm | 177.0cm\n"
          ]
        },
        {
          "output_type": "stream",
          "name": "stderr",
          "text": [
            "\n",
            "image 1/1 /content/dataset/images/train/imgRGB_005_003_009.png: 640x384 1 person, 9.3ms\n",
            "Speed: 1.4ms preprocess, 9.3ms inference, 2.2ms postprocess per image at shape (1, 3, 640, 384)\n"
          ]
        },
        {
          "output_type": "stream",
          "name": "stdout",
          "text": [
            "Distância estimada: 251.03cm, Altura (estimada | real): 185.45cm | 187.0cm\n"
          ]
        },
        {
          "output_type": "stream",
          "name": "stderr",
          "text": [
            "\n",
            "image 1/1 /content/dataset/images/train/imgRGB_002_002_007.png: 640x384 1 person, 10.8ms\n",
            "Speed: 1.2ms preprocess, 10.8ms inference, 3.3ms postprocess per image at shape (1, 3, 640, 384)\n"
          ]
        },
        {
          "output_type": "stream",
          "name": "stdout",
          "text": [
            "Distância estimada: 206.66cm, Altura (estimada | real): 173.5cm | 175.0cm\n"
          ]
        },
        {
          "output_type": "stream",
          "name": "stderr",
          "text": [
            "\n",
            "image 1/1 /content/dataset/images/train/imgRGB_004_002_000.png: 640x384 1 person, 9.5ms\n",
            "Speed: 1.4ms preprocess, 9.5ms inference, 3.0ms postprocess per image at shape (1, 3, 640, 384)\n"
          ]
        },
        {
          "output_type": "stream",
          "name": "stdout",
          "text": [
            "Distância estimada: 169.98cm, Altura (estimada | real): 150.51cm | 177.0cm\n"
          ]
        },
        {
          "output_type": "stream",
          "name": "stderr",
          "text": [
            "\n",
            "image 1/1 /content/dataset/images/train/imgRGB_016_002_001.png: 640x384 1 person, 11.6ms\n",
            "Speed: 1.3ms preprocess, 11.6ms inference, 4.5ms postprocess per image at shape (1, 3, 640, 384)\n"
          ]
        },
        {
          "output_type": "stream",
          "name": "stdout",
          "text": [
            "Distância estimada: 184.14cm, Altura (estimada | real): 162.92cm | 167.0cm\n"
          ]
        },
        {
          "output_type": "stream",
          "name": "stderr",
          "text": [
            "\n",
            "image 1/1 /content/dataset/images/train/imgRGB_024_002_008.png: 640x384 1 person, 11.5ms\n",
            "Speed: 1.3ms preprocess, 11.5ms inference, 3.1ms postprocess per image at shape (1, 3, 640, 384)\n"
          ]
        },
        {
          "output_type": "stream",
          "name": "stdout",
          "text": [
            "Distância estimada: 191.88cm, Altura (estimada | real): 146.85cm | 175.0cm\n"
          ]
        },
        {
          "output_type": "stream",
          "name": "stderr",
          "text": [
            "\n",
            "image 1/1 /content/dataset/images/train/imgRGB_011_002_007.png: 640x384 1 person, 9.1ms\n",
            "Speed: 1.3ms preprocess, 9.1ms inference, 2.2ms postprocess per image at shape (1, 3, 640, 384)\n"
          ]
        },
        {
          "output_type": "stream",
          "name": "stdout",
          "text": [
            "Distância estimada: 167.54cm, Altura (estimada | real): 169.3cm | 166.0cm\n"
          ]
        },
        {
          "output_type": "stream",
          "name": "stderr",
          "text": [
            "\n",
            "image 1/1 /content/dataset/images/train/imgRGB_007_002_001.png: 640x384 1 person, 9.8ms\n",
            "Speed: 1.4ms preprocess, 9.8ms inference, 2.4ms postprocess per image at shape (1, 3, 640, 384)\n"
          ]
        },
        {
          "output_type": "stream",
          "name": "stdout",
          "text": [
            "Distância estimada: 163.36cm, Altura (estimada | real): 152.95cm | 186.0cm\n"
          ]
        },
        {
          "output_type": "stream",
          "name": "stderr",
          "text": [
            "\n",
            "image 1/1 /content/dataset/images/train/imgRGB_012_004_008.png: 640x384 1 person, 10.0ms\n",
            "Speed: 1.4ms preprocess, 10.0ms inference, 2.2ms postprocess per image at shape (1, 3, 640, 384)\n"
          ]
        },
        {
          "output_type": "stream",
          "name": "stdout",
          "text": [
            "Distância estimada: 178.25cm, Altura (estimada | real): 165.61cm | 172.0cm\n"
          ]
        },
        {
          "output_type": "stream",
          "name": "stderr",
          "text": [
            "\n",
            "image 1/1 /content/dataset/images/train/imgRGB_006_004_001.png: 640x384 1 person, 10.1ms\n",
            "Speed: 1.2ms preprocess, 10.1ms inference, 2.2ms postprocess per image at shape (1, 3, 640, 384)\n"
          ]
        },
        {
          "output_type": "stream",
          "name": "stdout",
          "text": [
            "Distância estimada: 239.29cm, Altura (estimada | real): 184.83cm | 181.0cm\n"
          ]
        },
        {
          "output_type": "stream",
          "name": "stderr",
          "text": [
            "\n",
            "image 1/1 /content/dataset/images/train/imgRGB_005_004_002.png: 640x384 1 person, 14.4ms\n",
            "Speed: 1.3ms preprocess, 14.4ms inference, 3.2ms postprocess per image at shape (1, 3, 640, 384)\n"
          ]
        },
        {
          "output_type": "stream",
          "name": "stdout",
          "text": [
            "Distância estimada: 251.4cm, Altura (estimada | real): 167.78cm | 167.0cm\n"
          ]
        },
        {
          "output_type": "stream",
          "name": "stderr",
          "text": [
            "\n",
            "image 1/1 /content/dataset/images/train/imgRGB_016_002_000.png: 640x384 1 person, 8.7ms\n",
            "Speed: 1.4ms preprocess, 8.7ms inference, 2.2ms postprocess per image at shape (1, 3, 640, 384)\n"
          ]
        },
        {
          "output_type": "stream",
          "name": "stdout",
          "text": [
            "Distância estimada: 256.14cm, Altura (estimada | real): 179.58cm | 175.0cm\n"
          ]
        },
        {
          "output_type": "stream",
          "name": "stderr",
          "text": [
            "\n",
            "image 1/1 /content/dataset/images/train/imgRGB_009_002_005.png: 640x384 1 person, 10.4ms\n",
            "Speed: 1.4ms preprocess, 10.4ms inference, 2.3ms postprocess per image at shape (1, 3, 640, 384)\n"
          ]
        },
        {
          "output_type": "stream",
          "name": "stdout",
          "text": [
            "Distância estimada: 181.73cm, Altura (estimada | real): 150.66cm | 175.0cm\n"
          ]
        },
        {
          "output_type": "stream",
          "name": "stderr",
          "text": [
            "\n",
            "image 1/1 /content/dataset/images/train/imgRGB_007_002_003.png: 640x384 1 person, 10.0ms\n",
            "Speed: 1.2ms preprocess, 10.0ms inference, 2.2ms postprocess per image at shape (1, 3, 640, 384)\n"
          ]
        },
        {
          "output_type": "stream",
          "name": "stdout",
          "text": [
            "Distância estimada: 180.64cm, Altura (estimada | real): 140.0cm | 166.0cm\n"
          ]
        },
        {
          "output_type": "stream",
          "name": "stderr",
          "text": [
            "\n",
            "image 1/1 /content/dataset/images/train/imgRGB_009_004_009.png: 640x384 1 person, 9.4ms\n",
            "Speed: 1.4ms preprocess, 9.4ms inference, 2.0ms postprocess per image at shape (1, 3, 640, 384)\n"
          ]
        },
        {
          "output_type": "stream",
          "name": "stdout",
          "text": [
            "Distância estimada: 179.8cm, Altura (estimada | real): 166.83cm | 172.0cm\n"
          ]
        },
        {
          "output_type": "stream",
          "name": "stderr",
          "text": [
            "\n",
            "image 1/1 /content/dataset/images/train/imgRGB_017_004_009.png: 640x384 1 person, 9.5ms\n",
            "Speed: 1.3ms preprocess, 9.5ms inference, 2.9ms postprocess per image at shape (1, 3, 640, 384)\n"
          ]
        },
        {
          "output_type": "stream",
          "name": "stdout",
          "text": [
            "Distância estimada: 263.3cm, Altura (estimada | real): 174.01cm | 166.0cm\n"
          ]
        },
        {
          "output_type": "stream",
          "name": "stderr",
          "text": [
            "\n",
            "image 1/1 /content/dataset/images/train/imgRGB_015_004_009.png: 640x384 1 person, 13.1ms\n",
            "Speed: 1.3ms preprocess, 13.1ms inference, 3.1ms postprocess per image at shape (1, 3, 640, 384)\n"
          ]
        },
        {
          "output_type": "stream",
          "name": "stdout",
          "text": [
            "Distância estimada: 264.18cm, Altura (estimada | real): 198.04cm | 184.0cm\n"
          ]
        },
        {
          "output_type": "stream",
          "name": "stderr",
          "text": [
            "\n",
            "image 1/1 /content/dataset/images/train/imgRGB_011_003_004.png: 640x384 1 person, 9.8ms\n",
            "Speed: 1.4ms preprocess, 9.8ms inference, 2.8ms postprocess per image at shape (1, 3, 640, 384)\n"
          ]
        },
        {
          "output_type": "stream",
          "name": "stdout",
          "text": [
            "Distância estimada: 259.74cm, Altura (estimada | real): 184.42cm | 165.0cm\n"
          ]
        },
        {
          "output_type": "stream",
          "name": "stderr",
          "text": [
            "\n",
            "image 1/1 /content/dataset/images/train/imgRGB_015_004_002.png: 640x384 1 person, 9.3ms\n",
            "Speed: 1.3ms preprocess, 9.3ms inference, 2.2ms postprocess per image at shape (1, 3, 640, 384)\n"
          ]
        },
        {
          "output_type": "stream",
          "name": "stdout",
          "text": [
            "Distância estimada: 197.63cm, Altura (estimada | real): 164.83cm | 186.0cm\n"
          ]
        },
        {
          "output_type": "stream",
          "name": "stderr",
          "text": [
            "\n",
            "image 1/1 /content/dataset/images/train/imgRGB_002_002_003.png: 640x384 1 person, 9.2ms\n",
            "Speed: 1.3ms preprocess, 9.2ms inference, 2.5ms postprocess per image at shape (1, 3, 640, 384)\n"
          ]
        },
        {
          "output_type": "stream",
          "name": "stdout",
          "text": [
            "Distância estimada: 266.96cm, Altura (estimada | real): 176.46cm | 165.0cm\n"
          ]
        },
        {
          "output_type": "stream",
          "name": "stderr",
          "text": [
            "\n",
            "image 1/1 /content/dataset/images/train/imgRGB_003_004_003.png: 640x384 1 person, 13.2ms\n",
            "Speed: 1.3ms preprocess, 13.2ms inference, 3.4ms postprocess per image at shape (1, 3, 640, 384)\n"
          ]
        },
        {
          "output_type": "stream",
          "name": "stdout",
          "text": [
            "Distância estimada: 169.46cm, Altura (estimada | real): 151.68cm | 177.0cm\n"
          ]
        },
        {
          "output_type": "stream",
          "name": "stderr",
          "text": [
            "\n",
            "image 1/1 /content/dataset/images/train/imgRGB_005_003_005.png: 640x384 1 person, 10.2ms\n",
            "Speed: 1.4ms preprocess, 10.2ms inference, 2.5ms postprocess per image at shape (1, 3, 640, 384)\n"
          ]
        },
        {
          "output_type": "stream",
          "name": "stdout",
          "text": [
            "Distância estimada: 252.36cm, Altura (estimada | real): 182.12cm | 178.5cm\n"
          ]
        },
        {
          "output_type": "stream",
          "name": "stderr",
          "text": [
            "\n",
            "image 1/1 /content/dataset/images/train/imgRGB_005_004_007.png: 640x384 1 person, 9.7ms\n",
            "Speed: 1.4ms preprocess, 9.7ms inference, 2.2ms postprocess per image at shape (1, 3, 640, 384)\n"
          ]
        },
        {
          "output_type": "stream",
          "name": "stdout",
          "text": [
            "Distância estimada: 206.91cm, Altura (estimada | real): 174.07cm | 175.0cm\n"
          ]
        },
        {
          "output_type": "stream",
          "name": "stderr",
          "text": [
            "\n",
            "image 1/1 /content/dataset/images/train/imgRGB_005_003_006.png: 640x384 1 person, 9.4ms\n",
            "Speed: 1.2ms preprocess, 9.4ms inference, 3.1ms postprocess per image at shape (1, 3, 640, 384)\n"
          ]
        },
        {
          "output_type": "stream",
          "name": "stdout",
          "text": [
            "Distância estimada: 253.94cm, Altura (estimada | real): 181.0cm | 175.0cm\n"
          ]
        },
        {
          "output_type": "stream",
          "name": "stderr",
          "text": [
            "\n",
            "image 1/1 /content/dataset/images/train/imgRGB_008_004_000.png: 640x384 1 person, 10.1ms\n",
            "Speed: 1.3ms preprocess, 10.1ms inference, 2.5ms postprocess per image at shape (1, 3, 640, 384)\n"
          ]
        },
        {
          "output_type": "stream",
          "name": "stdout",
          "text": [
            "Distância estimada: 204.97cm, Altura (estimada | real): 174.92cm | 175.0cm\n"
          ]
        },
        {
          "output_type": "stream",
          "name": "stderr",
          "text": [
            "\n",
            "image 1/1 /content/dataset/images/train/imgRGB_013_004_004.png: 640x384 1 person, 13.4ms\n",
            "Speed: 1.3ms preprocess, 13.4ms inference, 2.9ms postprocess per image at shape (1, 3, 640, 384)\n"
          ]
        },
        {
          "output_type": "stream",
          "name": "stdout",
          "text": [
            "Distância estimada: 246.58cm, Altura (estimada | real): 174.59cm | 180.0cm\n"
          ]
        },
        {
          "output_type": "stream",
          "name": "stderr",
          "text": [
            "\n",
            "image 1/1 /content/dataset/images/train/imgRGB_015_002_009.png: 640x384 1 person, 10.3ms\n",
            "Speed: 1.2ms preprocess, 10.3ms inference, 2.6ms postprocess per image at shape (1, 3, 640, 384)\n"
          ]
        },
        {
          "output_type": "stream",
          "name": "stdout",
          "text": [
            "Distância estimada: 261.15cm, Altura (estimada | real): 171.69cm | 182.0cm\n"
          ]
        },
        {
          "output_type": "stream",
          "name": "stderr",
          "text": [
            "\n",
            "image 1/1 /content/dataset/images/train/imgRGB_017_002_004.png: 640x384 1 person, 10.1ms\n",
            "Speed: 1.4ms preprocess, 10.1ms inference, 2.4ms postprocess per image at shape (1, 3, 640, 384)\n"
          ]
        },
        {
          "output_type": "stream",
          "name": "stdout",
          "text": [
            "Distância estimada: 187.04cm, Altura (estimada | real): 173.42cm | 165.0cm\n"
          ]
        },
        {
          "output_type": "stream",
          "name": "stderr",
          "text": [
            "\n",
            "image 1/1 /content/dataset/images/train/imgRGB_015_003_009.png: 640x384 1 person, 10.9ms\n",
            "Speed: 1.4ms preprocess, 10.9ms inference, 2.8ms postprocess per image at shape (1, 3, 640, 384)\n"
          ]
        },
        {
          "output_type": "stream",
          "name": "stdout",
          "text": [
            "Distância estimada: 158.33cm, Altura (estimada | real): 196.13cm | 184.0cm\n"
          ]
        },
        {
          "output_type": "stream",
          "name": "stderr",
          "text": [
            "\n",
            "image 1/1 /content/dataset/images/train/imgRGB_009_003_004.png: 640x384 1 person, 9.7ms\n",
            "Speed: 1.2ms preprocess, 9.7ms inference, 2.8ms postprocess per image at shape (1, 3, 640, 384)\n"
          ]
        },
        {
          "output_type": "stream",
          "name": "stdout",
          "text": [
            "Distância estimada: 214.16cm, Altura (estimada | real): 161.58cm | 165.0cm\n"
          ]
        },
        {
          "output_type": "stream",
          "name": "stderr",
          "text": [
            "\n",
            "image 1/1 /content/dataset/images/train/imgRGB_005_003_002.png: 640x384 1 person, 9.2ms\n",
            "Speed: 1.3ms preprocess, 9.2ms inference, 2.9ms postprocess per image at shape (1, 3, 640, 384)\n"
          ]
        },
        {
          "output_type": "stream",
          "name": "stdout",
          "text": [
            "Distância estimada: 211.9cm, Altura (estimada | real): 164.42cm | 166.0cm\n"
          ]
        },
        {
          "output_type": "stream",
          "name": "stderr",
          "text": [
            "\n",
            "image 1/1 /content/dataset/images/train/imgRGB_001_004_009.png: 640x384 1 person, 10.2ms\n",
            "Speed: 1.3ms preprocess, 10.2ms inference, 2.7ms postprocess per image at shape (1, 3, 640, 384)\n"
          ]
        },
        {
          "output_type": "stream",
          "name": "stdout",
          "text": [
            "Distância estimada: 208.14cm, Altura (estimada | real): 170.99cm | 175.0cm\n"
          ]
        },
        {
          "output_type": "stream",
          "name": "stderr",
          "text": [
            "\n",
            "image 1/1 /content/dataset/images/train/imgRGB_011_003_007.png: 640x384 1 person, 9.9ms\n",
            "Speed: 1.2ms preprocess, 9.9ms inference, 2.8ms postprocess per image at shape (1, 3, 640, 384)\n"
          ]
        },
        {
          "output_type": "stream",
          "name": "stdout",
          "text": [
            "Distância estimada: 239.68cm, Altura (estimada | real): 177.31cm | 177.0cm\n"
          ]
        },
        {
          "output_type": "stream",
          "name": "stderr",
          "text": [
            "\n",
            "image 1/1 /content/dataset/images/train/imgRGB_021_002_003.png: 640x384 1 person, 9.1ms\n",
            "Speed: 1.3ms preprocess, 9.1ms inference, 2.6ms postprocess per image at shape (1, 3, 640, 384)\n"
          ]
        },
        {
          "output_type": "stream",
          "name": "stdout",
          "text": [
            "Distância estimada: 199.78cm, Altura (estimada | real): 160.51cm | 186.0cm\n"
          ]
        },
        {
          "output_type": "stream",
          "name": "stderr",
          "text": [
            "\n",
            "image 1/1 /content/dataset/images/train/imgRGB_010_004_000.png: 640x384 1 person, 16.2ms\n",
            "Speed: 1.3ms preprocess, 16.2ms inference, 2.3ms postprocess per image at shape (1, 3, 640, 384)\n"
          ]
        },
        {
          "output_type": "stream",
          "name": "stdout",
          "text": [
            "Distância estimada: 171.88cm, Altura (estimada | real): 183.77cm | 176.0cm\n"
          ]
        },
        {
          "output_type": "stream",
          "name": "stderr",
          "text": [
            "\n",
            "image 1/1 /content/dataset/images/train/imgRGB_024_004_009.png: 640x384 1 person, 8.6ms\n",
            "Speed: 4.1ms preprocess, 8.6ms inference, 2.8ms postprocess per image at shape (1, 3, 640, 384)\n"
          ]
        },
        {
          "output_type": "stream",
          "name": "stdout",
          "text": [
            "Distância estimada: 247.22cm, Altura (estimada | real): 183.33cm | 176.0cm\n"
          ]
        },
        {
          "output_type": "stream",
          "name": "stderr",
          "text": [
            "\n",
            "image 1/1 /content/dataset/images/train/imgRGB_023_002_000.png: 640x384 1 person, 9.2ms\n",
            "Speed: 1.3ms preprocess, 9.2ms inference, 2.1ms postprocess per image at shape (1, 3, 640, 384)\n"
          ]
        },
        {
          "output_type": "stream",
          "name": "stdout",
          "text": [
            "Distância estimada: 265.76cm, Altura (estimada | real): 164.9cm | 166.0cm\n"
          ]
        },
        {
          "output_type": "stream",
          "name": "stderr",
          "text": [
            "\n",
            "image 1/1 /content/dataset/images/train/imgRGB_002_003_006.png: 640x384 1 person, 11.2ms\n",
            "Speed: 1.5ms preprocess, 11.2ms inference, 5.7ms postprocess per image at shape (1, 3, 640, 384)\n"
          ]
        },
        {
          "output_type": "stream",
          "name": "stdout",
          "text": [
            "Distância estimada: 172.57cm, Altura (estimada | real): 192.44cm | 187.0cm\n"
          ]
        },
        {
          "output_type": "stream",
          "name": "stderr",
          "text": [
            "\n",
            "image 1/1 /content/dataset/images/train/imgRGB_004_002_009.png: 640x384 1 person, 10.2ms\n",
            "Speed: 1.3ms preprocess, 10.2ms inference, 2.3ms postprocess per image at shape (1, 3, 640, 384)\n"
          ]
        },
        {
          "output_type": "stream",
          "name": "stdout",
          "text": [
            "Distância estimada: 197.69cm, Altura (estimada | real): 154.44cm | 177.0cm\n"
          ]
        },
        {
          "output_type": "stream",
          "name": "stderr",
          "text": [
            "\n",
            "image 1/1 /content/dataset/images/train/imgRGB_024_004_006.png: 640x384 1 person, 11.2ms\n",
            "Speed: 1.3ms preprocess, 11.2ms inference, 2.3ms postprocess per image at shape (1, 3, 640, 384)\n"
          ]
        },
        {
          "output_type": "stream",
          "name": "stdout",
          "text": [
            "Distância estimada: 183.88cm, Altura (estimada | real): 170.01cm | 167.0cm\n"
          ]
        },
        {
          "output_type": "stream",
          "name": "stderr",
          "text": [
            "\n",
            "image 1/1 /content/dataset/images/train/imgRGB_009_004_006.png: 640x384 1 person, 17.3ms\n",
            "Speed: 1.4ms preprocess, 17.3ms inference, 3.3ms postprocess per image at shape (1, 3, 640, 384)\n"
          ]
        },
        {
          "output_type": "stream",
          "name": "stdout",
          "text": [
            "Distância estimada: 258.92cm, Altura (estimada | real): 173.21cm | 166.0cm\n"
          ]
        },
        {
          "output_type": "stream",
          "name": "stderr",
          "text": [
            "\n",
            "image 1/1 /content/dataset/images/train/imgRGB_004_002_007.png: 640x384 1 person, 9.7ms\n",
            "Speed: 1.5ms preprocess, 9.7ms inference, 2.3ms postprocess per image at shape (1, 3, 640, 384)\n"
          ]
        },
        {
          "output_type": "stream",
          "name": "stdout",
          "text": [
            "Distância estimada: 264.35cm, Altura (estimada | real): 169.18cm | 166.0cm\n"
          ]
        },
        {
          "output_type": "stream",
          "name": "stderr",
          "text": [
            "\n",
            "image 1/1 /content/dataset/images/train/imgRGB_011_003_001.png: 640x384 1 person, 9.3ms\n",
            "Speed: 1.3ms preprocess, 9.3ms inference, 3.2ms postprocess per image at shape (1, 3, 640, 384)\n"
          ]
        },
        {
          "output_type": "stream",
          "name": "stdout",
          "text": [
            "Distância estimada: 181.24cm, Altura (estimada | real): 169.05cm | 167.0cm\n"
          ]
        },
        {
          "output_type": "stream",
          "name": "stderr",
          "text": [
            "\n",
            "image 1/1 /content/dataset/images/train/imgRGB_023_002_001.png: 640x384 1 person, 9.8ms\n",
            "Speed: 1.4ms preprocess, 9.8ms inference, 2.3ms postprocess per image at shape (1, 3, 640, 384)\n"
          ]
        },
        {
          "output_type": "stream",
          "name": "stdout",
          "text": [
            "Distância estimada: 207.41cm, Altura (estimada | real): 160.61cm | 186.0cm\n"
          ]
        },
        {
          "output_type": "stream",
          "name": "stderr",
          "text": [
            "\n",
            "image 1/1 /content/dataset/images/train/imgRGB_018_003_002.png: 640x384 1 person, 9.8ms\n",
            "Speed: 1.3ms preprocess, 9.8ms inference, 3.2ms postprocess per image at shape (1, 3, 640, 384)\n"
          ]
        },
        {
          "output_type": "stream",
          "name": "stdout",
          "text": [
            "Distância estimada: 176.46cm, Altura (estimada | real): 192.86cm | 187.0cm\n"
          ]
        },
        {
          "output_type": "stream",
          "name": "stderr",
          "text": [
            "\n",
            "image 1/1 /content/dataset/images/train/imgRGB_020_003_003.png: 640x384 1 person, 9.9ms\n",
            "Speed: 3.4ms preprocess, 9.9ms inference, 2.8ms postprocess per image at shape (1, 3, 640, 384)\n"
          ]
        },
        {
          "output_type": "stream",
          "name": "stdout",
          "text": [
            "Distância estimada: 208.68cm, Altura (estimada | real): 189.21cm | 186.5cm\n"
          ]
        },
        {
          "output_type": "stream",
          "name": "stderr",
          "text": [
            "\n",
            "image 1/1 /content/dataset/images/train/imgRGB_010_004_007.png: 640x384 1 person, 11.6ms\n",
            "Speed: 1.4ms preprocess, 11.6ms inference, 5.2ms postprocess per image at shape (1, 3, 640, 384)\n"
          ]
        },
        {
          "output_type": "stream",
          "name": "stdout",
          "text": [
            "Distância estimada: 209.89cm, Altura (estimada | real): 178.85cm | 171.0cm\n"
          ]
        },
        {
          "output_type": "stream",
          "name": "stderr",
          "text": [
            "\n",
            "image 1/1 /content/dataset/images/train/imgRGB_016_002_002.png: 640x384 1 person, 10.5ms\n",
            "Speed: 1.5ms preprocess, 10.5ms inference, 2.4ms postprocess per image at shape (1, 3, 640, 384)\n"
          ]
        },
        {
          "output_type": "stream",
          "name": "stdout",
          "text": [
            "Distância estimada: 257.32cm, Altura (estimada | real): 172.69cm | 176.0cm\n"
          ]
        },
        {
          "output_type": "stream",
          "name": "stderr",
          "text": [
            "\n",
            "image 1/1 /content/dataset/images/train/imgRGB_013_004_009.png: 640x384 1 person, 9.6ms\n",
            "Speed: 1.5ms preprocess, 9.6ms inference, 3.4ms postprocess per image at shape (1, 3, 640, 384)\n"
          ]
        },
        {
          "output_type": "stream",
          "name": "stdout",
          "text": [
            "Distância estimada: 184.42cm, Altura (estimada | real): 148.35cm | 175.0cm\n"
          ]
        },
        {
          "output_type": "stream",
          "name": "stderr",
          "text": [
            "\n",
            "image 1/1 /content/dataset/images/train/imgRGB_011_003_006.png: 640x384 1 person, 9.8ms\n",
            "Speed: 1.5ms preprocess, 9.8ms inference, 2.9ms postprocess per image at shape (1, 3, 640, 384)\n"
          ]
        },
        {
          "output_type": "stream",
          "name": "stdout",
          "text": [
            "Distância estimada: 258.98cm, Altura (estimada | real): 169.46cm | 182.0cm\n"
          ]
        },
        {
          "output_type": "stream",
          "name": "stderr",
          "text": [
            "\n",
            "image 1/1 /content/dataset/images/val/imgRGB_026_004_004.png: 640x384 1 person, 9.9ms\n",
            "Speed: 1.4ms preprocess, 9.9ms inference, 3.0ms postprocess per image at shape (1, 3, 640, 384)\n"
          ]
        },
        {
          "output_type": "stream",
          "name": "stdout",
          "text": [
            "Distância estimada: 195.18cm, Altura (estimada | real): 162.18cm | 186.0cm\n"
          ]
        },
        {
          "output_type": "stream",
          "name": "stderr",
          "text": [
            "\n",
            "image 1/1 /content/dataset/images/val/imgRGB_026_002_008.png: 640x384 1 person, 15.5ms\n",
            "Speed: 1.3ms preprocess, 15.5ms inference, 3.2ms postprocess per image at shape (1, 3, 640, 384)\n"
          ]
        },
        {
          "output_type": "stream",
          "name": "stdout",
          "text": [
            "Distância estimada: 261.92cm, Altura (estimada | real): 171.89cm | 168.0cm\n"
          ]
        },
        {
          "output_type": "stream",
          "name": "stderr",
          "text": [
            "\n",
            "image 1/1 /content/dataset/images/val/imgRGB_027_003_005.png: 640x384 1 person, 9.2ms\n",
            "Speed: 1.3ms preprocess, 9.2ms inference, 2.1ms postprocess per image at shape (1, 3, 640, 384)\n"
          ]
        },
        {
          "output_type": "stream",
          "name": "stdout",
          "text": [
            "Distância estimada: 173.15cm, Altura (estimada | real): 145.98cm | 168.0cm\n"
          ]
        },
        {
          "output_type": "stream",
          "name": "stderr",
          "text": [
            "\n",
            "image 1/1 /content/dataset/images/val/imgRGB_027_003_007.png: 640x384 1 person, 9.2ms\n",
            "Speed: 1.3ms preprocess, 9.2ms inference, 2.1ms postprocess per image at shape (1, 3, 640, 384)\n"
          ]
        },
        {
          "output_type": "stream",
          "name": "stdout",
          "text": [
            "Distância estimada: 220.71cm, Altura (estimada | real): 189.12cm | 168.0cm\n"
          ]
        },
        {
          "output_type": "stream",
          "name": "stderr",
          "text": [
            "\n",
            "image 1/1 /content/dataset/images/val/imgRGB_027_004_000.png: 640x384 1 person, 9.7ms\n",
            "Speed: 1.3ms preprocess, 9.7ms inference, 2.1ms postprocess per image at shape (1, 3, 640, 384)\n"
          ]
        },
        {
          "output_type": "stream",
          "name": "stdout",
          "text": [
            "Distância estimada: 203.76cm, Altura (estimada | real): 182.71cm | 168.0cm\n"
          ]
        },
        {
          "output_type": "stream",
          "name": "stderr",
          "text": [
            "\n",
            "image 1/1 /content/dataset/images/val/imgRGB_026_004_001.png: 640x384 1 person, 10.8ms\n",
            "Speed: 5.9ms preprocess, 10.8ms inference, 3.2ms postprocess per image at shape (1, 3, 640, 384)\n"
          ]
        },
        {
          "output_type": "stream",
          "name": "stdout",
          "text": [
            "Distância estimada: 259.36cm, Altura (estimada | real): 178.38cm | 168.0cm\n"
          ]
        },
        {
          "output_type": "stream",
          "name": "stderr",
          "text": [
            "\n",
            "image 1/1 /content/dataset/images/val/imgRGB_027_002_009.png: 640x384 1 person, 10.8ms\n",
            "Speed: 1.4ms preprocess, 10.8ms inference, 3.4ms postprocess per image at shape (1, 3, 640, 384)\n"
          ]
        },
        {
          "output_type": "stream",
          "name": "stdout",
          "text": [
            "Distância estimada: 262.25cm, Altura (estimada | real): 178.14cm | 168.0cm\n"
          ]
        },
        {
          "output_type": "stream",
          "name": "stderr",
          "text": [
            "\n",
            "image 1/1 /content/dataset/images/val/imgRGB_027_004_004.png: 640x384 1 person, 9.8ms\n",
            "Speed: 1.4ms preprocess, 9.8ms inference, 2.4ms postprocess per image at shape (1, 3, 640, 384)\n"
          ]
        },
        {
          "output_type": "stream",
          "name": "stdout",
          "text": [
            "Distância estimada: 168.22cm, Altura (estimada | real): 172.37cm | 168.0cm\n"
          ]
        },
        {
          "output_type": "stream",
          "name": "stderr",
          "text": [
            "\n",
            "image 1/1 /content/dataset/images/val/imgRGB_027_003_009.png: 640x384 1 person, 10.1ms\n",
            "Speed: 1.3ms preprocess, 10.1ms inference, 2.5ms postprocess per image at shape (1, 3, 640, 384)\n"
          ]
        },
        {
          "output_type": "stream",
          "name": "stdout",
          "text": [
            "Distância estimada: 250.98cm, Altura (estimada | real): 186.09cm | 168.0cm\n"
          ]
        },
        {
          "output_type": "stream",
          "name": "stderr",
          "text": [
            "\n",
            "image 1/1 /content/dataset/images/val/imgRGB_027_003_001.png: 640x384 1 person, 9.4ms\n",
            "Speed: 1.4ms preprocess, 9.4ms inference, 3.0ms postprocess per image at shape (1, 3, 640, 384)\n"
          ]
        },
        {
          "output_type": "stream",
          "name": "stdout",
          "text": [
            "Distância estimada: 204.36cm, Altura (estimada | real): 176.89cm | 168.0cm\n"
          ]
        },
        {
          "output_type": "stream",
          "name": "stderr",
          "text": [
            "\n",
            "image 1/1 /content/dataset/images/val/imgRGB_026_002_006.png: 640x384 1 person, 9.0ms\n",
            "Speed: 1.3ms preprocess, 9.0ms inference, 2.1ms postprocess per image at shape (1, 3, 640, 384)\n"
          ]
        },
        {
          "output_type": "stream",
          "name": "stdout",
          "text": [
            "Distância estimada: 207.52cm, Altura (estimada | real): 180.26cm | 168.0cm\n"
          ]
        },
        {
          "output_type": "stream",
          "name": "stderr",
          "text": [
            "\n",
            "image 1/1 /content/dataset/images/val/imgRGB_026_003_003.png: 640x384 1 person, 11.0ms\n",
            "Speed: 1.3ms preprocess, 11.0ms inference, 3.1ms postprocess per image at shape (1, 3, 640, 384)\n"
          ]
        },
        {
          "output_type": "stream",
          "name": "stdout",
          "text": [
            "Distância estimada: 175.37cm, Altura (estimada | real): 183.51cm | 168.0cm\n"
          ]
        },
        {
          "output_type": "stream",
          "name": "stderr",
          "text": [
            "\n",
            "image 1/1 /content/dataset/images/val/imgRGB_027_002_000.png: 640x384 1 person, 10.6ms\n",
            "Speed: 1.3ms preprocess, 10.6ms inference, 3.0ms postprocess per image at shape (1, 3, 640, 384)\n"
          ]
        },
        {
          "output_type": "stream",
          "name": "stdout",
          "text": [
            "Distância estimada: 214.04cm, Altura (estimada | real): 168.24cm | 168.0cm\n"
          ]
        },
        {
          "output_type": "stream",
          "name": "stderr",
          "text": [
            "\n",
            "image 1/1 /content/dataset/images/val/imgRGB_027_003_008.png: 640x384 1 person, 9.8ms\n",
            "Speed: 1.3ms preprocess, 9.8ms inference, 2.3ms postprocess per image at shape (1, 3, 640, 384)\n"
          ]
        },
        {
          "output_type": "stream",
          "name": "stdout",
          "text": [
            "Distância estimada: 170.03cm, Altura (estimada | real): 175.89cm | 168.0cm\n"
          ]
        },
        {
          "output_type": "stream",
          "name": "stderr",
          "text": [
            "\n",
            "image 1/1 /content/dataset/images/val/imgRGB_026_003_000.png: 640x384 1 person, 9.8ms\n",
            "Speed: 1.3ms preprocess, 9.8ms inference, 2.6ms postprocess per image at shape (1, 3, 640, 384)\n"
          ]
        },
        {
          "output_type": "stream",
          "name": "stdout",
          "text": [
            "Distância estimada: 205.22cm, Altura (estimada | real): 183.14cm | 168.0cm\n"
          ]
        },
        {
          "output_type": "stream",
          "name": "stderr",
          "text": [
            "\n",
            "image 1/1 /content/dataset/images/val/imgRGB_026_004_002.png: 640x384 1 person, 8.9ms\n",
            "Speed: 1.3ms preprocess, 8.9ms inference, 2.1ms postprocess per image at shape (1, 3, 640, 384)\n"
          ]
        },
        {
          "output_type": "stream",
          "name": "stdout",
          "text": [
            "Distância estimada: 208.64cm, Altura (estimada | real): 178.25cm | 168.0cm\n"
          ]
        },
        {
          "output_type": "stream",
          "name": "stderr",
          "text": [
            "\n",
            "image 1/1 /content/dataset/images/val/imgRGB_027_004_005.png: 640x384 1 person, 11.3ms\n",
            "Speed: 1.3ms preprocess, 11.3ms inference, 3.1ms postprocess per image at shape (1, 3, 640, 384)\n"
          ]
        },
        {
          "output_type": "stream",
          "name": "stdout",
          "text": [
            "Distância estimada: 259.12cm, Altura (estimada | real): 178.82cm | 168.0cm\n"
          ]
        },
        {
          "output_type": "stream",
          "name": "stderr",
          "text": [
            "\n",
            "image 1/1 /content/dataset/images/val/imgRGB_027_002_002.png: 640x384 1 person, 9.3ms\n",
            "Speed: 1.3ms preprocess, 9.3ms inference, 2.7ms postprocess per image at shape (1, 3, 640, 384)\n"
          ]
        },
        {
          "output_type": "stream",
          "name": "stdout",
          "text": [
            "Distância estimada: 267.42cm, Altura (estimada | real): 178.95cm | 168.0cm\n"
          ]
        },
        {
          "output_type": "stream",
          "name": "stderr",
          "text": [
            "\n",
            "image 1/1 /content/dataset/images/val/imgRGB_026_002_000.png: 640x384 1 person, 9.7ms\n",
            "Speed: 1.3ms preprocess, 9.7ms inference, 2.5ms postprocess per image at shape (1, 3, 640, 384)\n"
          ]
        },
        {
          "output_type": "stream",
          "name": "stdout",
          "text": [
            "Distância estimada: 178.27cm, Altura (estimada | real): 167.13cm | 168.0cm\n"
          ]
        },
        {
          "output_type": "stream",
          "name": "stderr",
          "text": [
            "\n",
            "image 1/1 /content/dataset/images/val/imgRGB_027_004_002.png: 640x384 1 person, 7.8ms\n",
            "Speed: 1.1ms preprocess, 7.8ms inference, 3.1ms postprocess per image at shape (1, 3, 640, 384)\n"
          ]
        },
        {
          "output_type": "stream",
          "name": "stdout",
          "text": [
            "Distância estimada: 168.68cm, Altura (estimada | real): 156.01cm | 168.0cm\n"
          ]
        },
        {
          "output_type": "stream",
          "name": "stderr",
          "text": [
            "\n",
            "image 1/1 /content/dataset/images/val/imgRGB_027_004_008.png: 640x384 1 person, 9.8ms\n",
            "Speed: 1.1ms preprocess, 9.8ms inference, 2.3ms postprocess per image at shape (1, 3, 640, 384)\n"
          ]
        },
        {
          "output_type": "stream",
          "name": "stdout",
          "text": [
            "Distância estimada: 260.62cm, Altura (estimada | real): 183.49cm | 168.0cm\n"
          ]
        },
        {
          "output_type": "stream",
          "name": "stderr",
          "text": [
            "\n",
            "image 1/1 /content/dataset/images/val/imgRGB_026_003_002.png: 640x384 1 person, 9.6ms\n",
            "Speed: 2.2ms preprocess, 9.6ms inference, 3.3ms postprocess per image at shape (1, 3, 640, 384)\n"
          ]
        },
        {
          "output_type": "stream",
          "name": "stdout",
          "text": [
            "Distância estimada: 258.05cm, Altura (estimada | real): 175.07cm | 168.0cm\n"
          ]
        },
        {
          "output_type": "stream",
          "name": "stderr",
          "text": [
            "\n",
            "image 1/1 /content/dataset/images/val/imgRGB_026_003_006.png: 640x384 1 person, 9.9ms\n",
            "Speed: 1.3ms preprocess, 9.9ms inference, 2.5ms postprocess per image at shape (1, 3, 640, 384)\n"
          ]
        },
        {
          "output_type": "stream",
          "name": "stdout",
          "text": [
            "Distância estimada: 219.49cm, Altura (estimada | real): 172.7cm | 168.0cm\n"
          ]
        },
        {
          "output_type": "stream",
          "name": "stderr",
          "text": [
            "\n",
            "image 1/1 /content/dataset/images/val/imgRGB_027_004_007.png: 640x384 1 person, 8.1ms\n",
            "Speed: 1.3ms preprocess, 8.1ms inference, 3.0ms postprocess per image at shape (1, 3, 640, 384)\n"
          ]
        },
        {
          "output_type": "stream",
          "name": "stdout",
          "text": [
            "Distância estimada: 218.94cm, Altura (estimada | real): 169.33cm | 168.0cm\n"
          ]
        },
        {
          "output_type": "stream",
          "name": "stderr",
          "text": [
            "\n",
            "image 1/1 /content/dataset/images/val/imgRGB_026_002_001.png: 640x384 1 person, 11.5ms\n",
            "Speed: 1.7ms preprocess, 11.5ms inference, 3.1ms postprocess per image at shape (1, 3, 640, 384)\n"
          ]
        },
        {
          "output_type": "stream",
          "name": "stdout",
          "text": [
            "Distância estimada: 270.52cm, Altura (estimada | real): 169.58cm | 168.0cm\n"
          ]
        },
        {
          "output_type": "stream",
          "name": "stderr",
          "text": [
            "\n",
            "image 1/1 /content/dataset/images/val/imgRGB_026_004_000.png: 640x384 1 person, 9.8ms\n",
            "Speed: 2.5ms preprocess, 9.8ms inference, 2.1ms postprocess per image at shape (1, 3, 640, 384)\n"
          ]
        },
        {
          "output_type": "stream",
          "name": "stdout",
          "text": [
            "Distância estimada: 160.57cm, Altura (estimada | real): 140.0cm | 168.0cm\n"
          ]
        },
        {
          "output_type": "stream",
          "name": "stderr",
          "text": [
            "\n",
            "image 1/1 /content/dataset/images/val/imgRGB_027_002_007.png: 640x384 1 person, 12.7ms\n",
            "Speed: 4.7ms preprocess, 12.7ms inference, 2.8ms postprocess per image at shape (1, 3, 640, 384)\n"
          ]
        },
        {
          "output_type": "stream",
          "name": "stdout",
          "text": [
            "Distância estimada: 258.5cm, Altura (estimada | real): 170.47cm | 168.0cm\n"
          ]
        },
        {
          "output_type": "stream",
          "name": "stderr",
          "text": [
            "\n",
            "image 1/1 /content/dataset/images/val/imgRGB_027_004_001.png: 640x384 1 person, 10.5ms\n",
            "Speed: 1.5ms preprocess, 10.5ms inference, 2.1ms postprocess per image at shape (1, 3, 640, 384)\n"
          ]
        },
        {
          "output_type": "stream",
          "name": "stdout",
          "text": [
            "Distância estimada: 175.48cm, Altura (estimada | real): 183.11cm | 168.0cm\n"
          ]
        },
        {
          "output_type": "stream",
          "name": "stderr",
          "text": [
            "\n",
            "image 1/1 /content/dataset/images/val/imgRGB_026_003_001.png: 640x384 1 person, 8.7ms\n",
            "Speed: 1.6ms preprocess, 8.7ms inference, 2.3ms postprocess per image at shape (1, 3, 640, 384)\n"
          ]
        },
        {
          "output_type": "stream",
          "name": "stdout",
          "text": [
            "Distância estimada: 260.69cm, Altura (estimada | real): 184.73cm | 168.0cm\n"
          ]
        },
        {
          "output_type": "stream",
          "name": "stderr",
          "text": [
            "\n",
            "image 1/1 /content/dataset/images/val/imgRGB_027_002_003.png: 640x384 1 person, 8.2ms\n",
            "Speed: 2.6ms preprocess, 8.2ms inference, 3.2ms postprocess per image at shape (1, 3, 640, 384)\n"
          ]
        },
        {
          "output_type": "stream",
          "name": "stdout",
          "text": [
            "Distância estimada: 210.94cm, Altura (estimada | real): 174.37cm | 168.0cm\n"
          ]
        },
        {
          "output_type": "stream",
          "name": "stderr",
          "text": [
            "\n",
            "image 1/1 /content/dataset/images/val/imgRGB_026_002_004.png: 640x384 1 person, 10.8ms\n",
            "Speed: 1.4ms preprocess, 10.8ms inference, 2.1ms postprocess per image at shape (1, 3, 640, 384)\n"
          ]
        },
        {
          "output_type": "stream",
          "name": "stdout",
          "text": [
            "Distância estimada: 182.24cm, Altura (estimada | real): 177.12cm | 168.0cm\n"
          ]
        },
        {
          "output_type": "stream",
          "name": "stderr",
          "text": [
            "\n",
            "image 1/1 /content/dataset/images/val/imgRGB_026_004_007.png: 640x384 1 person, 12.5ms\n",
            "Speed: 1.3ms preprocess, 12.5ms inference, 2.9ms postprocess per image at shape (1, 3, 640, 384)\n"
          ]
        },
        {
          "output_type": "stream",
          "name": "stdout",
          "text": [
            "Distância estimada: 170.62cm, Altura (estimada | real): 174.47cm | 168.0cm\n"
          ]
        },
        {
          "output_type": "stream",
          "name": "stderr",
          "text": [
            "\n",
            "image 1/1 /content/dataset/images/val/imgRGB_026_002_007.png: 640x384 1 person, 10.4ms\n",
            "Speed: 1.4ms preprocess, 10.4ms inference, 2.2ms postprocess per image at shape (1, 3, 640, 384)\n"
          ]
        },
        {
          "output_type": "stream",
          "name": "stdout",
          "text": [
            "Distância estimada: 261.2cm, Altura (estimada | real): 156.32cm | 168.0cm\n"
          ]
        },
        {
          "output_type": "stream",
          "name": "stderr",
          "text": [
            "\n",
            "image 1/1 /content/dataset/images/val/imgRGB_026_004_008.png: 640x384 1 person, 13.0ms\n",
            "Speed: 1.2ms preprocess, 13.0ms inference, 2.3ms postprocess per image at shape (1, 3, 640, 384)\n"
          ]
        },
        {
          "output_type": "stream",
          "name": "stdout",
          "text": [
            "Distância estimada: 165.8cm, Altura (estimada | real): 142.42cm | 168.0cm\n"
          ]
        },
        {
          "output_type": "stream",
          "name": "stderr",
          "text": [
            "\n",
            "image 1/1 /content/dataset/images/val/imgRGB_026_003_005.png: 640x384 1 person, 10.6ms\n",
            "Speed: 1.3ms preprocess, 10.6ms inference, 2.2ms postprocess per image at shape (1, 3, 640, 384)\n"
          ]
        },
        {
          "output_type": "stream",
          "name": "stdout",
          "text": [
            "Distância estimada: 249.33cm, Altura (estimada | real): 162.41cm | 168.0cm\n"
          ]
        },
        {
          "output_type": "stream",
          "name": "stderr",
          "text": [
            "\n",
            "image 1/1 /content/dataset/images/val/imgRGB_026_003_008.png: 640x384 1 person, 8.5ms\n",
            "Speed: 1.4ms preprocess, 8.5ms inference, 2.1ms postprocess per image at shape (1, 3, 640, 384)\n"
          ]
        },
        {
          "output_type": "stream",
          "name": "stdout",
          "text": [
            "Distância estimada: 223.82cm, Altura (estimada | real): 169.36cm | 168.0cm\n"
          ]
        },
        {
          "output_type": "stream",
          "name": "stderr",
          "text": [
            "\n",
            "image 1/1 /content/dataset/images/val/imgRGB_027_004_003.png: 640x384 1 person, 10.4ms\n",
            "Speed: 5.3ms preprocess, 10.4ms inference, 2.9ms postprocess per image at shape (1, 3, 640, 384)\n"
          ]
        },
        {
          "output_type": "stream",
          "name": "stdout",
          "text": [
            "Distância estimada: 212.58cm, Altura (estimada | real): 165.81cm | 168.0cm\n"
          ]
        },
        {
          "output_type": "stream",
          "name": "stderr",
          "text": [
            "\n",
            "image 1/1 /content/dataset/images/val/imgRGB_027_002_004.png: 640x384 1 person, 9.6ms\n",
            "Speed: 1.4ms preprocess, 9.6ms inference, 2.2ms postprocess per image at shape (1, 3, 640, 384)\n"
          ]
        },
        {
          "output_type": "stream",
          "name": "stdout",
          "text": [
            "Distância estimada: 262.74cm, Altura (estimada | real): 178.21cm | 168.0cm\n"
          ]
        },
        {
          "output_type": "stream",
          "name": "stderr",
          "text": [
            "\n",
            "image 1/1 /content/dataset/images/val/imgRGB_027_002_001.png: 640x384 1 person, 9.6ms\n",
            "Speed: 1.3ms preprocess, 9.6ms inference, 2.4ms postprocess per image at shape (1, 3, 640, 384)\n"
          ]
        },
        {
          "output_type": "stream",
          "name": "stdout",
          "text": [
            "Distância estimada: 195.99cm, Altura (estimada | real): 158.77cm | 168.0cm\n"
          ]
        },
        {
          "output_type": "stream",
          "name": "stderr",
          "text": [
            "\n",
            "image 1/1 /content/dataset/images/val/imgRGB_026_002_003.png: 640x384 1 person, 9.7ms\n",
            "Speed: 1.5ms preprocess, 9.7ms inference, 2.3ms postprocess per image at shape (1, 3, 640, 384)\n"
          ]
        },
        {
          "output_type": "stream",
          "name": "stdout",
          "text": [
            "Distância estimada: 176.16cm, Altura (estimada | real): 176.21cm | 168.0cm\n"
          ]
        },
        {
          "output_type": "stream",
          "name": "stderr",
          "text": [
            "\n",
            "image 1/1 /content/dataset/images/val/imgRGB_026_002_005.png: 640x384 1 person, 10.0ms\n",
            "Speed: 1.4ms preprocess, 10.0ms inference, 2.6ms postprocess per image at shape (1, 3, 640, 384)\n"
          ]
        },
        {
          "output_type": "stream",
          "name": "stdout",
          "text": [
            "Distância estimada: 175.4cm, Altura (estimada | real): 157.79cm | 168.0cm\n"
          ]
        },
        {
          "output_type": "stream",
          "name": "stderr",
          "text": [
            "\n",
            "image 1/1 /content/dataset/images/val/imgRGB_027_004_009.png: 640x384 1 person, 11.9ms\n",
            "Speed: 6.8ms preprocess, 11.9ms inference, 4.1ms postprocess per image at shape (1, 3, 640, 384)\n"
          ]
        },
        {
          "output_type": "stream",
          "name": "stdout",
          "text": [
            "Distância estimada: 187.92cm, Altura (estimada | real): 154.11cm | 168.0cm\n"
          ]
        },
        {
          "output_type": "stream",
          "name": "stderr",
          "text": [
            "\n",
            "image 1/1 /content/dataset/images/val/imgRGB_026_003_004.png: 640x384 1 person, 8.2ms\n",
            "Speed: 1.1ms preprocess, 8.2ms inference, 2.3ms postprocess per image at shape (1, 3, 640, 384)\n"
          ]
        },
        {
          "output_type": "stream",
          "name": "stdout",
          "text": [
            "Distância estimada: 257.69cm, Altura (estimada | real): 176.4cm | 168.0cm\n"
          ]
        },
        {
          "output_type": "stream",
          "name": "stderr",
          "text": [
            "\n",
            "image 1/1 /content/dataset/images/val/imgRGB_027_003_003.png: 640x384 1 person, 10.5ms\n",
            "Speed: 1.5ms preprocess, 10.5ms inference, 2.1ms postprocess per image at shape (1, 3, 640, 384)\n"
          ]
        },
        {
          "output_type": "stream",
          "name": "stdout",
          "text": [
            "Distância estimada: 219.06cm, Altura (estimada | real): 165.8cm | 168.0cm\n"
          ]
        },
        {
          "output_type": "stream",
          "name": "stderr",
          "text": [
            "\n",
            "image 1/1 /content/dataset/images/val/imgRGB_026_004_005.png: 640x384 1 person, 10.3ms\n",
            "Speed: 1.4ms preprocess, 10.3ms inference, 2.4ms postprocess per image at shape (1, 3, 640, 384)\n"
          ]
        },
        {
          "output_type": "stream",
          "name": "stdout",
          "text": [
            "Distância estimada: 210.5cm, Altura (estimada | real): 177.56cm | 168.0cm\n"
          ]
        },
        {
          "output_type": "stream",
          "name": "stderr",
          "text": [
            "\n",
            "image 1/1 /content/dataset/images/val/imgRGB_027_003_000.png: 640x384 1 person, 8.3ms\n",
            "Speed: 1.3ms preprocess, 8.3ms inference, 2.4ms postprocess per image at shape (1, 3, 640, 384)\n"
          ]
        },
        {
          "output_type": "stream",
          "name": "stdout",
          "text": [
            "Distância estimada: 264.43cm, Altura (estimada | real): 167.77cm | 168.0cm\n"
          ]
        },
        {
          "output_type": "stream",
          "name": "stderr",
          "text": [
            "\n",
            "image 1/1 /content/dataset/images/val/imgRGB_027_004_006.png: 640x384 1 person, 9.6ms\n",
            "Speed: 1.3ms preprocess, 9.6ms inference, 3.0ms postprocess per image at shape (1, 3, 640, 384)\n"
          ]
        },
        {
          "output_type": "stream",
          "name": "stdout",
          "text": [
            "Distância estimada: 206.1cm, Altura (estimada | real): 204.0cm | 168.0cm\n"
          ]
        },
        {
          "output_type": "stream",
          "name": "stderr",
          "text": [
            "\n",
            "image 1/1 /content/dataset/images/val/imgRGB_026_004_003.png: 640x384 1 person, 10.3ms\n",
            "Speed: 1.3ms preprocess, 10.3ms inference, 2.4ms postprocess per image at shape (1, 3, 640, 384)\n"
          ]
        },
        {
          "output_type": "stream",
          "name": "stdout",
          "text": [
            "Distância estimada: 285.23cm, Altura (estimada | real): 171.76cm | 168.0cm\n"
          ]
        },
        {
          "output_type": "stream",
          "name": "stderr",
          "text": [
            "\n",
            "image 1/1 /content/dataset/images/val/imgRGB_026_004_006.png: 640x384 1 person, 8.1ms\n",
            "Speed: 1.3ms preprocess, 8.1ms inference, 2.1ms postprocess per image at shape (1, 3, 640, 384)\n"
          ]
        },
        {
          "output_type": "stream",
          "name": "stdout",
          "text": [
            "Distância estimada: 266.53cm, Altura (estimada | real): 177.62cm | 168.0cm\n"
          ]
        },
        {
          "output_type": "stream",
          "name": "stderr",
          "text": [
            "\n",
            "image 1/1 /content/dataset/images/val/imgRGB_027_003_006.png: 640x384 1 person, 8.2ms\n",
            "Speed: 1.3ms preprocess, 8.2ms inference, 2.1ms postprocess per image at shape (1, 3, 640, 384)\n"
          ]
        },
        {
          "output_type": "stream",
          "name": "stdout",
          "text": [
            "Distância estimada: 253.37cm, Altura (estimada | real): 147.95cm | 168.0cm\n"
          ]
        },
        {
          "output_type": "stream",
          "name": "stderr",
          "text": [
            "\n",
            "image 1/1 /content/dataset/images/val/imgRGB_026_003_009.png: 640x384 1 person, 10.1ms\n",
            "Speed: 1.3ms preprocess, 10.1ms inference, 2.2ms postprocess per image at shape (1, 3, 640, 384)\n"
          ]
        },
        {
          "output_type": "stream",
          "name": "stdout",
          "text": [
            "Distância estimada: 203.96cm, Altura (estimada | real): 178.67cm | 168.0cm\n"
          ]
        },
        {
          "output_type": "stream",
          "name": "stderr",
          "text": [
            "\n",
            "image 1/1 /content/dataset/images/val/imgRGB_027_002_006.png: 640x384 1 person, 10.1ms\n",
            "Speed: 3.3ms preprocess, 10.1ms inference, 2.8ms postprocess per image at shape (1, 3, 640, 384)\n"
          ]
        },
        {
          "output_type": "stream",
          "name": "stdout",
          "text": [
            "Distância estimada: 222.37cm, Altura (estimada | real): 171.57cm | 168.0cm\n"
          ]
        },
        {
          "output_type": "stream",
          "name": "stderr",
          "text": [
            "\n",
            "image 1/1 /content/dataset/images/val/imgRGB_027_002_005.png: 640x384 1 person, 9.5ms\n",
            "Speed: 1.4ms preprocess, 9.5ms inference, 2.2ms postprocess per image at shape (1, 3, 640, 384)\n"
          ]
        },
        {
          "output_type": "stream",
          "name": "stdout",
          "text": [
            "Distância estimada: 172.94cm, Altura (estimada | real): 175.34cm | 168.0cm\n"
          ]
        },
        {
          "output_type": "stream",
          "name": "stderr",
          "text": [
            "\n",
            "image 1/1 /content/dataset/images/val/imgRGB_026_003_007.png: 640x384 1 person, 10.4ms\n",
            "Speed: 1.5ms preprocess, 10.4ms inference, 2.4ms postprocess per image at shape (1, 3, 640, 384)\n"
          ]
        },
        {
          "output_type": "stream",
          "name": "stdout",
          "text": [
            "Distância estimada: 179.18cm, Altura (estimada | real): 175.04cm | 168.0cm\n"
          ]
        },
        {
          "output_type": "stream",
          "name": "stderr",
          "text": [
            "\n",
            "image 1/1 /content/dataset/images/val/imgRGB_027_003_002.png: 640x384 1 person, 7.7ms\n",
            "Speed: 1.2ms preprocess, 7.7ms inference, 2.2ms postprocess per image at shape (1, 3, 640, 384)\n"
          ]
        },
        {
          "output_type": "stream",
          "name": "stdout",
          "text": [
            "Distância estimada: 223.03cm, Altura (estimada | real): 170.86cm | 168.0cm\n"
          ]
        },
        {
          "output_type": "stream",
          "name": "stderr",
          "text": [
            "\n",
            "image 1/1 /content/dataset/images/val/imgRGB_027_003_004.png: 640x384 1 person, 9.5ms\n",
            "Speed: 1.4ms preprocess, 9.5ms inference, 2.4ms postprocess per image at shape (1, 3, 640, 384)\n"
          ]
        },
        {
          "output_type": "stream",
          "name": "stdout",
          "text": [
            "Distância estimada: 213.17cm, Altura (estimada | real): 176.38cm | 168.0cm\n"
          ]
        },
        {
          "output_type": "stream",
          "name": "stderr",
          "text": [
            "\n",
            "image 1/1 /content/dataset/images/val/imgRGB_026_002_009.png: 640x384 1 person, 14.7ms\n",
            "Speed: 1.3ms preprocess, 14.7ms inference, 5.8ms postprocess per image at shape (1, 3, 640, 384)\n"
          ]
        },
        {
          "output_type": "stream",
          "name": "stdout",
          "text": [
            "Distância estimada: 207.59cm, Altura (estimada | real): 181.62cm | 168.0cm\n"
          ]
        },
        {
          "output_type": "stream",
          "name": "stderr",
          "text": [
            "\n",
            "image 1/1 /content/dataset/images/val/imgRGB_026_004_009.png: 640x384 1 person, 10.6ms\n",
            "Speed: 1.9ms preprocess, 10.6ms inference, 2.7ms postprocess per image at shape (1, 3, 640, 384)\n"
          ]
        },
        {
          "output_type": "stream",
          "name": "stdout",
          "text": [
            "Distância estimada: 154.85cm, Altura (estimada | real): 150.46cm | 168.0cm\n"
          ]
        },
        {
          "output_type": "stream",
          "name": "stderr",
          "text": [
            "\n",
            "image 1/1 /content/dataset/images/val/imgRGB_027_002_008.png: 640x384 1 person, 10.0ms\n",
            "Speed: 1.5ms preprocess, 10.0ms inference, 3.6ms postprocess per image at shape (1, 3, 640, 384)\n"
          ]
        },
        {
          "output_type": "stream",
          "name": "stdout",
          "text": [
            "Distância estimada: 279.45cm, Altura (estimada | real): 171.64cm | 168.0cm\n"
          ]
        },
        {
          "output_type": "stream",
          "name": "stderr",
          "text": [
            "\n",
            "image 1/1 /content/dataset/images/val/imgRGB_026_002_002.png: 640x384 1 person, 9.5ms\n",
            "Speed: 1.3ms preprocess, 9.5ms inference, 2.2ms postprocess per image at shape (1, 3, 640, 384)\n"
          ]
        },
        {
          "output_type": "stream",
          "name": "stdout",
          "text": [
            "Distância estimada: 172.08cm, Altura (estimada | real): 186.35cm | 168.0cm\n"
          ]
        },
        {
          "output_type": "stream",
          "name": "stderr",
          "text": [
            "\n",
            "image 1/1 /content/dataset/images/test/imgRGB_029_003_002.png: 640x384 1 person, 9.4ms\n",
            "Speed: 1.3ms preprocess, 9.4ms inference, 2.8ms postprocess per image at shape (1, 3, 640, 384)\n"
          ]
        },
        {
          "output_type": "stream",
          "name": "stdout",
          "text": [
            "Distância estimada: 175.06cm, Altura (estimada | real): 171.84cm | 168.0cm\n"
          ]
        },
        {
          "output_type": "stream",
          "name": "stderr",
          "text": [
            "\n",
            "image 1/1 /content/dataset/images/test/imgRGB_029_002_004.png: 640x384 1 person, 12.8ms\n",
            "Speed: 1.3ms preprocess, 12.8ms inference, 2.8ms postprocess per image at shape (1, 3, 640, 384)\n"
          ]
        },
        {
          "output_type": "stream",
          "name": "stdout",
          "text": [
            "Distância estimada: 217.2cm, Altura (estimada | real): 182.42cm | 179.0cm\n"
          ]
        },
        {
          "output_type": "stream",
          "name": "stderr",
          "text": [
            "\n",
            "image 1/1 /content/dataset/images/test/imgRGB_030_003_005.png: 640x384 1 person, 9.9ms\n",
            "Speed: 1.1ms preprocess, 9.9ms inference, 2.1ms postprocess per image at shape (1, 3, 640, 384)\n"
          ]
        },
        {
          "output_type": "stream",
          "name": "stdout",
          "text": [
            "Distância estimada: 170.25cm, Altura (estimada | real): 181.7cm | 179.0cm\n"
          ]
        },
        {
          "output_type": "stream",
          "name": "stderr",
          "text": [
            "\n",
            "image 1/1 /content/dataset/images/test/imgRGB_029_002_001.png: 640x384 1 person, 12.4ms\n",
            "Speed: 1.4ms preprocess, 12.4ms inference, 2.8ms postprocess per image at shape (1, 3, 640, 384)\n"
          ]
        },
        {
          "output_type": "stream",
          "name": "stdout",
          "text": [
            "Distância estimada: 220.97cm, Altura (estimada | real): 167.23cm | 173.0cm\n"
          ]
        },
        {
          "output_type": "stream",
          "name": "stderr",
          "text": [
            "\n",
            "image 1/1 /content/dataset/images/test/imgRGB_029_004_001.png: 640x384 1 person, 9.8ms\n",
            "Speed: 1.2ms preprocess, 9.8ms inference, 2.3ms postprocess per image at shape (1, 3, 640, 384)\n"
          ]
        },
        {
          "output_type": "stream",
          "name": "stdout",
          "text": [
            "Distância estimada: 168.95cm, Altura (estimada | real): 174.17cm | 179.0cm\n"
          ]
        },
        {
          "output_type": "stream",
          "name": "stderr",
          "text": [
            "\n",
            "image 1/1 /content/dataset/images/test/imgRGB_029_002_002.png: 640x384 1 person, 10.3ms\n",
            "Speed: 1.4ms preprocess, 10.3ms inference, 2.5ms postprocess per image at shape (1, 3, 640, 384)\n"
          ]
        },
        {
          "output_type": "stream",
          "name": "stdout",
          "text": [
            "Distância estimada: 271.56cm, Altura (estimada | real): 188.99cm | 179.0cm\n"
          ]
        },
        {
          "output_type": "stream",
          "name": "stderr",
          "text": [
            "\n",
            "image 1/1 /content/dataset/images/test/imgRGB_029_004_002.png: 640x384 1 person, 15.4ms\n",
            "Speed: 1.4ms preprocess, 15.4ms inference, 3.0ms postprocess per image at shape (1, 3, 640, 384)\n"
          ]
        },
        {
          "output_type": "stream",
          "name": "stdout",
          "text": [
            "Distância estimada: 176.21cm, Altura (estimada | real): 175.88cm | 179.0cm\n"
          ]
        },
        {
          "output_type": "stream",
          "name": "stderr",
          "text": [
            "\n",
            "image 1/1 /content/dataset/images/test/imgRGB_029_004_005.png: 640x384 1 person, 9.4ms\n",
            "Speed: 1.5ms preprocess, 9.4ms inference, 2.3ms postprocess per image at shape (1, 3, 640, 384)\n"
          ]
        },
        {
          "output_type": "stream",
          "name": "stdout",
          "text": [
            "Distância estimada: 267.96cm, Altura (estimada | real): 188.75cm | 179.0cm\n"
          ]
        },
        {
          "output_type": "stream",
          "name": "stderr",
          "text": [
            "\n",
            "image 1/1 /content/dataset/images/test/imgRGB_029_002_006.png: 640x384 1 person, 7.7ms\n",
            "Speed: 1.2ms preprocess, 7.7ms inference, 2.2ms postprocess per image at shape (1, 3, 640, 384)\n"
          ]
        },
        {
          "output_type": "stream",
          "name": "stdout",
          "text": [
            "Distância estimada: 270.36cm, Altura (estimada | real): 177.58cm | 179.0cm\n"
          ]
        },
        {
          "output_type": "stream",
          "name": "stderr",
          "text": [
            "\n",
            "image 1/1 /content/dataset/images/test/imgRGB_030_002_003.png: 640x384 1 person, 9.6ms\n",
            "Speed: 1.3ms preprocess, 9.6ms inference, 2.1ms postprocess per image at shape (1, 3, 640, 384)\n"
          ]
        },
        {
          "output_type": "stream",
          "name": "stdout",
          "text": [
            "Distância estimada: 205.3cm, Altura (estimada | real): 178.46cm | 179.0cm\n"
          ]
        },
        {
          "output_type": "stream",
          "name": "stderr",
          "text": [
            "\n",
            "image 1/1 /content/dataset/images/test/imgRGB_028_004_008.png: 640x384 1 person, 12.0ms\n",
            "Speed: 1.4ms preprocess, 12.0ms inference, 2.6ms postprocess per image at shape (1, 3, 640, 384)\n"
          ]
        },
        {
          "output_type": "stream",
          "name": "stdout",
          "text": [
            "Distância estimada: 160.74cm, Altura (estimada | real): 177.69cm | 173.0cm\n"
          ]
        },
        {
          "output_type": "stream",
          "name": "stderr",
          "text": [
            "\n",
            "image 1/1 /content/dataset/images/test/imgRGB_029_002_007.png: 640x384 1 person, 14.2ms\n",
            "Speed: 1.4ms preprocess, 14.2ms inference, 8.0ms postprocess per image at shape (1, 3, 640, 384)\n"
          ]
        },
        {
          "output_type": "stream",
          "name": "stdout",
          "text": [
            "Distância estimada: 254.52cm, Altura (estimada | real): 200.63cm | 187.0cm\n"
          ]
        },
        {
          "output_type": "stream",
          "name": "stderr",
          "text": [
            "\n",
            "image 1/1 /content/dataset/images/test/imgRGB_028_003_002.png: 640x384 1 person, 10.0ms\n",
            "Speed: 1.3ms preprocess, 10.0ms inference, 2.3ms postprocess per image at shape (1, 3, 640, 384)\n"
          ]
        },
        {
          "output_type": "stream",
          "name": "stdout",
          "text": [
            "Distância estimada: 166.6cm, Altura (estimada | real): 189.16cm | 179.0cm\n"
          ]
        },
        {
          "output_type": "stream",
          "name": "stderr",
          "text": [
            "\n",
            "image 1/1 /content/dataset/images/test/imgRGB_028_004_007.png: 640x384 1 person, 9.9ms\n",
            "Speed: 1.3ms preprocess, 9.9ms inference, 3.0ms postprocess per image at shape (1, 3, 640, 384)\n"
          ]
        },
        {
          "output_type": "stream",
          "name": "stdout",
          "text": [
            "Distância estimada: 219.22cm, Altura (estimada | real): 187.93cm | 187.0cm\n"
          ]
        },
        {
          "output_type": "stream",
          "name": "stderr",
          "text": [
            "\n",
            "image 1/1 /content/dataset/images/test/imgRGB_030_003_003.png: 640x384 1 person, 8.3ms\n",
            "Speed: 1.2ms preprocess, 8.3ms inference, 2.9ms postprocess per image at shape (1, 3, 640, 384)\n"
          ]
        },
        {
          "output_type": "stream",
          "name": "stdout",
          "text": [
            "Distância estimada: 249.62cm, Altura (estimada | real): 201.39cm | 187.0cm\n"
          ]
        },
        {
          "output_type": "stream",
          "name": "stderr",
          "text": [
            "\n",
            "image 1/1 /content/dataset/images/test/imgRGB_029_004_000.png: 640x384 1 person, 8.1ms\n",
            "Speed: 2.3ms preprocess, 8.1ms inference, 2.6ms postprocess per image at shape (1, 3, 640, 384)\n"
          ]
        },
        {
          "output_type": "stream",
          "name": "stdout",
          "text": [
            "Distância estimada: 219.14cm, Altura (estimada | real): 164.79cm | 173.0cm\n"
          ]
        },
        {
          "output_type": "stream",
          "name": "stderr",
          "text": [
            "\n",
            "image 1/1 /content/dataset/images/test/imgRGB_028_002_009.png: 640x384 1 person, 9.2ms\n",
            "Speed: 1.3ms preprocess, 9.2ms inference, 2.9ms postprocess per image at shape (1, 3, 640, 384)\n"
          ]
        },
        {
          "output_type": "stream",
          "name": "stdout",
          "text": [
            "Distância estimada: 268.17cm, Altura (estimada | real): 186.64cm | 179.0cm\n"
          ]
        },
        {
          "output_type": "stream",
          "name": "stderr",
          "text": [
            "\n",
            "image 1/1 /content/dataset/images/test/imgRGB_029_002_003.png: 640x384 1 person, 10.1ms\n",
            "Speed: 1.2ms preprocess, 10.1ms inference, 2.2ms postprocess per image at shape (1, 3, 640, 384)\n"
          ]
        },
        {
          "output_type": "stream",
          "name": "stdout",
          "text": [
            "Distância estimada: 170.46cm, Altura (estimada | real): 180.98cm | 187.0cm\n"
          ]
        },
        {
          "output_type": "stream",
          "name": "stderr",
          "text": [
            "\n",
            "image 1/1 /content/dataset/images/test/imgRGB_029_003_000.png: 640x384 1 person, 10.0ms\n",
            "Speed: 1.3ms preprocess, 10.0ms inference, 2.9ms postprocess per image at shape (1, 3, 640, 384)\n"
          ]
        },
        {
          "output_type": "stream",
          "name": "stdout",
          "text": [
            "Distância estimada: 166.54cm, Altura (estimada | real): 183.95cm | 179.0cm\n"
          ]
        },
        {
          "output_type": "stream",
          "name": "stderr",
          "text": [
            "\n",
            "image 1/1 /content/dataset/images/test/imgRGB_030_002_005.png: 640x384 1 person, 12.3ms\n",
            "Speed: 1.5ms preprocess, 12.3ms inference, 2.3ms postprocess per image at shape (1, 3, 640, 384)\n"
          ]
        },
        {
          "output_type": "stream",
          "name": "stdout",
          "text": [
            "Distância estimada: 217.74cm, Altura (estimada | real): 182.48cm | 179.0cm\n"
          ]
        },
        {
          "output_type": "stream",
          "name": "stderr",
          "text": [
            "\n",
            "image 1/1 /content/dataset/images/test/imgRGB_028_004_000.png: 640x384 1 person, 8.7ms\n",
            "Speed: 2.2ms preprocess, 8.7ms inference, 2.1ms postprocess per image at shape (1, 3, 640, 384)\n"
          ]
        },
        {
          "output_type": "stream",
          "name": "stdout",
          "text": [
            "Distância estimada: 172.41cm, Altura (estimada | real): 175.65cm | 173.0cm\n"
          ]
        },
        {
          "output_type": "stream",
          "name": "stderr",
          "text": [
            "\n",
            "image 1/1 /content/dataset/images/test/imgRGB_029_004_006.png: 640x384 1 person, 9.2ms\n",
            "Speed: 1.3ms preprocess, 9.2ms inference, 2.9ms postprocess per image at shape (1, 3, 640, 384)\n"
          ]
        },
        {
          "output_type": "stream",
          "name": "stdout",
          "text": [
            "Distância estimada: 259.26cm, Altura (estimada | real): 196.98cm | 187.0cm\n"
          ]
        },
        {
          "output_type": "stream",
          "name": "stderr",
          "text": [
            "\n",
            "image 1/1 /content/dataset/images/test/imgRGB_030_004_002.png: 640x384 1 person, 10.3ms\n",
            "Speed: 1.3ms preprocess, 10.3ms inference, 2.8ms postprocess per image at shape (1, 3, 640, 384)\n"
          ]
        },
        {
          "output_type": "stream",
          "name": "stdout",
          "text": [
            "Distância estimada: 280.24cm, Altura (estimada | real): 173.79cm | 179.0cm\n"
          ]
        },
        {
          "output_type": "stream",
          "name": "stderr",
          "text": [
            "\n",
            "image 1/1 /content/dataset/images/test/imgRGB_030_004_005.png: 640x384 1 person, 9.2ms\n",
            "Speed: 1.3ms preprocess, 9.2ms inference, 2.7ms postprocess per image at shape (1, 3, 640, 384)\n"
          ]
        },
        {
          "output_type": "stream",
          "name": "stdout",
          "text": [
            "Distância estimada: 279.02cm, Altura (estimada | real): 175.79cm | 173.0cm\n"
          ]
        },
        {
          "output_type": "stream",
          "name": "stderr",
          "text": [
            "\n",
            "image 1/1 /content/dataset/images/test/imgRGB_030_003_000.png: 640x384 1 person, 9.8ms\n",
            "Speed: 1.2ms preprocess, 9.8ms inference, 2.2ms postprocess per image at shape (1, 3, 640, 384)\n"
          ]
        },
        {
          "output_type": "stream",
          "name": "stdout",
          "text": [
            "Distância estimada: 271.84cm, Altura (estimada | real): 188.28cm | 173.0cm\n"
          ]
        },
        {
          "output_type": "stream",
          "name": "stderr",
          "text": [
            "\n",
            "image 1/1 /content/dataset/images/test/imgRGB_029_003_008.png: 640x384 1 person, 7.6ms\n",
            "Speed: 1.2ms preprocess, 7.6ms inference, 2.1ms postprocess per image at shape (1, 3, 640, 384)\n"
          ]
        },
        {
          "output_type": "stream",
          "name": "stdout",
          "text": [
            "Distância estimada: 215.84cm, Altura (estimada | real): 171.29cm | 173.0cm\n"
          ]
        },
        {
          "output_type": "stream",
          "name": "stderr",
          "text": [
            "\n",
            "image 1/1 /content/dataset/images/test/imgRGB_028_003_001.png: 640x384 1 person, 19.2ms\n",
            "Speed: 1.3ms preprocess, 19.2ms inference, 2.9ms postprocess per image at shape (1, 3, 640, 384)\n"
          ]
        },
        {
          "output_type": "stream",
          "name": "stdout",
          "text": [
            "Distância estimada: 217.02cm, Altura (estimada | real): 181.34cm | 179.0cm\n"
          ]
        },
        {
          "output_type": "stream",
          "name": "stderr",
          "text": [
            "\n",
            "image 1/1 /content/dataset/images/test/imgRGB_028_004_009.png: 640x384 1 person, 12.3ms\n",
            "Speed: 1.3ms preprocess, 12.3ms inference, 2.2ms postprocess per image at shape (1, 3, 640, 384)\n"
          ]
        },
        {
          "output_type": "stream",
          "name": "stdout",
          "text": [
            "Distância estimada: 200.02cm, Altura (estimada | real): 204.35cm | 187.0cm\n"
          ]
        },
        {
          "output_type": "stream",
          "name": "stderr",
          "text": [
            "\n",
            "image 1/1 /content/dataset/images/test/imgRGB_028_003_007.png: 640x384 1 person, 9.8ms\n",
            "Speed: 1.3ms preprocess, 9.8ms inference, 3.0ms postprocess per image at shape (1, 3, 640, 384)\n"
          ]
        },
        {
          "output_type": "stream",
          "name": "stdout",
          "text": [
            "Distância estimada: 255.62cm, Altura (estimada | real): 194.09cm | 187.0cm\n"
          ]
        },
        {
          "output_type": "stream",
          "name": "stderr",
          "text": [
            "\n",
            "image 1/1 /content/dataset/images/test/imgRGB_028_004_004.png: 640x384 1 person, 9.0ms\n",
            "Speed: 1.3ms preprocess, 9.0ms inference, 3.0ms postprocess per image at shape (1, 3, 640, 384)\n"
          ]
        },
        {
          "output_type": "stream",
          "name": "stdout",
          "text": [
            "Distância estimada: 207.36cm, Altura (estimada | real): 187.1cm | 187.0cm\n"
          ]
        },
        {
          "output_type": "stream",
          "name": "stderr",
          "text": [
            "\n",
            "image 1/1 /content/dataset/images/test/imgRGB_029_004_004.png: 640x384 1 person, 10.4ms\n",
            "Speed: 1.4ms preprocess, 10.4ms inference, 2.2ms postprocess per image at shape (1, 3, 640, 384)\n"
          ]
        },
        {
          "output_type": "stream",
          "name": "stdout",
          "text": [
            "Distância estimada: 246.72cm, Altura (estimada | real): 192.54cm | 187.0cm\n"
          ]
        },
        {
          "output_type": "stream",
          "name": "stderr",
          "text": [
            "\n",
            "image 1/1 /content/dataset/images/test/imgRGB_029_004_007.png: 640x384 1 person, 11.2ms\n",
            "Speed: 1.4ms preprocess, 11.2ms inference, 3.3ms postprocess per image at shape (1, 3, 640, 384)\n"
          ]
        },
        {
          "output_type": "stream",
          "name": "stdout",
          "text": [
            "Distância estimada: 266.16cm, Altura (estimada | real): 184.24cm | 179.0cm\n"
          ]
        },
        {
          "output_type": "stream",
          "name": "stderr",
          "text": [
            "\n",
            "image 1/1 /content/dataset/images/test/imgRGB_028_002_004.png: 640x384 1 person, 12.5ms\n",
            "Speed: 1.4ms preprocess, 12.5ms inference, 3.5ms postprocess per image at shape (1, 3, 640, 384)\n"
          ]
        },
        {
          "output_type": "stream",
          "name": "stdout",
          "text": [
            "Distância estimada: 269.98cm, Altura (estimada | real): 183.96cm | 179.0cm\n"
          ]
        },
        {
          "output_type": "stream",
          "name": "stderr",
          "text": [
            "\n",
            "image 1/1 /content/dataset/images/test/imgRGB_029_003_005.png: 640x384 1 person, 9.5ms\n",
            "Speed: 1.4ms preprocess, 9.5ms inference, 2.9ms postprocess per image at shape (1, 3, 640, 384)\n"
          ]
        },
        {
          "output_type": "stream",
          "name": "stdout",
          "text": [
            "Distância estimada: 164.02cm, Altura (estimada | real): 193.68cm | 187.0cm\n"
          ]
        },
        {
          "output_type": "stream",
          "name": "stderr",
          "text": [
            "\n",
            "image 1/1 /content/dataset/images/test/imgRGB_028_003_004.png: 640x384 1 person, 9.9ms\n",
            "Speed: 1.2ms preprocess, 9.9ms inference, 2.6ms postprocess per image at shape (1, 3, 640, 384)\n"
          ]
        },
        {
          "output_type": "stream",
          "name": "stdout",
          "text": [
            "Distância estimada: 219.36cm, Altura (estimada | real): 183.0cm | 179.0cm\n"
          ]
        },
        {
          "output_type": "stream",
          "name": "stderr",
          "text": [
            "\n",
            "image 1/1 /content/dataset/images/test/imgRGB_030_004_000.png: 640x384 1 person, 8.7ms\n",
            "Speed: 1.4ms preprocess, 8.7ms inference, 3.5ms postprocess per image at shape (1, 3, 640, 384)\n"
          ]
        },
        {
          "output_type": "stream",
          "name": "stdout",
          "text": [
            "Distância estimada: 199.01cm, Altura (estimada | real): 189.88cm | 187.0cm\n"
          ]
        },
        {
          "output_type": "stream",
          "name": "stderr",
          "text": [
            "\n",
            "image 1/1 /content/dataset/images/test/imgRGB_030_004_003.png: 640x384 1 person, 9.3ms\n",
            "Speed: 1.3ms preprocess, 9.3ms inference, 6.4ms postprocess per image at shape (1, 3, 640, 384)\n"
          ]
        },
        {
          "output_type": "stream",
          "name": "stdout",
          "text": [
            "Distância estimada: 282.58cm, Altura (estimada | real): 181.63cm | 173.0cm\n"
          ]
        },
        {
          "output_type": "stream",
          "name": "stderr",
          "text": [
            "\n",
            "image 1/1 /content/dataset/images/test/imgRGB_030_003_007.png: 640x384 1 person, 15.0ms\n",
            "Speed: 1.4ms preprocess, 15.0ms inference, 4.6ms postprocess per image at shape (1, 3, 640, 384)\n"
          ]
        },
        {
          "output_type": "stream",
          "name": "stdout",
          "text": [
            "Distância estimada: 277.9cm, Altura (estimada | real): 186.71cm | 173.0cm\n"
          ]
        },
        {
          "output_type": "stream",
          "name": "stderr",
          "text": [
            "\n",
            "image 1/1 /content/dataset/images/test/imgRGB_029_003_001.png: 640x384 1 person, 10.6ms\n",
            "Speed: 1.4ms preprocess, 10.6ms inference, 2.3ms postprocess per image at shape (1, 3, 640, 384)\n"
          ]
        },
        {
          "output_type": "stream",
          "name": "stdout",
          "text": [
            "Distância estimada: 217.57cm, Altura (estimada | real): 166.17cm | 173.0cm\n"
          ]
        },
        {
          "output_type": "stream",
          "name": "stderr",
          "text": [
            "\n",
            "image 1/1 /content/dataset/images/test/imgRGB_028_002_001.png: 640x384 1 person, 9.6ms\n",
            "Speed: 1.2ms preprocess, 9.6ms inference, 2.8ms postprocess per image at shape (1, 3, 640, 384)\n"
          ]
        },
        {
          "output_type": "stream",
          "name": "stdout",
          "text": [
            "Distância estimada: 217.48cm, Altura (estimada | real): 182.21cm | 179.0cm\n"
          ]
        },
        {
          "output_type": "stream",
          "name": "stderr",
          "text": [
            "\n",
            "image 1/1 /content/dataset/images/test/imgRGB_030_002_000.png: 640x384 1 person, 9.5ms\n",
            "Speed: 1.2ms preprocess, 9.5ms inference, 3.0ms postprocess per image at shape (1, 3, 640, 384)\n"
          ]
        },
        {
          "output_type": "stream",
          "name": "stdout",
          "text": [
            "Distância estimada: 187.92cm, Altura (estimada | real): 189.85cm | 187.0cm\n"
          ]
        },
        {
          "output_type": "stream",
          "name": "stderr",
          "text": [
            "\n",
            "image 1/1 /content/dataset/images/test/imgRGB_028_003_006.png: 640x384 1 person, 9.2ms\n",
            "Speed: 1.4ms preprocess, 9.2ms inference, 2.5ms postprocess per image at shape (1, 3, 640, 384)\n"
          ]
        },
        {
          "output_type": "stream",
          "name": "stdout",
          "text": [
            "Distância estimada: 172.72cm, Altura (estimada | real): 175.2cm | 173.0cm\n"
          ]
        },
        {
          "output_type": "stream",
          "name": "stderr",
          "text": [
            "\n",
            "image 1/1 /content/dataset/images/test/imgRGB_030_003_002.png: 640x384 1 person, 17.4ms\n",
            "Speed: 1.3ms preprocess, 17.4ms inference, 3.1ms postprocess per image at shape (1, 3, 640, 384)\n"
          ]
        },
        {
          "output_type": "stream",
          "name": "stdout",
          "text": [
            "Distância estimada: 201.18cm, Altura (estimada | real): 194.28cm | 187.0cm\n"
          ]
        },
        {
          "output_type": "stream",
          "name": "stderr",
          "text": [
            "\n",
            "image 1/1 /content/dataset/images/test/imgRGB_030_002_007.png: 640x384 1 person, 9.8ms\n",
            "Speed: 1.3ms preprocess, 9.8ms inference, 2.2ms postprocess per image at shape (1, 3, 640, 384)\n"
          ]
        },
        {
          "output_type": "stream",
          "name": "stdout",
          "text": [
            "Distância estimada: 213.9cm, Altura (estimada | real): 171.59cm | 173.0cm\n"
          ]
        },
        {
          "output_type": "stream",
          "name": "stderr",
          "text": [
            "\n",
            "image 1/1 /content/dataset/images/test/imgRGB_028_004_002.png: 640x384 1 person, 8.5ms\n",
            "Speed: 1.3ms preprocess, 8.5ms inference, 2.2ms postprocess per image at shape (1, 3, 640, 384)\n"
          ]
        },
        {
          "output_type": "stream",
          "name": "stdout",
          "text": [
            "Distância estimada: 165.78cm, Altura (estimada | real): 170.35cm | 173.0cm\n"
          ]
        },
        {
          "output_type": "stream",
          "name": "stderr",
          "text": [
            "\n",
            "image 1/1 /content/dataset/images/test/imgRGB_030_002_004.png: 640x384 1 person, 8.3ms\n",
            "Speed: 1.7ms preprocess, 8.3ms inference, 2.2ms postprocess per image at shape (1, 3, 640, 384)\n"
          ]
        },
        {
          "output_type": "stream",
          "name": "stdout",
          "text": [
            "Distância estimada: 251.72cm, Altura (estimada | real): 199.09cm | 187.0cm\n"
          ]
        },
        {
          "output_type": "stream",
          "name": "stderr",
          "text": [
            "\n",
            "image 1/1 /content/dataset/images/test/imgRGB_030_004_004.png: 640x384 1 person, 9.3ms\n",
            "Speed: 1.3ms preprocess, 9.3ms inference, 3.4ms postprocess per image at shape (1, 3, 640, 384)\n"
          ]
        },
        {
          "output_type": "stream",
          "name": "stdout",
          "text": [
            "Distância estimada: 172.18cm, Altura (estimada | real): 175.98cm | 173.0cm\n"
          ]
        },
        {
          "output_type": "stream",
          "name": "stderr",
          "text": [
            "\n",
            "image 1/1 /content/dataset/images/test/imgRGB_029_004_003.png: 640x384 1 person, 9.2ms\n",
            "Speed: 1.8ms preprocess, 9.2ms inference, 2.6ms postprocess per image at shape (1, 3, 640, 384)\n"
          ]
        },
        {
          "output_type": "stream",
          "name": "stdout",
          "text": [
            "Distância estimada: 275.62cm, Altura (estimada | real): 185.89cm | 173.0cm\n"
          ]
        },
        {
          "output_type": "stream",
          "name": "stderr",
          "text": [
            "\n",
            "image 1/1 /content/dataset/images/test/imgRGB_030_002_001.png: 640x384 1 person, 13.1ms\n",
            "Speed: 1.4ms preprocess, 13.1ms inference, 2.2ms postprocess per image at shape (1, 3, 640, 384)\n"
          ]
        },
        {
          "output_type": "stream",
          "name": "stdout",
          "text": [
            "Distância estimada: 265.7cm, Altura (estimada | real): 187.64cm | 179.0cm\n"
          ]
        },
        {
          "output_type": "stream",
          "name": "stderr",
          "text": [
            "\n",
            "image 1/1 /content/dataset/images/test/imgRGB_030_003_004.png: 640x384 1 person, 10.4ms\n",
            "Speed: 1.3ms preprocess, 10.4ms inference, 2.7ms postprocess per image at shape (1, 3, 640, 384)\n"
          ]
        },
        {
          "output_type": "stream",
          "name": "stdout",
          "text": [
            "Distância estimada: 167.66cm, Altura (estimada | real): 173.0cm | 173.0cm\n"
          ]
        },
        {
          "output_type": "stream",
          "name": "stderr",
          "text": [
            "\n",
            "image 1/1 /content/dataset/images/test/imgRGB_030_002_009.png: 640x384 1 person, 8.8ms\n",
            "Speed: 1.3ms preprocess, 8.8ms inference, 3.0ms postprocess per image at shape (1, 3, 640, 384)\n"
          ]
        },
        {
          "output_type": "stream",
          "name": "stdout",
          "text": [
            "Distância estimada: 212.08cm, Altura (estimada | real): 171.78cm | 173.0cm\n"
          ]
        },
        {
          "output_type": "stream",
          "name": "stderr",
          "text": [
            "\n",
            "image 1/1 /content/dataset/images/test/imgRGB_030_003_001.png: 640x384 1 person, 9.7ms\n",
            "Speed: 1.4ms preprocess, 9.7ms inference, 2.4ms postprocess per image at shape (1, 3, 640, 384)\n"
          ]
        },
        {
          "output_type": "stream",
          "name": "stdout",
          "text": [
            "Distância estimada: 165.49cm, Altura (estimada | real): 174.59cm | 173.0cm\n"
          ]
        },
        {
          "output_type": "stream",
          "name": "stderr",
          "text": [
            "\n",
            "image 1/1 /content/dataset/images/test/imgRGB_030_004_008.png: 640x384 1 person, 12.8ms\n",
            "Speed: 1.3ms preprocess, 12.8ms inference, 3.2ms postprocess per image at shape (1, 3, 640, 384)\n"
          ]
        },
        {
          "output_type": "stream",
          "name": "stdout",
          "text": [
            "Distância estimada: 216.55cm, Altura (estimada | real): 171.06cm | 173.0cm\n"
          ]
        },
        {
          "output_type": "stream",
          "name": "stderr",
          "text": [
            "\n",
            "image 1/1 /content/dataset/images/test/imgRGB_028_002_005.png: 640x384 1 person, 9.1ms\n",
            "Speed: 1.1ms preprocess, 9.1ms inference, 2.2ms postprocess per image at shape (1, 3, 640, 384)\n"
          ]
        },
        {
          "output_type": "stream",
          "name": "stdout",
          "text": [
            "Distância estimada: 271.02cm, Altura (estimada | real): 179.1cm | 173.0cm\n"
          ]
        },
        {
          "output_type": "stream",
          "name": "stderr",
          "text": [
            "\n",
            "image 1/1 /content/dataset/images/test/imgRGB_028_002_007.png: 640x384 1 person, 8.6ms\n",
            "Speed: 1.3ms preprocess, 8.6ms inference, 3.2ms postprocess per image at shape (1, 3, 640, 384)\n"
          ]
        },
        {
          "output_type": "stream",
          "name": "stdout",
          "text": [
            "Distância estimada: 150.8cm, Altura (estimada | real): 191.27cm | 187.0cm\n"
          ]
        },
        {
          "output_type": "stream",
          "name": "stderr",
          "text": [
            "\n",
            "image 1/1 /content/dataset/images/test/imgRGB_028_002_002.png: 640x384 1 person, 10.1ms\n",
            "Speed: 1.3ms preprocess, 10.1ms inference, 2.5ms postprocess per image at shape (1, 3, 640, 384)\n"
          ]
        },
        {
          "output_type": "stream",
          "name": "stdout",
          "text": [
            "Distância estimada: 179.41cm, Altura (estimada | real): 194.04cm | 187.0cm\n"
          ]
        },
        {
          "output_type": "stream",
          "name": "stderr",
          "text": [
            "\n",
            "image 1/1 /content/dataset/images/test/imgRGB_030_003_008.png: 640x384 1 person, 18.2ms\n",
            "Speed: 1.2ms preprocess, 18.2ms inference, 3.1ms postprocess per image at shape (1, 3, 640, 384)\n"
          ]
        },
        {
          "output_type": "stream",
          "name": "stdout",
          "text": [
            "Distância estimada: 184.2cm, Altura (estimada | real): 181.07cm | 187.0cm\n"
          ]
        },
        {
          "output_type": "stream",
          "name": "stderr",
          "text": [
            "\n",
            "image 1/1 /content/dataset/images/test/imgRGB_029_002_008.png: 640x384 1 person, 8.7ms\n",
            "Speed: 1.3ms preprocess, 8.7ms inference, 2.8ms postprocess per image at shape (1, 3, 640, 384)\n"
          ]
        },
        {
          "output_type": "stream",
          "name": "stdout",
          "text": [
            "Distância estimada: 213.9cm, Altura (estimada | real): 172.52cm | 173.0cm\n"
          ]
        },
        {
          "output_type": "stream",
          "name": "stderr",
          "text": [
            "\n",
            "image 1/1 /content/dataset/images/test/imgRGB_029_003_007.png: 640x384 1 person, 9.7ms\n",
            "Speed: 1.3ms preprocess, 9.7ms inference, 3.2ms postprocess per image at shape (1, 3, 640, 384)\n"
          ]
        },
        {
          "output_type": "stream",
          "name": "stdout",
          "text": [
            "Distância estimada: 203.66cm, Altura (estimada | real): 179.13cm | 179.0cm\n"
          ]
        },
        {
          "output_type": "stream",
          "name": "stderr",
          "text": [
            "\n",
            "image 1/1 /content/dataset/images/test/imgRGB_028_004_001.png: 640x384 1 person, 8.8ms\n",
            "Speed: 1.3ms preprocess, 8.8ms inference, 2.3ms postprocess per image at shape (1, 3, 640, 384)\n"
          ]
        },
        {
          "output_type": "stream",
          "name": "stdout",
          "text": [
            "Distância estimada: 215.88cm, Altura (estimada | real): 182.1cm | 179.0cm\n"
          ]
        },
        {
          "output_type": "stream",
          "name": "stderr",
          "text": [
            "\n",
            "image 1/1 /content/dataset/images/test/imgRGB_028_002_003.png: 640x384 1 person, 9.9ms\n",
            "Speed: 1.2ms preprocess, 9.9ms inference, 2.8ms postprocess per image at shape (1, 3, 640, 384)\n"
          ]
        },
        {
          "output_type": "stream",
          "name": "stdout",
          "text": [
            "Distância estimada: 253.89cm, Altura (estimada | real): 201.9cm | 187.0cm\n"
          ]
        },
        {
          "output_type": "stream",
          "name": "stderr",
          "text": [
            "\n",
            "image 1/1 /content/dataset/images/test/imgRGB_028_003_008.png: 640x384 1 person, 11.5ms\n",
            "Speed: 1.3ms preprocess, 11.5ms inference, 2.7ms postprocess per image at shape (1, 3, 640, 384)\n"
          ]
        },
        {
          "output_type": "stream",
          "name": "stdout",
          "text": [
            "Distância estimada: 187.44cm, Altura (estimada | real): 188.59cm | 187.0cm\n"
          ]
        },
        {
          "output_type": "stream",
          "name": "stderr",
          "text": [
            "\n",
            "image 1/1 /content/dataset/images/test/imgRGB_030_003_009.png: 640x384 1 person, 12.9ms\n",
            "Speed: 5.3ms preprocess, 12.9ms inference, 2.8ms postprocess per image at shape (1, 3, 640, 384)\n"
          ]
        },
        {
          "output_type": "stream",
          "name": "stdout",
          "text": [
            "Distância estimada: 216.14cm, Altura (estimada | real): 185.51cm | 187.0cm\n"
          ]
        },
        {
          "output_type": "stream",
          "name": "stderr",
          "text": [
            "\n",
            "image 1/1 /content/dataset/images/test/imgRGB_028_004_006.png: 640x384 1 person, 9.9ms\n",
            "Speed: 1.4ms preprocess, 9.9ms inference, 2.3ms postprocess per image at shape (1, 3, 640, 384)\n"
          ]
        },
        {
          "output_type": "stream",
          "name": "stdout",
          "text": [
            "Distância estimada: 202.4cm, Altura (estimada | real): 176.58cm | 173.0cm\n"
          ]
        },
        {
          "output_type": "stream",
          "name": "stderr",
          "text": [
            "\n",
            "image 1/1 /content/dataset/images/test/imgRGB_030_004_006.png: 640x384 1 person, 9.4ms\n",
            "Speed: 1.6ms preprocess, 9.4ms inference, 3.2ms postprocess per image at shape (1, 3, 640, 384)\n"
          ]
        },
        {
          "output_type": "stream",
          "name": "stdout",
          "text": [
            "Distância estimada: 258.26cm, Altura (estimada | real): 195.96cm | 187.0cm\n"
          ]
        },
        {
          "output_type": "stream",
          "name": "stderr",
          "text": [
            "\n",
            "image 1/1 /content/dataset/images/test/imgRGB_029_003_006.png: 640x384 1 person, 9.6ms\n",
            "Speed: 1.3ms preprocess, 9.6ms inference, 2.3ms postprocess per image at shape (1, 3, 640, 384)\n"
          ]
        },
        {
          "output_type": "stream",
          "name": "stdout",
          "text": [
            "Distância estimada: 265.62cm, Altura (estimada | real): 185.6cm | 173.0cm\n"
          ]
        },
        {
          "output_type": "stream",
          "name": "stderr",
          "text": [
            "\n",
            "image 1/1 /content/dataset/images/test/imgRGB_028_003_009.png: 640x384 1 person, 13.4ms\n",
            "Speed: 1.2ms preprocess, 13.4ms inference, 2.8ms postprocess per image at shape (1, 3, 640, 384)\n"
          ]
        },
        {
          "output_type": "stream",
          "name": "stdout",
          "text": [
            "Distância estimada: 217.56cm, Altura (estimada | real): 185.62cm | 179.0cm\n"
          ]
        },
        {
          "output_type": "stream",
          "name": "stderr",
          "text": [
            "\n",
            "image 1/1 /content/dataset/images/test/imgRGB_029_004_009.png: 640x384 1 person, 13.5ms\n",
            "Speed: 4.8ms preprocess, 13.5ms inference, 3.0ms postprocess per image at shape (1, 3, 640, 384)\n"
          ]
        },
        {
          "output_type": "stream",
          "name": "stdout",
          "text": [
            "Distância estimada: 212.46cm, Altura (estimada | real): 188.56cm | 187.0cm\n"
          ]
        },
        {
          "output_type": "stream",
          "name": "stderr",
          "text": [
            "\n",
            "image 1/1 /content/dataset/images/test/imgRGB_029_003_003.png: 640x384 1 person, 15.8ms\n",
            "Speed: 3.3ms preprocess, 15.8ms inference, 4.3ms postprocess per image at shape (1, 3, 640, 384)\n"
          ]
        },
        {
          "output_type": "stream",
          "name": "stdout",
          "text": [
            "Distância estimada: 266.85cm, Altura (estimada | real): 185.88cm | 179.0cm\n"
          ]
        },
        {
          "output_type": "stream",
          "name": "stderr",
          "text": [
            "\n",
            "image 1/1 /content/dataset/images/test/imgRGB_028_004_005.png: 640x384 1 person, 9.6ms\n",
            "Speed: 1.3ms preprocess, 9.6ms inference, 2.3ms postprocess per image at shape (1, 3, 640, 384)\n"
          ]
        },
        {
          "output_type": "stream",
          "name": "stdout",
          "text": [
            "Distância estimada: 221.34cm, Altura (estimada | real): 180.05cm | 179.0cm\n"
          ]
        },
        {
          "output_type": "stream",
          "name": "stderr",
          "text": [
            "\n",
            "image 1/1 /content/dataset/images/test/imgRGB_030_002_006.png: 640x384 1 person, 8.4ms\n",
            "Speed: 1.1ms preprocess, 8.4ms inference, 2.1ms postprocess per image at shape (1, 3, 640, 384)\n"
          ]
        },
        {
          "output_type": "stream",
          "name": "stdout",
          "text": [
            "Distância estimada: 252.72cm, Altura (estimada | real): 196.59cm | 187.0cm\n"
          ]
        },
        {
          "output_type": "stream",
          "name": "stderr",
          "text": [
            "\n",
            "image 1/1 /content/dataset/images/test/imgRGB_029_002_009.png: 640x384 1 person, 9.5ms\n",
            "Speed: 1.3ms preprocess, 9.5ms inference, 2.6ms postprocess per image at shape (1, 3, 640, 384)\n"
          ]
        },
        {
          "output_type": "stream",
          "name": "stdout",
          "text": [
            "Distância estimada: 168.58cm, Altura (estimada | real): 170.21cm | 173.0cm\n"
          ]
        },
        {
          "output_type": "stream",
          "name": "stderr",
          "text": [
            "\n",
            "image 1/1 /content/dataset/images/test/imgRGB_030_002_002.png: 640x384 1 person, 10.0ms\n",
            "Speed: 1.6ms preprocess, 10.0ms inference, 2.7ms postprocess per image at shape (1, 3, 640, 384)\n"
          ]
        },
        {
          "output_type": "stream",
          "name": "stdout",
          "text": [
            "Distância estimada: 164.59cm, Altura (estimada | real): 189.68cm | 179.0cm\n"
          ]
        },
        {
          "output_type": "stream",
          "name": "stderr",
          "text": [
            "\n",
            "image 1/1 /content/dataset/images/test/imgRGB_029_003_004.png: 640x384 1 person, 10.9ms\n",
            "Speed: 1.3ms preprocess, 10.9ms inference, 3.5ms postprocess per image at shape (1, 3, 640, 384)\n"
          ]
        },
        {
          "output_type": "stream",
          "name": "stdout",
          "text": [
            "Distância estimada: 161.01cm, Altura (estimada | real): 175.66cm | 173.0cm\n"
          ]
        },
        {
          "output_type": "stream",
          "name": "stderr",
          "text": [
            "\n",
            "image 1/1 /content/dataset/images/test/imgRGB_029_004_008.png: 640x384 1 person, 10.8ms\n",
            "Speed: 1.3ms preprocess, 10.8ms inference, 2.3ms postprocess per image at shape (1, 3, 640, 384)\n"
          ]
        },
        {
          "output_type": "stream",
          "name": "stdout",
          "text": [
            "Distância estimada: 223.28cm, Altura (estimada | real): 181.73cm | 179.0cm\n"
          ]
        },
        {
          "output_type": "stream",
          "name": "stderr",
          "text": [
            "\n",
            "image 1/1 /content/dataset/images/test/imgRGB_028_003_003.png: 640x384 1 person, 11.6ms\n",
            "Speed: 1.3ms preprocess, 11.6ms inference, 2.1ms postprocess per image at shape (1, 3, 640, 384)\n"
          ]
        },
        {
          "output_type": "stream",
          "name": "stdout",
          "text": [
            "Distância estimada: 270.24cm, Altura (estimada | real): 181.16cm | 179.0cm\n"
          ]
        },
        {
          "output_type": "stream",
          "name": "stderr",
          "text": [
            "\n",
            "image 1/1 /content/dataset/images/test/imgRGB_028_004_003.png: 640x384 1 person, 10.4ms\n",
            "Speed: 1.4ms preprocess, 10.4ms inference, 2.3ms postprocess per image at shape (1, 3, 640, 384)\n"
          ]
        },
        {
          "output_type": "stream",
          "name": "stdout",
          "text": [
            "Distância estimada: 202.62cm, Altura (estimada | real): 192.12cm | 187.0cm\n"
          ]
        },
        {
          "output_type": "stream",
          "name": "stderr",
          "text": [
            "\n",
            "image 1/1 /content/dataset/images/test/imgRGB_029_002_000.png: 640x384 1 person, 10.5ms\n",
            "Speed: 1.4ms preprocess, 10.5ms inference, 3.5ms postprocess per image at shape (1, 3, 640, 384)\n"
          ]
        },
        {
          "output_type": "stream",
          "name": "stdout",
          "text": [
            "Distância estimada: 245.9cm, Altura (estimada | real): 194.04cm | 187.0cm\n"
          ]
        },
        {
          "output_type": "stream",
          "name": "stderr",
          "text": [
            "\n",
            "image 1/1 /content/dataset/images/test/imgRGB_028_002_008.png: 640x384 1 person, 17.3ms\n",
            "Speed: 1.4ms preprocess, 17.3ms inference, 8.3ms postprocess per image at shape (1, 3, 640, 384)\n"
          ]
        },
        {
          "output_type": "stream",
          "name": "stdout",
          "text": [
            "Distância estimada: 196.73cm, Altura (estimada | real): 183.52cm | 179.0cm\n"
          ]
        },
        {
          "output_type": "stream",
          "name": "stderr",
          "text": [
            "\n",
            "image 1/1 /content/dataset/images/test/imgRGB_030_002_008.png: 640x384 1 person, 9.1ms\n",
            "Speed: 1.2ms preprocess, 9.1ms inference, 2.9ms postprocess per image at shape (1, 3, 640, 384)\n"
          ]
        },
        {
          "output_type": "stream",
          "name": "stdout",
          "text": [
            "Distância estimada: 177.0cm, Altura (estimada | real): 176.35cm | 187.0cm\n"
          ]
        },
        {
          "output_type": "stream",
          "name": "stderr",
          "text": [
            "\n",
            "image 1/1 /content/dataset/images/test/imgRGB_030_004_001.png: 640x384 1 person, 9.9ms\n",
            "Speed: 1.4ms preprocess, 9.9ms inference, 2.3ms postprocess per image at shape (1, 3, 640, 384)\n"
          ]
        },
        {
          "output_type": "stream",
          "name": "stdout",
          "text": [
            "Distância estimada: 168.12cm, Altura (estimada | real): 176.21cm | 173.0cm\n"
          ]
        },
        {
          "output_type": "stream",
          "name": "stderr",
          "text": [
            "\n",
            "image 1/1 /content/dataset/images/test/imgRGB_028_002_000.png: 640x384 1 person, 10.1ms\n",
            "Speed: 1.3ms preprocess, 10.1ms inference, 2.5ms postprocess per image at shape (1, 3, 640, 384)\n"
          ]
        },
        {
          "output_type": "stream",
          "name": "stdout",
          "text": [
            "Distância estimada: 278.38cm, Altura (estimada | real): 178.12cm | 173.0cm\n"
          ]
        },
        {
          "output_type": "stream",
          "name": "stderr",
          "text": [
            "\n",
            "image 1/1 /content/dataset/images/test/imgRGB_029_003_009.png: 640x384 1 person, 9.7ms\n",
            "Speed: 1.4ms preprocess, 9.7ms inference, 3.0ms postprocess per image at shape (1, 3, 640, 384)\n"
          ]
        },
        {
          "output_type": "stream",
          "name": "stdout",
          "text": [
            "Distância estimada: 166.01cm, Altura (estimada | real): 175.98cm | 187.0cm\n"
          ]
        },
        {
          "output_type": "stream",
          "name": "stderr",
          "text": [
            "\n",
            "image 1/1 /content/dataset/images/test/imgRGB_030_004_007.png: 640x384 1 person, 10.5ms\n",
            "Speed: 1.5ms preprocess, 10.5ms inference, 3.1ms postprocess per image at shape (1, 3, 640, 384)\n"
          ]
        },
        {
          "output_type": "stream",
          "name": "stdout",
          "text": [
            "Distância estimada: 216.5cm, Altura (estimada | real): 181.19cm | 179.0cm\n"
          ]
        },
        {
          "output_type": "stream",
          "name": "stderr",
          "text": [
            "\n",
            "image 1/1 /content/dataset/images/test/imgRGB_028_003_005.png: 640x384 1 person, 8.5ms\n",
            "Speed: 1.4ms preprocess, 8.5ms inference, 3.0ms postprocess per image at shape (1, 3, 640, 384)\n"
          ]
        },
        {
          "output_type": "stream",
          "name": "stdout",
          "text": [
            "Distância estimada: 260.92cm, Altura (estimada | real): 187.39cm | 173.0cm\n"
          ]
        },
        {
          "output_type": "stream",
          "name": "stderr",
          "text": [
            "\n",
            "image 1/1 /content/dataset/images/test/imgRGB_029_002_005.png: 640x384 1 person, 10.0ms\n",
            "Speed: 1.2ms preprocess, 10.0ms inference, 2.2ms postprocess per image at shape (1, 3, 640, 384)\n"
          ]
        },
        {
          "output_type": "stream",
          "name": "stdout",
          "text": [
            "Distância estimada: 201.6cm, Altura (estimada | real): 194.91cm | 187.0cm\n"
          ]
        },
        {
          "output_type": "stream",
          "name": "stderr",
          "text": [
            "\n",
            "image 1/1 /content/dataset/images/test/imgRGB_028_003_000.png: 640x384 1 person, 9.4ms\n",
            "Speed: 1.4ms preprocess, 9.4ms inference, 2.2ms postprocess per image at shape (1, 3, 640, 384)\n"
          ]
        },
        {
          "output_type": "stream",
          "name": "stdout",
          "text": [
            "Distância estimada: 167.17cm, Altura (estimada | real): 183.23cm | 179.0cm\n"
          ]
        },
        {
          "output_type": "stream",
          "name": "stderr",
          "text": [
            "\n",
            "image 1/1 /content/dataset/images/test/imgRGB_028_002_006.png: 640x384 1 person, 12.1ms\n",
            "Speed: 2.7ms preprocess, 12.1ms inference, 3.5ms postprocess per image at shape (1, 3, 640, 384)\n"
          ]
        },
        {
          "output_type": "stream",
          "name": "stdout",
          "text": [
            "Distância estimada: 209.99cm, Altura (estimada | real): 185.26cm | 187.0cm\n"
          ]
        },
        {
          "output_type": "stream",
          "name": "stderr",
          "text": [
            "\n",
            "image 1/1 /content/dataset/images/test/imgRGB_030_004_009.png: 640x384 1 person, 13.2ms\n",
            "Speed: 1.4ms preprocess, 13.2ms inference, 5.0ms postprocess per image at shape (1, 3, 640, 384)\n"
          ]
        },
        {
          "output_type": "stream",
          "name": "stdout",
          "text": [
            "Distância estimada: 172.5cm, Altura (estimada | real): 183.25cm | 187.0cm\n"
          ]
        },
        {
          "output_type": "stream",
          "name": "stderr",
          "text": [
            "\n",
            "image 1/1 /content/dataset/images/test/imgRGB_030_003_006.png: 640x384 1 person, 8.3ms\n",
            "Speed: 1.3ms preprocess, 8.3ms inference, 3.0ms postprocess per image at shape (1, 3, 640, 384)\n"
          ]
        },
        {
          "output_type": "stream",
          "name": "stdout",
          "text": [
            "Distância estimada: 275.3cm, Altura (estimada | real): 175.63cm | 173.0cm\n",
            "Distância estimada: 219.62cm, Altura (estimada | real): 167.14cm | 173.0cm\n"
          ]
        }
      ]
    }
  ],
  "metadata": {
    "colab": {
      "provenance": [],
      "gpuType": "T4",
      "include_colab_link": true
    },
    "kernelspec": {
      "display_name": "Python 3",
      "name": "python3"
    },
    "language_info": {
      "name": "python"
    },
    "accelerator": "GPU"
  },
  "nbformat": 4,
  "nbformat_minor": 0
}